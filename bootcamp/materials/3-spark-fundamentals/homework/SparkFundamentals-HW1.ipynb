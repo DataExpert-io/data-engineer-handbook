{
 "cells": [
  {
   "cell_type": "code",
   "execution_count": 21,
   "id": "ec7ed50f-4f91-482e-b8d2-d8b51b648383",
   "metadata": {},
   "outputs": [
    {
     "name": "stderr",
     "output_type": "stream",
     "text": [
      "                                                                                "
     ]
    }
   ],
   "source": [
    "# spark_job_pyspark.py\n",
    "# PySpark script (no main function) for Spark Fundamentals Week\n",
    "from pyspark.sql import SparkSession\n",
    "from pyspark.sql.functions import broadcast, split, col, avg, count, lit\n",
    "\n",
    "# Initialize SparkSession\n",
    "spark = SparkSession.builder \\\n",
    "    .appName(\"Spark Fundamentals Week - HW1\") \\\n",
    "    .config(\"spark.sql.autoBroadcastJoinThreshold\", \"-1\") \\\n",
    "    .config(\"spark.ui.port\", \"4050\") \\\n",
    "    .config(\"spark.sql.catalog.bootcamp\", \"org.apache.iceberg.spark.SparkCatalog\") \\\n",
    "    .config(\"spark.sql.catalog.bootcamp.type\", \"hadoop\") \\\n",
    "    .config(\"spark.sql.catalog.bootcamp.warehouse\", \"/tmp/iceberg_warehouse\") \\\n",
    "    .getOrCreate()\n",
    "\n",
    "# Paths to source CSVs\n",
    "data_dir = \"/home/iceberg/data\"\n",
    "matches_csv = f\"{data_dir}/matches.csv\"\n",
    "details_csv = f\"{data_dir}/match_details.csv\"\n",
    "mmp_csv     = f\"{data_dir}/medals_matches_players.csv\"\n",
    "medals_csv  = f\"{data_dir}/medals.csv\"\n",
    "maps_csv    = f\"{data_dir}/maps.csv\"\n",
    "\n",
    "# Read raw CSVs\n",
    "matches_df = spark.read.option(\"header\", True).option(\"inferSchema\", True).csv(matches_csv)\n",
    "details_df = spark.read.option(\"header\", True).option(\"inferSchema\", True).csv(details_csv)\n",
    "mmp_df     = spark.read.option(\"header\", True).option(\"inferSchema\", True).csv(mmp_csv)\n",
    "medals_df  = spark.read.option(\"header\", True).option(\"inferSchema\", True).csv(medals_csv)\n",
    "maps_df    = spark.read.option(\"header\", True).option(\"inferSchema\", True).csv(maps_csv)\n",
    "\n"
   ]
  },
  {
   "cell_type": "code",
   "execution_count": 22,
   "id": "b6d5b42b-e4cf-4e9c-99ad-0537fe33bad8",
   "metadata": {},
   "outputs": [
    {
     "name": "stdout",
     "output_type": "stream",
     "text": [
      "+--------------------+-----+--------------------+\n",
      "|               mapid| name|         description|\n",
      "+--------------------+-----+--------------------+\n",
      "|c93d708f-f206-11e...|Urban|Andesia was the c...|\n",
      "+--------------------+-----+--------------------+\n",
      "only showing top 1 row\n",
      "\n"
     ]
    }
   ],
   "source": [
    "maps_df.show(1)"
   ]
  },
  {
   "cell_type": "code",
   "execution_count": 23,
   "id": "a9eee5f4-d817-49d3-b2a4-09eda4c11ab1",
   "metadata": {},
   "outputs": [
    {
     "data": {
      "text/plain": [
       "DataFrame[]"
      ]
     },
     "execution_count": 23,
     "metadata": {},
     "output_type": "execute_result"
    }
   ],
   "source": [
    "spark.sql(\"DROP TABLE IF EXISTS bootcamp.matches_bucketed\")\n",
    "spark.sql(\"DROP TABLE IF EXISTS bootcamp.match_details_bucketed\")\n",
    "spark.sql(\"DROP TABLE IF EXISTS bootcamp.medal_matches_players_bucketed\")\n",
    "\n",
    "\n",
    "spark.sql(\"\"\"\n",
    "CREATE TABLE IF NOT EXISTS bootcamp.matches_bucketed (\n",
    "    match_id STRING,\n",
    "    is_team_game BOOLEAN,\n",
    "    mapid STRING,\n",
    "    playlist_id STRING,\n",
    "    completion_date TIMESTAMP\n",
    ")\n",
    "USING iceberg\n",
    "PARTITIONED BY (bucket(16, match_id))\n",
    "\"\"\")\n",
    "\n",
    "spark.sql(\"\"\"\n",
    "CREATE TABLE IF NOT EXISTS bootcamp.match_details_bucketed (\n",
    "    match_id STRING,\n",
    "    player_id STRING,\n",
    "    kills INT,\n",
    "    deaths INT\n",
    ")\n",
    "USING iceberg\n",
    "PARTITIONED BY (bucket(16, match_id))\n",
    "\"\"\")\n",
    "\n",
    "spark.sql(\"\"\"\n",
    "CREATE TABLE IF NOT EXISTS bootcamp.medal_matches_players_bucketed (\n",
    "    match_id STRING,\n",
    "    player_id STRING,\n",
    "    medal_id STRING\n",
    ")\n",
    "USING iceberg\n",
    "PARTITIONED BY (bucket(16, match_id))\n",
    "\"\"\")"
   ]
  },
  {
   "cell_type": "code",
   "execution_count": 24,
   "id": "cf2aca3c-4efc-4888-828a-14a80a67d7e5",
   "metadata": {},
   "outputs": [
    {
     "name": "stderr",
     "output_type": "stream",
     "text": [
      "                                                                                "
     ]
    }
   ],
   "source": [
    "matches_df.select(\n",
    "    col(\"match_id\"), col(\"is_team_game\"), col('mapid'), col(\"playlist_id\"), col(\"completion_date\")\n",
    ").write\\\n",
    "  .mode(\"overwrite\")\\\n",
    "  .insertInto(\"bootcamp.matches_bucketed\")\n",
    "\n",
    "details_df.select(\n",
    "    col(\"match_id\"),\n",
    "    col(\"player_gamertag\"),\n",
    "    col(\"player_total_kills\").alias(\"kills\"),\n",
    "    col(\"player_total_deaths\").alias(\"deaths\")\n",
    ").write\\\n",
    "  .mode(\"overwrite\")\\\n",
    "  .insertInto(\"bootcamp.match_details_bucketed\")\n",
    "\n",
    "mmp_df.select(\n",
    "    col(\"match_id\"), col(\"player_gamertag\"), col(\"medal_id\")\n",
    ").write\\\n",
    "  .mode(\"overwrite\")\\\n",
    "  .insertInto(\"bootcamp.medal_matches_players_bucketed\")"
   ]
  },
  {
   "cell_type": "code",
   "execution_count": 25,
   "id": "34f39442-aa9a-461d-8141-5c3bfbaf250c",
   "metadata": {},
   "outputs": [
    {
     "name": "stdout",
     "output_type": "stream",
     "text": [
      "=== Bucketed join plan ===\n",
      "== Parsed Logical Plan ==\n",
      "'Join UsingJoin(Inner, [match_id])\n",
      ":- SubqueryAlias bootcamp.matches_bucketed\n",
      ":  +- RelationV2[match_id#1915, is_team_game#1916, mapid#1917, playlist_id#1918, completion_date#1919] bootcamp.matches_bucketed bootcamp.matches_bucketed\n",
      "+- SubqueryAlias bootcamp.match_details_bucketed\n",
      "   +- RelationV2[match_id#1925, player_id#1926, kills#1927, deaths#1928] bootcamp.match_details_bucketed bootcamp.match_details_bucketed\n",
      "\n",
      "== Analyzed Logical Plan ==\n",
      "match_id: string, is_team_game: boolean, mapid: string, playlist_id: string, completion_date: timestamp, player_id: string, kills: int, deaths: int\n",
      "Project [match_id#1915, is_team_game#1916, mapid#1917, playlist_id#1918, completion_date#1919, player_id#1926, kills#1927, deaths#1928]\n",
      "+- Join Inner, (match_id#1915 = match_id#1925)\n",
      "   :- SubqueryAlias bootcamp.matches_bucketed\n",
      "   :  +- RelationV2[match_id#1915, is_team_game#1916, mapid#1917, playlist_id#1918, completion_date#1919] bootcamp.matches_bucketed bootcamp.matches_bucketed\n",
      "   +- SubqueryAlias bootcamp.match_details_bucketed\n",
      "      +- RelationV2[match_id#1925, player_id#1926, kills#1927, deaths#1928] bootcamp.match_details_bucketed bootcamp.match_details_bucketed\n",
      "\n",
      "== Optimized Logical Plan ==\n",
      "Project [match_id#1915, is_team_game#1916, mapid#1917, playlist_id#1918, completion_date#1919, player_id#1926, kills#1927, deaths#1928]\n",
      "+- Join Inner, (match_id#1915 = match_id#1925)\n",
      "   :- RelationV2[match_id#1915, is_team_game#1916, mapid#1917, playlist_id#1918, completion_date#1919] bootcamp.matches_bucketed\n",
      "   +- RelationV2[match_id#1925, player_id#1926, kills#1927, deaths#1928] bootcamp.match_details_bucketed\n",
      "\n",
      "== Physical Plan ==\n",
      "AdaptiveSparkPlan isFinalPlan=false\n",
      "+- Project [match_id#1915, is_team_game#1916, mapid#1917, playlist_id#1918, completion_date#1919, player_id#1926, kills#1927, deaths#1928]\n",
      "   +- SortMergeJoin [match_id#1915], [match_id#1925], Inner\n",
      "      :- Sort [match_id#1915 ASC NULLS FIRST], false, 0\n",
      "      :  +- Exchange hashpartitioning(match_id#1915, 200), ENSURE_REQUIREMENTS, [plan_id=7590]\n",
      "      :     +- BatchScan bootcamp.matches_bucketed[match_id#1915, is_team_game#1916, mapid#1917, playlist_id#1918, completion_date#1919] bootcamp.matches_bucketed (branch=null) [filters=match_id IS NOT NULL, groupedBy=] RuntimeFilters: []\n",
      "      +- Sort [match_id#1925 ASC NULLS FIRST], false, 0\n",
      "         +- Exchange hashpartitioning(match_id#1925, 200), ENSURE_REQUIREMENTS, [plan_id=7591]\n",
      "            +- BatchScan bootcamp.match_details_bucketed[match_id#1925, player_id#1926, kills#1927, deaths#1928] bootcamp.match_details_bucketed (branch=null) [filters=match_id IS NOT NULL, groupedBy=] RuntimeFilters: []\n",
      "\n",
      "=== TempView non-bucketed join plan ===\n",
      "== Parsed Logical Plan ==\n",
      "'Project [*]\n",
      "+- 'Join Inner, ('d.match_id = 'm.match_id)\n",
      "   :- 'SubqueryAlias d\n",
      "   :  +- 'UnresolvedRelation [details], [], false\n",
      "   +- 'SubqueryAlias m\n",
      "      +- 'UnresolvedRelation [matches], [], false\n",
      "\n",
      "== Analyzed Logical Plan ==\n",
      "match_id: string, player_gamertag: string, previous_spartan_rank: int, spartan_rank: int, previous_total_xp: int, total_xp: int, previous_csr_tier: int, previous_csr_designation: int, previous_csr: int, previous_csr_percent_to_next_tier: int, previous_csr_rank: int, current_csr_tier: int, current_csr_designation: int, current_csr: int, current_csr_percent_to_next_tier: int, current_csr_rank: int, player_rank_on_team: int, player_finished: boolean, player_average_life: string, player_total_kills: int, player_total_headshots: int, player_total_weapon_damage: double, player_total_shots_landed: int, player_total_melee_kills: int, ... 22 more fields\n",
      "Project [match_id#1678, player_gamertag#1679, previous_spartan_rank#1680, spartan_rank#1681, previous_total_xp#1682, total_xp#1683, previous_csr_tier#1684, previous_csr_designation#1685, previous_csr#1686, previous_csr_percent_to_next_tier#1687, previous_csr_rank#1688, current_csr_tier#1689, current_csr_designation#1690, current_csr#1691, current_csr_percent_to_next_tier#1692, current_csr_rank#1693, player_rank_on_team#1694, player_finished#1695, player_average_life#1696, player_total_kills#1697, player_total_headshots#1698, player_total_weapon_damage#1699, player_total_shots_landed#1700, player_total_melee_kills#1701, ... 22 more fields]\n",
      "+- Join Inner, (match_id#1678 = match_id#1641)\n",
      "   :- SubqueryAlias d\n",
      "   :  +- SubqueryAlias details\n",
      "   :     +- View (`details`, [match_id#1678,player_gamertag#1679,previous_spartan_rank#1680,spartan_rank#1681,previous_total_xp#1682,total_xp#1683,previous_csr_tier#1684,previous_csr_designation#1685,previous_csr#1686,previous_csr_percent_to_next_tier#1687,previous_csr_rank#1688,current_csr_tier#1689,current_csr_designation#1690,current_csr#1691,current_csr_percent_to_next_tier#1692,current_csr_rank#1693,player_rank_on_team#1694,player_finished#1695,player_average_life#1696,player_total_kills#1697,player_total_headshots#1698,player_total_weapon_damage#1699,player_total_shots_landed#1700,player_total_melee_kills#1701,player_total_melee_damage#1702,player_total_assassinations#1703,player_total_ground_pound_kills#1704,player_total_shoulder_bash_kills#1705,player_total_grenade_damage#1706,player_total_power_weapon_damage#1707,player_total_power_weapon_grabs#1708,player_total_deaths#1709,player_total_assists#1710,player_total_grenade_kills#1711,did_win#1712,team_id#1713])\n",
      "   :        +- Relation [match_id#1678,player_gamertag#1679,previous_spartan_rank#1680,spartan_rank#1681,previous_total_xp#1682,total_xp#1683,previous_csr_tier#1684,previous_csr_designation#1685,previous_csr#1686,previous_csr_percent_to_next_tier#1687,previous_csr_rank#1688,current_csr_tier#1689,current_csr_designation#1690,current_csr#1691,current_csr_percent_to_next_tier#1692,current_csr_rank#1693,player_rank_on_team#1694,player_finished#1695,player_average_life#1696,player_total_kills#1697,player_total_headshots#1698,player_total_weapon_damage#1699,player_total_shots_landed#1700,player_total_melee_kills#1701,... 12 more fields] csv\n",
      "   +- SubqueryAlias m\n",
      "      +- SubqueryAlias matches\n",
      "         +- View (`matches`, [match_id#1641,mapid#1642,is_team_game#1643,playlist_id#1644,game_variant_id#1645,is_match_over#1646,completion_date#1647,match_duration#1648,game_mode#1649,map_variant_id#1650])\n",
      "            +- Relation [match_id#1641,mapid#1642,is_team_game#1643,playlist_id#1644,game_variant_id#1645,is_match_over#1646,completion_date#1647,match_duration#1648,game_mode#1649,map_variant_id#1650] csv\n",
      "\n",
      "== Optimized Logical Plan ==\n",
      "Join Inner, (match_id#1678 = match_id#1641)\n",
      ":- Filter isnotnull(match_id#1678)\n",
      ":  +- Relation [match_id#1678,player_gamertag#1679,previous_spartan_rank#1680,spartan_rank#1681,previous_total_xp#1682,total_xp#1683,previous_csr_tier#1684,previous_csr_designation#1685,previous_csr#1686,previous_csr_percent_to_next_tier#1687,previous_csr_rank#1688,current_csr_tier#1689,current_csr_designation#1690,current_csr#1691,current_csr_percent_to_next_tier#1692,current_csr_rank#1693,player_rank_on_team#1694,player_finished#1695,player_average_life#1696,player_total_kills#1697,player_total_headshots#1698,player_total_weapon_damage#1699,player_total_shots_landed#1700,player_total_melee_kills#1701,... 12 more fields] csv\n",
      "+- Filter isnotnull(match_id#1641)\n",
      "   +- Relation [match_id#1641,mapid#1642,is_team_game#1643,playlist_id#1644,game_variant_id#1645,is_match_over#1646,completion_date#1647,match_duration#1648,game_mode#1649,map_variant_id#1650] csv\n",
      "\n",
      "== Physical Plan ==\n",
      "AdaptiveSparkPlan isFinalPlan=false\n",
      "+- SortMergeJoin [match_id#1678], [match_id#1641], Inner\n",
      "   :- Sort [match_id#1678 ASC NULLS FIRST], false, 0\n",
      "   :  +- Exchange hashpartitioning(match_id#1678, 200), ENSURE_REQUIREMENTS, [plan_id=7624]\n",
      "   :     +- Filter isnotnull(match_id#1678)\n",
      "   :        +- FileScan csv [match_id#1678,player_gamertag#1679,previous_spartan_rank#1680,spartan_rank#1681,previous_total_xp#1682,total_xp#1683,previous_csr_tier#1684,previous_csr_designation#1685,previous_csr#1686,previous_csr_percent_to_next_tier#1687,previous_csr_rank#1688,current_csr_tier#1689,current_csr_designation#1690,current_csr#1691,current_csr_percent_to_next_tier#1692,current_csr_rank#1693,player_rank_on_team#1694,player_finished#1695,player_average_life#1696,player_total_kills#1697,player_total_headshots#1698,player_total_weapon_damage#1699,player_total_shots_landed#1700,player_total_melee_kills#1701,... 12 more fields] Batched: false, DataFilters: [isnotnull(match_id#1678)], Format: CSV, Location: InMemoryFileIndex(1 paths)[file:/home/iceberg/data/match_details.csv], PartitionFilters: [], PushedFilters: [IsNotNull(match_id)], ReadSchema: struct<match_id:string,player_gamertag:string,previous_spartan_rank:int,spartan_rank:int,previous...\n",
      "   +- Sort [match_id#1641 ASC NULLS FIRST], false, 0\n",
      "      +- Exchange hashpartitioning(match_id#1641, 200), ENSURE_REQUIREMENTS, [plan_id=7625]\n",
      "         +- Filter isnotnull(match_id#1641)\n",
      "            +- FileScan csv [match_id#1641,mapid#1642,is_team_game#1643,playlist_id#1644,game_variant_id#1645,is_match_over#1646,completion_date#1647,match_duration#1648,game_mode#1649,map_variant_id#1650] Batched: false, DataFilters: [isnotnull(match_id#1641)], Format: CSV, Location: InMemoryFileIndex(1 paths)[file:/home/iceberg/data/matches.csv], PartitionFilters: [], PushedFilters: [IsNotNull(match_id)], ReadSchema: struct<match_id:string,mapid:string,is_team_game:boolean,playlist_id:string,game_variant_id:strin...\n",
      "\n",
      "=== Explicit broadcast join plan ===\n",
      "== Parsed Logical Plan ==\n",
      "'Join UsingJoin(Inner, [match_id])\n",
      ":- SubqueryAlias bootcamp.matches_bucketed\n",
      ":  +- RelationV2[match_id#1915, is_team_game#1916, mapid#1917, playlist_id#1918, completion_date#1919] bootcamp.matches_bucketed bootcamp.matches_bucketed\n",
      "+- ResolvedHint (strategy=broadcast)\n",
      "   +- SubqueryAlias bootcamp.match_details_bucketed\n",
      "      +- RelationV2[match_id#1925, player_id#1926, kills#1927, deaths#1928] bootcamp.match_details_bucketed bootcamp.match_details_bucketed\n",
      "\n",
      "== Analyzed Logical Plan ==\n",
      "match_id: string, is_team_game: boolean, mapid: string, playlist_id: string, completion_date: timestamp, player_id: string, kills: int, deaths: int\n",
      "Project [match_id#1915, is_team_game#1916, mapid#1917, playlist_id#1918, completion_date#1919, player_id#1926, kills#1927, deaths#1928]\n",
      "+- Join Inner, (match_id#1915 = match_id#1925)\n",
      "   :- SubqueryAlias bootcamp.matches_bucketed\n",
      "   :  +- RelationV2[match_id#1915, is_team_game#1916, mapid#1917, playlist_id#1918, completion_date#1919] bootcamp.matches_bucketed bootcamp.matches_bucketed\n",
      "   +- ResolvedHint (strategy=broadcast)\n",
      "      +- SubqueryAlias bootcamp.match_details_bucketed\n",
      "         +- RelationV2[match_id#1925, player_id#1926, kills#1927, deaths#1928] bootcamp.match_details_bucketed bootcamp.match_details_bucketed\n",
      "\n",
      "== Optimized Logical Plan ==\n",
      "Project [match_id#1915, is_team_game#1916, mapid#1917, playlist_id#1918, completion_date#1919, player_id#1926, kills#1927, deaths#1928]\n",
      "+- Join Inner, (match_id#1915 = match_id#1925), rightHint=(strategy=broadcast)\n",
      "   :- RelationV2[match_id#1915, is_team_game#1916, mapid#1917, playlist_id#1918, completion_date#1919] bootcamp.matches_bucketed\n",
      "   +- RelationV2[match_id#1925, player_id#1926, kills#1927, deaths#1928] bootcamp.match_details_bucketed\n",
      "\n",
      "== Physical Plan ==\n",
      "AdaptiveSparkPlan isFinalPlan=false\n",
      "+- Project [match_id#1915, is_team_game#1916, mapid#1917, playlist_id#1918, completion_date#1919, player_id#1926, kills#1927, deaths#1928]\n",
      "   +- BroadcastHashJoin [match_id#1915], [match_id#1925], Inner, BuildRight, false\n",
      "      :- BatchScan bootcamp.matches_bucketed[match_id#1915, is_team_game#1916, mapid#1917, playlist_id#1918, completion_date#1919] bootcamp.matches_bucketed (branch=null) [filters=match_id IS NOT NULL, groupedBy=] RuntimeFilters: []\n",
      "      +- BroadcastExchange HashedRelationBroadcastMode(List(input[0, string, true]),false), [plan_id=7645]\n",
      "         +- BatchScan bootcamp.match_details_bucketed[match_id#1925, player_id#1926, kills#1927, deaths#1928] bootcamp.match_details_bucketed (branch=null) [filters=match_id IS NOT NULL, groupedBy=] RuntimeFilters: []\n",
      "\n"
     ]
    }
   ],
   "source": [
    "# Prepare broadcast dims\n",
    "broadcast_medals = broadcast(medals_df)\n",
    "broadcast_maps   = broadcast(maps_df)\n",
    "\n",
    "# Load bucketed tables\n",
    "matches_bucketed  = spark.table(\"bootcamp.matches_bucketed\")\n",
    "match_details_bucketed  = spark.table(\"bootcamp.match_details_bucketed\")\n",
    "medal_matches_players_bucketed = spark.table(\"bootcamp.medal_matches_players_bucketed\")\n",
    "\n",
    "# 1) Explain bucketed join plan\n",
    "print(\"=== Bucketed join plan ===\")\n",
    "matches_bucketed.join(match_details_bucketed, on=\"match_id\").explain(True)\n",
    "\n",
    "# 2) Explain non-bucketed temp view join\n",
    "matches_df.createOrReplaceTempView(\"matches\")\n",
    "details_df.createOrReplaceTempView(\"details\")\n",
    "print(\"=== TempView non-bucketed join plan ===\")\n",
    "spark.sql(\"SELECT * FROM details d JOIN matches m ON d.match_id = m.match_id\").explain(True)\n",
    "\n",
    "# 3) Explain explicit broadcast join\n",
    "print(\"=== Explicit broadcast join plan ===\")\n",
    "matches_bucketed.join(broadcast(match_details_bucketed), on=\"match_id\").explain(True)\n",
    "\n",
    "medal_matches_players_bucketed = medal_matches_players_bucketed.withColumnRenamed(\"player_id\", \"mpm_player_id\")\n",
    "broadcast_maps = broadcast_maps.withColumnRenamed(\"description\", \"maps_description\")\\\n",
    "                               .withColumnRenamed(\"name\", \"map_name\")\n",
    "\n",
    "# 4) Multi-way join with dimensional tables\n",
    "joined = match_details_bucketed \\\n",
    "    .join(matches_bucketed, on=\"match_id\") \\\n",
    "    .join(medal_matches_players_bucketed, on=\"match_id\") \\\n",
    "    .join(broadcast_medals, on=\"medal_id\") \\\n",
    "    .join(broadcast_maps, on = \"mapid\")"
   ]
  },
  {
   "cell_type": "code",
   "execution_count": 26,
   "id": "17d86383-de63-45b5-bb14-7f1993cdf124",
   "metadata": {},
   "outputs": [
    {
     "name": "stderr",
     "output_type": "stream",
     "text": [
      "                                                                                "
     ]
    },
    {
     "data": {
      "text/plain": [
       "[Row(mapid='cc040aa1-f206-11e4-a3e0-24be05e24f7e', medal_id='3261908037', match_id='00169217-cca6-4b47-8df0-559ee424143f', player_id='King Terror V', kills=14, deaths=7, is_team_game=True, playlist_id='2323b76a-db98-4e03-aa37-e171cfbdd1a4', completion_date=datetime.datetime(2016, 3, 13, 0, 0), mpm_player_id='King Terror V', sprite_uri='https://content.halocdn.com/media/Default/games/halo-5-guardians/sprites/medalspritesheet-be288ea5c0994a4e9d36f43aee7bc631.png', sprite_left=375, sprite_top=525, sprite_sheet_width=74, sprite_sheet_height=74, sprite_width=1125, sprite_height=899, classification='WeaponProficiency', description='Kill an opponent by shooting them in the head.', name='Headshot', difficulty=60, map_name='Fathom', maps_description='The UNSC explores Beta Gabriel’s vast oceans in hopes of recovering wreckage hidden in the crushing depths.')]"
      ]
     },
     "execution_count": 26,
     "metadata": {},
     "output_type": "execute_result"
    }
   ],
   "source": [
    "joined.head(1)"
   ]
  },
  {
   "cell_type": "code",
   "execution_count": 27,
   "id": "3ad9e34d-2614-4ce6-9e93-23133813a49d",
   "metadata": {},
   "outputs": [
    {
     "name": "stdout",
     "output_type": "stream",
     "text": [
      "Top players by average kills:\n"
     ]
    },
    {
     "name": "stderr",
     "output_type": "stream",
     "text": [
      "                                                                                "
     ]
    },
    {
     "name": "stdout",
     "output_type": "stream",
     "text": [
      "+------------+---------+\n",
      "|   player_id|avg_kills|\n",
      "+------------+---------+\n",
      "|gimpinator14|    109.0|\n",
      "+------------+---------+\n",
      "only showing top 1 row\n",
      "\n",
      "Top playlists:\n"
     ]
    },
    {
     "name": "stderr",
     "output_type": "stream",
     "text": [
      "                                                                                "
     ]
    },
    {
     "name": "stdout",
     "output_type": "stream",
     "text": [
      "+--------------------+----------+\n",
      "|         playlist_id|play_count|\n",
      "+--------------------+----------+\n",
      "|f72e0ef0-7c4a-430...|   1565529|\n",
      "+--------------------+----------+\n",
      "only showing top 1 row\n",
      "\n",
      "Top maps:\n"
     ]
    },
    {
     "name": "stderr",
     "output_type": "stream",
     "text": [
      "                                                                                "
     ]
    },
    {
     "name": "stdout",
     "output_type": "stream",
     "text": [
      "+--------------------+----------+\n",
      "|               mapid|play_count|\n",
      "+--------------------+----------+\n",
      "|c74c9d0f-f206-11e...|   1445545|\n",
      "+--------------------+----------+\n",
      "only showing top 1 row\n",
      "\n",
      "Maps with most Killing Spree medals:\n"
     ]
    },
    {
     "name": "stderr",
     "output_type": "stream",
     "text": [
      "[Stage 239:======================================>                  (4 + 2) / 6]"
     ]
    },
    {
     "name": "stdout",
     "output_type": "stream",
     "text": [
      "+--------------------+-----------+\n",
      "|               mapid|spree_count|\n",
      "+--------------------+-----------+\n",
      "|c74c9d0f-f206-11e...|      56908|\n",
      "+--------------------+-----------+\n",
      "only showing top 1 row\n",
      "\n"
     ]
    },
    {
     "name": "stderr",
     "output_type": "stream",
     "text": [
      "                                                                                "
     ]
    }
   ],
   "source": [
    "# Aggregations\n",
    "# a) Player with highest avg kills\n",
    "top_kills = joined.groupBy(match_details_bucketed[\"player_id\"]).agg(avg(\"kills\").alias(\"avg_kills\")).orderBy(col(\"avg_kills\").desc())\n",
    "print(\"Top players by average kills:\")\n",
    "top_kills.show(1)\n",
    "\n",
    "# b) Most-played playlist\n",
    "top_playlists = joined.groupBy(col(\"playlist_id\")).agg(count(\"match_id\").alias(\"play_count\")).orderBy(col(\"play_count\").desc())\n",
    "print(\"Top playlists:\")\n",
    "top_playlists.show(1)\n",
    "\n",
    "# c) Most-played map\n",
    "top_maps = joined.groupBy(broadcast_maps[\"mapid\"]).agg(count(\"match_id\").alias(\"play_count\")).orderBy(col(\"play_count\").desc())\n",
    "print(\"Top maps:\")\n",
    "top_maps.show(1)\n",
    "\n",
    "# d) Map with most Killing Spree medals\n",
    "top_spree_maps = joined.filter(broadcast_medals[\"name\"] == \"Killing Spree\") \\\n",
    "    .groupBy(broadcast_maps[\"mapid\"]).agg(count(\"medal_id\").alias(\"spree_count\")).orderBy(col(\"spree_count\").desc())\n",
    "print(\"Maps with most Killing Spree medals:\")\n",
    "top_spree_maps.show(1)"
   ]
  },
  {
   "cell_type": "code",
   "execution_count": 19,
   "id": "b6fbc95a-d436-41dd-b725-8412eae59fb0",
   "metadata": {},
   "outputs": [],
   "source": [
    "def get_dir_size(path: str) -> int:\n",
    "    total = 0\n",
    "    for dirpath, dirnames, filenames in os.walk(path):\n",
    "        for f in filenames:\n",
    "            fp = os.path.join(dirpath, f)\n",
    "            if os.path.exists(fp):\n",
    "                total += os.path.getsize(fp)\n",
    "    return total"
   ]
  },
  {
   "cell_type": "code",
   "execution_count": 20,
   "id": "bc9e03d7-a946-4ee5-842c-a76bd517fd47",
   "metadata": {},
   "outputs": [
    {
     "name": "stderr",
     "output_type": "stream",
     "text": [
      "                                                                                "
     ]
    },
    {
     "name": "stdout",
     "output_type": "stream",
     "text": [
      "Written sorted by playlist_id (4 parts) -> size: 51389518 bytes\n"
     ]
    },
    {
     "name": "stderr",
     "output_type": "stream",
     "text": [
      "                                                                                "
     ]
    },
    {
     "name": "stdout",
     "output_type": "stream",
     "text": [
      "Written sorted by mapid (4 parts) -> size: 54499926 bytes\n"
     ]
    },
    {
     "name": "stderr",
     "output_type": "stream",
     "text": [
      "ERROR:root:KeyboardInterrupt while sending command.=========>       (7 + 1) / 8]\n",
      "Traceback (most recent call last):\n",
      "  File \"/opt/spark/python/lib/py4j-0.10.9.7-src.zip/py4j/java_gateway.py\", line 1038, in send_command\n",
      "    response = connection.send_command(command)\n",
      "  File \"/opt/spark/python/lib/py4j-0.10.9.7-src.zip/py4j/clientserver.py\", line 511, in send_command\n",
      "    answer = smart_decode(self.stream.readline()[:-1])\n",
      "  File \"/usr/local/lib/python3.10/socket.py\", line 717, in readinto\n",
      "    return self._sock.recv_into(b)\n",
      "KeyboardInterrupt\n",
      "                                                                                "
     ]
    },
    {
     "ename": "KeyboardInterrupt",
     "evalue": "",
     "output_type": "error",
     "traceback": [
      "\u001b[0;31m---------------------------------------------------------------------------\u001b[0m",
      "\u001b[0;31mKeyboardInterrupt\u001b[0m                         Traceback (most recent call last)",
      "Cell \u001b[0;32mIn[20], line 14\u001b[0m\n\u001b[1;32m      8\u001b[0m sorted_df \u001b[38;5;241m=\u001b[39m (\n\u001b[1;32m      9\u001b[0m     joined\u001b[38;5;241m.\u001b[39mselect(\u001b[38;5;241m*\u001b[39mjoined\u001b[38;5;241m.\u001b[39mcolumns)\n\u001b[1;32m     10\u001b[0m     \u001b[38;5;241m.\u001b[39mrepartition(num_parts, col(key))\n\u001b[1;32m     11\u001b[0m     \u001b[38;5;241m.\u001b[39msortWithinPartitions(col(key))\n\u001b[1;32m     12\u001b[0m )\n\u001b[1;32m     13\u001b[0m out_path \u001b[38;5;241m=\u001b[39m \u001b[38;5;124mf\u001b[39m\u001b[38;5;124m\"\u001b[39m\u001b[38;5;124m/tmp/sorted_by_\u001b[39m\u001b[38;5;132;01m{\u001b[39;00mkey\u001b[38;5;132;01m}\u001b[39;00m\u001b[38;5;124m_\u001b[39m\u001b[38;5;132;01m{\u001b[39;00mnum_parts\u001b[38;5;132;01m}\u001b[39;00m\u001b[38;5;124m\"\u001b[39m\n\u001b[0;32m---> 14\u001b[0m \u001b[43msorted_df\u001b[49m\u001b[38;5;241;43m.\u001b[39;49m\u001b[43mwrite\u001b[49m\u001b[38;5;241;43m.\u001b[39;49m\u001b[43mmode\u001b[49m\u001b[43m(\u001b[49m\u001b[38;5;124;43m\"\u001b[39;49m\u001b[38;5;124;43moverwrite\u001b[39;49m\u001b[38;5;124;43m\"\u001b[39;49m\u001b[43m)\u001b[49m\u001b[38;5;241;43m.\u001b[39;49m\u001b[43mparquet\u001b[49m\u001b[43m(\u001b[49m\u001b[43mout_path\u001b[49m\u001b[43m)\u001b[49m\n\u001b[1;32m     15\u001b[0m size \u001b[38;5;241m=\u001b[39m get_dir_size(out_path)\n\u001b[1;32m     16\u001b[0m \u001b[38;5;28mprint\u001b[39m(\u001b[38;5;124mf\u001b[39m\u001b[38;5;124m\"\u001b[39m\u001b[38;5;124mWritten sorted by \u001b[39m\u001b[38;5;132;01m{\u001b[39;00mkey\u001b[38;5;132;01m}\u001b[39;00m\u001b[38;5;124m (\u001b[39m\u001b[38;5;132;01m{\u001b[39;00mnum_parts\u001b[38;5;132;01m}\u001b[39;00m\u001b[38;5;124m parts) -> size: \u001b[39m\u001b[38;5;132;01m{\u001b[39;00msize\u001b[38;5;132;01m}\u001b[39;00m\u001b[38;5;124m bytes\u001b[39m\u001b[38;5;124m\"\u001b[39m)\n",
      "File \u001b[0;32m/opt/spark/python/pyspark/sql/readwriter.py:1721\u001b[0m, in \u001b[0;36mDataFrameWriter.parquet\u001b[0;34m(self, path, mode, partitionBy, compression)\u001b[0m\n\u001b[1;32m   1719\u001b[0m     \u001b[38;5;28mself\u001b[39m\u001b[38;5;241m.\u001b[39mpartitionBy(partitionBy)\n\u001b[1;32m   1720\u001b[0m \u001b[38;5;28mself\u001b[39m\u001b[38;5;241m.\u001b[39m_set_opts(compression\u001b[38;5;241m=\u001b[39mcompression)\n\u001b[0;32m-> 1721\u001b[0m \u001b[38;5;28;43mself\u001b[39;49m\u001b[38;5;241;43m.\u001b[39;49m\u001b[43m_jwrite\u001b[49m\u001b[38;5;241;43m.\u001b[39;49m\u001b[43mparquet\u001b[49m\u001b[43m(\u001b[49m\u001b[43mpath\u001b[49m\u001b[43m)\u001b[49m\n",
      "File \u001b[0;32m/opt/spark/python/lib/py4j-0.10.9.7-src.zip/py4j/java_gateway.py:1321\u001b[0m, in \u001b[0;36mJavaMember.__call__\u001b[0;34m(self, *args)\u001b[0m\n\u001b[1;32m   1314\u001b[0m args_command, temp_args \u001b[38;5;241m=\u001b[39m \u001b[38;5;28mself\u001b[39m\u001b[38;5;241m.\u001b[39m_build_args(\u001b[38;5;241m*\u001b[39margs)\n\u001b[1;32m   1316\u001b[0m command \u001b[38;5;241m=\u001b[39m proto\u001b[38;5;241m.\u001b[39mCALL_COMMAND_NAME \u001b[38;5;241m+\u001b[39m\\\n\u001b[1;32m   1317\u001b[0m     \u001b[38;5;28mself\u001b[39m\u001b[38;5;241m.\u001b[39mcommand_header \u001b[38;5;241m+\u001b[39m\\\n\u001b[1;32m   1318\u001b[0m     args_command \u001b[38;5;241m+\u001b[39m\\\n\u001b[1;32m   1319\u001b[0m     proto\u001b[38;5;241m.\u001b[39mEND_COMMAND_PART\n\u001b[0;32m-> 1321\u001b[0m answer \u001b[38;5;241m=\u001b[39m \u001b[38;5;28;43mself\u001b[39;49m\u001b[38;5;241;43m.\u001b[39;49m\u001b[43mgateway_client\u001b[49m\u001b[38;5;241;43m.\u001b[39;49m\u001b[43msend_command\u001b[49m\u001b[43m(\u001b[49m\u001b[43mcommand\u001b[49m\u001b[43m)\u001b[49m\n\u001b[1;32m   1322\u001b[0m return_value \u001b[38;5;241m=\u001b[39m get_return_value(\n\u001b[1;32m   1323\u001b[0m     answer, \u001b[38;5;28mself\u001b[39m\u001b[38;5;241m.\u001b[39mgateway_client, \u001b[38;5;28mself\u001b[39m\u001b[38;5;241m.\u001b[39mtarget_id, \u001b[38;5;28mself\u001b[39m\u001b[38;5;241m.\u001b[39mname)\n\u001b[1;32m   1325\u001b[0m \u001b[38;5;28;01mfor\u001b[39;00m temp_arg \u001b[38;5;129;01min\u001b[39;00m temp_args:\n",
      "File \u001b[0;32m/opt/spark/python/lib/py4j-0.10.9.7-src.zip/py4j/java_gateway.py:1038\u001b[0m, in \u001b[0;36mGatewayClient.send_command\u001b[0;34m(self, command, retry, binary)\u001b[0m\n\u001b[1;32m   1036\u001b[0m connection \u001b[38;5;241m=\u001b[39m \u001b[38;5;28mself\u001b[39m\u001b[38;5;241m.\u001b[39m_get_connection()\n\u001b[1;32m   1037\u001b[0m \u001b[38;5;28;01mtry\u001b[39;00m:\n\u001b[0;32m-> 1038\u001b[0m     response \u001b[38;5;241m=\u001b[39m \u001b[43mconnection\u001b[49m\u001b[38;5;241;43m.\u001b[39;49m\u001b[43msend_command\u001b[49m\u001b[43m(\u001b[49m\u001b[43mcommand\u001b[49m\u001b[43m)\u001b[49m\n\u001b[1;32m   1039\u001b[0m     \u001b[38;5;28;01mif\u001b[39;00m binary:\n\u001b[1;32m   1040\u001b[0m         \u001b[38;5;28;01mreturn\u001b[39;00m response, \u001b[38;5;28mself\u001b[39m\u001b[38;5;241m.\u001b[39m_create_connection_guard(connection)\n",
      "File \u001b[0;32m/opt/spark/python/lib/py4j-0.10.9.7-src.zip/py4j/clientserver.py:511\u001b[0m, in \u001b[0;36mClientServerConnection.send_command\u001b[0;34m(self, command)\u001b[0m\n\u001b[1;32m    509\u001b[0m \u001b[38;5;28;01mtry\u001b[39;00m:\n\u001b[1;32m    510\u001b[0m     \u001b[38;5;28;01mwhile\u001b[39;00m \u001b[38;5;28;01mTrue\u001b[39;00m:\n\u001b[0;32m--> 511\u001b[0m         answer \u001b[38;5;241m=\u001b[39m smart_decode(\u001b[38;5;28;43mself\u001b[39;49m\u001b[38;5;241;43m.\u001b[39;49m\u001b[43mstream\u001b[49m\u001b[38;5;241;43m.\u001b[39;49m\u001b[43mreadline\u001b[49m\u001b[43m(\u001b[49m\u001b[43m)\u001b[49m[:\u001b[38;5;241m-\u001b[39m\u001b[38;5;241m1\u001b[39m])\n\u001b[1;32m    512\u001b[0m         logger\u001b[38;5;241m.\u001b[39mdebug(\u001b[38;5;124m\"\u001b[39m\u001b[38;5;124mAnswer received: \u001b[39m\u001b[38;5;132;01m{0}\u001b[39;00m\u001b[38;5;124m\"\u001b[39m\u001b[38;5;241m.\u001b[39mformat(answer))\n\u001b[1;32m    513\u001b[0m         \u001b[38;5;66;03m# Happens when a the other end is dead. There might be an empty\u001b[39;00m\n\u001b[1;32m    514\u001b[0m         \u001b[38;5;66;03m# answer before the socket raises an error.\u001b[39;00m\n",
      "File \u001b[0;32m/usr/local/lib/python3.10/socket.py:717\u001b[0m, in \u001b[0;36mSocketIO.readinto\u001b[0;34m(self, b)\u001b[0m\n\u001b[1;32m    715\u001b[0m \u001b[38;5;28;01mwhile\u001b[39;00m \u001b[38;5;28;01mTrue\u001b[39;00m:\n\u001b[1;32m    716\u001b[0m     \u001b[38;5;28;01mtry\u001b[39;00m:\n\u001b[0;32m--> 717\u001b[0m         \u001b[38;5;28;01mreturn\u001b[39;00m \u001b[38;5;28;43mself\u001b[39;49m\u001b[38;5;241;43m.\u001b[39;49m\u001b[43m_sock\u001b[49m\u001b[38;5;241;43m.\u001b[39;49m\u001b[43mrecv_into\u001b[49m\u001b[43m(\u001b[49m\u001b[43mb\u001b[49m\u001b[43m)\u001b[49m\n\u001b[1;32m    718\u001b[0m     \u001b[38;5;28;01mexcept\u001b[39;00m timeout:\n\u001b[1;32m    719\u001b[0m         \u001b[38;5;28mself\u001b[39m\u001b[38;5;241m.\u001b[39m_timeout_occurred \u001b[38;5;241m=\u001b[39m \u001b[38;5;28;01mTrue\u001b[39;00m\n",
      "\u001b[0;31mKeyboardInterrupt\u001b[0m: "
     ]
    }
   ],
   "source": [
    "# sortWithinPartitions experiments on low-cardinality columns\n",
    "partition_sizes = [4, 8, 16]\n",
    "keys = [\"playlist_id\", \"mapid\"]\n",
    "results = []\n",
    "\n",
    "for num_parts in partition_sizes:\n",
    "    for key in keys:\n",
    "        sorted_df = (\n",
    "            joined.select(*joined.columns)\n",
    "            .repartition(num_parts, col(key))\n",
    "            .sortWithinPartitions(col(key))\n",
    "        )\n",
    "        out_path = f\"/tmp/sorted_by_{key}_{num_parts}\"\n",
    "        sorted_df.write.mode(\"overwrite\").parquet(out_path)\n",
    "        size = get_dir_size(out_path)\n",
    "        print(f\"Written sorted by {key} ({num_parts} parts) -> size: {size} bytes\")\n",
    "        results.append((key, num_parts, size))\n",
    "\n",
    "# Display results\n",
    "spark.createDataFrame(results, schema=[\"method\", \"partitions\", \"size_bytes\"]).show()"
   ]
  },
  {
   "cell_type": "code",
   "execution_count": null,
   "id": "ea3777db-a040-455c-acbf-b46fd8f2b301",
   "metadata": {},
   "outputs": [],
   "source": []
  }
 ],
 "metadata": {
  "kernelspec": {
   "display_name": "Python 3 (ipykernel)",
   "language": "python",
   "name": "python3"
  },
  "language_info": {
   "codemirror_mode": {
    "name": "ipython",
    "version": 3
   },
   "file_extension": ".py",
   "mimetype": "text/x-python",
   "name": "python",
   "nbconvert_exporter": "python",
   "pygments_lexer": "ipython3",
   "version": "3.10.16"
  }
 },
 "nbformat": 4,
 "nbformat_minor": 5
}
