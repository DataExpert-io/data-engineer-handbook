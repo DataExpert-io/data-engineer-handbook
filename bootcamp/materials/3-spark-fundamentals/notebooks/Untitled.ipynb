{
 "cells": [
  {
   "cell_type": "code",
   "execution_count": 1,
   "id": "197ed82a-fc4f-41cb-bfa9-5a781ad1738a",
   "metadata": {},
   "outputs": [
    {
     "name": "stderr",
     "output_type": "stream",
     "text": [
      "24/12/14 08:51:30 WARN SparkSession: Using an existing Spark session; only runtime SQL configurations will take effect.\n"
     ]
    }
   ],
   "source": [
    "from pyspark.sql import SparkSession\n",
    "from pyspark.sql.functions import expr, col, broadcast\n",
    "\n",
    "spark = SparkSession.builder.appName(\"spark_job\").config(\"spark.driver.memory\", \"12g\").getOrCreate()"
   ]
  },
  {
   "cell_type": "code",
   "execution_count": 2,
   "id": "6bc27d72-541a-4b06-addf-95017100b7ba",
   "metadata": {},
   "outputs": [],
   "source": [
    "spark.conf.set(\"spark.sql.autoBroadcastJoinThreshold\", \"-1\")\n",
    "spark.conf.set(\"spark.sql.debug.maxToStringFields\", \"-1\")"
   ]
  },
  {
   "cell_type": "code",
   "execution_count": 3,
   "id": "e07db32c-394d-471b-8d45-fa5101328002",
   "metadata": {},
   "outputs": [
    {
     "name": "stderr",
     "output_type": "stream",
     "text": [
      "24/12/14 08:51:35 WARN SparkStringUtils: Truncated the string representation of a plan since it was too large. This behavior can be adjusted by setting 'spark.sql.debug.maxToStringFields'.\n",
      "                                                                                \r"
     ]
    }
   ],
   "source": [
    "match_details = spark.read.option(\"header\", \"true\") \\\n",
    "            .csv(\"/home/iceberg/data/match_details.csv\")\n",
    "\n",
    "match_details.write.bucketBy(16, \"match_id\").mode(\"overwrite\").saveAsTable(\"bootcamp.bucketed_match_details\")"
   ]
  },
  {
   "cell_type": "code",
   "execution_count": 4,
   "id": "6849e529-dadf-468c-8ca1-4bb9efc492cb",
   "metadata": {},
   "outputs": [
    {
     "name": "stderr",
     "output_type": "stream",
     "text": [
      "                                                                                \r"
     ]
    }
   ],
   "source": [
    "maps = spark.read.option(\"header\", \"true\") \\\n",
    "            .option(\"inferSchema\", \"true\") \\\n",
    "            .csv(\"/home/iceberg/data/maps.csv\")"
   ]
  },
  {
   "cell_type": "code",
   "execution_count": 5,
   "id": "a91b8b23-e9af-423e-bd44-c9aa28ab70e0",
   "metadata": {},
   "outputs": [
    {
     "name": "stderr",
     "output_type": "stream",
     "text": [
      "                                                                                \r"
     ]
    }
   ],
   "source": [
    "medals = spark.read.option(\"header\", \"true\") \\\n",
    "            .option(\"inferSchema\", \"true\") \\\n",
    "            .csv(\"/home/iceberg/data/medals.csv\")"
   ]
  },
  {
   "cell_type": "code",
   "execution_count": 6,
   "id": "659ffa60-2c49-445e-8adb-231462b543df",
   "metadata": {},
   "outputs": [
    {
     "name": "stderr",
     "output_type": "stream",
     "text": [
      "                                                                                \r"
     ]
    }
   ],
   "source": [
    "matches = spark.read.option(\"header\", \"true\") \\\n",
    "            .csv(\"/home/iceberg/data/matches.csv\")\n",
    "\n",
    "matches.write.bucketBy(16, \"match_id\").mode(\"overwrite\").saveAsTable(\"bootcamp.bucketed_matches\")"
   ]
  },
  {
   "cell_type": "code",
   "execution_count": null,
   "id": "57497f3d-4758-4abc-a62d-bc02651d6d7d",
   "metadata": {},
   "outputs": [
    {
     "name": "stderr",
     "output_type": "stream",
     "text": [
      "[Stage 13:>                                                         (0 + 8) / 8]\r"
     ]
    }
   ],
   "source": [
    "medals_matches_players = spark.read.option(\"header\", \"true\") \\\n",
    "            .csv(\"/home/iceberg/data/medals_matches_players.csv\")\n",
    "\n",
    "medals_matches_players.write.bucketBy(16, \"match_id\").mode(\"overwrite\").saveAsTable(\"bootcamp.bucketed_medals_matches_players\")"
   ]
  },
  {
   "cell_type": "code",
   "execution_count": 3,
   "id": "6a6e5cd3-73a1-4580-a50f-1fa5182f032a",
   "metadata": {},
   "outputs": [],
   "source": [
    "bucketed_join = spark.sql(\"\"\"\n",
    "    SELECT * FROM bootcamp.bucketed_matches\n",
    "        JOIN bootcamp.bucketed_match_details\n",
    "            USING(match_id)\n",
    "        JOIN bootcamp.bucketed_medals_matches_players\n",
    "            USING(match_id)\n",
    "\"\"\")"
   ]
  },
  {
   "cell_type": "code",
   "execution_count": null,
   "id": "8d406f5d-612d-4372-89e6-325115446c5d",
   "metadata": {},
   "outputs": [
    {
     "name": "stderr",
     "output_type": "stream",
     "text": [
      "ERROR:root:Exception while sending command.\n",
      "Traceback (most recent call last):\n",
      "  File \"/opt/spark/python/lib/py4j-0.10.9.7-src.zip/py4j/clientserver.py\", line 516, in send_command\n",
      "    raise Py4JNetworkError(\"Answer from Java side is empty\")\n",
      "py4j.protocol.Py4JNetworkError: Answer from Java side is empty\n",
      "\n",
      "During handling of the above exception, another exception occurred:\n",
      "\n",
      "Traceback (most recent call last):\n",
      "  File \"/opt/spark/python/lib/py4j-0.10.9.7-src.zip/py4j/java_gateway.py\", line 1038, in send_command\n",
      "    response = connection.send_command(command)\n",
      "  File \"/opt/spark/python/lib/py4j-0.10.9.7-src.zip/py4j/clientserver.py\", line 539, in send_command\n",
      "    raise Py4JNetworkError(\n",
      "py4j.protocol.Py4JNetworkError: Error while sending or receiving\n"
     ]
    }
   ],
   "source": [
    "bucketed_join.show(5)"
   ]
  },
  {
   "cell_type": "markdown",
   "id": "80d778b8-7583-494a-be7f-747882dbf830",
   "metadata": {},
   "source": []
  },
  {
   "cell_type": "code",
   "execution_count": 8,
   "id": "e3a871eb-a738-432f-beaf-3fb3cb9cb7a3",
   "metadata": {},
   "outputs": [],
   "source": [
    "explicit_medal_maps = medals.join(broadcast(maps))"
   ]
  },
  {
   "cell_type": "code",
   "execution_count": 10,
   "id": "1897fa3d-5b13-499f-a886-456a1213d512",
   "metadata": {},
   "outputs": [
    {
     "name": "stdout",
     "output_type": "stream",
     "text": [
      "+----------+----------+-----------+----------+------------------+-------------------+------------+-------------+--------------+-----------+----+----------+--------------------+-------------------+--------------------+\n",
      "|  medal_id|sprite_uri|sprite_left|sprite_top|sprite_sheet_width|sprite_sheet_height|sprite_width|sprite_height|classification|description|name|difficulty|               mapid|               name|         description|\n",
      "+----------+----------+-----------+----------+------------------+-------------------+------------+-------------+--------------+-----------+----+----------+--------------------+-------------------+--------------------+\n",
      "|2315448068|      NULL|       NULL|      NULL|              NULL|               NULL|        NULL|         NULL|          NULL|       NULL|NULL|      NULL|c93d708f-f206-11e...|              Urban|Andesia was the c...|\n",
      "|2315448068|      NULL|       NULL|      NULL|              NULL|               NULL|        NULL|         NULL|          NULL|       NULL|NULL|      NULL|cb251c51-f206-11e...|     Raid on Apex 7|This unbroken rin...|\n",
      "|2315448068|      NULL|       NULL|      NULL|              NULL|               NULL|        NULL|         NULL|          NULL|       NULL|NULL|      NULL|c854e54f-f206-11e...|March on Stormbreak|                NULL|\n",
      "|2315448068|      NULL|       NULL|      NULL|              NULL|               NULL|        NULL|         NULL|          NULL|       NULL|NULL|      NULL|c8d69870-f206-11e...| Escape from A.R.C.|Scientists flocke...|\n",
      "|2315448068|      NULL|       NULL|      NULL|              NULL|               NULL|        NULL|         NULL|          NULL|       NULL|NULL|      NULL|73ed1fd0-45e5-4bb...|             Osiris|                NULL|\n",
      "+----------+----------+-----------+----------+------------------+-------------------+------------+-------------+--------------+-----------+----+----------+--------------------+-------------------+--------------------+\n",
      "only showing top 5 rows\n",
      "\n"
     ]
    }
   ],
   "source": [
    "explicit_medal_maps.show(5)"
   ]
  },
  {
   "cell_type": "code",
   "execution_count": null,
   "id": "addb3485-2328-40a5-91a1-f464dff2f353",
   "metadata": {},
   "outputs": [],
   "source": [
    "bucketMatches = matches.join("
   ]
  }
 ],
 "metadata": {
  "kernelspec": {
   "display_name": "Python 3 (ipykernel)",
   "language": "python",
   "name": "python3"
  },
  "language_info": {
   "codemirror_mode": {
    "name": "ipython",
    "version": 3
   },
   "file_extension": ".py",
   "mimetype": "text/x-python",
   "name": "python",
   "nbconvert_exporter": "python",
   "pygments_lexer": "ipython3",
   "version": "3.9.18"
  }
 },
 "nbformat": 4,
 "nbformat_minor": 5
}
