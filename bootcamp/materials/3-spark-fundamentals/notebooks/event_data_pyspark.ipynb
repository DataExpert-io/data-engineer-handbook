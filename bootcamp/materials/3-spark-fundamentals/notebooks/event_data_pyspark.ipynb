{
   "cells": [
      {
         "cell_type": "code",
         "execution_count": 1,
         "id": "81cca085-dba2-42eb-a13b-fa64b6e86583",
         "metadata": {},
         "outputs": [
            {
               "name": "stderr",
               "output_type": "stream",
               "text": [
                  "24/12/06 13:12:36 WARN SparkSession: Using an existing Spark session; only runtime SQL configurations will take effect.\n",
                  "                                                                                \r"
               ]
            },
            {
               "name": "stdout",
               "output_type": "stream",
               "text": [
                  "+-----------+----------+--------+--------------------+----------+--------------------+-------------------+\n",
                  "|    user_id| device_id|referrer|                host|       url|          event_time|         event_date|\n",
                  "+-----------+----------+--------+--------------------+----------+--------------------+-------------------+\n",
                  "| 1037710827| 532630305|    NULL| www.zachwilson.tech|         /|2021-03-08 17:27:...|2021-03-08 00:00:00|\n",
                  "|  925588856| 532630305|    NULL|    www.eczachly.com|         /|2021-05-10 11:26:...|2021-05-10 00:00:00|\n",
                  "|-1180485268| 532630305|    NULL|admin.zachwilson....|         /|2021-02-17 16:19:...|2021-02-17 00:00:00|\n",
                  "|-1044833855| 532630305|    NULL| www.zachwilson.tech|         /|2021-09-24 15:53:...|2021-09-24 00:00:00|\n",
                  "|  747494706| 532630305|    NULL| www.zachwilson.tech|         /|2021-09-26 16:03:...|2021-09-26 00:00:00|\n",
                  "|  747494706| 532630305|    NULL|admin.zachwilson....|         /|2021-02-21 16:08:...|2021-02-21 00:00:00|\n",
                  "| -824540328| 532630305|    NULL|admin.zachwilson....|         /|2021-09-28 17:23:...|2021-09-28 00:00:00|\n",
                  "| -824540328| 532630305|    NULL|    www.eczachly.com|         /|2021-09-29 01:22:...|2021-09-29 00:00:00|\n",
                  "| 1833036683| 532630305|    NULL|admin.zachwilson....|         /|2021-01-24 03:15:...|2021-01-24 00:00:00|\n",
                  "|-2134824313| 532630305|    NULL|    www.eczachly.com|         /|2021-01-25 00:03:...|2021-01-25 00:00:00|\n",
                  "|-1809929467|-906264142|    NULL|admin.zachwilson....|/.git/HEAD|2021-02-22 01:36:...|2021-02-22 00:00:00|\n",
                  "| 2002285749|-906264142|    NULL|    www.eczachly.com|         /|2021-02-22 02:25:...|2021-02-22 00:00:00|\n",
                  "|-1562965412| 532630305|    NULL| www.zachwilson.tech|         /|2021-01-30 20:46:...|2021-01-30 00:00:00|\n",
                  "|-1099860451| 532630305|    NULL|    www.eczachly.com|         /|2021-02-04 23:49:...|2021-02-04 00:00:00|\n",
                  "| 1246896869|-906264142|    NULL| www.zachwilson.tech|         /|2021-02-22 02:50:...|2021-02-22 00:00:00|\n",
                  "| -629331502|-906264142|    NULL|admin.zachwilson....|/.git/HEAD|2021-02-22 23:51:...|2021-02-22 00:00:00|\n",
                  "|-1913422462|-906264142|    NULL|    www.eczachly.com|         /|2021-02-23 00:17:...|2021-02-23 00:00:00|\n",
                  "|   50429624| 532630305|    NULL|    www.eczachly.com|         /|2022-12-28 01:38:...|2022-12-28 00:00:00|\n",
                  "|  222389292| 532630305|    NULL| www.zachwilson.tech|         /|2022-12-28 05:23:...|2022-12-28 00:00:00|\n",
                  "| -779924777| 532630305|    NULL| www.zachwilson.tech|         /|2022-12-28 16:45:...|2022-12-28 00:00:00|\n",
                  "+-----------+----------+--------+--------------------+----------+--------------------+-------------------+\n",
                  "only showing top 20 rows\n",
                  "\n"
               ]
            }
         ],
         "source": [
            "from pyspark.sql import SparkSession\n",
            "from pyspark.sql.functions import expr, col,lit\n",
            "spark = SparkSession.builder.appName(\"Jupyter\").getOrCreate()\n",
            "\n",
            "spark\n",
            "\n",
            "df = spark.read.option(\"header\", \"true\").csv(\"/home/iceberg/data/events.csv\").withColumn(\"event_date\", expr(\"DATE_TRUNC('day', event_time)\"))\n",
            "\n",
            "df.show()\n",
            "# df.join(df, lit(1)==lit(1)).take(5)"
         ]
      },
      {
         "cell_type": "code",
         "execution_count": 2,
         "id": "dce068df-3e21-429a-8716-abdd13e9406c",
         "metadata": {},
         "outputs": [
            {
               "name": "stderr",
               "output_type": "stream",
               "text": [
                  "[Stage 2:===================================================>       (7 + 1) / 8]\r"
               ]
            },
            {
               "name": "stdout",
               "output_type": "stream",
               "text": [
                  "+-----------+-----------+--------------------+--------------------+--------------------+--------------------+-------------------+\n",
                  "|    user_id|  device_id|            referrer|                host|                 url|          event_time|         event_date|\n",
                  "+-----------+-----------+--------------------+--------------------+--------------------+--------------------+-------------------+\n",
                  "| 1129583063|  532630305|                NULL|admin.zachwilson....|                   /|2021-01-07 09:21:...|2021-01-07 00:00:00|\n",
                  "| -648945006| 1088283544|                NULL|    www.eczachly.com|                   /|2021-01-07 02:58:...|2021-01-07 00:00:00|\n",
                  "|-1871780024| -158310583|                NULL|    www.eczachly.com|                   /|2021-01-07 04:17:...|2021-01-07 00:00:00|\n",
                  "|  203689086| 1088283544|                NULL|    www.eczachly.com|/blog/what-exactl...|2021-01-07 10:03:...|2021-01-07 00:00:00|\n",
                  "|-1180485268|  532630305|                NULL|    www.eczachly.com|                   /|2021-01-07 18:45:...|2021-01-07 00:00:00|\n",
                  "| 1129583063|  532630305|                NULL|    www.eczachly.com|                   /|2021-01-07 21:57:...|2021-01-07 00:00:00|\n",
                  "|-1381834161| -158310583|                NULL|    www.eczachly.com|                   /|2021-01-07 23:07:...|2021-01-07 00:00:00|\n",
                  "|-1373330946|  532630305|                NULL| www.zachwilson.tech|  /api/v1/spark-post|2021-01-07 18:53:...|2021-01-07 00:00:00|\n",
                  "|-1180485268|  532630305|                NULL| www.zachwilson.tech|                   /|2021-01-07 19:20:...|2021-01-07 00:00:00|\n",
                  "|-1617088793| 1957784035|https://www.zachw...| www.zachwilson.tech|            /contact|2021-01-07 00:19:...|2021-01-07 00:00:00|\n",
                  "|-1617088793| 1957784035|https://www.zachw...| www.zachwilson.tech|     /api/v1/contact|2021-01-07 00:19:...|2021-01-07 00:00:00|\n",
                  "|-1617088793| 1957784035|https://www.zachw...| www.zachwilson.tech|            /contact|2021-01-07 00:19:...|2021-01-07 00:00:00|\n",
                  "| -267976675| 1141939293|https://www.zachw...| www.zachwilson.tech|            /contact|2021-01-07 01:57:...|2021-01-07 00:00:00|\n",
                  "| -267976675| 1141939293|https://www.zachw...| www.zachwilson.tech|     /api/v1/contact|2021-01-07 01:57:...|2021-01-07 00:00:00|\n",
                  "| -267976675| 1141939293|https://www.zachw...| www.zachwilson.tech|            /contact|2021-01-07 01:57:...|2021-01-07 00:00:00|\n",
                  "|  604069040| 1800580819|                NULL| www.zachwilson.tech|                   /|2021-01-07 02:24:...|2021-01-07 00:00:00|\n",
                  "|-2135898320| 2066336516|http://www.laurel...| www.zachwilson.tech|                   /|2021-01-07 04:57:...|2021-01-07 00:00:00|\n",
                  "|  -43429336|-1217993711|                NULL| www.zachwilson.tech|            /contact|2021-01-07 04:57:...|2021-01-07 00:00:00|\n",
                  "| 1198758947|-1307168836|                NULL| www.zachwilson.tech|               /blog|2021-01-07 09:57:...|2021-01-07 00:00:00|\n",
                  "|-1894709267| 1141939293|https://www.zachw...| www.zachwilson.tech|                   /|2021-01-07 10:12:...|2021-01-07 00:00:00|\n",
                  "+-----------+-----------+--------------------+--------------------+--------------------+--------------------+-------------------+\n",
                  "only showing top 20 rows\n",
                  "\n"
               ]
            },
            {
               "name": "stderr",
               "output_type": "stream",
               "text": [
                  "                                                                                \r"
               ]
            }
         ],
         "source": [
            "sorted = df.repartition(10, col(\"event_date\")) \\\n",
            "        .sortWithinPartitions(col(\"event_date\"), col(\"host\")) \\\n",
            "           .withColumn(\"event_time\", col(\"event_time\").cast(\"timestamp\")) \n",
            "\n",
            "sorted.show()\n",
            " # col(\"browser_family\")"
         ]
      },
      {
         "cell_type": "code",
         "execution_count": 3,
         "id": "d7afa85d-b9b7-4f84-beaf-415fed905d56",
         "metadata": {},
         "outputs": [
            {
               "name": "stderr",
               "output_type": "stream",
               "text": [
                  "[Stage 5:=======>                                                   (1 + 7) / 8]\r"
               ]
            },
            {
               "name": "stdout",
               "output_type": "stream",
               "text": [
                  "+-----------+-----------+--------------------+--------------------+--------------------+--------------------+-------------------+\n",
                  "|    user_id|  device_id|            referrer|                host|                 url|          event_time|         event_date|\n",
                  "+-----------+-----------+--------------------+--------------------+--------------------+--------------------+-------------------+\n",
                  "| 1272828233| -643696601|                NULL|admin.zachwilson....|                   /|2021-01-02 13:53:...|2021-01-02 00:00:00|\n",
                  "|  747494706|  532630305|                NULL|admin.zachwilson....|                   /|2021-01-02 19:36:...|2021-01-02 00:00:00|\n",
                  "| 2110046626|  898871897|                NULL|admin.zachwilson....|       /wp-login.php|2021-01-02 19:57:...|2021-01-02 00:00:00|\n",
                  "| 1272828233| -643696601|                NULL|admin.zachwilson....|                   /|2021-01-02 21:05:...|2021-01-02 00:00:00|\n",
                  "| 1272828233| -643696601|                NULL|admin.zachwilson....|                   /|2021-01-02 21:37:...|2021-01-02 00:00:00|\n",
                  "| 1399665425|-2012543895|                NULL|    www.eczachly.com|                   /|2021-01-02 00:20:...|2021-01-02 00:00:00|\n",
                  "|  125243313| -290659081|                NULL|    www.eczachly.com|                   /|2021-01-02 02:06:...|2021-01-02 00:00:00|\n",
                  "|  632739597| -290659081|                NULL|    www.eczachly.com|/blog/what-exactl...|2021-01-02 02:58:...|2021-01-02 00:00:00|\n",
                  "|-1780827820| -290659081|                NULL|    www.eczachly.com|                   /|2021-01-02 04:45:...|2021-01-02 00:00:00|\n",
                  "|  632739597| -290659081|                NULL|    www.eczachly.com|                   /|2021-01-02 05:14:...|2021-01-02 00:00:00|\n",
                  "| 1047962242| -158310583|                NULL|    www.eczachly.com|                   /|2021-01-02 11:40:...|2021-01-02 00:00:00|\n",
                  "|  273700037| -290659081|                NULL|    www.eczachly.com|                   /|2021-01-02 07:51:...|2021-01-02 00:00:00|\n",
                  "| 1272828233| -643696601|                NULL|    www.eczachly.com|                   /|2021-01-02 08:14:...|2021-01-02 00:00:00|\n",
                  "|  210988258| 1088283544|                NULL|    www.eczachly.com|            /contact|2021-01-02 11:11:...|2021-01-02 00:00:00|\n",
                  "|  273700037| -290659081|                NULL|    www.eczachly.com|                   /|2021-01-02 11:23:...|2021-01-02 00:00:00|\n",
                  "|  632739597| -290659081|                NULL|    www.eczachly.com|        /sitemap.xml|2021-01-02 14:10:...|2021-01-02 00:00:00|\n",
                  "|  659201289| -290659081|                NULL|    www.eczachly.com|/blog/life-of-a-s...|2021-01-02 15:53:...|2021-01-02 00:00:00|\n",
                  "| 1072106763| -784483831|https://www.zachw...| www.zachwilson.tech|            /contact|2021-01-02 09:37:...|2021-01-02 00:00:00|\n",
                  "| 1744817842| -223216734|                NULL| www.zachwilson.tech|/graph/stock-tick...|2021-01-02 00:23:...|2021-01-02 00:00:00|\n",
                  "| 1445055201| 1957784035|https://www.zachw...| www.zachwilson.tech|            /contact|2021-01-02 10:17:...|2021-01-02 00:00:00|\n",
                  "+-----------+-----------+--------------------+--------------------+--------------------+--------------------+-------------------+\n",
                  "only showing top 20 rows\n",
                  "\n"
               ]
            },
            {
               "name": "stderr",
               "output_type": "stream",
               "text": [
                  "                                                                                \r"
               ]
            }
         ],
         "source": [
            "sortedTwo = df.repartition(10, col(\"event_date\")) \\\n",
            "        .sort(col(\"event_date\"), col(\"host\")) \\\n",
            "           .withColumn(\"event_time\", col(\"event_time\").cast(\"timestamp\")) \n",
            "sortedTwo.show()"
         ]
      },
      {
         "cell_type": "code",
         "execution_count": 5,
         "id": "8cbd3ad7-dfb1-4e60-9162-4f1e685d59c9",
         "metadata": {},
         "outputs": [
            {
               "name": "stdout",
               "output_type": "stream",
               "text": [
                  "== Physical Plan ==\n",
                  "AdaptiveSparkPlan isFinalPlan=false\n",
                  "+- Project [user_id#17, device_id#18, referrer#19, host#20, url#21, cast(event_time#22 as timestamp) AS event_time#73, event_date#29]\n",
                  "   +- Sort [event_date#29 ASC NULLS FIRST, host#20 ASC NULLS FIRST], false, 0\n",
                  "      +- Exchange hashpartitioning(event_date#29, 100), REPARTITION_BY_NUM, [plan_id=132]\n",
                  "         +- Project [user_id#17, device_id#18, referrer#19, host#20, url#21, event_time#22, date_trunc(day, cast(event_time#22 as timestamp), Some(Etc/UTC)) AS event_date#29]\n",
                  "            +- FileScan csv [user_id#17,device_id#18,referrer#19,host#20,url#21,event_time#22] Batched: false, DataFilters: [], Format: CSV, Location: InMemoryFileIndex(1 paths)[file:/home/iceberg/data/events.csv], PartitionFilters: [], PushedFilters: [], ReadSchema: struct<user_id:string,device_id:string,referrer:string,host:string,url:string,event_time:string>\n",
                  "\n",
                  "\n"
               ]
            }
         ],
         "source": [
            "sorted.explain()"
         ]
      },
      {
         "cell_type": "code",
         "execution_count": 6,
         "id": "6fd32c48-37b3-45f1-8961-65b33644e425",
         "metadata": {},
         "outputs": [
            {
               "name": "stdout",
               "output_type": "stream",
               "text": [
                  "== Physical Plan ==\n",
                  "AdaptiveSparkPlan isFinalPlan=false\n",
                  "+- Project [user_id#17, device_id#18, referrer#19, host#20, url#21, cast(event_time#22 as timestamp) AS event_time#116, event_date#29]\n",
                  "   +- Sort [event_date#29 ASC NULLS FIRST, host#20 ASC NULLS FIRST], true, 0\n",
                  "      +- Exchange rangepartitioning(event_date#29 ASC NULLS FIRST, host#20 ASC NULLS FIRST, 200), ENSURE_REQUIREMENTS, [plan_id=154]\n",
                  "         +- Exchange hashpartitioning(event_date#29, 100), REPARTITION_BY_NUM, [plan_id=150]\n",
                  "            +- Project [user_id#17, device_id#18, referrer#19, host#20, url#21, event_time#22, date_trunc(day, cast(event_time#22 as timestamp), Some(Etc/UTC)) AS event_date#29]\n",
                  "               +- FileScan csv [user_id#17,device_id#18,referrer#19,host#20,url#21,event_time#22] Batched: false, DataFilters: [], Format: CSV, Location: InMemoryFileIndex(1 paths)[file:/home/iceberg/data/events.csv], PartitionFilters: [], PushedFilters: [], ReadSchema: struct<user_id:string,device_id:string,referrer:string,host:string,url:string,event_time:string>\n",
                  "\n",
                  "\n"
               ]
            }
         ],
         "source": [
            "sortedTwo.explain()"
         ]
      },
      {
         "cell_type": "markdown",
         "id": "5220c26e-ca50-4f85-90c3-e1950a472d10",
         "metadata": {},
         "source": [
            "in the .explain:\n",
            "Project and select mean the same thing. </br>\n",
            "Exchange hashpartitioning does the partitioning. </br>\n",
            "In the sort line, there is a boolean parameter which tells us if the sort is global or not. </br>\n",
            "The Exchange rangepartitioning is the painful part (at scale). </br>\n",
            "Exchange means shuffle!"
         ]
      },
      {
         "cell_type": "code",
         "execution_count": 3,
         "id": "d800dca7-2737-4192-b5c0-c1806c105e15",
         "metadata": {},
         "outputs": [
            {
               "data": {
                  "text/html": [
                     "<table>\n",
                     "    <thead>\n",
                     "        <tr>\n",
                     "        </tr>\n",
                     "    </thead>\n",
                     "    <tbody>\n",
                     "    </tbody>\n",
                     "</table>"
                  ],
                  "text/plain": [
                     "++\n",
                     "||\n",
                     "++\n",
                     "++"
                  ]
               },
               "execution_count": 3,
               "metadata": {},
               "output_type": "execute_result"
            }
         ],
         "source": [
            "%%sql\n",
            "\n",
            "CREATE DATABASE IF NOT EXISTS bootcamp"
         ]
      },
      {
         "cell_type": "code",
         "execution_count": 4,
         "id": "9abb6399-1ffe-4546-bcd1-160f483ff435",
         "metadata": {},
         "outputs": [
            {
               "data": {
                  "text/html": [
                     "<table>\n",
                     "    <thead>\n",
                     "        <tr>\n",
                     "            <th>namespace</th>\n",
                     "            <th>tableName</th>\n",
                     "            <th>isTemporary</th>\n",
                     "        </tr>\n",
                     "    </thead>\n",
                     "    <tbody>\n",
                     "        <tr>\n",
                     "            <td>bootcamp</td>\n",
                     "            <td>events</td>\n",
                     "            <td>False</td>\n",
                     "        </tr>\n",
                     "        <tr>\n",
                     "            <td>bootcamp</td>\n",
                     "            <td>events_sorted</td>\n",
                     "            <td>False</td>\n",
                     "        </tr>\n",
                     "        <tr>\n",
                     "            <td>bootcamp</td>\n",
                     "            <td>events_unsorted</td>\n",
                     "            <td>False</td>\n",
                     "        </tr>\n",
                     "    </tbody>\n",
                     "</table>"
                  ],
                  "text/plain": [
                     "+-----------+-----------------+-------------+\n",
                     "| namespace |       tableName | isTemporary |\n",
                     "+-----------+-----------------+-------------+\n",
                     "|  bootcamp |          events |       False |\n",
                     "|  bootcamp |   events_sorted |       False |\n",
                     "|  bootcamp | events_unsorted |       False |\n",
                     "+-----------+-----------------+-------------+"
                  ]
               },
               "execution_count": 4,
               "metadata": {},
               "output_type": "execute_result"
            }
         ],
         "source": [
            "%%sql \n",
            "SHOW TABLES IN bootcamp;"
         ]
      },
      {
         "cell_type": "code",
         "execution_count": 5,
         "id": "e83cd813-d5c0-4d67-8285-849b882b8bfa",
         "metadata": {
            "scrolled": true
         },
         "outputs": [
            {
               "data": {
                  "text/html": [
                     "<table>\n",
                     "    <thead>\n",
                     "        <tr>\n",
                     "        </tr>\n",
                     "    </thead>\n",
                     "    <tbody>\n",
                     "    </tbody>\n",
                     "</table>"
                  ],
                  "text/plain": [
                     "++\n",
                     "||\n",
                     "++\n",
                     "++"
                  ]
               },
               "execution_count": 5,
               "metadata": {},
               "output_type": "execute_result"
            }
         ],
         "source": [
            "%%sql\n",
            "DROP TABLE IF EXISTS bootcamp.events"
         ]
      },
      {
         "cell_type": "code",
         "execution_count": 2,
         "id": "53c63f17-a548-43e4-b72e-990d4638040e",
         "metadata": {},
         "outputs": [
            {
               "ename": "Py4JJavaError",
               "evalue": "An error occurred while calling o36.sql.\n: org.apache.iceberg.exceptions.ServiceFailureException: Server error: NotFoundException: Location does not exist: s3://warehouse/bootcamp/events_sorted/metadata/00000-dd872742-0436-40c0-ae4d-05eed17b4355.metadata.json\n\tat org.apache.iceberg.rest.ErrorHandlers$DefaultErrorHandler.accept(ErrorHandlers.java:217)\n\tat org.apache.iceberg.rest.ErrorHandlers$TableErrorHandler.accept(ErrorHandlers.java:118)\n\tat org.apache.iceberg.rest.ErrorHandlers$TableErrorHandler.accept(ErrorHandlers.java:102)\n\tat org.apache.iceberg.rest.HTTPClient.throwFailure(HTTPClient.java:201)\n\tat org.apache.iceberg.rest.HTTPClient.execute(HTTPClient.java:313)\n\tat org.apache.iceberg.rest.HTTPClient.execute(HTTPClient.java:252)\n\tat org.apache.iceberg.rest.HTTPClient.get(HTTPClient.java:348)\n\tat org.apache.iceberg.rest.RESTClient.get(RESTClient.java:96)\n\tat org.apache.iceberg.rest.RESTSessionCatalog.loadInternal(RESTSessionCatalog.java:331)\n\tat org.apache.iceberg.rest.RESTSessionCatalog.loadTable(RESTSessionCatalog.java:347)\n\tat org.apache.iceberg.catalog.BaseSessionCatalog$AsCatalog.loadTable(BaseSessionCatalog.java:99)\n\tat org.apache.iceberg.rest.RESTCatalog.loadTable(RESTCatalog.java:102)\n\tat org.apache.iceberg.shaded.com.github.benmanes.caffeine.cache.BoundedLocalCache.lambda$doComputeIfAbsent$14(BoundedLocalCache.java:2406)\n\tat java.base/java.util.concurrent.ConcurrentHashMap.compute(ConcurrentHashMap.java:1908)\n\tat org.apache.iceberg.shaded.com.github.benmanes.caffeine.cache.BoundedLocalCache.doComputeIfAbsent(BoundedLocalCache.java:2404)\n\tat org.apache.iceberg.shaded.com.github.benmanes.caffeine.cache.BoundedLocalCache.computeIfAbsent(BoundedLocalCache.java:2387)\n\tat org.apache.iceberg.shaded.com.github.benmanes.caffeine.cache.LocalCache.computeIfAbsent(LocalCache.java:108)\n\tat org.apache.iceberg.shaded.com.github.benmanes.caffeine.cache.LocalManualCache.get(LocalManualCache.java:62)\n\tat org.apache.iceberg.CachingCatalog.loadTable(CachingCatalog.java:166)\n\tat org.apache.iceberg.spark.SparkCatalog.load(SparkCatalog.java:843)\n\tat org.apache.iceberg.spark.SparkCatalog.loadTable(SparkCatalog.java:170)\n\tat org.apache.spark.sql.connector.catalog.TableCatalog.tableExists(TableCatalog.java:164)\n\tat org.apache.spark.sql.execution.datasources.v2.DropTableExec.run(DropTableExec.scala:36)\n\tat org.apache.spark.sql.execution.datasources.v2.V2CommandExec.result$lzycompute(V2CommandExec.scala:43)\n\tat org.apache.spark.sql.execution.datasources.v2.V2CommandExec.result(V2CommandExec.scala:43)\n\tat org.apache.spark.sql.execution.datasources.v2.V2CommandExec.executeCollect(V2CommandExec.scala:49)\n\tat org.apache.spark.sql.execution.QueryExecution$$anonfun$eagerlyExecuteCommands$1.$anonfun$applyOrElse$1(QueryExecution.scala:107)\n\tat org.apache.spark.sql.execution.SQLExecution$.$anonfun$withNewExecutionId$6(SQLExecution.scala:125)\n\tat org.apache.spark.sql.execution.SQLExecution$.withSQLConfPropagated(SQLExecution.scala:201)\n\tat org.apache.spark.sql.execution.SQLExecution$.$anonfun$withNewExecutionId$1(SQLExecution.scala:108)\n\tat org.apache.spark.sql.SparkSession.withActive(SparkSession.scala:900)\n\tat org.apache.spark.sql.execution.SQLExecution$.withNewExecutionId(SQLExecution.scala:66)\n\tat org.apache.spark.sql.execution.QueryExecution$$anonfun$eagerlyExecuteCommands$1.applyOrElse(QueryExecution.scala:107)\n\tat org.apache.spark.sql.execution.QueryExecution$$anonfun$eagerlyExecuteCommands$1.applyOrElse(QueryExecution.scala:98)\n\tat org.apache.spark.sql.catalyst.trees.TreeNode.$anonfun$transformDownWithPruning$1(TreeNode.scala:461)\n\tat org.apache.spark.sql.catalyst.trees.CurrentOrigin$.withOrigin(origin.scala:76)\n\tat org.apache.spark.sql.catalyst.trees.TreeNode.transformDownWithPruning(TreeNode.scala:461)\n\tat org.apache.spark.sql.catalyst.plans.logical.LogicalPlan.org$apache$spark$sql$catalyst$plans$logical$AnalysisHelper$$super$transformDownWithPruning(LogicalPlan.scala:32)\n\tat org.apache.spark.sql.catalyst.plans.logical.AnalysisHelper.transformDownWithPruning(AnalysisHelper.scala:267)\n\tat org.apache.spark.sql.catalyst.plans.logical.AnalysisHelper.transformDownWithPruning$(AnalysisHelper.scala:263)\n\tat org.apache.spark.sql.catalyst.plans.logical.LogicalPlan.transformDownWithPruning(LogicalPlan.scala:32)\n\tat org.apache.spark.sql.catalyst.plans.logical.LogicalPlan.transformDownWithPruning(LogicalPlan.scala:32)\n\tat org.apache.spark.sql.catalyst.trees.TreeNode.transformDown(TreeNode.scala:437)\n\tat org.apache.spark.sql.execution.QueryExecution.eagerlyExecuteCommands(QueryExecution.scala:98)\n\tat org.apache.spark.sql.execution.QueryExecution.commandExecuted$lzycompute(QueryExecution.scala:85)\n\tat org.apache.spark.sql.execution.QueryExecution.commandExecuted(QueryExecution.scala:83)\n\tat org.apache.spark.sql.Dataset.<init>(Dataset.scala:220)\n\tat org.apache.spark.sql.Dataset$.$anonfun$ofRows$2(Dataset.scala:100)\n\tat org.apache.spark.sql.SparkSession.withActive(SparkSession.scala:900)\n\tat org.apache.spark.sql.Dataset$.ofRows(Dataset.scala:97)\n\tat org.apache.spark.sql.SparkSession.$anonfun$sql$1(SparkSession.scala:638)\n\tat org.apache.spark.sql.SparkSession.withActive(SparkSession.scala:900)\n\tat org.apache.spark.sql.SparkSession.sql(SparkSession.scala:629)\n\tat org.apache.spark.sql.SparkSession.sql(SparkSession.scala:659)\n\tat java.base/jdk.internal.reflect.NativeMethodAccessorImpl.invoke0(Native Method)\n\tat java.base/jdk.internal.reflect.NativeMethodAccessorImpl.invoke(NativeMethodAccessorImpl.java:62)\n\tat java.base/jdk.internal.reflect.DelegatingMethodAccessorImpl.invoke(DelegatingMethodAccessorImpl.java:43)\n\tat java.base/java.lang.reflect.Method.invoke(Method.java:566)\n\tat py4j.reflection.MethodInvoker.invoke(MethodInvoker.java:244)\n\tat py4j.reflection.ReflectionEngine.invoke(ReflectionEngine.java:374)\n\tat py4j.Gateway.invoke(Gateway.java:282)\n\tat py4j.commands.AbstractCommand.invokeMethod(AbstractCommand.java:132)\n\tat py4j.commands.CallCommand.execute(CallCommand.java:79)\n\tat py4j.ClientServerConnection.waitForCommands(ClientServerConnection.java:182)\n\tat py4j.ClientServerConnection.run(ClientServerConnection.java:106)\n\tat java.base/java.lang.Thread.run(Thread.java:829)\n",
               "output_type": "error",
               "traceback": [
                  "\u001b[0;31m---------------------------------------------------------------------------\u001b[0m",
                  "\u001b[0;31mPy4JJavaError\u001b[0m                             Traceback (most recent call last)",
                  "Cell \u001b[0;32mIn[2], line 1\u001b[0m\n\u001b[0;32m----> 1\u001b[0m \u001b[43mget_ipython\u001b[49m\u001b[43m(\u001b[49m\u001b[43m)\u001b[49m\u001b[38;5;241;43m.\u001b[39;49m\u001b[43mrun_cell_magic\u001b[49m\u001b[43m(\u001b[49m\u001b[38;5;124;43m'\u001b[39;49m\u001b[38;5;124;43msql\u001b[39;49m\u001b[38;5;124;43m'\u001b[39;49m\u001b[43m,\u001b[49m\u001b[43m \u001b[49m\u001b[38;5;124;43m'\u001b[39;49m\u001b[38;5;124;43m'\u001b[39;49m\u001b[43m,\u001b[49m\u001b[43m \u001b[49m\u001b[38;5;124;43m'\u001b[39;49m\u001b[38;5;124;43mDROP TABLE IF EXISTS bootcamp.events_sorted\u001b[39;49m\u001b[38;5;130;43;01m\\n\u001b[39;49;00m\u001b[38;5;124;43m'\u001b[39;49m\u001b[43m)\u001b[49m\n",
                  "File \u001b[0;32m/usr/local/lib/python3.9/site-packages/IPython/core/interactiveshell.py:2517\u001b[0m, in \u001b[0;36mInteractiveShell.run_cell_magic\u001b[0;34m(self, magic_name, line, cell)\u001b[0m\n\u001b[1;32m   2515\u001b[0m \u001b[38;5;28;01mwith\u001b[39;00m \u001b[38;5;28mself\u001b[39m\u001b[38;5;241m.\u001b[39mbuiltin_trap:\n\u001b[1;32m   2516\u001b[0m     args \u001b[38;5;241m=\u001b[39m (magic_arg_s, cell)\n\u001b[0;32m-> 2517\u001b[0m     result \u001b[38;5;241m=\u001b[39m \u001b[43mfn\u001b[49m\u001b[43m(\u001b[49m\u001b[38;5;241;43m*\u001b[39;49m\u001b[43margs\u001b[49m\u001b[43m,\u001b[49m\u001b[43m \u001b[49m\u001b[38;5;241;43m*\u001b[39;49m\u001b[38;5;241;43m*\u001b[39;49m\u001b[43mkwargs\u001b[49m\u001b[43m)\u001b[49m\n\u001b[1;32m   2519\u001b[0m \u001b[38;5;66;03m# The code below prevents the output from being displayed\u001b[39;00m\n\u001b[1;32m   2520\u001b[0m \u001b[38;5;66;03m# when using magics with decorator @output_can_be_silenced\u001b[39;00m\n\u001b[1;32m   2521\u001b[0m \u001b[38;5;66;03m# when the last Python token in the expression is a ';'.\u001b[39;00m\n\u001b[1;32m   2522\u001b[0m \u001b[38;5;28;01mif\u001b[39;00m \u001b[38;5;28mgetattr\u001b[39m(fn, magic\u001b[38;5;241m.\u001b[39mMAGIC_OUTPUT_CAN_BE_SILENCED, \u001b[38;5;28;01mFalse\u001b[39;00m):\n",
                  "File \u001b[0;32m~/.ipython/profile_default/startup/00-prettytables.py:81\u001b[0m, in \u001b[0;36msql\u001b[0;34m(line, cell)\u001b[0m\n\u001b[1;32m     79\u001b[0m         \u001b[38;5;28;01mreturn\u001b[39;00m _to_table(df, num_rows\u001b[38;5;241m=\u001b[39margs\u001b[38;5;241m.\u001b[39mlimit)\n\u001b[1;32m     80\u001b[0m \u001b[38;5;28;01melse\u001b[39;00m:\n\u001b[0;32m---> 81\u001b[0m     \u001b[38;5;28;01mreturn\u001b[39;00m _to_table(\u001b[43mspark\u001b[49m\u001b[38;5;241;43m.\u001b[39;49m\u001b[43msql\u001b[49m\u001b[43m(\u001b[49m\u001b[43mcell\u001b[49m\u001b[43m)\u001b[49m)\n",
                  "File \u001b[0;32m/opt/spark/python/pyspark/sql/session.py:1631\u001b[0m, in \u001b[0;36mSparkSession.sql\u001b[0;34m(self, sqlQuery, args, **kwargs)\u001b[0m\n\u001b[1;32m   1627\u001b[0m         \u001b[38;5;28;01massert\u001b[39;00m \u001b[38;5;28mself\u001b[39m\u001b[38;5;241m.\u001b[39m_jvm \u001b[38;5;129;01mis\u001b[39;00m \u001b[38;5;129;01mnot\u001b[39;00m \u001b[38;5;28;01mNone\u001b[39;00m\n\u001b[1;32m   1628\u001b[0m         litArgs \u001b[38;5;241m=\u001b[39m \u001b[38;5;28mself\u001b[39m\u001b[38;5;241m.\u001b[39m_jvm\u001b[38;5;241m.\u001b[39mPythonUtils\u001b[38;5;241m.\u001b[39mtoArray(\n\u001b[1;32m   1629\u001b[0m             [_to_java_column(lit(v)) \u001b[38;5;28;01mfor\u001b[39;00m v \u001b[38;5;129;01min\u001b[39;00m (args \u001b[38;5;129;01mor\u001b[39;00m [])]\n\u001b[1;32m   1630\u001b[0m         )\n\u001b[0;32m-> 1631\u001b[0m     \u001b[38;5;28;01mreturn\u001b[39;00m DataFrame(\u001b[38;5;28;43mself\u001b[39;49m\u001b[38;5;241;43m.\u001b[39;49m\u001b[43m_jsparkSession\u001b[49m\u001b[38;5;241;43m.\u001b[39;49m\u001b[43msql\u001b[49m\u001b[43m(\u001b[49m\u001b[43msqlQuery\u001b[49m\u001b[43m,\u001b[49m\u001b[43m \u001b[49m\u001b[43mlitArgs\u001b[49m\u001b[43m)\u001b[49m, \u001b[38;5;28mself\u001b[39m)\n\u001b[1;32m   1632\u001b[0m \u001b[38;5;28;01mfinally\u001b[39;00m:\n\u001b[1;32m   1633\u001b[0m     \u001b[38;5;28;01mif\u001b[39;00m \u001b[38;5;28mlen\u001b[39m(kwargs) \u001b[38;5;241m>\u001b[39m \u001b[38;5;241m0\u001b[39m:\n",
                  "File \u001b[0;32m/opt/spark/python/lib/py4j-0.10.9.7-src.zip/py4j/java_gateway.py:1322\u001b[0m, in \u001b[0;36mJavaMember.__call__\u001b[0;34m(self, *args)\u001b[0m\n\u001b[1;32m   1316\u001b[0m command \u001b[38;5;241m=\u001b[39m proto\u001b[38;5;241m.\u001b[39mCALL_COMMAND_NAME \u001b[38;5;241m+\u001b[39m\\\n\u001b[1;32m   1317\u001b[0m     \u001b[38;5;28mself\u001b[39m\u001b[38;5;241m.\u001b[39mcommand_header \u001b[38;5;241m+\u001b[39m\\\n\u001b[1;32m   1318\u001b[0m     args_command \u001b[38;5;241m+\u001b[39m\\\n\u001b[1;32m   1319\u001b[0m     proto\u001b[38;5;241m.\u001b[39mEND_COMMAND_PART\n\u001b[1;32m   1321\u001b[0m answer \u001b[38;5;241m=\u001b[39m \u001b[38;5;28mself\u001b[39m\u001b[38;5;241m.\u001b[39mgateway_client\u001b[38;5;241m.\u001b[39msend_command(command)\n\u001b[0;32m-> 1322\u001b[0m return_value \u001b[38;5;241m=\u001b[39m \u001b[43mget_return_value\u001b[49m\u001b[43m(\u001b[49m\n\u001b[1;32m   1323\u001b[0m \u001b[43m    \u001b[49m\u001b[43manswer\u001b[49m\u001b[43m,\u001b[49m\u001b[43m \u001b[49m\u001b[38;5;28;43mself\u001b[39;49m\u001b[38;5;241;43m.\u001b[39;49m\u001b[43mgateway_client\u001b[49m\u001b[43m,\u001b[49m\u001b[43m \u001b[49m\u001b[38;5;28;43mself\u001b[39;49m\u001b[38;5;241;43m.\u001b[39;49m\u001b[43mtarget_id\u001b[49m\u001b[43m,\u001b[49m\u001b[43m \u001b[49m\u001b[38;5;28;43mself\u001b[39;49m\u001b[38;5;241;43m.\u001b[39;49m\u001b[43mname\u001b[49m\u001b[43m)\u001b[49m\n\u001b[1;32m   1325\u001b[0m \u001b[38;5;28;01mfor\u001b[39;00m temp_arg \u001b[38;5;129;01min\u001b[39;00m temp_args:\n\u001b[1;32m   1326\u001b[0m     \u001b[38;5;28;01mif\u001b[39;00m \u001b[38;5;28mhasattr\u001b[39m(temp_arg, \u001b[38;5;124m\"\u001b[39m\u001b[38;5;124m_detach\u001b[39m\u001b[38;5;124m\"\u001b[39m):\n",
                  "File \u001b[0;32m/opt/spark/python/pyspark/errors/exceptions/captured.py:179\u001b[0m, in \u001b[0;36mcapture_sql_exception.<locals>.deco\u001b[0;34m(*a, **kw)\u001b[0m\n\u001b[1;32m    177\u001b[0m \u001b[38;5;28;01mdef\u001b[39;00m \u001b[38;5;21mdeco\u001b[39m(\u001b[38;5;241m*\u001b[39ma: Any, \u001b[38;5;241m*\u001b[39m\u001b[38;5;241m*\u001b[39mkw: Any) \u001b[38;5;241m-\u001b[39m\u001b[38;5;241m>\u001b[39m Any:\n\u001b[1;32m    178\u001b[0m     \u001b[38;5;28;01mtry\u001b[39;00m:\n\u001b[0;32m--> 179\u001b[0m         \u001b[38;5;28;01mreturn\u001b[39;00m \u001b[43mf\u001b[49m\u001b[43m(\u001b[49m\u001b[38;5;241;43m*\u001b[39;49m\u001b[43ma\u001b[49m\u001b[43m,\u001b[49m\u001b[43m \u001b[49m\u001b[38;5;241;43m*\u001b[39;49m\u001b[38;5;241;43m*\u001b[39;49m\u001b[43mkw\u001b[49m\u001b[43m)\u001b[49m\n\u001b[1;32m    180\u001b[0m     \u001b[38;5;28;01mexcept\u001b[39;00m Py4JJavaError \u001b[38;5;28;01mas\u001b[39;00m e:\n\u001b[1;32m    181\u001b[0m         converted \u001b[38;5;241m=\u001b[39m convert_exception(e\u001b[38;5;241m.\u001b[39mjava_exception)\n",
                  "File \u001b[0;32m/opt/spark/python/lib/py4j-0.10.9.7-src.zip/py4j/protocol.py:326\u001b[0m, in \u001b[0;36mget_return_value\u001b[0;34m(answer, gateway_client, target_id, name)\u001b[0m\n\u001b[1;32m    324\u001b[0m value \u001b[38;5;241m=\u001b[39m OUTPUT_CONVERTER[\u001b[38;5;28mtype\u001b[39m](answer[\u001b[38;5;241m2\u001b[39m:], gateway_client)\n\u001b[1;32m    325\u001b[0m \u001b[38;5;28;01mif\u001b[39;00m answer[\u001b[38;5;241m1\u001b[39m] \u001b[38;5;241m==\u001b[39m REFERENCE_TYPE:\n\u001b[0;32m--> 326\u001b[0m     \u001b[38;5;28;01mraise\u001b[39;00m Py4JJavaError(\n\u001b[1;32m    327\u001b[0m         \u001b[38;5;124m\"\u001b[39m\u001b[38;5;124mAn error occurred while calling \u001b[39m\u001b[38;5;132;01m{0}\u001b[39;00m\u001b[38;5;132;01m{1}\u001b[39;00m\u001b[38;5;132;01m{2}\u001b[39;00m\u001b[38;5;124m.\u001b[39m\u001b[38;5;130;01m\\n\u001b[39;00m\u001b[38;5;124m\"\u001b[39m\u001b[38;5;241m.\u001b[39m\n\u001b[1;32m    328\u001b[0m         \u001b[38;5;28mformat\u001b[39m(target_id, \u001b[38;5;124m\"\u001b[39m\u001b[38;5;124m.\u001b[39m\u001b[38;5;124m\"\u001b[39m, name), value)\n\u001b[1;32m    329\u001b[0m \u001b[38;5;28;01melse\u001b[39;00m:\n\u001b[1;32m    330\u001b[0m     \u001b[38;5;28;01mraise\u001b[39;00m Py4JError(\n\u001b[1;32m    331\u001b[0m         \u001b[38;5;124m\"\u001b[39m\u001b[38;5;124mAn error occurred while calling \u001b[39m\u001b[38;5;132;01m{0}\u001b[39;00m\u001b[38;5;132;01m{1}\u001b[39;00m\u001b[38;5;132;01m{2}\u001b[39;00m\u001b[38;5;124m. Trace:\u001b[39m\u001b[38;5;130;01m\\n\u001b[39;00m\u001b[38;5;132;01m{3}\u001b[39;00m\u001b[38;5;130;01m\\n\u001b[39;00m\u001b[38;5;124m\"\u001b[39m\u001b[38;5;241m.\u001b[39m\n\u001b[1;32m    332\u001b[0m         \u001b[38;5;28mformat\u001b[39m(target_id, \u001b[38;5;124m\"\u001b[39m\u001b[38;5;124m.\u001b[39m\u001b[38;5;124m\"\u001b[39m, name, value))\n",
                  "\u001b[0;31mPy4JJavaError\u001b[0m: An error occurred while calling o36.sql.\n: org.apache.iceberg.exceptions.ServiceFailureException: Server error: NotFoundException: Location does not exist: s3://warehouse/bootcamp/events_sorted/metadata/00000-dd872742-0436-40c0-ae4d-05eed17b4355.metadata.json\n\tat org.apache.iceberg.rest.ErrorHandlers$DefaultErrorHandler.accept(ErrorHandlers.java:217)\n\tat org.apache.iceberg.rest.ErrorHandlers$TableErrorHandler.accept(ErrorHandlers.java:118)\n\tat org.apache.iceberg.rest.ErrorHandlers$TableErrorHandler.accept(ErrorHandlers.java:102)\n\tat org.apache.iceberg.rest.HTTPClient.throwFailure(HTTPClient.java:201)\n\tat org.apache.iceberg.rest.HTTPClient.execute(HTTPClient.java:313)\n\tat org.apache.iceberg.rest.HTTPClient.execute(HTTPClient.java:252)\n\tat org.apache.iceberg.rest.HTTPClient.get(HTTPClient.java:348)\n\tat org.apache.iceberg.rest.RESTClient.get(RESTClient.java:96)\n\tat org.apache.iceberg.rest.RESTSessionCatalog.loadInternal(RESTSessionCatalog.java:331)\n\tat org.apache.iceberg.rest.RESTSessionCatalog.loadTable(RESTSessionCatalog.java:347)\n\tat org.apache.iceberg.catalog.BaseSessionCatalog$AsCatalog.loadTable(BaseSessionCatalog.java:99)\n\tat org.apache.iceberg.rest.RESTCatalog.loadTable(RESTCatalog.java:102)\n\tat org.apache.iceberg.shaded.com.github.benmanes.caffeine.cache.BoundedLocalCache.lambda$doComputeIfAbsent$14(BoundedLocalCache.java:2406)\n\tat java.base/java.util.concurrent.ConcurrentHashMap.compute(ConcurrentHashMap.java:1908)\n\tat org.apache.iceberg.shaded.com.github.benmanes.caffeine.cache.BoundedLocalCache.doComputeIfAbsent(BoundedLocalCache.java:2404)\n\tat org.apache.iceberg.shaded.com.github.benmanes.caffeine.cache.BoundedLocalCache.computeIfAbsent(BoundedLocalCache.java:2387)\n\tat org.apache.iceberg.shaded.com.github.benmanes.caffeine.cache.LocalCache.computeIfAbsent(LocalCache.java:108)\n\tat org.apache.iceberg.shaded.com.github.benmanes.caffeine.cache.LocalManualCache.get(LocalManualCache.java:62)\n\tat org.apache.iceberg.CachingCatalog.loadTable(CachingCatalog.java:166)\n\tat org.apache.iceberg.spark.SparkCatalog.load(SparkCatalog.java:843)\n\tat org.apache.iceberg.spark.SparkCatalog.loadTable(SparkCatalog.java:170)\n\tat org.apache.spark.sql.connector.catalog.TableCatalog.tableExists(TableCatalog.java:164)\n\tat org.apache.spark.sql.execution.datasources.v2.DropTableExec.run(DropTableExec.scala:36)\n\tat org.apache.spark.sql.execution.datasources.v2.V2CommandExec.result$lzycompute(V2CommandExec.scala:43)\n\tat org.apache.spark.sql.execution.datasources.v2.V2CommandExec.result(V2CommandExec.scala:43)\n\tat org.apache.spark.sql.execution.datasources.v2.V2CommandExec.executeCollect(V2CommandExec.scala:49)\n\tat org.apache.spark.sql.execution.QueryExecution$$anonfun$eagerlyExecuteCommands$1.$anonfun$applyOrElse$1(QueryExecution.scala:107)\n\tat org.apache.spark.sql.execution.SQLExecution$.$anonfun$withNewExecutionId$6(SQLExecution.scala:125)\n\tat org.apache.spark.sql.execution.SQLExecution$.withSQLConfPropagated(SQLExecution.scala:201)\n\tat org.apache.spark.sql.execution.SQLExecution$.$anonfun$withNewExecutionId$1(SQLExecution.scala:108)\n\tat org.apache.spark.sql.SparkSession.withActive(SparkSession.scala:900)\n\tat org.apache.spark.sql.execution.SQLExecution$.withNewExecutionId(SQLExecution.scala:66)\n\tat org.apache.spark.sql.execution.QueryExecution$$anonfun$eagerlyExecuteCommands$1.applyOrElse(QueryExecution.scala:107)\n\tat org.apache.spark.sql.execution.QueryExecution$$anonfun$eagerlyExecuteCommands$1.applyOrElse(QueryExecution.scala:98)\n\tat org.apache.spark.sql.catalyst.trees.TreeNode.$anonfun$transformDownWithPruning$1(TreeNode.scala:461)\n\tat org.apache.spark.sql.catalyst.trees.CurrentOrigin$.withOrigin(origin.scala:76)\n\tat org.apache.spark.sql.catalyst.trees.TreeNode.transformDownWithPruning(TreeNode.scala:461)\n\tat org.apache.spark.sql.catalyst.plans.logical.LogicalPlan.org$apache$spark$sql$catalyst$plans$logical$AnalysisHelper$$super$transformDownWithPruning(LogicalPlan.scala:32)\n\tat org.apache.spark.sql.catalyst.plans.logical.AnalysisHelper.transformDownWithPruning(AnalysisHelper.scala:267)\n\tat org.apache.spark.sql.catalyst.plans.logical.AnalysisHelper.transformDownWithPruning$(AnalysisHelper.scala:263)\n\tat org.apache.spark.sql.catalyst.plans.logical.LogicalPlan.transformDownWithPruning(LogicalPlan.scala:32)\n\tat org.apache.spark.sql.catalyst.plans.logical.LogicalPlan.transformDownWithPruning(LogicalPlan.scala:32)\n\tat org.apache.spark.sql.catalyst.trees.TreeNode.transformDown(TreeNode.scala:437)\n\tat org.apache.spark.sql.execution.QueryExecution.eagerlyExecuteCommands(QueryExecution.scala:98)\n\tat org.apache.spark.sql.execution.QueryExecution.commandExecuted$lzycompute(QueryExecution.scala:85)\n\tat org.apache.spark.sql.execution.QueryExecution.commandExecuted(QueryExecution.scala:83)\n\tat org.apache.spark.sql.Dataset.<init>(Dataset.scala:220)\n\tat org.apache.spark.sql.Dataset$.$anonfun$ofRows$2(Dataset.scala:100)\n\tat org.apache.spark.sql.SparkSession.withActive(SparkSession.scala:900)\n\tat org.apache.spark.sql.Dataset$.ofRows(Dataset.scala:97)\n\tat org.apache.spark.sql.SparkSession.$anonfun$sql$1(SparkSession.scala:638)\n\tat org.apache.spark.sql.SparkSession.withActive(SparkSession.scala:900)\n\tat org.apache.spark.sql.SparkSession.sql(SparkSession.scala:629)\n\tat org.apache.spark.sql.SparkSession.sql(SparkSession.scala:659)\n\tat java.base/jdk.internal.reflect.NativeMethodAccessorImpl.invoke0(Native Method)\n\tat java.base/jdk.internal.reflect.NativeMethodAccessorImpl.invoke(NativeMethodAccessorImpl.java:62)\n\tat java.base/jdk.internal.reflect.DelegatingMethodAccessorImpl.invoke(DelegatingMethodAccessorImpl.java:43)\n\tat java.base/java.lang.reflect.Method.invoke(Method.java:566)\n\tat py4j.reflection.MethodInvoker.invoke(MethodInvoker.java:244)\n\tat py4j.reflection.ReflectionEngine.invoke(ReflectionEngine.java:374)\n\tat py4j.Gateway.invoke(Gateway.java:282)\n\tat py4j.commands.AbstractCommand.invokeMethod(AbstractCommand.java:132)\n\tat py4j.commands.CallCommand.execute(CallCommand.java:79)\n\tat py4j.ClientServerConnection.waitForCommands(ClientServerConnection.java:182)\n\tat py4j.ClientServerConnection.run(ClientServerConnection.java:106)\n\tat java.base/java.lang.Thread.run(Thread.java:829)\n"
               ]
            }
         ],
         "source": [
            "%%sql\n",
            "DROP TABLE IF EXISTS bootcamp.events_sorted"
         ]
      },
      {
         "cell_type": "code",
         "execution_count": 11,
         "id": "d1b197a9-1b63-4130-acbe-01418eede0e5",
         "metadata": {
            "scrolled": true
         },
         "outputs": [
            {
               "data": {
                  "text/html": [
                     "<table>\n",
                     "    <thead>\n",
                     "        <tr>\n",
                     "        </tr>\n",
                     "    </thead>\n",
                     "    <tbody>\n",
                     "    </tbody>\n",
                     "</table>"
                  ],
                  "text/plain": [
                     "++\n",
                     "||\n",
                     "++\n",
                     "++"
                  ]
               },
               "execution_count": 11,
               "metadata": {},
               "output_type": "execute_result"
            }
         ],
         "source": [
            "-- %%sql\n",
            "\n",
            "-- CREATE TABLE IF NOT EXISTS bootcamp.events (\n",
            "--     url STRING,\n",
            "--     referrer STRING,\n",
            "--     browser_family STRING,\n",
            "--     os_family STRING,\n",
            "--     device_family STRING,\n",
            "--     host STRING,\n",
            "--     event_time TIMESTAMP,\n",
            "--     event_date DATE\n",
            "-- )\n",
            "-- USING iceberg\n",
            "--     PARTITIONED BY (event_date);\n",
            "-- PARTITIONED BY (years(event_date));\n"
         ]
      },
      {
         "cell_type": "code",
         "execution_count": 6,
         "id": "cf7ec899-d164-498d-bd09-3b6b7fe6abca",
         "metadata": {},
         "outputs": [
            {
               "data": {
                  "text/html": [
                     "<table>\n",
                     "    <thead>\n",
                     "        <tr>\n",
                     "        </tr>\n",
                     "    </thead>\n",
                     "    <tbody>\n",
                     "    </tbody>\n",
                     "</table>"
                  ],
                  "text/plain": [
                     "++\n",
                     "||\n",
                     "++\n",
                     "++"
                  ]
               },
               "execution_count": 6,
               "metadata": {},
               "output_type": "execute_result"
            }
         ],
         "source": [
            "%%sql\n",
            "\n",
            "CREATE TABLE IF NOT EXISTS bootcamp.events (\n",
            "    user_id NUMERIC,\n",
            "    device_id NUMERIC,\n",
            "    referrer STRING,\n",
            "    host STRING,\n",
            "    url STRING,\n",
            "\n",
            "    event_time TIMESTAMP,\n",
            "    event_date DATE\n",
            "    --browser_family STRING,\n",
            "    --os_family STRING,\n",
            "    --device_family STRING,\n",
            ")\n",
            "USING iceberg\n",
            "    PARTITIONED BY (event_date);"
         ]
      },
      {
         "cell_type": "code",
         "execution_count": 2,
         "id": "c40b143f-295e-4875-bd7f-12409312b800",
         "metadata": {
            "scrolled": true
         },
         "outputs": [
            {
               "data": {
                  "text/html": [
                     "<table>\n",
                     "    <thead>\n",
                     "        <tr>\n",
                     "        </tr>\n",
                     "    </thead>\n",
                     "    <tbody>\n",
                     "    </tbody>\n",
                     "</table>"
                  ],
                  "text/plain": [
                     "++\n",
                     "||\n",
                     "++\n",
                     "++"
                  ]
               },
               "execution_count": 2,
               "metadata": {},
               "output_type": "execute_result"
            }
         ],
         "source": [
            "%%sql\n",
            "\n",
            "\n",
            "CREATE TABLE IF NOT EXISTS bootcamp.events_sorted (\n",
            "    user_id NUMERIC,\n",
            "    device_id NUMERIC,\n",
            "    referrer STRING,\n",
            "    host STRING,\n",
            "    url STRING,\n",
            "    event_time TIMESTAMP,\n",
            "    event_date DATE\n",
            ")\n",
            "USING iceberg\n",
            "    PARTITIONED BY (event_date);\n",
            "    -- url STRING,\n",
            "    -- referrer STRING,\n",
            "    -- browser_family STRING,\n",
            "    -- os_family STRING,\n",
            "    -- device_family STRING,\n",
            "    -- host STRING,\n",
            "    -- event_time TIMESTAMP,\n",
            "    -- event_date DATE"
         ]
      },
      {
         "cell_type": "code",
         "execution_count": 3,
         "id": "00c86e79-a911-464c-ad58-acc92859dcc6",
         "metadata": {
            "scrolled": true
         },
         "outputs": [
            {
               "data": {
                  "text/html": [
                     "<table>\n",
                     "    <thead>\n",
                     "        <tr>\n",
                     "        </tr>\n",
                     "    </thead>\n",
                     "    <tbody>\n",
                     "    </tbody>\n",
                     "</table>"
                  ],
                  "text/plain": [
                     "++\n",
                     "||\n",
                     "++\n",
                     "++"
                  ]
               },
               "execution_count": 3,
               "metadata": {},
               "output_type": "execute_result"
            }
         ],
         "source": [
            "%%sql\n",
            "CREATE TABLE IF NOT EXISTS bootcamp.events_unsorted (\n",
            "    user_id NUMERIC,\n",
            "    device_id NUMERIC,\n",
            "    referrer STRING,\n",
            "    host STRING,\n",
            "    url STRING,\n",
            "    event_time TIMESTAMP,\n",
            "    event_date DATE\n",
            ")\n",
            "USING iceberg\n",
            "    PARTITIONED BY (event_date);"
         ]
      },
      {
         "cell_type": "code",
         "execution_count": 4,
         "id": "2c1254bc-9ecf-4c86-bfd9-de81ecfbb78b",
         "metadata": {},
         "outputs": [
            {
               "name": "stderr",
               "output_type": "stream",
               "text": [
                  "                                                                                \r"
               ]
            }
         ],
         "source": [
            "start_df = df.repartition(4, col(\"event_date\")).withColumn(\"event_time\", col(\"event_time\").cast(\"timestamp\")) \n",
            "first_sort_df = start_df.sortWithinPartitions(col(\"event_date\"), col(\"host\")) #col(\"browser_family\"),\n",
            "\n",
            "# sorted = df.repartition(10, col(\"event_date\")) \\\n",
            "#         .sortWithinPartitions(col(\"event_date\")) \\\n",
            "#         .withColumn(\"event_time\", col(\"event_time\").cast(\"timestamp\")) \\\n",
            "\n",
            "start_df.write.mode(\"overwrite\").saveAsTable(\"bootcamp.events_unsorted\")\n",
            "first_sort_df.write.mode(\"overwrite\").saveAsTable(\"bootcamp.events_sorted\")"
         ]
      },
      {
         "cell_type": "code",
         "execution_count": 5,
         "id": "fd3f0c27-fcd4-4e48-9718-b38d27644bf6",
         "metadata": {},
         "outputs": [
            {
               "data": {
                  "text/html": [
                     "<table>\n",
                     "    <thead>\n",
                     "        <tr>\n",
                     "            <th>content</th>\n",
                     "            <th>file_path</th>\n",
                     "            <th>file_format</th>\n",
                     "            <th>spec_id</th>\n",
                     "            <th>partition</th>\n",
                     "            <th>record_count</th>\n",
                     "            <th>file_size_in_bytes</th>\n",
                     "            <th>column_sizes</th>\n",
                     "            <th>value_counts</th>\n",
                     "            <th>null_value_counts</th>\n",
                     "            <th>nan_value_counts</th>\n",
                     "            <th>lower_bounds</th>\n",
                     "            <th>upper_bounds</th>\n",
                     "            <th>key_metadata</th>\n",
                     "            <th>split_offsets</th>\n",
                     "            <th>equality_ids</th>\n",
                     "            <th>sort_order_id</th>\n",
                     "            <th>readable_metrics</th>\n",
                     "        </tr>\n",
                     "    </thead>\n",
                     "    <tbody>\n",
                     "        <tr>\n",
                     "            <td>0</td>\n",
                     "            <td>s3://warehouse/bootcamp/events_sorted/data/00000-22-dad7b32f-1d42-4e8d-a90d-792cb8eaba2c-0-00001.parquet</td>\n",
                     "            <td>PARQUET</td>\n",
                     "            <td>1</td>\n",
                     "            <td>Row(event_date=None)</td>\n",
                     "            <td>89391</td>\n",
                     "            <td>998079</td>\n",
                     "            <td>{1: 315033, 2: 103859, 3: 68766, 4: 2674, 5: 111517, 6: 390792, 7: 2274}</td>\n",
                     "            <td>{1: 89391, 2: 89391, 3: 89391, 4: 89391, 5: 89391, 6: 89391, 7: 89391}</td>\n",
                     "            <td>{1: 1, 2: 0, 3: 46359, 4: 0, 5: 0, 6: 0, 7: 0}</td>\n",
                     "            <td>{}</td>\n",
                     "            <td>{1: bytearray(b&#x27;-1000095488&#x27;), 2: bytearray(b&#x27;-100210680&#x27;), 3: bytearray(b&#x27;52.20.78.240&#x27;), 4: bytearray(b&#x27;aashish.techcrea&#x27;), 5: bytearray(b&#x27;/&#x27;), 6: bytearray(b&#x27; \\xba\\xe7\\xb8\\xa8\\xb8\\x05\\x00&#x27;), 7: bytearray(b&#x27;\\x00\\xa0&amp;\\xb4\\xa8\\xb8\\x05\\x00&#x27;)}</td>\n",
                     "            <td>{1: bytearray(b&#x27;999884938&#x27;), 2: bytearray(b&#x27;999535123&#x27;), 3: bytearray(b&#x27;zachwilson.tech&#x27;), 4: bytearray(b&#x27;zachwilson.techd&#x27;), 5: bytearray(b&#x27;/zzageqnf.php?Fp&#x27;), 6: bytearray(b&#x27;\\xe8\\xb0\\x1b\\x8ec\\x03\\x06\\x00&#x27;), 7: bytearray(b&#x27;\\x00\\xe0dqO\\x03\\x06\\x00&#x27;)}</td>\n",
                     "            <td>None</td>\n",
                     "            <td>[4]</td>\n",
                     "            <td>None</td>\n",
                     "            <td>0</td>\n",
                     "            <td>Row(device_id=Row(column_size=103859, value_count=89391, null_value_count=0, nan_value_count=None, lower_bound=&#x27;-100210680&#x27;, upper_bound=&#x27;999535123&#x27;), event_date=Row(column_size=2274, value_count=89391, null_value_count=0, nan_value_count=None, lower_bound=datetime.datetime(2021, 1, 12, 0, 0), upper_bound=datetime.datetime(2023, 8, 20, 0, 0)), event_time=Row(column_size=390792, value_count=89391, null_value_count=0, nan_value_count=None, lower_bound=datetime.datetime(2021, 1, 12, 0, 1, 19, 764000), upper_bound=datetime.datetime(2023, 8, 20, 23, 59, 41, 89000)), host=Row(column_size=2674, value_count=89391, null_value_count=0, nan_value_count=None, lower_bound=&#x27;aashish.techcrea&#x27;, upper_bound=&#x27;zachwilson.techd&#x27;), referrer=Row(column_size=68766, value_count=89391, null_value_count=46359, nan_value_count=None, lower_bound=&#x27;52.20.78.240&#x27;, upper_bound=&#x27;zachwilson.tech&#x27;), url=Row(column_size=111517, value_count=89391, null_value_count=0, nan_value_count=None, lower_bound=&#x27;/&#x27;, upper_bound=&#x27;/zzageqnf.php?Fp&#x27;), user_id=Row(column_size=315033, value_count=89391, null_value_count=1, nan_value_count=None, lower_bound=&#x27;-1000095488&#x27;, upper_bound=&#x27;999884938&#x27;))</td>\n",
                     "        </tr>\n",
                     "        <tr>\n",
                     "            <td>0</td>\n",
                     "            <td>s3://warehouse/bootcamp/events_sorted/data/00001-23-dad7b32f-1d42-4e8d-a90d-792cb8eaba2c-0-00001.parquet</td>\n",
                     "            <td>PARQUET</td>\n",
                     "            <td>1</td>\n",
                     "            <td>Row(event_date=None)</td>\n",
                     "            <td>99232</td>\n",
                     "            <td>1126501</td>\n",
                     "            <td>{1: 344927, 2: 117090, 3: 73756, 4: 3294, 5: 145848, 6: 435861, 7: 2355}</td>\n",
                     "            <td>{1: 99232, 2: 99232, 3: 99232, 4: 99232, 5: 99232, 6: 99232, 7: 99232}</td>\n",
                     "            <td>{1: 58, 2: 0, 3: 49299, 4: 0, 5: 0, 6: 0, 7: 0}</td>\n",
                     "            <td>{}</td>\n",
                     "            <td>{1: bytearray(b&#x27;-1000370060&#x27;), 2: bytearray(b&#x27;-100210680&#x27;), 3: bytearray(b&#x27;&quot;https://www.goo&#x27;), 4: bytearray(b&#x27;abhishekanand.te&#x27;), 5: bytearray(b&#x27;&quot;/?&quot;&quot;&lt;?=print(93&#x27;), 6: bytearray(b&#x27;(\\x83\\xb2EX\\xb8\\x05\\x00&#x27;), 7: bytearray(b&#x27;\\x00 \\xc9&lt;X\\xb8\\x05\\x00&#x27;)}</td>\n",
                     "            <td>{1: bytearray(b&#x27;999956796&#x27;), 2: bytearray(b&#x27;999535123&#x27;), 3: bytearray(b&#x27;zachwilson.tech&#x27;), 4: bytearray(b&#x27;zsavi524.techcrf&#x27;), 5: bytearray(b&#x27;/zz.php&#x27;), 6: bytearray(b&#x27;\\x88\\xb8\\x07P;\\x03\\x06\\x00&#x27;), 7: bytearray(b&quot;\\x00 \\xb65\\&#x27;\\x03\\x06\\x00&quot;)}</td>\n",
                     "            <td>None</td>\n",
                     "            <td>[4]</td>\n",
                     "            <td>None</td>\n",
                     "            <td>0</td>\n",
                     "            <td>Row(device_id=Row(column_size=117090, value_count=99232, null_value_count=0, nan_value_count=None, lower_bound=&#x27;-100210680&#x27;, upper_bound=&#x27;999535123&#x27;), event_date=Row(column_size=2355, value_count=99232, null_value_count=0, nan_value_count=None, lower_bound=datetime.datetime(2021, 1, 8, 0, 0), upper_bound=datetime.datetime(2023, 8, 18, 0, 0)), event_time=Row(column_size=435861, value_count=99232, null_value_count=0, nan_value_count=None, lower_bound=datetime.datetime(2021, 1, 8, 0, 2, 29, 513000), upper_bound=datetime.datetime(2023, 8, 18, 23, 59, 0, 901000)), host=Row(column_size=3294, value_count=99232, null_value_count=0, nan_value_count=None, lower_bound=&#x27;abhishekanand.te&#x27;, upper_bound=&#x27;zsavi524.techcrf&#x27;), referrer=Row(column_size=73756, value_count=99232, null_value_count=49299, nan_value_count=None, lower_bound=&#x27;&quot;https://www.goo&#x27;, upper_bound=&#x27;zachwilson.tech&#x27;), url=Row(column_size=145848, value_count=99232, null_value_count=0, nan_value_count=None, lower_bound=&#x27;&quot;/?&quot;&quot;&lt;?=print(93&#x27;, upper_bound=&#x27;/zz.php&#x27;), user_id=Row(column_size=344927, value_count=99232, null_value_count=58, nan_value_count=None, lower_bound=&#x27;-1000370060&#x27;, upper_bound=&#x27;999956796&#x27;))</td>\n",
                     "        </tr>\n",
                     "        <tr>\n",
                     "            <td>0</td>\n",
                     "            <td>s3://warehouse/bootcamp/events_sorted/data/00002-24-dad7b32f-1d42-4e8d-a90d-792cb8eaba2c-0-00001.parquet</td>\n",
                     "            <td>PARQUET</td>\n",
                     "            <td>1</td>\n",
                     "            <td>Row(event_date=None)</td>\n",
                     "            <td>93956</td>\n",
                     "            <td>1321754</td>\n",
                     "            <td>{1: 343502, 2: 115393, 3: 94518, 4: 3112, 5: 351330, 6: 408578, 7: 2019}</td>\n",
                     "            <td>{1: 93956, 2: 93956, 3: 93956, 4: 93956, 5: 93956, 6: 93956, 7: 93956}</td>\n",
                     "            <td>{1: 0, 2: 0, 3: 48227, 4: 0, 5: 0, 6: 0, 7: 0}</td>\n",
                     "            <td>{}</td>\n",
                     "            <td>{1: bytearray(b&#x27;-1000675882&#x27;), 2: bytearray(b&#x27;-1000866068&#x27;), 3: bytearray(b&#x27;&quot;https://www.goo&#x27;), 4: bytearray(b&#x27;ablumhardt.techc&#x27;), 5: bytearray(b&#x27;&quot;/?&quot;&quot;&lt;?=print(93&#x27;), 6: bytearray(b&#x27;\\x18\\xe8_\\xb2\\xf3\\xb7\\x05\\x00&#x27;), 7: bytearray(b&#x27;\\x00@\\x94\\xa7\\xf3\\xb7\\x05\\x00&#x27;)}</td>\n",
                     "            <td>{1: bytearray(b&#x27;999956796&#x27;), 2: bytearray(b&#x27;998961543&#x27;), 3: bytearray(b&#x27;zachwilson.tech&#x27;), 4: bytearray(b&#x27;zzz.techcreator/&#x27;), 5: bytearray(b&#x27;/zz/address.php@&#x27;), 6: bytearray(b&#x27;HE\\xdbM\\xb3\\x03\\x06\\x00&#x27;), 7: bytearray(b&#x27;\\x00`\\xc2\\xe8\\x9f\\x03\\x06\\x00&#x27;)}</td>\n",
                     "            <td>None</td>\n",
                     "            <td>[4]</td>\n",
                     "            <td>None</td>\n",
                     "            <td>0</td>\n",
                     "            <td>Row(device_id=Row(column_size=115393, value_count=93956, null_value_count=0, nan_value_count=None, lower_bound=&#x27;-1000866068&#x27;, upper_bound=&#x27;998961543&#x27;), event_date=Row(column_size=2019, value_count=93956, null_value_count=0, nan_value_count=None, lower_bound=datetime.datetime(2021, 1, 3, 0, 0), upper_bound=datetime.datetime(2023, 8, 24, 0, 0)), event_time=Row(column_size=408578, value_count=93956, null_value_count=0, nan_value_count=None, lower_bound=datetime.datetime(2021, 1, 3, 0, 3, 1, 119000), upper_bound=datetime.datetime(2023, 8, 24, 23, 8, 20, 509000)), host=Row(column_size=3112, value_count=93956, null_value_count=0, nan_value_count=None, lower_bound=&#x27;ablumhardt.techc&#x27;, upper_bound=&#x27;zzz.techcreator/&#x27;), referrer=Row(column_size=94518, value_count=93956, null_value_count=48227, nan_value_count=None, lower_bound=&#x27;&quot;https://www.goo&#x27;, upper_bound=&#x27;zachwilson.tech&#x27;), url=Row(column_size=351330, value_count=93956, null_value_count=0, nan_value_count=None, lower_bound=&#x27;&quot;/?&quot;&quot;&lt;?=print(93&#x27;, upper_bound=&#x27;/zz/address.php@&#x27;), user_id=Row(column_size=343502, value_count=93956, null_value_count=0, nan_value_count=None, lower_bound=&#x27;-1000675882&#x27;, upper_bound=&#x27;999956796&#x27;))</td>\n",
                     "        </tr>\n",
                     "        <tr>\n",
                     "            <td>0</td>\n",
                     "            <td>s3://warehouse/bootcamp/events_sorted/data/00003-25-dad7b32f-1d42-4e8d-a90d-792cb8eaba2c-0-00001.parquet</td>\n",
                     "            <td>PARQUET</td>\n",
                     "            <td>1</td>\n",
                     "            <td>Row(event_date=None)</td>\n",
                     "            <td>122235</td>\n",
                     "            <td>1509168</td>\n",
                     "            <td>{1: 450920, 2: 148134, 3: 98606, 4: 3551, 5: 290056, 6: 512117, 7: 2154}</td>\n",
                     "            <td>{1: 122235, 2: 122235, 3: 122235, 4: 122235, 5: 122235, 6: 122235, 7: 122235}</td>\n",
                     "            <td>{1: 8, 2: 0, 3: 53009, 4: 0, 5: 0, 6: 0, 7: 0}</td>\n",
                     "            <td>{}</td>\n",
                     "            <td>{1: bytearray(b&#x27;-1000015881&#x27;), 2: bytearray(b&#x27;-1001669954&#x27;), 3: bytearray(b&#x27;3.220.57.224&#x27;), 4: bytearray(b&#x27;accc.techcreator&#x27;), 5: bytearray(b&#x27;/&#x27;), 6: bytearray(b&#x27;@n.\\xbd\\xdf\\xb7\\x05\\x00&#x27;), 7: bytearray(b&#x27;\\x00\\xe0\\xbc\\x89\\xdf\\xb7\\x05\\x00&#x27;)}</td>\n",
                     "            <td>{1: bytearray(b&#x27;999882344&#x27;), 2: bytearray(b&#x27;998766634&#x27;), 3: bytearray(b&#x27;zachwilson.tech&#x27;), 4: bytearray(b&#x27;zachwilson.techd&#x27;), 5: bytearray(b&#x27;/zz.php&#x27;), 6: bytearray(b&#x27;\\xd8\\xaf\\x9a\\xe8\\x9f\\x03\\x06\\x00&#x27;), 7: bytearray(b&#x27;\\x00\\x00\\xeb\\xca\\x8b\\x03\\x06\\x00&#x27;)}</td>\n",
                     "            <td>None</td>\n",
                     "            <td>[4]</td>\n",
                     "            <td>None</td>\n",
                     "            <td>0</td>\n",
                     "            <td>Row(device_id=Row(column_size=148134, value_count=122235, null_value_count=0, nan_value_count=None, lower_bound=&#x27;-1001669954&#x27;, upper_bound=&#x27;998766634&#x27;), event_date=Row(column_size=2154, value_count=122235, null_value_count=0, nan_value_count=None, lower_bound=datetime.datetime(2021, 1, 2, 0, 0), upper_bound=datetime.datetime(2023, 8, 23, 0, 0)), event_time=Row(column_size=512117, value_count=122235, null_value_count=0, nan_value_count=None, lower_bound=datetime.datetime(2021, 1, 2, 0, 14, 23, 80000), upper_bound=datetime.datetime(2023, 8, 23, 23, 59, 57, 399000)), host=Row(column_size=3551, value_count=122235, null_value_count=0, nan_value_count=None, lower_bound=&#x27;accc.techcreator&#x27;, upper_bound=&#x27;zachwilson.techd&#x27;), referrer=Row(column_size=98606, value_count=122235, null_value_count=53009, nan_value_count=None, lower_bound=&#x27;3.220.57.224&#x27;, upper_bound=&#x27;zachwilson.tech&#x27;), url=Row(column_size=290056, value_count=122235, null_value_count=0, nan_value_count=None, lower_bound=&#x27;/&#x27;, upper_bound=&#x27;/zz.php&#x27;), user_id=Row(column_size=450920, value_count=122235, null_value_count=8, nan_value_count=None, lower_bound=&#x27;-1000015881&#x27;, upper_bound=&#x27;999882344&#x27;))</td>\n",
                     "        </tr>\n",
                     "    </tbody>\n",
                     "</table>"
                  ],
                  "text/plain": [
                     "+---------+----------------------------------------------------------------------------------------------------------+-------------+---------+----------------------+--------------+--------------------+--------------------------------------------------------------------------+-------------------------------------------------------------------------------+-------------------------------------------------+------------------+-----------------------------------------------------------------------------------------------------------------------------------------------------------------------------------------------------------------------------------------------------------------------+---------------------------------------------------------------------------------------------------------------------------------------------------------------------------------------------------------------------------------------------------------------+--------------+---------------+--------------+---------------+-----------------------------------------------------------------------------------------------------------------------------------------------------------------------------------------------------------------------------------------------------------------------------------------------------------------------------------------------------------------------------------------------------------------------------------------------------------------------------------------------------------------------------------------------------------------------------------------------------------------------------------------------------------------------------------------------------------------------------------------------------------------------------------------------------------------------------------------------------------------------------------------------------------------------------------------------------------------------------------------------------------------------------------------------------------------------------------------------------------------------------------------------------------------------------------------------------------------------------+\n",
                     "| content |                                                                                                file_path | file_format | spec_id |            partition | record_count | file_size_in_bytes |                                                             column_sizes |                                                                  value_counts |                               null_value_counts | nan_value_counts |                                                                                                                                                                                                                                                          lower_bounds |                                                                                                                                                                                                                                                  upper_bounds | key_metadata | split_offsets | equality_ids | sort_order_id |                                                                                                                                                                                                                                                                                                                                                                                                                                                                                                                                                                                                                                                                                                                                                                                                                                                                                                                                                                                                                                                                                                                                                                                                            readable_metrics |\n",
                     "+---------+----------------------------------------------------------------------------------------------------------+-------------+---------+----------------------+--------------+--------------------+--------------------------------------------------------------------------+-------------------------------------------------------------------------------+-------------------------------------------------+------------------+-----------------------------------------------------------------------------------------------------------------------------------------------------------------------------------------------------------------------------------------------------------------------+---------------------------------------------------------------------------------------------------------------------------------------------------------------------------------------------------------------------------------------------------------------+--------------+---------------+--------------+---------------+-----------------------------------------------------------------------------------------------------------------------------------------------------------------------------------------------------------------------------------------------------------------------------------------------------------------------------------------------------------------------------------------------------------------------------------------------------------------------------------------------------------------------------------------------------------------------------------------------------------------------------------------------------------------------------------------------------------------------------------------------------------------------------------------------------------------------------------------------------------------------------------------------------------------------------------------------------------------------------------------------------------------------------------------------------------------------------------------------------------------------------------------------------------------------------------------------------------------------------+\n",
                     "|       0 | s3://warehouse/bootcamp/events_sorted/data/00000-22-dad7b32f-1d42-4e8d-a90d-792cb8eaba2c-0-00001.parquet |     PARQUET |       1 | Row(event_date=None) |        89391 |             998079 | {1: 315033, 2: 103859, 3: 68766, 4: 2674, 5: 111517, 6: 390792, 7: 2274} |        {1: 89391, 2: 89391, 3: 89391, 4: 89391, 5: 89391, 6: 89391, 7: 89391} |  {1: 1, 2: 0, 3: 46359, 4: 0, 5: 0, 6: 0, 7: 0} |               {} |                     {1: bytearray(b'-1000095488'), 2: bytearray(b'-100210680'), 3: bytearray(b'52.20.78.240'), 4: bytearray(b'aashish.techcrea'), 5: bytearray(b'/'), 6: bytearray(b' \\xba\\xe7\\xb8\\xa8\\xb8\\x05\\x00'), 7: bytearray(b'\\x00\\xa0&\\xb4\\xa8\\xb8\\x05\\x00')} |    {1: bytearray(b'999884938'), 2: bytearray(b'999535123'), 3: bytearray(b'zachwilson.tech'), 4: bytearray(b'zachwilson.techd'), 5: bytearray(b'/zzageqnf.php?Fp'), 6: bytearray(b'\\xe8\\xb0\\x1b\\x8ec\\x03\\x06\\x00'), 7: bytearray(b'\\x00\\xe0dqO\\x03\\x06\\x00')} |         None |           [4] |         None |             0 |                  Row(device_id=Row(column_size=103859, value_count=89391, null_value_count=0, nan_value_count=None, lower_bound='-100210680', upper_bound='999535123'), event_date=Row(column_size=2274, value_count=89391, null_value_count=0, nan_value_count=None, lower_bound=datetime.datetime(2021, 1, 12, 0, 0), upper_bound=datetime.datetime(2023, 8, 20, 0, 0)), event_time=Row(column_size=390792, value_count=89391, null_value_count=0, nan_value_count=None, lower_bound=datetime.datetime(2021, 1, 12, 0, 1, 19, 764000), upper_bound=datetime.datetime(2023, 8, 20, 23, 59, 41, 89000)), host=Row(column_size=2674, value_count=89391, null_value_count=0, nan_value_count=None, lower_bound='aashish.techcrea', upper_bound='zachwilson.techd'), referrer=Row(column_size=68766, value_count=89391, null_value_count=46359, nan_value_count=None, lower_bound='52.20.78.240', upper_bound='zachwilson.tech'), url=Row(column_size=111517, value_count=89391, null_value_count=0, nan_value_count=None, lower_bound='/', upper_bound='/zzageqnf.php?Fp'), user_id=Row(column_size=315033, value_count=89391, null_value_count=1, nan_value_count=None, lower_bound='-1000095488', upper_bound='999884938')) |\n",
                     "|       0 | s3://warehouse/bootcamp/events_sorted/data/00001-23-dad7b32f-1d42-4e8d-a90d-792cb8eaba2c-0-00001.parquet |     PARQUET |       1 | Row(event_date=None) |        99232 |            1126501 | {1: 344927, 2: 117090, 3: 73756, 4: 3294, 5: 145848, 6: 435861, 7: 2355} |        {1: 99232, 2: 99232, 3: 99232, 4: 99232, 5: 99232, 6: 99232, 7: 99232} | {1: 58, 2: 0, 3: 49299, 4: 0, 5: 0, 6: 0, 7: 0} |               {} |              {1: bytearray(b'-1000370060'), 2: bytearray(b'-100210680'), 3: bytearray(b'\"https://www.goo'), 4: bytearray(b'abhishekanand.te'), 5: bytearray(b'\"/?\"\"<?=print(93'), 6: bytearray(b'(\\x83\\xb2EX\\xb8\\x05\\x00'), 7: bytearray(b'\\x00 \\xc9<X\\xb8\\x05\\x00')} |               {1: bytearray(b'999956796'), 2: bytearray(b'999535123'), 3: bytearray(b'zachwilson.tech'), 4: bytearray(b'zsavi524.techcrf'), 5: bytearray(b'/zz.php'), 6: bytearray(b'\\x88\\xb8\\x07P;\\x03\\x06\\x00'), 7: bytearray(b\"\\x00 \\xb65\\'\\x03\\x06\\x00\")} |         None |           [4] |         None |             0 |         Row(device_id=Row(column_size=117090, value_count=99232, null_value_count=0, nan_value_count=None, lower_bound='-100210680', upper_bound='999535123'), event_date=Row(column_size=2355, value_count=99232, null_value_count=0, nan_value_count=None, lower_bound=datetime.datetime(2021, 1, 8, 0, 0), upper_bound=datetime.datetime(2023, 8, 18, 0, 0)), event_time=Row(column_size=435861, value_count=99232, null_value_count=0, nan_value_count=None, lower_bound=datetime.datetime(2021, 1, 8, 0, 2, 29, 513000), upper_bound=datetime.datetime(2023, 8, 18, 23, 59, 0, 901000)), host=Row(column_size=3294, value_count=99232, null_value_count=0, nan_value_count=None, lower_bound='abhishekanand.te', upper_bound='zsavi524.techcrf'), referrer=Row(column_size=73756, value_count=99232, null_value_count=49299, nan_value_count=None, lower_bound='\"https://www.goo', upper_bound='zachwilson.tech'), url=Row(column_size=145848, value_count=99232, null_value_count=0, nan_value_count=None, lower_bound='\"/?\"\"<?=print(93', upper_bound='/zz.php'), user_id=Row(column_size=344927, value_count=99232, null_value_count=58, nan_value_count=None, lower_bound='-1000370060', upper_bound='999956796')) |\n",
                     "|       0 | s3://warehouse/bootcamp/events_sorted/data/00002-24-dad7b32f-1d42-4e8d-a90d-792cb8eaba2c-0-00001.parquet |     PARQUET |       1 | Row(event_date=None) |        93956 |            1321754 | {1: 343502, 2: 115393, 3: 94518, 4: 3112, 5: 351330, 6: 408578, 7: 2019} |        {1: 93956, 2: 93956, 3: 93956, 4: 93956, 5: 93956, 6: 93956, 7: 93956} |  {1: 0, 2: 0, 3: 48227, 4: 0, 5: 0, 6: 0, 7: 0} |               {} | {1: bytearray(b'-1000675882'), 2: bytearray(b'-1000866068'), 3: bytearray(b'\"https://www.goo'), 4: bytearray(b'ablumhardt.techc'), 5: bytearray(b'\"/?\"\"<?=print(93'), 6: bytearray(b'\\x18\\xe8_\\xb2\\xf3\\xb7\\x05\\x00'), 7: bytearray(b'\\x00@\\x94\\xa7\\xf3\\xb7\\x05\\x00')} |    {1: bytearray(b'999956796'), 2: bytearray(b'998961543'), 3: bytearray(b'zachwilson.tech'), 4: bytearray(b'zzz.techcreator/'), 5: bytearray(b'/zz/address.php@'), 6: bytearray(b'HE\\xdbM\\xb3\\x03\\x06\\x00'), 7: bytearray(b'\\x00`\\xc2\\xe8\\x9f\\x03\\x06\\x00')} |         None |           [4] |         None |             0 | Row(device_id=Row(column_size=115393, value_count=93956, null_value_count=0, nan_value_count=None, lower_bound='-1000866068', upper_bound='998961543'), event_date=Row(column_size=2019, value_count=93956, null_value_count=0, nan_value_count=None, lower_bound=datetime.datetime(2021, 1, 3, 0, 0), upper_bound=datetime.datetime(2023, 8, 24, 0, 0)), event_time=Row(column_size=408578, value_count=93956, null_value_count=0, nan_value_count=None, lower_bound=datetime.datetime(2021, 1, 3, 0, 3, 1, 119000), upper_bound=datetime.datetime(2023, 8, 24, 23, 8, 20, 509000)), host=Row(column_size=3112, value_count=93956, null_value_count=0, nan_value_count=None, lower_bound='ablumhardt.techc', upper_bound='zzz.techcreator/'), referrer=Row(column_size=94518, value_count=93956, null_value_count=48227, nan_value_count=None, lower_bound='\"https://www.goo', upper_bound='zachwilson.tech'), url=Row(column_size=351330, value_count=93956, null_value_count=0, nan_value_count=None, lower_bound='\"/?\"\"<?=print(93', upper_bound='/zz/address.php@'), user_id=Row(column_size=343502, value_count=93956, null_value_count=0, nan_value_count=None, lower_bound='-1000675882', upper_bound='999956796')) |\n",
                     "|       0 | s3://warehouse/bootcamp/events_sorted/data/00003-25-dad7b32f-1d42-4e8d-a90d-792cb8eaba2c-0-00001.parquet |     PARQUET |       1 | Row(event_date=None) |       122235 |            1509168 | {1: 450920, 2: 148134, 3: 98606, 4: 3551, 5: 290056, 6: 512117, 7: 2154} | {1: 122235, 2: 122235, 3: 122235, 4: 122235, 5: 122235, 6: 122235, 7: 122235} |  {1: 8, 2: 0, 3: 53009, 4: 0, 5: 0, 6: 0, 7: 0} |               {} |                       {1: bytearray(b'-1000015881'), 2: bytearray(b'-1001669954'), 3: bytearray(b'3.220.57.224'), 4: bytearray(b'accc.techcreator'), 5: bytearray(b'/'), 6: bytearray(b'@n.\\xbd\\xdf\\xb7\\x05\\x00'), 7: bytearray(b'\\x00\\xe0\\xbc\\x89\\xdf\\xb7\\x05\\x00')} | {1: bytearray(b'999882344'), 2: bytearray(b'998766634'), 3: bytearray(b'zachwilson.tech'), 4: bytearray(b'zachwilson.techd'), 5: bytearray(b'/zz.php'), 6: bytearray(b'\\xd8\\xaf\\x9a\\xe8\\x9f\\x03\\x06\\x00'), 7: bytearray(b'\\x00\\x00\\xeb\\xca\\x8b\\x03\\x06\\x00')} |         None |           [4] |         None |             0 |                    Row(device_id=Row(column_size=148134, value_count=122235, null_value_count=0, nan_value_count=None, lower_bound='-1001669954', upper_bound='998766634'), event_date=Row(column_size=2154, value_count=122235, null_value_count=0, nan_value_count=None, lower_bound=datetime.datetime(2021, 1, 2, 0, 0), upper_bound=datetime.datetime(2023, 8, 23, 0, 0)), event_time=Row(column_size=512117, value_count=122235, null_value_count=0, nan_value_count=None, lower_bound=datetime.datetime(2021, 1, 2, 0, 14, 23, 80000), upper_bound=datetime.datetime(2023, 8, 23, 23, 59, 57, 399000)), host=Row(column_size=3551, value_count=122235, null_value_count=0, nan_value_count=None, lower_bound='accc.techcreator', upper_bound='zachwilson.techd'), referrer=Row(column_size=98606, value_count=122235, null_value_count=53009, nan_value_count=None, lower_bound='3.220.57.224', upper_bound='zachwilson.tech'), url=Row(column_size=290056, value_count=122235, null_value_count=0, nan_value_count=None, lower_bound='/', upper_bound='/zz.php'), user_id=Row(column_size=450920, value_count=122235, null_value_count=8, nan_value_count=None, lower_bound='-1000015881', upper_bound='999882344')) |\n",
                     "+---------+----------------------------------------------------------------------------------------------------------+-------------+---------+----------------------+--------------+--------------------+--------------------------------------------------------------------------+-------------------------------------------------------------------------------+-------------------------------------------------+------------------+-----------------------------------------------------------------------------------------------------------------------------------------------------------------------------------------------------------------------------------------------------------------------+---------------------------------------------------------------------------------------------------------------------------------------------------------------------------------------------------------------------------------------------------------------+--------------+---------------+--------------+---------------+-----------------------------------------------------------------------------------------------------------------------------------------------------------------------------------------------------------------------------------------------------------------------------------------------------------------------------------------------------------------------------------------------------------------------------------------------------------------------------------------------------------------------------------------------------------------------------------------------------------------------------------------------------------------------------------------------------------------------------------------------------------------------------------------------------------------------------------------------------------------------------------------------------------------------------------------------------------------------------------------------------------------------------------------------------------------------------------------------------------------------------------------------------------------------------------------------------------------------------+"
                  ]
               },
               "execution_count": 5,
               "metadata": {},
               "output_type": "execute_result"
            }
         ],
         "source": [
            "%%sql\n",
            "select * from demo.bootcamp.events_sorted.files\n",
            "-- .files is the metadata"
         ]
      },
      {
         "cell_type": "code",
         "execution_count": 6,
         "id": "d207a11b-b0a4-4662-bbe9-747d8f67be7d",
         "metadata": {},
         "outputs": [
            {
               "data": {
                  "text/html": [
                     "<table>\n",
                     "    <thead>\n",
                     "        <tr>\n",
                     "            <th>size</th>\n",
                     "            <th>num_files</th>\n",
                     "            <th>sorted</th>\n",
                     "        </tr>\n",
                     "    </thead>\n",
                     "    <tbody>\n",
                     "        <tr>\n",
                     "            <td>4955502</td>\n",
                     "            <td>4</td>\n",
                     "            <td>sorted</td>\n",
                     "        </tr>\n",
                     "        <tr>\n",
                     "            <td>5050842</td>\n",
                     "            <td>4</td>\n",
                     "            <td>unsorted</td>\n",
                     "        </tr>\n",
                     "    </tbody>\n",
                     "</table>"
                  ],
                  "text/plain": [
                     "+---------+-----------+----------+\n",
                     "|    size | num_files |   sorted |\n",
                     "+---------+-----------+----------+\n",
                     "| 4955502 |         4 |   sorted |\n",
                     "| 5050842 |         4 | unsorted |\n",
                     "+---------+-----------+----------+"
                  ]
               },
               "execution_count": 6,
               "metadata": {},
               "output_type": "execute_result"
            }
         ],
         "source": [
            "%%sql\n",
            "\n",
            "SELECT SUM(file_size_in_bytes) as size, COUNT(1) as num_files, 'sorted' \n",
            "FROM demo.bootcamp.events_sorted.files\n",
            "\n",
            "UNION ALL\n",
            "SELECT SUM(file_size_in_bytes) as size, COUNT(1) as num_files, 'unsorted' \n",
            "FROM demo.bootcamp.events_unsorted.files\n",
            "\n",
            "\n",
            "\n"
         ]
      },
      {
         "cell_type": "code",
         "execution_count": 7,
         "id": "a93db4d6-ac15-4d0e-83da-77b93ad618da",
         "metadata": {},
         "outputs": [
            {
               "ename": "AnalysisException",
               "evalue": "[TABLE_OR_VIEW_NOT_FOUND] The table or view `demo`.`bootcamp`.`events`.`files` cannot be found. Verify the spelling and correctness of the schema and catalog.\nIf you did not qualify the name with a schema, verify the current_schema() output, or qualify the name with the correct schema and catalog.\nTo tolerate the error on drop use DROP VIEW IF EXISTS or DROP TABLE IF EXISTS.; line 1 pos 67;\n'Aggregate ['SUM('file_size_in_bytes) AS size#267, count(1) AS num_files#268L]\n+- 'UnresolvedRelation [demo, bootcamp, events, files], [], false\n",
               "output_type": "error",
               "traceback": [
                  "\u001b[0;31m---------------------------------------------------------------------------\u001b[0m",
                  "\u001b[0;31mAnalysisException\u001b[0m                         Traceback (most recent call last)",
                  "Cell \u001b[0;32mIn[7], line 1\u001b[0m\n\u001b[0;32m----> 1\u001b[0m \u001b[43mget_ipython\u001b[49m\u001b[43m(\u001b[49m\u001b[43m)\u001b[49m\u001b[38;5;241;43m.\u001b[39;49m\u001b[43mrun_cell_magic\u001b[49m\u001b[43m(\u001b[49m\u001b[38;5;124;43m'\u001b[39;49m\u001b[38;5;124;43msql\u001b[39;49m\u001b[38;5;124;43m'\u001b[39;49m\u001b[43m,\u001b[49m\u001b[43m \u001b[49m\u001b[38;5;124;43m'\u001b[39;49m\u001b[38;5;124;43m'\u001b[39;49m\u001b[43m,\u001b[49m\u001b[43m \u001b[49m\u001b[38;5;124;43m'\u001b[39;49m\u001b[38;5;124;43mSELECT SUM(file_size_in_bytes) as size, COUNT(1) as num_files FROM demo.bootcamp.events.files;\u001b[39;49m\u001b[38;5;130;43;01m\\n\u001b[39;49;00m\u001b[38;5;124;43m'\u001b[39;49m\u001b[43m)\u001b[49m\n",
                  "File \u001b[0;32m/usr/local/lib/python3.9/site-packages/IPython/core/interactiveshell.py:2517\u001b[0m, in \u001b[0;36mInteractiveShell.run_cell_magic\u001b[0;34m(self, magic_name, line, cell)\u001b[0m\n\u001b[1;32m   2515\u001b[0m \u001b[38;5;28;01mwith\u001b[39;00m \u001b[38;5;28mself\u001b[39m\u001b[38;5;241m.\u001b[39mbuiltin_trap:\n\u001b[1;32m   2516\u001b[0m     args \u001b[38;5;241m=\u001b[39m (magic_arg_s, cell)\n\u001b[0;32m-> 2517\u001b[0m     result \u001b[38;5;241m=\u001b[39m \u001b[43mfn\u001b[49m\u001b[43m(\u001b[49m\u001b[38;5;241;43m*\u001b[39;49m\u001b[43margs\u001b[49m\u001b[43m,\u001b[49m\u001b[43m \u001b[49m\u001b[38;5;241;43m*\u001b[39;49m\u001b[38;5;241;43m*\u001b[39;49m\u001b[43mkwargs\u001b[49m\u001b[43m)\u001b[49m\n\u001b[1;32m   2519\u001b[0m \u001b[38;5;66;03m# The code below prevents the output from being displayed\u001b[39;00m\n\u001b[1;32m   2520\u001b[0m \u001b[38;5;66;03m# when using magics with decorator @output_can_be_silenced\u001b[39;00m\n\u001b[1;32m   2521\u001b[0m \u001b[38;5;66;03m# when the last Python token in the expression is a ';'.\u001b[39;00m\n\u001b[1;32m   2522\u001b[0m \u001b[38;5;28;01mif\u001b[39;00m \u001b[38;5;28mgetattr\u001b[39m(fn, magic\u001b[38;5;241m.\u001b[39mMAGIC_OUTPUT_CAN_BE_SILENCED, \u001b[38;5;28;01mFalse\u001b[39;00m):\n",
                  "File \u001b[0;32m~/.ipython/profile_default/startup/00-prettytables.py:81\u001b[0m, in \u001b[0;36msql\u001b[0;34m(line, cell)\u001b[0m\n\u001b[1;32m     79\u001b[0m         \u001b[38;5;28;01mreturn\u001b[39;00m _to_table(df, num_rows\u001b[38;5;241m=\u001b[39margs\u001b[38;5;241m.\u001b[39mlimit)\n\u001b[1;32m     80\u001b[0m \u001b[38;5;28;01melse\u001b[39;00m:\n\u001b[0;32m---> 81\u001b[0m     \u001b[38;5;28;01mreturn\u001b[39;00m _to_table(\u001b[43mspark\u001b[49m\u001b[38;5;241;43m.\u001b[39;49m\u001b[43msql\u001b[49m\u001b[43m(\u001b[49m\u001b[43mcell\u001b[49m\u001b[43m)\u001b[49m)\n",
                  "File \u001b[0;32m/opt/spark/python/pyspark/sql/session.py:1631\u001b[0m, in \u001b[0;36mSparkSession.sql\u001b[0;34m(self, sqlQuery, args, **kwargs)\u001b[0m\n\u001b[1;32m   1627\u001b[0m         \u001b[38;5;28;01massert\u001b[39;00m \u001b[38;5;28mself\u001b[39m\u001b[38;5;241m.\u001b[39m_jvm \u001b[38;5;129;01mis\u001b[39;00m \u001b[38;5;129;01mnot\u001b[39;00m \u001b[38;5;28;01mNone\u001b[39;00m\n\u001b[1;32m   1628\u001b[0m         litArgs \u001b[38;5;241m=\u001b[39m \u001b[38;5;28mself\u001b[39m\u001b[38;5;241m.\u001b[39m_jvm\u001b[38;5;241m.\u001b[39mPythonUtils\u001b[38;5;241m.\u001b[39mtoArray(\n\u001b[1;32m   1629\u001b[0m             [_to_java_column(lit(v)) \u001b[38;5;28;01mfor\u001b[39;00m v \u001b[38;5;129;01min\u001b[39;00m (args \u001b[38;5;129;01mor\u001b[39;00m [])]\n\u001b[1;32m   1630\u001b[0m         )\n\u001b[0;32m-> 1631\u001b[0m     \u001b[38;5;28;01mreturn\u001b[39;00m DataFrame(\u001b[38;5;28;43mself\u001b[39;49m\u001b[38;5;241;43m.\u001b[39;49m\u001b[43m_jsparkSession\u001b[49m\u001b[38;5;241;43m.\u001b[39;49m\u001b[43msql\u001b[49m\u001b[43m(\u001b[49m\u001b[43msqlQuery\u001b[49m\u001b[43m,\u001b[49m\u001b[43m \u001b[49m\u001b[43mlitArgs\u001b[49m\u001b[43m)\u001b[49m, \u001b[38;5;28mself\u001b[39m)\n\u001b[1;32m   1632\u001b[0m \u001b[38;5;28;01mfinally\u001b[39;00m:\n\u001b[1;32m   1633\u001b[0m     \u001b[38;5;28;01mif\u001b[39;00m \u001b[38;5;28mlen\u001b[39m(kwargs) \u001b[38;5;241m>\u001b[39m \u001b[38;5;241m0\u001b[39m:\n",
                  "File \u001b[0;32m/opt/spark/python/lib/py4j-0.10.9.7-src.zip/py4j/java_gateway.py:1322\u001b[0m, in \u001b[0;36mJavaMember.__call__\u001b[0;34m(self, *args)\u001b[0m\n\u001b[1;32m   1316\u001b[0m command \u001b[38;5;241m=\u001b[39m proto\u001b[38;5;241m.\u001b[39mCALL_COMMAND_NAME \u001b[38;5;241m+\u001b[39m\\\n\u001b[1;32m   1317\u001b[0m     \u001b[38;5;28mself\u001b[39m\u001b[38;5;241m.\u001b[39mcommand_header \u001b[38;5;241m+\u001b[39m\\\n\u001b[1;32m   1318\u001b[0m     args_command \u001b[38;5;241m+\u001b[39m\\\n\u001b[1;32m   1319\u001b[0m     proto\u001b[38;5;241m.\u001b[39mEND_COMMAND_PART\n\u001b[1;32m   1321\u001b[0m answer \u001b[38;5;241m=\u001b[39m \u001b[38;5;28mself\u001b[39m\u001b[38;5;241m.\u001b[39mgateway_client\u001b[38;5;241m.\u001b[39msend_command(command)\n\u001b[0;32m-> 1322\u001b[0m return_value \u001b[38;5;241m=\u001b[39m \u001b[43mget_return_value\u001b[49m\u001b[43m(\u001b[49m\n\u001b[1;32m   1323\u001b[0m \u001b[43m    \u001b[49m\u001b[43manswer\u001b[49m\u001b[43m,\u001b[49m\u001b[43m \u001b[49m\u001b[38;5;28;43mself\u001b[39;49m\u001b[38;5;241;43m.\u001b[39;49m\u001b[43mgateway_client\u001b[49m\u001b[43m,\u001b[49m\u001b[43m \u001b[49m\u001b[38;5;28;43mself\u001b[39;49m\u001b[38;5;241;43m.\u001b[39;49m\u001b[43mtarget_id\u001b[49m\u001b[43m,\u001b[49m\u001b[43m \u001b[49m\u001b[38;5;28;43mself\u001b[39;49m\u001b[38;5;241;43m.\u001b[39;49m\u001b[43mname\u001b[49m\u001b[43m)\u001b[49m\n\u001b[1;32m   1325\u001b[0m \u001b[38;5;28;01mfor\u001b[39;00m temp_arg \u001b[38;5;129;01min\u001b[39;00m temp_args:\n\u001b[1;32m   1326\u001b[0m     \u001b[38;5;28;01mif\u001b[39;00m \u001b[38;5;28mhasattr\u001b[39m(temp_arg, \u001b[38;5;124m\"\u001b[39m\u001b[38;5;124m_detach\u001b[39m\u001b[38;5;124m\"\u001b[39m):\n",
                  "File \u001b[0;32m/opt/spark/python/pyspark/errors/exceptions/captured.py:185\u001b[0m, in \u001b[0;36mcapture_sql_exception.<locals>.deco\u001b[0;34m(*a, **kw)\u001b[0m\n\u001b[1;32m    181\u001b[0m converted \u001b[38;5;241m=\u001b[39m convert_exception(e\u001b[38;5;241m.\u001b[39mjava_exception)\n\u001b[1;32m    182\u001b[0m \u001b[38;5;28;01mif\u001b[39;00m \u001b[38;5;129;01mnot\u001b[39;00m \u001b[38;5;28misinstance\u001b[39m(converted, UnknownException):\n\u001b[1;32m    183\u001b[0m     \u001b[38;5;66;03m# Hide where the exception came from that shows a non-Pythonic\u001b[39;00m\n\u001b[1;32m    184\u001b[0m     \u001b[38;5;66;03m# JVM exception message.\u001b[39;00m\n\u001b[0;32m--> 185\u001b[0m     \u001b[38;5;28;01mraise\u001b[39;00m converted \u001b[38;5;28;01mfrom\u001b[39;00m \u001b[38;5;28;01mNone\u001b[39;00m\n\u001b[1;32m    186\u001b[0m \u001b[38;5;28;01melse\u001b[39;00m:\n\u001b[1;32m    187\u001b[0m     \u001b[38;5;28;01mraise\u001b[39;00m\n",
                  "\u001b[0;31mAnalysisException\u001b[0m: [TABLE_OR_VIEW_NOT_FOUND] The table or view `demo`.`bootcamp`.`events`.`files` cannot be found. Verify the spelling and correctness of the schema and catalog.\nIf you did not qualify the name with a schema, verify the current_schema() output, or qualify the name with the correct schema and catalog.\nTo tolerate the error on drop use DROP VIEW IF EXISTS or DROP TABLE IF EXISTS.; line 1 pos 67;\n'Aggregate ['SUM('file_size_in_bytes) AS size#267, count(1) AS num_files#268L]\n+- 'UnresolvedRelation [demo, bootcamp, events, files], [], false\n"
               ]
            }
         ],
         "source": [
            "%%sql\n",
            "SELECT SUM(file_size_in_bytes) as size, COUNT(1) as num_files FROM demo.bootcamp.events.files;"
         ]
      },
      {
         "cell_type": "code",
         "execution_count": null,
         "id": "f755437c",
         "metadata": {
            "collapsed": false,
            "jupyter": {
               "outputs_hidden": false
            },
            "pycharm": {
               "name": "#%%\n"
            }
         },
         "outputs": [],
         "source": [
            "%%sql \n",
            "SELECT COUNT(1) FROM bootcamp.matches_bucketed.files"
         ]
      },
      {
         "cell_type": "code",
         "execution_count": 4,
         "id": "674f173d-86ca-4637-9332-37ce04a81451",
         "metadata": {},
         "outputs": [
            {
               "data": {
                  "text/html": [
                     "<table>\n",
                     "    <tr>\n",
                     "        <th>count(1)</th>\n",
                     "    </tr>\n",
                     "    <tr>\n",
                     "        <td>3665</td>\n",
                     "    </tr>\n",
                     "</table>"
                  ],
                  "text/plain": [
                     "+----------+\n",
                     "| count(1) |\n",
                     "+----------+\n",
                     "|     3665 |\n",
                     "+----------+"
                  ]
               },
               "execution_count": 4,
               "metadata": {},
               "output_type": "execute_result"
            }
         ],
         "source": []
      },
      {
         "cell_type": "code",
         "execution_count": null,
         "id": "591ba0b7-2e6f-420a-960d-95e5734b0166",
         "metadata": {},
         "outputs": [],
         "source": []
      }
   ],
   "metadata": {
      "kernelspec": {
         "display_name": "Python 3 (ipykernel)",
         "language": "python",
         "name": "python3"
      },
      "language_info": {
         "codemirror_mode": {
            "name": "ipython",
            "version": 3
         },
         "file_extension": ".py",
         "mimetype": "text/x-python",
         "name": "python",
         "nbconvert_exporter": "python",
         "pygments_lexer": "ipython3",
         "version": "3.9.18"
      }
   },
   "nbformat": 4,
   "nbformat_minor": 5
}