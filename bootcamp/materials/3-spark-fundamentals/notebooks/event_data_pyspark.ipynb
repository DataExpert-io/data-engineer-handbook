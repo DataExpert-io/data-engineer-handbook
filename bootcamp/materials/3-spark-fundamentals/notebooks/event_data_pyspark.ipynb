{
 "cells": [
  {
   "cell_type": "code",
   "execution_count": 1,
   "id": "81cca085-dba2-42eb-a13b-fa64b6e86583",
   "metadata": {},
   "outputs": [
    {
     "name": "stderr",
     "output_type": "stream",
     "text": [
      "24/12/05 16:05:41 WARN SparkSession: Using an existing Spark session; only runtime SQL configurations will take effect.\n"
     ]
    },
    {
     "name": "stdout",
     "output_type": "stream",
     "text": [
      "+-----------+----------+--------+--------------------+----------+--------------------+-------------------+\n",
      "|    user_id| device_id|referrer|                host|       url|          event_time|         event_date|\n",
      "+-----------+----------+--------+--------------------+----------+--------------------+-------------------+\n",
      "| 1037710827| 532630305|    NULL| www.zachwilson.tech|         /|2021-03-08 17:27:...|2021-03-08 00:00:00|\n",
      "|  925588856| 532630305|    NULL|    www.eczachly.com|         /|2021-05-10 11:26:...|2021-05-10 00:00:00|\n",
      "|-1180485268| 532630305|    NULL|admin.zachwilson....|         /|2021-02-17 16:19:...|2021-02-17 00:00:00|\n",
      "|-1044833855| 532630305|    NULL| www.zachwilson.tech|         /|2021-09-24 15:53:...|2021-09-24 00:00:00|\n",
      "|  747494706| 532630305|    NULL| www.zachwilson.tech|         /|2021-09-26 16:03:...|2021-09-26 00:00:00|\n",
      "|  747494706| 532630305|    NULL|admin.zachwilson....|         /|2021-02-21 16:08:...|2021-02-21 00:00:00|\n",
      "| -824540328| 532630305|    NULL|admin.zachwilson....|         /|2021-09-28 17:23:...|2021-09-28 00:00:00|\n",
      "| -824540328| 532630305|    NULL|    www.eczachly.com|         /|2021-09-29 01:22:...|2021-09-29 00:00:00|\n",
      "| 1833036683| 532630305|    NULL|admin.zachwilson....|         /|2021-01-24 03:15:...|2021-01-24 00:00:00|\n",
      "|-2134824313| 532630305|    NULL|    www.eczachly.com|         /|2021-01-25 00:03:...|2021-01-25 00:00:00|\n",
      "|-1809929467|-906264142|    NULL|admin.zachwilson....|/.git/HEAD|2021-02-22 01:36:...|2021-02-22 00:00:00|\n",
      "| 2002285749|-906264142|    NULL|    www.eczachly.com|         /|2021-02-22 02:25:...|2021-02-22 00:00:00|\n",
      "|-1562965412| 532630305|    NULL| www.zachwilson.tech|         /|2021-01-30 20:46:...|2021-01-30 00:00:00|\n",
      "|-1099860451| 532630305|    NULL|    www.eczachly.com|         /|2021-02-04 23:49:...|2021-02-04 00:00:00|\n",
      "| 1246896869|-906264142|    NULL| www.zachwilson.tech|         /|2021-02-22 02:50:...|2021-02-22 00:00:00|\n",
      "| -629331502|-906264142|    NULL|admin.zachwilson....|/.git/HEAD|2021-02-22 23:51:...|2021-02-22 00:00:00|\n",
      "|-1913422462|-906264142|    NULL|    www.eczachly.com|         /|2021-02-23 00:17:...|2021-02-23 00:00:00|\n",
      "|   50429624| 532630305|    NULL|    www.eczachly.com|         /|2022-12-28 01:38:...|2022-12-28 00:00:00|\n",
      "|  222389292| 532630305|    NULL| www.zachwilson.tech|         /|2022-12-28 05:23:...|2022-12-28 00:00:00|\n",
      "| -779924777| 532630305|    NULL| www.zachwilson.tech|         /|2022-12-28 16:45:...|2022-12-28 00:00:00|\n",
      "+-----------+----------+--------+--------------------+----------+--------------------+-------------------+\n",
      "only showing top 20 rows\n",
      "\n"
     ]
    }
   ],
   "source": [
    "from pyspark.sql import SparkSession\n",
    "from pyspark.sql.functions import expr, col,lit\n",
    "spark = SparkSession.builder.appName(\"Jupyter\").getOrCreate()\n",
    "\n",
    "spark\n",
    "\n",
    "df = spark.read.option(\"header\", \"true\").csv(\"/home/iceberg/data/events.csv\").withColumn(\"event_date\", expr(\"DATE_TRUNC('day', event_time)\"))\n",
    "\n",
    "df.show()\n",
    "# df.join(df, lit(1)==lit(1)).take(5)"
   ]
  },
  {
   "cell_type": "code",
   "execution_count": 2,
   "id": "dce068df-3e21-429a-8716-abdd13e9406c",
   "metadata": {
    "scrolled": true
   },
   "outputs": [
    {
     "name": "stderr",
     "output_type": "stream",
     "text": [
      "[Stage 2:=============================>                             (4 + 4) / 8]\r"
     ]
    },
    {
     "name": "stdout",
     "output_type": "stream",
     "text": [
      "+-----------+-----------+--------------------+--------------------+-----------+--------------------+-------------------+\n",
      "|    user_id|  device_id|            referrer|                host|        url|          event_time|         event_date|\n",
      "+-----------+-----------+--------------------+--------------------+-----------+--------------------+-------------------+\n",
      "|  -94037775|-2012543895|                NULL|admin.zachwilson....|/robots.txt|2021-05-30 12:29:...|2021-05-30 00:00:00|\n",
      "|  760642255|-1883465659|                NULL|admin.zachwilson....|          /|2021-05-30 12:29:...|2021-05-30 00:00:00|\n",
      "| 1587120550| -290659081|                NULL|    www.eczachly.com|          /|2021-05-30 00:00:...|2021-05-30 00:00:00|\n",
      "| -664256598| -290659081|                NULL|    www.eczachly.com|      /blog|2021-05-30 01:48:...|2021-05-30 00:00:00|\n",
      "| 1896286514|  532630305|                NULL|    www.eczachly.com|          /|2021-05-30 03:31:...|2021-05-30 00:00:00|\n",
      "| 1896286514|  532630305|                NULL|    www.eczachly.com|          /|2021-05-30 03:31:...|2021-05-30 00:00:00|\n",
      "| 1896286514|  532630305|                NULL|    www.eczachly.com|          /|2021-05-30 03:31:...|2021-05-30 00:00:00|\n",
      "| 1896286514|  532630305|                NULL|    www.eczachly.com|     /about|2021-05-30 03:32:...|2021-05-30 00:00:00|\n",
      "| 1896286514|  532630305|                NULL|    www.eczachly.com|      /blog|2021-05-30 03:32:...|2021-05-30 00:00:00|\n",
      "| 1896286514|  532630305|                NULL|    www.eczachly.com|    /graphs|2021-05-30 03:33:...|2021-05-30 00:00:00|\n",
      "| 1896286514|  532630305|                NULL|    www.eczachly.com|   /contact|2021-05-30 03:33:...|2021-05-30 00:00:00|\n",
      "|-1591343055| 1088283544|                NULL|    www.eczachly.com|    /graphs|2021-05-30 13:46:...|2021-05-30 00:00:00|\n",
      "|  125169968| 1088283544|                NULL|    www.eczachly.com|   /contact|2021-05-30 14:40:...|2021-05-30 00:00:00|\n",
      "| 1489579620| 1797244070|                NULL| www.zachwilson.tech|     /about|2021-05-30 11:58:...|2021-05-30 00:00:00|\n",
      "|-1292603375|  501573246|https://www.googl...| www.zachwilson.tech|          /|2021-05-30 01:14:...|2021-05-30 00:00:00|\n",
      "|-1292603375|  501573246|https://www.zachw...| www.zachwilson.tech|      /blog|2021-05-30 01:15:...|2021-05-30 00:00:00|\n",
      "| 1836258642|-1217993711|                NULL| www.zachwilson.tech|          /|2021-05-30 01:27:...|2021-05-30 00:00:00|\n",
      "| -757032764| -290659081|                NULL| www.zachwilson.tech|      /blog|2021-05-30 01:35:...|2021-05-30 00:00:00|\n",
      "| 2044522997|  378191395|https://www.googl...| www.zachwilson.tech|          /|2021-05-30 02:47:...|2021-05-30 00:00:00|\n",
      "| 2044522997|  378191395|https://www.zachw...| www.zachwilson.tech|      /blog|2021-05-30 02:48:...|2021-05-30 00:00:00|\n",
      "+-----------+-----------+--------------------+--------------------+-----------+--------------------+-------------------+\n",
      "only showing top 20 rows\n",
      "\n"
     ]
    },
    {
     "name": "stderr",
     "output_type": "stream",
     "text": [
      "                                                                                \r"
     ]
    }
   ],
   "source": [
    "sorted = df.repartition(100, col(\"event_date\")) \\\n",
    "        .sortWithinPartitions(col(\"event_date\"), col(\"host\")) \\\n",
    "           .withColumn(\"event_time\", col(\"event_time\").cast(\"timestamp\")) \\\n",
    "\n",
    "sorted.show()\n",
    " # col(\"browser_family\")"
   ]
  },
  {
   "cell_type": "code",
   "execution_count": 4,
   "id": "d7afa85d-b9b7-4f84-beaf-415fed905d56",
   "metadata": {},
   "outputs": [
    {
     "name": "stderr",
     "output_type": "stream",
     "text": [
      "[Stage 7:====================================>                   (65 + 9) / 100]\r"
     ]
    },
    {
     "name": "stdout",
     "output_type": "stream",
     "text": [
      "+-----------+-----------+--------+--------------------+--------------------+--------------------+-------------------+\n",
      "|    user_id|  device_id|referrer|                host|                 url|          event_time|         event_date|\n",
      "+-----------+-----------+--------+--------------------+--------------------+--------------------+-------------------+\n",
      "| 1272828233| -643696601|    NULL|admin.zachwilson....|                   /|2021-01-02 13:53:...|2021-01-02 00:00:00|\n",
      "|  747494706|  532630305|    NULL|admin.zachwilson....|                   /|2021-01-02 19:36:...|2021-01-02 00:00:00|\n",
      "| 2110046626|  898871897|    NULL|admin.zachwilson....|       /wp-login.php|2021-01-02 19:57:...|2021-01-02 00:00:00|\n",
      "| 1272828233| -643696601|    NULL|admin.zachwilson....|                   /|2021-01-02 21:05:...|2021-01-02 00:00:00|\n",
      "| 1272828233| -643696601|    NULL|admin.zachwilson....|                   /|2021-01-02 21:37:...|2021-01-02 00:00:00|\n",
      "| 1399665425|-2012543895|    NULL|    www.eczachly.com|                   /|2021-01-02 00:20:...|2021-01-02 00:00:00|\n",
      "|  125243313| -290659081|    NULL|    www.eczachly.com|                   /|2021-01-02 02:06:...|2021-01-02 00:00:00|\n",
      "|  632739597| -290659081|    NULL|    www.eczachly.com|/blog/what-exactl...|2021-01-02 02:58:...|2021-01-02 00:00:00|\n",
      "|-1780827820| -290659081|    NULL|    www.eczachly.com|                   /|2021-01-02 04:45:...|2021-01-02 00:00:00|\n",
      "|  632739597| -290659081|    NULL|    www.eczachly.com|                   /|2021-01-02 05:14:...|2021-01-02 00:00:00|\n",
      "| 1047962242| -158310583|    NULL|    www.eczachly.com|                   /|2021-01-02 11:40:...|2021-01-02 00:00:00|\n",
      "|  273700037| -290659081|    NULL|    www.eczachly.com|                   /|2021-01-02 07:51:...|2021-01-02 00:00:00|\n",
      "| 1272828233| -643696601|    NULL|    www.eczachly.com|                   /|2021-01-02 08:14:...|2021-01-02 00:00:00|\n",
      "|  210988258| 1088283544|    NULL|    www.eczachly.com|            /contact|2021-01-02 11:11:...|2021-01-02 00:00:00|\n",
      "|  273700037| -290659081|    NULL|    www.eczachly.com|                   /|2021-01-02 11:23:...|2021-01-02 00:00:00|\n",
      "|  632739597| -290659081|    NULL|    www.eczachly.com|        /sitemap.xml|2021-01-02 14:10:...|2021-01-02 00:00:00|\n",
      "|  659201289| -290659081|    NULL|    www.eczachly.com|/blog/life-of-a-s...|2021-01-02 15:53:...|2021-01-02 00:00:00|\n",
      "| 1746646422| 2038970862|    NULL| www.zachwilson.tech|              /about|2021-01-02 10:49:...|2021-01-02 00:00:00|\n",
      "| 1150073567|-1883465659|    NULL| www.zachwilson.tech|               /blog|2021-01-02 00:14:...|2021-01-02 00:00:00|\n",
      "| 1746646422| 2038970862|    NULL| www.zachwilson.tech|             /graphs|2021-01-02 10:49:...|2021-01-02 00:00:00|\n",
      "+-----------+-----------+--------+--------------------+--------------------+--------------------+-------------------+\n",
      "only showing top 20 rows\n",
      "\n"
     ]
    },
    {
     "name": "stderr",
     "output_type": "stream",
     "text": [
      "                                                                                \r"
     ]
    }
   ],
   "source": [
    "sortedTwo = df.repartition(100, col(\"event_date\")) \\\n",
    "        .sort(col(\"event_date\"), col(\"host\")) \\\n",
    "           .withColumn(\"event_time\", col(\"event_time\").cast(\"timestamp\")) \n",
    "sortedTwo.show()"
   ]
  },
  {
   "cell_type": "code",
   "execution_count": 5,
   "id": "8cbd3ad7-dfb1-4e60-9162-4f1e685d59c9",
   "metadata": {},
   "outputs": [
    {
     "name": "stdout",
     "output_type": "stream",
     "text": [
      "== Physical Plan ==\n",
      "AdaptiveSparkPlan isFinalPlan=false\n",
      "+- Project [user_id#17, device_id#18, referrer#19, host#20, url#21, cast(event_time#22 as timestamp) AS event_time#73, event_date#29]\n",
      "   +- Sort [event_date#29 ASC NULLS FIRST, host#20 ASC NULLS FIRST], false, 0\n",
      "      +- Exchange hashpartitioning(event_date#29, 100), REPARTITION_BY_NUM, [plan_id=132]\n",
      "         +- Project [user_id#17, device_id#18, referrer#19, host#20, url#21, event_time#22, date_trunc(day, cast(event_time#22 as timestamp), Some(Etc/UTC)) AS event_date#29]\n",
      "            +- FileScan csv [user_id#17,device_id#18,referrer#19,host#20,url#21,event_time#22] Batched: false, DataFilters: [], Format: CSV, Location: InMemoryFileIndex(1 paths)[file:/home/iceberg/data/events.csv], PartitionFilters: [], PushedFilters: [], ReadSchema: struct<user_id:string,device_id:string,referrer:string,host:string,url:string,event_time:string>\n",
      "\n",
      "\n"
     ]
    }
   ],
   "source": [
    "sorted.explain()"
   ]
  },
  {
   "cell_type": "code",
   "execution_count": 6,
   "id": "6fd32c48-37b3-45f1-8961-65b33644e425",
   "metadata": {},
   "outputs": [
    {
     "name": "stdout",
     "output_type": "stream",
     "text": [
      "== Physical Plan ==\n",
      "AdaptiveSparkPlan isFinalPlan=false\n",
      "+- Project [user_id#17, device_id#18, referrer#19, host#20, url#21, cast(event_time#22 as timestamp) AS event_time#116, event_date#29]\n",
      "   +- Sort [event_date#29 ASC NULLS FIRST, host#20 ASC NULLS FIRST], true, 0\n",
      "      +- Exchange rangepartitioning(event_date#29 ASC NULLS FIRST, host#20 ASC NULLS FIRST, 200), ENSURE_REQUIREMENTS, [plan_id=154]\n",
      "         +- Exchange hashpartitioning(event_date#29, 100), REPARTITION_BY_NUM, [plan_id=150]\n",
      "            +- Project [user_id#17, device_id#18, referrer#19, host#20, url#21, event_time#22, date_trunc(day, cast(event_time#22 as timestamp), Some(Etc/UTC)) AS event_date#29]\n",
      "               +- FileScan csv [user_id#17,device_id#18,referrer#19,host#20,url#21,event_time#22] Batched: false, DataFilters: [], Format: CSV, Location: InMemoryFileIndex(1 paths)[file:/home/iceberg/data/events.csv], PartitionFilters: [], PushedFilters: [], ReadSchema: struct<user_id:string,device_id:string,referrer:string,host:string,url:string,event_time:string>\n",
      "\n",
      "\n"
     ]
    }
   ],
   "source": [
    "sortedTwo.explain()"
   ]
  },
  {
   "cell_type": "markdown",
   "id": "5220c26e-ca50-4f85-90c3-e1950a472d10",
   "metadata": {},
   "source": [
    "in the .explain:\n",
    "Project and select mean the same thing. </br>\n",
    "Exchange hashpartitioning does the partitioning. </br>\n",
    "In the sort line, there is a boolean parameter which tells us if the sort is global or not. </br>\n",
    "The Exchange rangepartitioning is the painful part (at scale). </br>\n",
    "Exchange means shuffle!"
   ]
  },
  {
   "cell_type": "code",
   "execution_count": 2,
   "id": "d800dca7-2737-4192-b5c0-c1806c105e15",
   "metadata": {},
   "outputs": [
    {
     "data": {
      "text/html": [
       "<table>\n",
       "    <thead>\n",
       "        <tr>\n",
       "        </tr>\n",
       "    </thead>\n",
       "    <tbody>\n",
       "    </tbody>\n",
       "</table>"
      ],
      "text/plain": [
       "++\n",
       "||\n",
       "++\n",
       "++"
      ]
     },
     "execution_count": 2,
     "metadata": {},
     "output_type": "execute_result"
    }
   ],
   "source": [
    "%%sql\n",
    "\n",
    "CREATE DATABASE IF NOT EXISTS bootcamp"
   ]
  },
  {
   "cell_type": "code",
   "execution_count": 4,
   "id": "9abb6399-1ffe-4546-bcd1-160f483ff435",
   "metadata": {},
   "outputs": [
    {
     "data": {
      "text/html": [
       "<table>\n",
       "    <thead>\n",
       "        <tr>\n",
       "            <th>namespace</th>\n",
       "            <th>tableName</th>\n",
       "            <th>isTemporary</th>\n",
       "        </tr>\n",
       "    </thead>\n",
       "    <tbody>\n",
       "        <tr>\n",
       "            <td>bootcamp</td>\n",
       "            <td>events</td>\n",
       "            <td>False</td>\n",
       "        </tr>\n",
       "        <tr>\n",
       "            <td>bootcamp</td>\n",
       "            <td>events_sorted</td>\n",
       "            <td>False</td>\n",
       "        </tr>\n",
       "        <tr>\n",
       "            <td>bootcamp</td>\n",
       "            <td>events_unsorted</td>\n",
       "            <td>False</td>\n",
       "        </tr>\n",
       "    </tbody>\n",
       "</table>"
      ],
      "text/plain": [
       "+-----------+-----------------+-------------+\n",
       "| namespace |       tableName | isTemporary |\n",
       "+-----------+-----------------+-------------+\n",
       "|  bootcamp |          events |       False |\n",
       "|  bootcamp |   events_sorted |       False |\n",
       "|  bootcamp | events_unsorted |       False |\n",
       "+-----------+-----------------+-------------+"
      ]
     },
     "execution_count": 4,
     "metadata": {},
     "output_type": "execute_result"
    }
   ],
   "source": [
    "%%sql \n",
    "SHOW TABLES IN bootcamp;"
   ]
  },
  {
   "cell_type": "code",
   "execution_count": 9,
   "id": "e83cd813-d5c0-4d67-8285-849b882b8bfa",
   "metadata": {
    "scrolled": true
   },
   "outputs": [
    {
     "data": {
      "text/html": [
       "<table>\n",
       "    <thead>\n",
       "        <tr>\n",
       "        </tr>\n",
       "    </thead>\n",
       "    <tbody>\n",
       "    </tbody>\n",
       "</table>"
      ],
      "text/plain": [
       "++\n",
       "||\n",
       "++\n",
       "++"
      ]
     },
     "execution_count": 9,
     "metadata": {},
     "output_type": "execute_result"
    }
   ],
   "source": [
    "%%sql\n",
    "\n",
    "DROP TABLE IF EXISTS iceberg.bootcamp.events"
   ]
  },
  {
   "cell_type": "code",
   "execution_count": 11,
   "id": "d1b197a9-1b63-4130-acbe-01418eede0e5",
   "metadata": {
    "scrolled": true
   },
   "outputs": [
    {
     "data": {
      "text/html": [
       "<table>\n",
       "    <thead>\n",
       "        <tr>\n",
       "        </tr>\n",
       "    </thead>\n",
       "    <tbody>\n",
       "    </tbody>\n",
       "</table>"
      ],
      "text/plain": [
       "++\n",
       "||\n",
       "++\n",
       "++"
      ]
     },
     "execution_count": 11,
     "metadata": {},
     "output_type": "execute_result"
    }
   ],
   "source": [
    "-- %%sql\n",
    "\n",
    "-- CREATE TABLE IF NOT EXISTS bootcamp.events (\n",
    "--     url STRING,\n",
    "--     referrer STRING,\n",
    "--     browser_family STRING,\n",
    "--     os_family STRING,\n",
    "--     device_family STRING,\n",
    "--     host STRING,\n",
    "--     event_time TIMESTAMP,\n",
    "--     event_date DATE\n",
    "-- )\n",
    "-- USING iceberg\n",
    "--     PARTITIONED BY (event_date);\n",
    "-- PARTITIONED BY (years(event_date));\n"
   ]
  },
  {
   "cell_type": "code",
   "execution_count": 14,
   "id": "cf7ec899-d164-498d-bd09-3b6b7fe6abca",
   "metadata": {},
   "outputs": [
    {
     "data": {
      "text/html": [
       "<table>\n",
       "    <thead>\n",
       "        <tr>\n",
       "        </tr>\n",
       "    </thead>\n",
       "    <tbody>\n",
       "    </tbody>\n",
       "</table>"
      ],
      "text/plain": [
       "++\n",
       "||\n",
       "++\n",
       "++"
      ]
     },
     "execution_count": 14,
     "metadata": {},
     "output_type": "execute_result"
    }
   ],
   "source": [
    "%%sql\n",
    "\n",
    "CREATE TABLE IF NOT EXISTS iceberg.bootcamp.events (\n",
    "    user_id NUMERIC,\n",
    "    device_id NUMERIC,\n",
    "    referrer STRING,\n",
    "    host STRING,\n",
    "    url STRING,\n",
    "\n",
    "    event_time TIMESTAMP,\n",
    "    event_date DATE\n",
    "    --browser_family STRING,\n",
    "    --os_family STRING,\n",
    "    --device_family STRING,\n",
    ")\n",
    "USING iceberg\n",
    "    PARTITIONED BY (event_date);"
   ]
  },
  {
   "cell_type": "code",
   "execution_count": 15,
   "id": "c40b143f-295e-4875-bd7f-12409312b800",
   "metadata": {
    "scrolled": true
   },
   "outputs": [
    {
     "data": {
      "text/html": [
       "<table>\n",
       "    <thead>\n",
       "        <tr>\n",
       "        </tr>\n",
       "    </thead>\n",
       "    <tbody>\n",
       "    </tbody>\n",
       "</table>"
      ],
      "text/plain": [
       "++\n",
       "||\n",
       "++\n",
       "++"
      ]
     },
     "execution_count": 15,
     "metadata": {},
     "output_type": "execute_result"
    }
   ],
   "source": [
    "%%sql\n",
    "\n",
    "\n",
    "CREATE TABLE IF NOT EXISTS iceberg.bootcamp.events_sorted (\n",
    "    user_id NUMERIC,\n",
    "    device_id NUMERIC,\n",
    "    referrer STRING,\n",
    "    host STRING,\n",
    "    url STRING,\n",
    "    event_time TIMESTAMP,\n",
    "    event_date DATE\n",
    ")\n",
    "USING iceberg\n",
    "    PARTITIONED BY (event_date);\n",
    "    -- url STRING,\n",
    "    -- referrer STRING,\n",
    "    -- browser_family STRING,\n",
    "    -- os_family STRING,\n",
    "    -- device_family STRING,\n",
    "    -- host STRING,\n",
    "    -- event_time TIMESTAMP,\n",
    "    -- event_date DATE"
   ]
  },
  {
   "cell_type": "code",
   "execution_count": 16,
   "id": "00c86e79-a911-464c-ad58-acc92859dcc6",
   "metadata": {
    "scrolled": true
   },
   "outputs": [
    {
     "data": {
      "text/html": [
       "<table>\n",
       "    <thead>\n",
       "        <tr>\n",
       "        </tr>\n",
       "    </thead>\n",
       "    <tbody>\n",
       "    </tbody>\n",
       "</table>"
      ],
      "text/plain": [
       "++\n",
       "||\n",
       "++\n",
       "++"
      ]
     },
     "execution_count": 16,
     "metadata": {},
     "output_type": "execute_result"
    }
   ],
   "source": [
    "%%sql\n",
    "\n",
    "\n",
    "CREATE TABLE IF NOT EXISTS iceberg.bootcamp.events_unsorted (\n",
    "    user_id NUMERIC,\n",
    "    device_id NUMERIC,\n",
    "    referrer STRING,\n",
    "    host STRING,\n",
    "    url STRING,\n",
    "    event_time TIMESTAMP,\n",
    "    event_date DATE\n",
    ")\n",
    "USING iceberg\n",
    "    PARTITIONED BY (event_date);"
   ]
  },
  {
   "cell_type": "code",
   "execution_count": 21,
   "id": "2c1254bc-9ecf-4c86-bfd9-de81ecfbb78b",
   "metadata": {},
   "outputs": [
    {
     "name": "stderr",
     "output_type": "stream",
     "text": [
      "ERROR:root:Exception while sending command.                         (0 + 4) / 4]\n",
      "Traceback (most recent call last):\n",
      "  File \"/opt/spark/python/lib/py4j-0.10.9.7-src.zip/py4j/clientserver.py\", line 516, in send_command\n",
      "    raise Py4JNetworkError(\"Answer from Java side is empty\")\n",
      "py4j.protocol.Py4JNetworkError: Answer from Java side is empty\n",
      "\n",
      "During handling of the above exception, another exception occurred:\n",
      "\n",
      "Traceback (most recent call last):\n",
      "  File \"/opt/spark/python/lib/py4j-0.10.9.7-src.zip/py4j/java_gateway.py\", line 1038, in send_command\n",
      "    response = connection.send_command(command)\n",
      "  File \"/opt/spark/python/lib/py4j-0.10.9.7-src.zip/py4j/clientserver.py\", line 539, in send_command\n",
      "    raise Py4JNetworkError(\n",
      "py4j.protocol.Py4JNetworkError: Error while sending or receiving\n"
     ]
    },
    {
     "ename": "Py4JError",
     "evalue": "An error occurred while calling o219.saveAsTable",
     "output_type": "error",
     "traceback": [
      "\u001b[0;31m---------------------------------------------------------------------------\u001b[0m",
      "\u001b[0;31mPy4JError\u001b[0m                                 Traceback (most recent call last)",
      "Cell \u001b[0;32mIn[21], line 10\u001b[0m\n\u001b[1;32m      4\u001b[0m first_sort_df \u001b[38;5;241m=\u001b[39m start_df\u001b[38;5;241m.\u001b[39msortWithinPartitions(col(\u001b[38;5;124m\"\u001b[39m\u001b[38;5;124mevent_date\u001b[39m\u001b[38;5;124m\"\u001b[39m), col(\u001b[38;5;124m\"\u001b[39m\u001b[38;5;124mhost\u001b[39m\u001b[38;5;124m\"\u001b[39m)) \u001b[38;5;66;03m#col(\"browser_family\"),\u001b[39;00m\n\u001b[1;32m      6\u001b[0m \u001b[38;5;66;03m# sorted = df.repartition(10, col(\"event_date\")) \\\u001b[39;00m\n\u001b[1;32m      7\u001b[0m \u001b[38;5;66;03m#         .sortWithinPartitions(col(\"event_date\")) \\\u001b[39;00m\n\u001b[1;32m      8\u001b[0m \u001b[38;5;66;03m#         .withColumn(\"event_time\", col(\"event_time\").cast(\"timestamp\")) \\\u001b[39;00m\n\u001b[0;32m---> 10\u001b[0m \u001b[43mstart_df\u001b[49m\u001b[38;5;241;43m.\u001b[39;49m\u001b[43mwrite\u001b[49m\u001b[38;5;241;43m.\u001b[39;49m\u001b[43mmode\u001b[49m\u001b[43m(\u001b[49m\u001b[38;5;124;43m\"\u001b[39;49m\u001b[38;5;124;43moverwrite\u001b[39;49m\u001b[38;5;124;43m\"\u001b[39;49m\u001b[43m)\u001b[49m\u001b[38;5;241;43m.\u001b[39;49m\u001b[43msaveAsTable\u001b[49m\u001b[43m(\u001b[49m\u001b[38;5;124;43m\"\u001b[39;49m\u001b[38;5;124;43miceberg.bootcamp.events_unsorted\u001b[39;49m\u001b[38;5;124;43m\"\u001b[39;49m\u001b[43m)\u001b[49m\n\u001b[1;32m     11\u001b[0m first_sort_df\u001b[38;5;241m.\u001b[39mwrite\u001b[38;5;241m.\u001b[39mmode(\u001b[38;5;124m\"\u001b[39m\u001b[38;5;124moverwrite\u001b[39m\u001b[38;5;124m\"\u001b[39m)\u001b[38;5;241m.\u001b[39msaveAsTable(\u001b[38;5;124m\"\u001b[39m\u001b[38;5;124miceberg.bootcamp.events_sorted\u001b[39m\u001b[38;5;124m\"\u001b[39m)\n",
      "File \u001b[0;32m/opt/spark/python/pyspark/sql/readwriter.py:1586\u001b[0m, in \u001b[0;36mDataFrameWriter.saveAsTable\u001b[0;34m(self, name, format, mode, partitionBy, **options)\u001b[0m\n\u001b[1;32m   1584\u001b[0m \u001b[38;5;28;01mif\u001b[39;00m \u001b[38;5;28mformat\u001b[39m \u001b[38;5;129;01mis\u001b[39;00m \u001b[38;5;129;01mnot\u001b[39;00m \u001b[38;5;28;01mNone\u001b[39;00m:\n\u001b[1;32m   1585\u001b[0m     \u001b[38;5;28mself\u001b[39m\u001b[38;5;241m.\u001b[39mformat(\u001b[38;5;28mformat\u001b[39m)\n\u001b[0;32m-> 1586\u001b[0m \u001b[38;5;28;43mself\u001b[39;49m\u001b[38;5;241;43m.\u001b[39;49m\u001b[43m_jwrite\u001b[49m\u001b[38;5;241;43m.\u001b[39;49m\u001b[43msaveAsTable\u001b[49m\u001b[43m(\u001b[49m\u001b[43mname\u001b[49m\u001b[43m)\u001b[49m\n",
      "File \u001b[0;32m/opt/spark/python/lib/py4j-0.10.9.7-src.zip/py4j/java_gateway.py:1322\u001b[0m, in \u001b[0;36mJavaMember.__call__\u001b[0;34m(self, *args)\u001b[0m\n\u001b[1;32m   1316\u001b[0m command \u001b[38;5;241m=\u001b[39m proto\u001b[38;5;241m.\u001b[39mCALL_COMMAND_NAME \u001b[38;5;241m+\u001b[39m\\\n\u001b[1;32m   1317\u001b[0m     \u001b[38;5;28mself\u001b[39m\u001b[38;5;241m.\u001b[39mcommand_header \u001b[38;5;241m+\u001b[39m\\\n\u001b[1;32m   1318\u001b[0m     args_command \u001b[38;5;241m+\u001b[39m\\\n\u001b[1;32m   1319\u001b[0m     proto\u001b[38;5;241m.\u001b[39mEND_COMMAND_PART\n\u001b[1;32m   1321\u001b[0m answer \u001b[38;5;241m=\u001b[39m \u001b[38;5;28mself\u001b[39m\u001b[38;5;241m.\u001b[39mgateway_client\u001b[38;5;241m.\u001b[39msend_command(command)\n\u001b[0;32m-> 1322\u001b[0m return_value \u001b[38;5;241m=\u001b[39m \u001b[43mget_return_value\u001b[49m\u001b[43m(\u001b[49m\n\u001b[1;32m   1323\u001b[0m \u001b[43m    \u001b[49m\u001b[43manswer\u001b[49m\u001b[43m,\u001b[49m\u001b[43m \u001b[49m\u001b[38;5;28;43mself\u001b[39;49m\u001b[38;5;241;43m.\u001b[39;49m\u001b[43mgateway_client\u001b[49m\u001b[43m,\u001b[49m\u001b[43m \u001b[49m\u001b[38;5;28;43mself\u001b[39;49m\u001b[38;5;241;43m.\u001b[39;49m\u001b[43mtarget_id\u001b[49m\u001b[43m,\u001b[49m\u001b[43m \u001b[49m\u001b[38;5;28;43mself\u001b[39;49m\u001b[38;5;241;43m.\u001b[39;49m\u001b[43mname\u001b[49m\u001b[43m)\u001b[49m\n\u001b[1;32m   1325\u001b[0m \u001b[38;5;28;01mfor\u001b[39;00m temp_arg \u001b[38;5;129;01min\u001b[39;00m temp_args:\n\u001b[1;32m   1326\u001b[0m     \u001b[38;5;28;01mif\u001b[39;00m \u001b[38;5;28mhasattr\u001b[39m(temp_arg, \u001b[38;5;124m\"\u001b[39m\u001b[38;5;124m_detach\u001b[39m\u001b[38;5;124m\"\u001b[39m):\n",
      "File \u001b[0;32m/opt/spark/python/pyspark/errors/exceptions/captured.py:179\u001b[0m, in \u001b[0;36mcapture_sql_exception.<locals>.deco\u001b[0;34m(*a, **kw)\u001b[0m\n\u001b[1;32m    177\u001b[0m \u001b[38;5;28;01mdef\u001b[39;00m \u001b[38;5;21mdeco\u001b[39m(\u001b[38;5;241m*\u001b[39ma: Any, \u001b[38;5;241m*\u001b[39m\u001b[38;5;241m*\u001b[39mkw: Any) \u001b[38;5;241m-\u001b[39m\u001b[38;5;241m>\u001b[39m Any:\n\u001b[1;32m    178\u001b[0m     \u001b[38;5;28;01mtry\u001b[39;00m:\n\u001b[0;32m--> 179\u001b[0m         \u001b[38;5;28;01mreturn\u001b[39;00m \u001b[43mf\u001b[49m\u001b[43m(\u001b[49m\u001b[38;5;241;43m*\u001b[39;49m\u001b[43ma\u001b[49m\u001b[43m,\u001b[49m\u001b[43m \u001b[49m\u001b[38;5;241;43m*\u001b[39;49m\u001b[38;5;241;43m*\u001b[39;49m\u001b[43mkw\u001b[49m\u001b[43m)\u001b[49m\n\u001b[1;32m    180\u001b[0m     \u001b[38;5;28;01mexcept\u001b[39;00m Py4JJavaError \u001b[38;5;28;01mas\u001b[39;00m e:\n\u001b[1;32m    181\u001b[0m         converted \u001b[38;5;241m=\u001b[39m convert_exception(e\u001b[38;5;241m.\u001b[39mjava_exception)\n",
      "File \u001b[0;32m/opt/spark/python/lib/py4j-0.10.9.7-src.zip/py4j/protocol.py:334\u001b[0m, in \u001b[0;36mget_return_value\u001b[0;34m(answer, gateway_client, target_id, name)\u001b[0m\n\u001b[1;32m    330\u001b[0m             \u001b[38;5;28;01mraise\u001b[39;00m Py4JError(\n\u001b[1;32m    331\u001b[0m                 \u001b[38;5;124m\"\u001b[39m\u001b[38;5;124mAn error occurred while calling \u001b[39m\u001b[38;5;132;01m{0}\u001b[39;00m\u001b[38;5;132;01m{1}\u001b[39;00m\u001b[38;5;132;01m{2}\u001b[39;00m\u001b[38;5;124m. Trace:\u001b[39m\u001b[38;5;130;01m\\n\u001b[39;00m\u001b[38;5;132;01m{3}\u001b[39;00m\u001b[38;5;130;01m\\n\u001b[39;00m\u001b[38;5;124m\"\u001b[39m\u001b[38;5;241m.\u001b[39m\n\u001b[1;32m    332\u001b[0m                 \u001b[38;5;28mformat\u001b[39m(target_id, \u001b[38;5;124m\"\u001b[39m\u001b[38;5;124m.\u001b[39m\u001b[38;5;124m\"\u001b[39m, name, value))\n\u001b[1;32m    333\u001b[0m     \u001b[38;5;28;01melse\u001b[39;00m:\n\u001b[0;32m--> 334\u001b[0m         \u001b[38;5;28;01mraise\u001b[39;00m Py4JError(\n\u001b[1;32m    335\u001b[0m             \u001b[38;5;124m\"\u001b[39m\u001b[38;5;124mAn error occurred while calling \u001b[39m\u001b[38;5;132;01m{0}\u001b[39;00m\u001b[38;5;132;01m{1}\u001b[39;00m\u001b[38;5;132;01m{2}\u001b[39;00m\u001b[38;5;124m\"\u001b[39m\u001b[38;5;241m.\u001b[39m\n\u001b[1;32m    336\u001b[0m             \u001b[38;5;28mformat\u001b[39m(target_id, \u001b[38;5;124m\"\u001b[39m\u001b[38;5;124m.\u001b[39m\u001b[38;5;124m\"\u001b[39m, name))\n\u001b[1;32m    337\u001b[0m \u001b[38;5;28;01melse\u001b[39;00m:\n\u001b[1;32m    338\u001b[0m     \u001b[38;5;28mtype\u001b[39m \u001b[38;5;241m=\u001b[39m answer[\u001b[38;5;241m1\u001b[39m]\n",
      "\u001b[0;31mPy4JError\u001b[0m: An error occurred while calling o219.saveAsTable"
     ]
    },
    {
     "name": "stderr",
     "output_type": "stream",
     "text": [
      "ERROR:root:Exception while sending command.\n",
      "Traceback (most recent call last):\n",
      "  File \"/opt/spark/python/lib/py4j-0.10.9.7-src.zip/py4j/clientserver.py\", line 516, in send_command\n",
      "    raise Py4JNetworkError(\"Answer from Java side is empty\")\n",
      "py4j.protocol.Py4JNetworkError: Answer from Java side is empty\n",
      "\n",
      "During handling of the above exception, another exception occurred:\n",
      "\n",
      "Traceback (most recent call last):\n",
      "  File \"/opt/spark/python/lib/py4j-0.10.9.7-src.zip/py4j/java_gateway.py\", line 1038, in send_command\n",
      "    response = connection.send_command(command)\n",
      "  File \"/opt/spark/python/lib/py4j-0.10.9.7-src.zip/py4j/clientserver.py\", line 539, in send_command\n",
      "    raise Py4JNetworkError(\n",
      "py4j.protocol.Py4JNetworkError: Error while sending or receiving\n"
     ]
    }
   ],
   "source": [
    "\n",
    "start_df = df.repartition(4, col(\"event_date\")).withColumn(\"event_time\", col(\"event_time\").cast(\"timestamp\")) \\\n",
    "    \n",
    "\n",
    "first_sort_df = start_df.sortWithinPartitions(col(\"event_date\"), col(\"host\")) #col(\"browser_family\"),\n",
    "\n",
    "# sorted = df.repartition(10, col(\"event_date\")) \\\n",
    "#         .sortWithinPartitions(col(\"event_date\")) \\\n",
    "#         .withColumn(\"event_time\", col(\"event_time\").cast(\"timestamp\")) \\\n",
    "\n",
    "start_df.write.mode(\"overwrite\").saveAsTable(\"iceberg.bootcamp.events_unsorted\")\n",
    "first_sort_df.write.mode(\"overwrite\").saveAsTable(\"iceberg.bootcamp.events_sorted\")"
   ]
  },
  {
   "cell_type": "code",
   "execution_count": 22,
   "id": "6349cb64-8e32-4360-bb65-2a7cf6f09c20",
   "metadata": {},
   "outputs": [
    {
     "ename": "ConnectionRefusedError",
     "evalue": "[Errno 111] Connection refused",
     "output_type": "error",
     "traceback": [
      "\u001b[0;31m---------------------------------------------------------------------------\u001b[0m",
      "\u001b[0;31mConnectionRefusedError\u001b[0m                    Traceback (most recent call last)",
      "Cell \u001b[0;32mIn[22], line 2\u001b[0m\n\u001b[1;32m      1\u001b[0m \u001b[38;5;66;03m# Check a specific configuration\u001b[39;00m\n\u001b[0;32m----> 2\u001b[0m warehouse_path \u001b[38;5;241m=\u001b[39m \u001b[43mspark\u001b[49m\u001b[38;5;241;43m.\u001b[39;49m\u001b[43mconf\u001b[49m\u001b[38;5;241m.\u001b[39mget(\u001b[38;5;124m\"\u001b[39m\u001b[38;5;124mspark.sql.catalog.iceberg.warehouse\u001b[39m\u001b[38;5;124m\"\u001b[39m, \u001b[38;5;124m\"\u001b[39m\u001b[38;5;124mNot Set\u001b[39m\u001b[38;5;124m\"\u001b[39m)\n\u001b[1;32m      3\u001b[0m \u001b[38;5;28mprint\u001b[39m(\u001b[38;5;124m\"\u001b[39m\u001b[38;5;124mWarehouse Path:\u001b[39m\u001b[38;5;124m\"\u001b[39m, warehouse_path)\n",
      "File \u001b[0;32m/opt/spark/python/pyspark/sql/session.py:784\u001b[0m, in \u001b[0;36mSparkSession.conf\u001b[0;34m(self)\u001b[0m\n\u001b[1;32m    757\u001b[0m \u001b[38;5;250m\u001b[39m\u001b[38;5;124;03m\"\"\"Runtime configuration interface for Spark.\u001b[39;00m\n\u001b[1;32m    758\u001b[0m \n\u001b[1;32m    759\u001b[0m \u001b[38;5;124;03mThis is the interface through which the user can get and set all Spark and Hadoop\u001b[39;00m\n\u001b[0;32m   (...)\u001b[0m\n\u001b[1;32m    781\u001b[0m \u001b[38;5;124;03m'value'\u001b[39;00m\n\u001b[1;32m    782\u001b[0m \u001b[38;5;124;03m\"\"\"\u001b[39;00m\n\u001b[1;32m    783\u001b[0m \u001b[38;5;28;01mif\u001b[39;00m \u001b[38;5;129;01mnot\u001b[39;00m \u001b[38;5;28mhasattr\u001b[39m(\u001b[38;5;28mself\u001b[39m, \u001b[38;5;124m\"\u001b[39m\u001b[38;5;124m_conf\u001b[39m\u001b[38;5;124m\"\u001b[39m):\n\u001b[0;32m--> 784\u001b[0m     \u001b[38;5;28mself\u001b[39m\u001b[38;5;241m.\u001b[39m_conf \u001b[38;5;241m=\u001b[39m RuntimeConfig(\u001b[38;5;28;43mself\u001b[39;49m\u001b[38;5;241;43m.\u001b[39;49m\u001b[43m_jsparkSession\u001b[49m\u001b[38;5;241;43m.\u001b[39;49m\u001b[43mconf\u001b[49m\u001b[43m(\u001b[49m\u001b[43m)\u001b[49m)\n\u001b[1;32m    785\u001b[0m \u001b[38;5;28;01mreturn\u001b[39;00m \u001b[38;5;28mself\u001b[39m\u001b[38;5;241m.\u001b[39m_conf\n",
      "File \u001b[0;32m/opt/spark/python/lib/py4j-0.10.9.7-src.zip/py4j/java_gateway.py:1321\u001b[0m, in \u001b[0;36mJavaMember.__call__\u001b[0;34m(self, *args)\u001b[0m\n\u001b[1;32m   1314\u001b[0m args_command, temp_args \u001b[38;5;241m=\u001b[39m \u001b[38;5;28mself\u001b[39m\u001b[38;5;241m.\u001b[39m_build_args(\u001b[38;5;241m*\u001b[39margs)\n\u001b[1;32m   1316\u001b[0m command \u001b[38;5;241m=\u001b[39m proto\u001b[38;5;241m.\u001b[39mCALL_COMMAND_NAME \u001b[38;5;241m+\u001b[39m\\\n\u001b[1;32m   1317\u001b[0m     \u001b[38;5;28mself\u001b[39m\u001b[38;5;241m.\u001b[39mcommand_header \u001b[38;5;241m+\u001b[39m\\\n\u001b[1;32m   1318\u001b[0m     args_command \u001b[38;5;241m+\u001b[39m\\\n\u001b[1;32m   1319\u001b[0m     proto\u001b[38;5;241m.\u001b[39mEND_COMMAND_PART\n\u001b[0;32m-> 1321\u001b[0m answer \u001b[38;5;241m=\u001b[39m \u001b[38;5;28;43mself\u001b[39;49m\u001b[38;5;241;43m.\u001b[39;49m\u001b[43mgateway_client\u001b[49m\u001b[38;5;241;43m.\u001b[39;49m\u001b[43msend_command\u001b[49m\u001b[43m(\u001b[49m\u001b[43mcommand\u001b[49m\u001b[43m)\u001b[49m\n\u001b[1;32m   1322\u001b[0m return_value \u001b[38;5;241m=\u001b[39m get_return_value(\n\u001b[1;32m   1323\u001b[0m     answer, \u001b[38;5;28mself\u001b[39m\u001b[38;5;241m.\u001b[39mgateway_client, \u001b[38;5;28mself\u001b[39m\u001b[38;5;241m.\u001b[39mtarget_id, \u001b[38;5;28mself\u001b[39m\u001b[38;5;241m.\u001b[39mname)\n\u001b[1;32m   1325\u001b[0m \u001b[38;5;28;01mfor\u001b[39;00m temp_arg \u001b[38;5;129;01min\u001b[39;00m temp_args:\n",
      "File \u001b[0;32m/opt/spark/python/lib/py4j-0.10.9.7-src.zip/py4j/java_gateway.py:1036\u001b[0m, in \u001b[0;36mGatewayClient.send_command\u001b[0;34m(self, command, retry, binary)\u001b[0m\n\u001b[1;32m   1015\u001b[0m \u001b[38;5;28;01mdef\u001b[39;00m \u001b[38;5;21msend_command\u001b[39m(\u001b[38;5;28mself\u001b[39m, command, retry\u001b[38;5;241m=\u001b[39m\u001b[38;5;28;01mTrue\u001b[39;00m, binary\u001b[38;5;241m=\u001b[39m\u001b[38;5;28;01mFalse\u001b[39;00m):\n\u001b[1;32m   1016\u001b[0m \u001b[38;5;250m    \u001b[39m\u001b[38;5;124;03m\"\"\"Sends a command to the JVM. This method is not intended to be\u001b[39;00m\n\u001b[1;32m   1017\u001b[0m \u001b[38;5;124;03m       called directly by Py4J users. It is usually called by\u001b[39;00m\n\u001b[1;32m   1018\u001b[0m \u001b[38;5;124;03m       :class:`JavaMember` instances.\u001b[39;00m\n\u001b[0;32m   (...)\u001b[0m\n\u001b[1;32m   1034\u001b[0m \u001b[38;5;124;03m     if `binary` is `True`.\u001b[39;00m\n\u001b[1;32m   1035\u001b[0m \u001b[38;5;124;03m    \"\"\"\u001b[39;00m\n\u001b[0;32m-> 1036\u001b[0m     connection \u001b[38;5;241m=\u001b[39m \u001b[38;5;28;43mself\u001b[39;49m\u001b[38;5;241;43m.\u001b[39;49m\u001b[43m_get_connection\u001b[49m\u001b[43m(\u001b[49m\u001b[43m)\u001b[49m\n\u001b[1;32m   1037\u001b[0m     \u001b[38;5;28;01mtry\u001b[39;00m:\n\u001b[1;32m   1038\u001b[0m         response \u001b[38;5;241m=\u001b[39m connection\u001b[38;5;241m.\u001b[39msend_command(command)\n",
      "File \u001b[0;32m/opt/spark/python/lib/py4j-0.10.9.7-src.zip/py4j/clientserver.py:284\u001b[0m, in \u001b[0;36mJavaClient._get_connection\u001b[0;34m(self)\u001b[0m\n\u001b[1;32m    281\u001b[0m     \u001b[38;5;28;01mpass\u001b[39;00m\n\u001b[1;32m    283\u001b[0m \u001b[38;5;28;01mif\u001b[39;00m connection \u001b[38;5;129;01mis\u001b[39;00m \u001b[38;5;28;01mNone\u001b[39;00m \u001b[38;5;129;01mor\u001b[39;00m connection\u001b[38;5;241m.\u001b[39msocket \u001b[38;5;129;01mis\u001b[39;00m \u001b[38;5;28;01mNone\u001b[39;00m:\n\u001b[0;32m--> 284\u001b[0m     connection \u001b[38;5;241m=\u001b[39m \u001b[38;5;28;43mself\u001b[39;49m\u001b[38;5;241;43m.\u001b[39;49m\u001b[43m_create_new_connection\u001b[49m\u001b[43m(\u001b[49m\u001b[43m)\u001b[49m\n\u001b[1;32m    285\u001b[0m \u001b[38;5;28;01mreturn\u001b[39;00m connection\n",
      "File \u001b[0;32m/opt/spark/python/lib/py4j-0.10.9.7-src.zip/py4j/clientserver.py:291\u001b[0m, in \u001b[0;36mJavaClient._create_new_connection\u001b[0;34m(self)\u001b[0m\n\u001b[1;32m    287\u001b[0m \u001b[38;5;28;01mdef\u001b[39;00m \u001b[38;5;21m_create_new_connection\u001b[39m(\u001b[38;5;28mself\u001b[39m):\n\u001b[1;32m    288\u001b[0m     connection \u001b[38;5;241m=\u001b[39m ClientServerConnection(\n\u001b[1;32m    289\u001b[0m         \u001b[38;5;28mself\u001b[39m\u001b[38;5;241m.\u001b[39mjava_parameters, \u001b[38;5;28mself\u001b[39m\u001b[38;5;241m.\u001b[39mpython_parameters,\n\u001b[1;32m    290\u001b[0m         \u001b[38;5;28mself\u001b[39m\u001b[38;5;241m.\u001b[39mgateway_property, \u001b[38;5;28mself\u001b[39m)\n\u001b[0;32m--> 291\u001b[0m     \u001b[43mconnection\u001b[49m\u001b[38;5;241;43m.\u001b[39;49m\u001b[43mconnect_to_java_server\u001b[49m\u001b[43m(\u001b[49m\u001b[43m)\u001b[49m\n\u001b[1;32m    292\u001b[0m     \u001b[38;5;28mself\u001b[39m\u001b[38;5;241m.\u001b[39mset_thread_connection(connection)\n\u001b[1;32m    293\u001b[0m     \u001b[38;5;28;01mreturn\u001b[39;00m connection\n",
      "File \u001b[0;32m/opt/spark/python/lib/py4j-0.10.9.7-src.zip/py4j/clientserver.py:438\u001b[0m, in \u001b[0;36mClientServerConnection.connect_to_java_server\u001b[0;34m(self)\u001b[0m\n\u001b[1;32m    435\u001b[0m \u001b[38;5;28;01mif\u001b[39;00m \u001b[38;5;28mself\u001b[39m\u001b[38;5;241m.\u001b[39mssl_context:\n\u001b[1;32m    436\u001b[0m     \u001b[38;5;28mself\u001b[39m\u001b[38;5;241m.\u001b[39msocket \u001b[38;5;241m=\u001b[39m \u001b[38;5;28mself\u001b[39m\u001b[38;5;241m.\u001b[39mssl_context\u001b[38;5;241m.\u001b[39mwrap_socket(\n\u001b[1;32m    437\u001b[0m         \u001b[38;5;28mself\u001b[39m\u001b[38;5;241m.\u001b[39msocket, server_hostname\u001b[38;5;241m=\u001b[39m\u001b[38;5;28mself\u001b[39m\u001b[38;5;241m.\u001b[39mjava_address)\n\u001b[0;32m--> 438\u001b[0m \u001b[38;5;28;43mself\u001b[39;49m\u001b[38;5;241;43m.\u001b[39;49m\u001b[43msocket\u001b[49m\u001b[38;5;241;43m.\u001b[39;49m\u001b[43mconnect\u001b[49m\u001b[43m(\u001b[49m\u001b[43m(\u001b[49m\u001b[38;5;28;43mself\u001b[39;49m\u001b[38;5;241;43m.\u001b[39;49m\u001b[43mjava_address\u001b[49m\u001b[43m,\u001b[49m\u001b[43m \u001b[49m\u001b[38;5;28;43mself\u001b[39;49m\u001b[38;5;241;43m.\u001b[39;49m\u001b[43mjava_port\u001b[49m\u001b[43m)\u001b[49m\u001b[43m)\u001b[49m\n\u001b[1;32m    439\u001b[0m \u001b[38;5;28mself\u001b[39m\u001b[38;5;241m.\u001b[39mstream \u001b[38;5;241m=\u001b[39m \u001b[38;5;28mself\u001b[39m\u001b[38;5;241m.\u001b[39msocket\u001b[38;5;241m.\u001b[39mmakefile(\u001b[38;5;124m\"\u001b[39m\u001b[38;5;124mrb\u001b[39m\u001b[38;5;124m\"\u001b[39m)\n\u001b[1;32m    440\u001b[0m \u001b[38;5;28mself\u001b[39m\u001b[38;5;241m.\u001b[39mis_connected \u001b[38;5;241m=\u001b[39m \u001b[38;5;28;01mTrue\u001b[39;00m\n",
      "\u001b[0;31mConnectionRefusedError\u001b[0m: [Errno 111] Connection refused"
     ]
    }
   ],
   "source": [
    "# Check a specific configuration\n",
    "warehouse_path = spark.conf.get(\"spark.sql.catalog.iceberg.warehouse\", \"Not Set\")\n",
    "print(\"Warehouse Path:\", warehouse_path)"
   ]
  },
  {
   "cell_type": "code",
   "execution_count": 121,
   "id": "d207a11b-b0a4-4662-bbe9-747d8f67be7d",
   "metadata": {},
   "outputs": [
    {
     "data": {
      "text/html": [
       "<table>\n",
       "    <tr>\n",
       "        <th>size</th>\n",
       "        <th>num_files</th>\n",
       "        <th>sorted</th>\n",
       "    </tr>\n",
       "    <tr>\n",
       "        <td>2896920</td>\n",
       "        <td>4</td>\n",
       "        <td>sorted</td>\n",
       "    </tr>\n",
       "    <tr>\n",
       "        <td>3211534</td>\n",
       "        <td>4</td>\n",
       "        <td>unsorted</td>\n",
       "    </tr>\n",
       "</table>"
      ],
      "text/plain": [
       "+---------+-----------+----------+\n",
       "|    size | num_files |   sorted |\n",
       "+---------+-----------+----------+\n",
       "| 2896920 |         4 |   sorted |\n",
       "| 3211534 |         4 | unsorted |\n",
       "+---------+-----------+----------+"
      ]
     },
     "execution_count": 121,
     "metadata": {},
     "output_type": "execute_result"
    }
   ],
   "source": [
    "%%sql\n",
    "\n",
    "SELECT SUM(file_size_in_bytes) as size, COUNT(1) as num_files, 'sorted' \n",
    "FROM demo.bootcamp.events_sorted.files\n",
    "\n",
    "UNION ALL\n",
    "SELECT SUM(file_size_in_bytes) as size, COUNT(1) as num_files, 'unsorted' \n",
    "FROM demo.bootcamp.events_unsorted.files\n",
    "\n",
    "\n",
    "\n"
   ]
  },
  {
   "cell_type": "code",
   "execution_count": 90,
   "id": "a93db4d6-ac15-4d0e-83da-77b93ad618da",
   "metadata": {},
   "outputs": [
    {
     "data": {
      "text/html": [
       "<table>\n",
       "    <tr>\n",
       "        <th>size</th>\n",
       "        <th>num_files</th>\n",
       "    </tr>\n",
       "    <tr>\n",
       "        <td>3145713</td>\n",
       "        <td>5</td>\n",
       "    </tr>\n",
       "</table>"
      ],
      "text/plain": [
       "+---------+-----------+\n",
       "|    size | num_files |\n",
       "+---------+-----------+\n",
       "| 3145713 |         5 |\n",
       "+---------+-----------+"
      ]
     },
     "execution_count": 90,
     "metadata": {},
     "output_type": "execute_result"
    }
   ],
   "source": [
    "%%sql\n",
    "SELECT SUM(file_size_in_bytes) as size, COUNT(1) as num_files FROM demo.bootcamp.events.files;"
   ]
  },
  {
   "cell_type": "code",
   "execution_count": null,
   "id": "f755437c",
   "metadata": {
    "collapsed": false,
    "jupyter": {
     "outputs_hidden": false
    },
    "pycharm": {
     "name": "#%%\n"
    }
   },
   "outputs": [],
   "source": [
    "%%sql \n",
    "SELECT COUNT(1) FROM bootcamp.matches_bucketed.files"
   ]
  },
  {
   "cell_type": "code",
   "execution_count": 4,
   "id": "674f173d-86ca-4637-9332-37ce04a81451",
   "metadata": {},
   "outputs": [
    {
     "data": {
      "text/html": [
       "<table>\n",
       "    <tr>\n",
       "        <th>count(1)</th>\n",
       "    </tr>\n",
       "    <tr>\n",
       "        <td>3665</td>\n",
       "    </tr>\n",
       "</table>"
      ],
      "text/plain": [
       "+----------+\n",
       "| count(1) |\n",
       "+----------+\n",
       "|     3665 |\n",
       "+----------+"
      ]
     },
     "execution_count": 4,
     "metadata": {},
     "output_type": "execute_result"
    }
   ],
   "source": []
  },
  {
   "cell_type": "code",
   "execution_count": null,
   "id": "591ba0b7-2e6f-420a-960d-95e5734b0166",
   "metadata": {},
   "outputs": [],
   "source": []
  }
 ],
 "metadata": {
  "kernelspec": {
   "display_name": "Python 3 (ipykernel)",
   "language": "python",
   "name": "python3"
  },
  "language_info": {
   "codemirror_mode": {
    "name": "ipython",
    "version": 3
   },
   "file_extension": ".py",
   "mimetype": "text/x-python",
   "name": "python",
   "nbconvert_exporter": "python",
   "pygments_lexer": "ipython3",
   "version": "3.9.18"
  }
 },
 "nbformat": 4,
 "nbformat_minor": 5
}
