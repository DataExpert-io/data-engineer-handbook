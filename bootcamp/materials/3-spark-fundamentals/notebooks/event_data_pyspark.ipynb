{
 "cells": [
  {
   "cell_type": "code",
   "execution_count": 7,
   "id": "81cca085-dba2-42eb-a13b-fa64b6e86583",
   "metadata": {},
   "outputs": [
    {
     "name": "stdout",
     "output_type": "stream",
     "text": [
      "+--------------------+--------------------+--------------+---------+-------------+-------------------+--------------------+-------------------+\n",
      "|                 url|            referrer|browser_family|os_family|device_family|               host|          event_time|         event_date|\n",
      "+--------------------+--------------------+--------------+---------+-------------+-------------------+--------------------+-------------------+\n",
      "|                   /|                null|        Chrome| Mac OS X|        Other|     localhost:3000|2019-01-12 20:04:...|2019-01-12 00:00:00|\n",
      "|                   /|                null|        Chrome| Mac OS X|        Other|www.zachwilson.tech|2019-01-13 04:06:...|2019-01-13 00:00:00|\n",
      "|              /about|https://www.zachw...|        Chrome| Mac OS X|        Other|www.zachwilson.tech|2019-01-13 04:06:...|2019-01-13 00:00:00|\n",
      "|/images/zach-prof...|https://www.zachw...|        Chrome| Mac OS X|        Other|www.zachwilson.tech|2019-01-13 04:06:...|2019-01-13 00:00:00|\n",
      "|              /about|                null|        Chrome| Mac OS X|        Other|www.zachwilson.tech|2019-01-13 04:10:...|2019-01-13 00:00:00|\n",
      "|               /blog|https://www.zachw...|        Chrome| Mac OS X|        Other|www.zachwilson.tech|2019-01-13 04:10:...|2019-01-13 00:00:00|\n",
      "|              /about|https://www.zachw...|        Chrome| Mac OS X|        Other|www.zachwilson.tech|2019-01-13 04:11:...|2019-01-13 00:00:00|\n",
      "|                   /|                null|   FacebookBot|    Other|       Spider|www.zachwilson.tech|2019-01-13 06:09:...|2019-01-13 00:00:00|\n",
      "|                   /|                null|   FacebookBot|    Other|       Spider|www.zachwilson.tech|2019-01-13 06:09:...|2019-01-13 00:00:00|\n",
      "|               /blog|https://www.zachw...|        Chrome| Mac OS X|        Other|www.zachwilson.tech|2019-01-13 04:11:...|2019-01-13 00:00:00|\n",
      "|            /contact|https://www.zachw...|        Chrome| Mac OS X|        Other|www.zachwilson.tech|2019-01-13 04:13:...|2019-01-13 00:00:00|\n",
      "|            /contact|https://www.zachw...|        Chrome| Mac OS X|        Other|www.zachwilson.tech|2019-01-13 04:13:...|2019-01-13 00:00:00|\n",
      "|            /contact|                null|     Googlebot|    Other|       Spider|www.zachwilson.tech|2019-01-13 04:14:...|2019-01-13 00:00:00|\n",
      "|         /robots.txt|                null|     Googlebot|    Other|       Spider|www.zachwilson.tech|2019-01-13 04:14:...|2019-01-13 00:00:00|\n",
      "|         /robots.txt|                null|     Googlebot|    Other|       Spider|   www.eczachly.com|2019-01-13 04:14:...|2019-01-13 00:00:00|\n",
      "|            /contact|                null|     Googlebot|  Android|       Spider|www.zachwilson.tech|2019-01-13 04:14:...|2019-01-13 00:00:00|\n",
      "|            /contact|                null|     Googlebot|    Other|       Spider|www.zachwilson.tech|2019-01-13 04:15:...|2019-01-13 00:00:00|\n",
      "|              /about|https://www.zachw...|        Chrome| Mac OS X|        Other|www.zachwilson.tech|2019-01-13 04:15:...|2019-01-13 00:00:00|\n",
      "|               /blog|                null|     Googlebot|  Android|       Spider|www.zachwilson.tech|2019-01-13 04:15:...|2019-01-13 00:00:00|\n",
      "|              /about|                null|     Googlebot|  Android|       Spider|www.zachwilson.tech|2019-01-13 04:15:...|2019-01-13 00:00:00|\n",
      "+--------------------+--------------------+--------------+---------+-------------+-------------------+--------------------+-------------------+\n",
      "only showing top 20 rows\n",
      "\n"
     ]
    }
   ],
   "source": [
    "from pyspark.sql import SparkSession\n",
    "from pyspark.sql.functions import expr, col\n",
    "spark = SparkSession.builder.appName(\"Jupyter\").getOrCreate()\n",
    "\n",
    "spark\n",
    "\n",
    "df = spark.read.option(\"header\", \"true\").csv(\"/home/iceberg/data/events.csv\").withColumn(\"event_date\", expr(\"DATE_TRUNC('day', event_time)\"))\n",
    "\n",
    "df.show()"
   ]
  },
  {
   "cell_type": "code",
   "execution_count": 54,
   "id": "dce068df-3e21-429a-8716-abdd13e9406c",
   "metadata": {},
   "outputs": [
    {
     "name": "stdout",
     "output_type": "stream",
     "text": [
      "+--------------------+--------+----------------+---------+-------------+-------------------+--------------------+-------------------+\n",
      "|                 url|referrer|  browser_family|os_family|device_family|               host|          event_time|         event_date|\n",
      "+--------------------+--------+----------------+---------+-------------+-------------------+--------------------+-------------------+\n",
      "|                   /|    null|          Chrome| Mac OS X|        Other|   www.eczachly.com|2019-01-14 11:23:...|2019-01-14 00:00:00|\n",
      "|               /blog|    null|     FacebookBot|    Other|       Spider|   www.eczachly.com|2019-01-14 04:41:...|2019-01-14 00:00:00|\n",
      "|               /blog|    null|     FacebookBot|    Other|       Spider|   www.eczachly.com|2019-01-14 04:41:...|2019-01-14 00:00:00|\n",
      "|         /robots.txt|    null|       Googlebot|    Other|       Spider|   www.eczachly.com|2019-01-14 01:10:...|2019-01-14 00:00:00|\n",
      "|        /sitemap.xml|    null|       Googlebot|    Other|       Spider|   www.eczachly.com|2019-01-14 01:10:...|2019-01-14 00:00:00|\n",
      "|         /robots.txt|    null|       Googlebot|    Other|       Spider|   www.eczachly.com|2019-01-14 05:03:...|2019-01-14 00:00:00|\n",
      "|                   /|    null|       Googlebot|  Android|       Spider|   www.eczachly.com|2019-01-14 05:03:...|2019-01-14 00:00:00|\n",
      "|         /robots.txt|    null|       Googlebot|    Other|       Spider|   www.eczachly.com|2019-01-14 18:17:...|2019-01-14 00:00:00|\n",
      "|                   /|    null|       Googlebot|  Android|       Spider|   www.eczachly.com|2019-01-14 18:17:...|2019-01-14 00:00:00|\n",
      "|            /contact|    null|       Googlebot|  Android|       Spider|   www.eczachly.com|2019-01-14 18:19:...|2019-01-14 00:00:00|\n",
      "|               /blog|    null|       Googlebot|  Android|       Spider|   www.eczachly.com|2019-01-14 18:21:...|2019-01-14 00:00:00|\n",
      "|              /about|    null|       Googlebot|  Android|       Spider|   www.eczachly.com|2019-01-14 18:21:...|2019-01-14 00:00:00|\n",
      "|/blog/so-what-exa...|    null|       Googlebot|  Android|       Spider|   www.eczachly.com|2019-01-14 18:23:...|2019-01-14 00:00:00|\n",
      "|                   /|    null|Nimbostratus-Bot|    Other|        Other|   www.eczachly.com|2019-01-14 16:14:...|2019-01-14 00:00:00|\n",
      "|                   /|    null|Nimbostratus-Bot|    Other|        Other|   www.eczachly.com|2019-01-14 21:08:...|2019-01-14 00:00:00|\n",
      "|                   /|    null|           Other|    Other|        Other|   www.eczachly.com|2019-01-14 10:51:...|2019-01-14 00:00:00|\n",
      "|                   /|    null|           Other|    Other|        Other|   www.eczachly.com|2019-01-14 19:50:...|2019-01-14 00:00:00|\n",
      "|         /robots.txt|    null|       YandexBot|    Other|       Spider|   www.eczachly.com|2019-01-14 19:30:...|2019-01-14 00:00:00|\n",
      "|                   /|    null|       YandexBot|    Other|       Spider|   www.eczachly.com|2019-01-14 19:30:...|2019-01-14 00:00:00|\n",
      "|                   /|    null|          Chrome| Mac OS X|        Other|www.zachwilson.tech|2019-01-14 00:05:...|2019-01-14 00:00:00|\n",
      "+--------------------+--------+----------------+---------+-------------+-------------------+--------------------+-------------------+\n",
      "only showing top 20 rows\n",
      "\n"
     ]
    }
   ],
   "source": [
    "sorted = df.repartition(10, col(\"event_date\")) \\\n",
    "        .sortWithinPartitions(col(\"event_date\"), col(\"host\"), col(\"browser_family\")) \\\n",
    "        .withColumn(\"event_time\", col(\"event_time\").cast(\"timestamp\")) \\\n",
    "\n",
    "sorted.show()"
   ]
  },
  {
   "cell_type": "code",
   "execution_count": 9,
   "id": "d800dca7-2737-4192-b5c0-c1806c105e15",
   "metadata": {},
   "outputs": [
    {
     "data": {
      "text/html": [
       "<table>\n",
       "    <tr>\n",
       "    </tr>\n",
       "</table>"
      ],
      "text/plain": [
       "++\n",
       "||\n",
       "++\n",
       "++"
      ]
     },
     "execution_count": 9,
     "metadata": {},
     "output_type": "execute_result"
    }
   ],
   "source": [
    "%%sql\n",
    "\n",
    "CREATE DATABASE IF NOT EXISTS bootcamp"
   ]
  },
  {
   "cell_type": "code",
   "execution_count": 55,
   "id": "e83cd813-d5c0-4d67-8285-849b882b8bfa",
   "metadata": {},
   "outputs": [
    {
     "data": {
      "text/html": [
       "<table>\n",
       "    <tr>\n",
       "    </tr>\n",
       "</table>"
      ],
      "text/plain": [
       "++\n",
       "||\n",
       "++\n",
       "++"
      ]
     },
     "execution_count": 55,
     "metadata": {},
     "output_type": "execute_result"
    }
   ],
   "source": [
    "%%sql\n",
    "\n",
    "DROP TABLE IF EXISTS bootcamp.events"
   ]
  },
  {
   "cell_type": "code",
   "execution_count": 56,
   "id": "d1b197a9-1b63-4130-acbe-01418eede0e5",
   "metadata": {
    "scrolled": true
   },
   "outputs": [
    {
     "data": {
      "text/html": [
       "<table>\n",
       "    <tr>\n",
       "    </tr>\n",
       "</table>"
      ],
      "text/plain": [
       "++\n",
       "||\n",
       "++\n",
       "++"
      ]
     },
     "execution_count": 56,
     "metadata": {},
     "output_type": "execute_result"
    }
   ],
   "source": [
    "%%sql\n",
    "\n",
    "CREATE TABLE IF NOT EXISTS bootcamp.events (\n",
    "    url STRING,\n",
    "    referrer STRING,\n",
    "    browser_family STRING,\n",
    "    os_family STRING,\n",
    "    device_family STRING,\n",
    "    host STRING,\n",
    "    event_time TIMESTAMP,\n",
    "    event_date DATE\n",
    ")\n",
    "USING iceberg\n",
    "PARTITIONED BY (years(event_date));\n"
   ]
  },
  {
   "cell_type": "code",
   "execution_count": 112,
   "id": "c40b143f-295e-4875-bd7f-12409312b800",
   "metadata": {
    "scrolled": true
   },
   "outputs": [
    {
     "data": {
      "text/html": [
       "<table>\n",
       "    <tr>\n",
       "    </tr>\n",
       "</table>"
      ],
      "text/plain": [
       "++\n",
       "||\n",
       "++\n",
       "++"
      ]
     },
     "execution_count": 112,
     "metadata": {},
     "output_type": "execute_result"
    }
   ],
   "source": [
    "%%sql\n",
    "\n",
    "\n",
    "CREATE TABLE IF NOT EXISTS bootcamp.events_sorted (\n",
    "    url STRING,\n",
    "    referrer STRING,\n",
    "    browser_family STRING,\n",
    "    os_family STRING,\n",
    "    device_family STRING,\n",
    "    host STRING,\n",
    "    event_time TIMESTAMP,\n",
    "    event_date DATE\n",
    ")\n",
    "USING iceberg;"
   ]
  },
  {
   "cell_type": "code",
   "execution_count": 113,
   "id": "00c86e79-a911-464c-ad58-acc92859dcc6",
   "metadata": {
    "scrolled": true
   },
   "outputs": [
    {
     "data": {
      "text/html": [
       "<table>\n",
       "    <tr>\n",
       "    </tr>\n",
       "</table>"
      ],
      "text/plain": [
       "++\n",
       "||\n",
       "++\n",
       "++"
      ]
     },
     "execution_count": 113,
     "metadata": {},
     "output_type": "execute_result"
    }
   ],
   "source": [
    "%%sql\n",
    "\n",
    "\n",
    "CREATE TABLE IF NOT EXISTS bootcamp.events_unsorted (\n",
    "    url STRING,\n",
    "    referrer STRING,\n",
    "    browser_family STRING,\n",
    "    os_family STRING,\n",
    "    device_family STRING,\n",
    "    host STRING,\n",
    "    event_time TIMESTAMP,\n",
    "    event_date DATE\n",
    ")\n",
    "USING iceberg;"
   ]
  },
  {
   "cell_type": "code",
   "execution_count": 120,
   "id": "2c1254bc-9ecf-4c86-bfd9-de81ecfbb78b",
   "metadata": {},
   "outputs": [],
   "source": [
    "\n",
    "start_df = df.repartition(4, col(\"event_date\")).withColumn(\"event_time\", col(\"event_time\").cast(\"timestamp\")) \\\n",
    "    \n",
    "\n",
    "first_sort_df = start_df.sortWithinPartitions(col(\"event_date\"), col(\"browser_family\"), col(\"host\"))\n",
    "\n",
    "sorted = df.repartition(10, col(\"event_date\")) \\\n",
    "        .sortWithinPartitions(col(\"event_date\")) \\\n",
    "        .withColumn(\"event_time\", col(\"event_time\").cast(\"timestamp\")) \\\n",
    "\n",
    "start_df.write.mode(\"overwrite\").saveAsTable(\"bootcamp.events_unsorted\")\n",
    "first_sort_df.write.mode(\"overwrite\").saveAsTable(\"bootcamp.events_sorted\")"
   ]
  },
  {
   "cell_type": "code",
   "execution_count": 121,
   "id": "d207a11b-b0a4-4662-bbe9-747d8f67be7d",
   "metadata": {},
   "outputs": [
    {
     "data": {
      "text/html": [
       "<table>\n",
       "    <tr>\n",
       "        <th>size</th>\n",
       "        <th>num_files</th>\n",
       "        <th>sorted</th>\n",
       "    </tr>\n",
       "    <tr>\n",
       "        <td>2896920</td>\n",
       "        <td>4</td>\n",
       "        <td>sorted</td>\n",
       "    </tr>\n",
       "    <tr>\n",
       "        <td>3211534</td>\n",
       "        <td>4</td>\n",
       "        <td>unsorted</td>\n",
       "    </tr>\n",
       "</table>"
      ],
      "text/plain": [
       "+---------+-----------+----------+\n",
       "|    size | num_files |   sorted |\n",
       "+---------+-----------+----------+\n",
       "| 2896920 |         4 |   sorted |\n",
       "| 3211534 |         4 | unsorted |\n",
       "+---------+-----------+----------+"
      ]
     },
     "execution_count": 121,
     "metadata": {},
     "output_type": "execute_result"
    }
   ],
   "source": [
    "%%sql\n",
    "\n",
    "SELECT SUM(file_size_in_bytes) as size, COUNT(1) as num_files, 'sorted' \n",
    "FROM demo.bootcamp.events_sorted.files\n",
    "\n",
    "UNION ALL\n",
    "SELECT SUM(file_size_in_bytes) as size, COUNT(1) as num_files, 'unsorted' \n",
    "FROM demo.bootcamp.events_unsorted.files\n",
    "\n",
    "\n",
    "\n"
   ]
  },
  {
   "cell_type": "code",
   "execution_count": 90,
   "id": "a93db4d6-ac15-4d0e-83da-77b93ad618da",
   "metadata": {},
   "outputs": [
    {
     "data": {
      "text/html": [
       "<table>\n",
       "    <tr>\n",
       "        <th>size</th>\n",
       "        <th>num_files</th>\n",
       "    </tr>\n",
       "    <tr>\n",
       "        <td>3145713</td>\n",
       "        <td>5</td>\n",
       "    </tr>\n",
       "</table>"
      ],
      "text/plain": [
       "+---------+-----------+\n",
       "|    size | num_files |\n",
       "+---------+-----------+\n",
       "| 3145713 |         5 |\n",
       "+---------+-----------+"
      ]
     },
     "execution_count": 90,
     "metadata": {},
     "output_type": "execute_result"
    }
   ],
   "source": [
    "%%sql\n",
    "SELECT SUM(file_size_in_bytes) as size, COUNT(1) as num_files FROM demo.bootcamp.events.files;"
   ]
  },
  {
   "cell_type": "code",
   "execution_count": null,
   "outputs": [],
   "source": [
    "%%sql \n",
    "SELECT COUNT(1) FROM bootcamp.matches_bucketed.files"
   ],
   "metadata": {
    "collapsed": false,
    "pycharm": {
     "name": "#%%\n"
    }
   }
  },
  {
   "cell_type": "code",
   "execution_count": 4,
   "id": "674f173d-86ca-4637-9332-37ce04a81451",
   "metadata": {},
   "outputs": [
    {
     "data": {
      "text/html": [
       "<table>\n",
       "    <tr>\n",
       "        <th>count(1)</th>\n",
       "    </tr>\n",
       "    <tr>\n",
       "        <td>3665</td>\n",
       "    </tr>\n",
       "</table>"
      ],
      "text/plain": [
       "+----------+\n",
       "| count(1) |\n",
       "+----------+\n",
       "|     3665 |\n",
       "+----------+"
      ]
     },
     "execution_count": 4,
     "metadata": {},
     "output_type": "execute_result"
    }
   ],
   "source": []
  },
  {
   "cell_type": "code",
   "execution_count": null,
   "id": "591ba0b7-2e6f-420a-960d-95e5734b0166",
   "metadata": {},
   "outputs": [],
   "source": []
  }
 ],
 "metadata": {
  "kernelspec": {
   "display_name": "Python 3 (ipykernel)",
   "language": "python",
   "name": "python3"
  },
  "language_info": {
   "codemirror_mode": {
    "name": "ipython",
    "version": 3
   },
   "file_extension": ".py",
   "mimetype": "text/x-python",
   "name": "python",
   "nbconvert_exporter": "python",
   "pygments_lexer": "ipython3",
   "version": "3.9.17"
  }
 },
 "nbformat": 4,
 "nbformat_minor": 5
}