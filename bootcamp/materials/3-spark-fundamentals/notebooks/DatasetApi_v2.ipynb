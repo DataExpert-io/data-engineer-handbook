{
 "cells": [
  {
   "cell_type": "code",
   "execution_count": 1,
   "id": "b33ba3da-d8bb-4813-bbef-ce847fb37151",
   "metadata": {},
   "outputs": [
    {
     "data": {
      "text/plain": [
       "Intitializing Scala interpreter ..."
      ]
     },
     "metadata": {},
     "output_type": "display_data"
    },
    {
     "data": {
      "text/plain": [
       "Spark Web UI available at http://d772c787a954:4041\n",
       "SparkContext available as 'sc' (version = 3.5.1, master = local[*], app id = local-1734655333256)\n",
       "SparkSession available as 'spark'\n"
      ]
     },
     "metadata": {},
     "output_type": "display_data"
    },
    {
     "data": {
      "text/plain": [
       "import org.apache.spark.sql.SparkSession\n",
       "sparkSession: org.apache.spark.sql.SparkSession = org.apache.spark.sql.SparkSession@5f152f7f\n"
      ]
     },
     "execution_count": 1,
     "metadata": {},
     "output_type": "execute_result"
    }
   ],
   "source": [
    "import org.apache.spark.sql.SparkSession \n",
    "\n",
    "val sparkSession = SparkSession.builder.appName(\"Juptyer\").getOrCreate()"
   ]
  },
  {
   "cell_type": "markdown",
   "id": "44fd0109-04c6-402a-a8fe-3d7e078c0d22",
   "metadata": {},
   "source": [
    "## Events - DATASET"
   ]
  },
  {
   "cell_type": "code",
   "execution_count": 2,
   "id": "6ebe85b4-4dc3-4e95-a8ae-664272ecae73",
   "metadata": {},
   "outputs": [
    {
     "data": {
      "text/plain": [
       "defined class Event\n",
       "dummyData: List[Event] = List(Event(None,None,linkedin,eczachly.com,/signup,2023-01-01), Event(None,None,twitter,eczachly.com,/signup,2023-01-01))\n"
      ]
     },
     "execution_count": 2,
     "metadata": {},
     "output_type": "execute_result"
    }
   ],
   "source": [
    "// If something is nullabe, you need to wrap the value type in Option[] - this helps enforce assumptions about the pipeline\n",
    "case class Event (\n",
    "    user_id: Option[Integer],\n",
    "    device_id: Option[Integer],\n",
    "    referrer: String,\n",
    "    host: String,\n",
    "    url: String,\n",
    "    event_time: String\n",
    ")\n",
    "\n",
    "val dummyData = List(\n",
    "        Event(user_id=None, device_id=None, referrer=\"linkedin\", host=\"eczachly.com\", url=\"/signup\", event_time=\"2023-01-01\"),\n",
    "        Event(user_id=None, device_id=None, referrer=\"twitter\", host=\"eczachly.com\", url=\"/signup\", event_time=\"2023-01-01\")\n",
    "   )"
   ]
  },
  {
   "cell_type": "code",
   "execution_count": 3,
   "id": "ce3eba90-715d-4467-9247-d7a8ec628206",
   "metadata": {},
   "outputs": [
    {
     "data": {
      "text/plain": [
       "events: org.apache.spark.sql.Dataset[Event] = [user_id: int, device_id: int ... 4 more fields]\n"
      ]
     },
     "execution_count": 3,
     "metadata": {},
     "output_type": "execute_result"
    }
   ],
   "source": [
    "// Applying this case class before hand is very powerful, enforces Nullability/non-nullability at runtime!\n",
    "val events = sparkSession.read.option(\"header\", \"true\")\n",
    "                        .option(\"inferSchema\", \"true\")\n",
    "                        .csv(\"/home/iceberg/data/events.csv\")\n",
    "                        .as[Event]"
   ]
  },
  {
   "cell_type": "code",
   "execution_count": 4,
   "id": "7184d68f-a4cf-4301-862d-327fab56c9b9",
   "metadata": {},
   "outputs": [
    {
     "data": {
      "text/plain": [
       "res0: org.apache.spark.sql.DataFrame = [summary: string, user_id: string ... 4 more fields]\n"
      ]
     },
     "execution_count": 4,
     "metadata": {},
     "output_type": "execute_result"
    }
   ],
   "source": [
    "events.describe()"
   ]
  },
  {
   "cell_type": "code",
   "execution_count": 5,
   "id": "98fa4941-2c1f-416e-bb66-5b6f85a3d5c9",
   "metadata": {},
   "outputs": [
    {
     "name": "stdout",
     "output_type": "stream",
     "text": [
      "+-----------+---------+--------+--------------------+---+--------------------+\n",
      "|    user_id|device_id|referrer|                host|url|          event_time|\n",
      "+-----------+---------+--------+--------------------+---+--------------------+\n",
      "| 1037710827|532630305|    NULL| www.zachwilson.tech|  /|2021-03-08 17:27:...|\n",
      "|  925588856|532630305|    NULL|    www.eczachly.com|  /|2021-05-10 11:26:...|\n",
      "|-1180485268|532630305|    NULL|admin.zachwilson....|  /|2021-02-17 16:19:...|\n",
      "|-1044833855|532630305|    NULL| www.zachwilson.tech|  /|2021-09-24 15:53:...|\n",
      "|  747494706|532630305|    NULL| www.zachwilson.tech|  /|2021-09-26 16:03:...|\n",
      "+-----------+---------+--------+--------------------+---+--------------------+\n",
      "only showing top 5 rows\n",
      "\n"
     ]
    }
   ],
   "source": [
    "events.show(5)"
   ]
  },
  {
   "cell_type": "code",
   "execution_count": 6,
   "id": "01c7e46f-e2ce-4cd8-a80d-024adcaee8f9",
   "metadata": {},
   "outputs": [
    {
     "data": {
      "text/plain": [
       "res2: Long = 404814\n"
      ]
     },
     "execution_count": 6,
     "metadata": {},
     "output_type": "execute_result"
    }
   ],
   "source": [
    "events.count()"
   ]
  },
  {
   "cell_type": "code",
   "execution_count": 7,
   "id": "5e18d496-4a39-4691-8689-d863e3d0d4bd",
   "metadata": {},
   "outputs": [
    {
     "data": {
      "text/plain": [
       "filteredViaDataset: org.apache.spark.sql.Dataset[Event] = [user_id: int, device_id: int ... 4 more fields]\n"
      ]
     },
     "execution_count": 7,
     "metadata": {},
     "output_type": "execute_result"
    }
   ],
   "source": [
    "val filteredViaDataset = events.filter(event => event.user_id.isDefined && event.device_id.isDefined)"
   ]
  },
  {
   "cell_type": "code",
   "execution_count": 8,
   "id": "75a006e3-be1c-4695-9547-7a8deefd4c29",
   "metadata": {},
   "outputs": [
    {
     "data": {
      "text/plain": [
       "res3: Long = 404747\n"
      ]
     },
     "execution_count": 8,
     "metadata": {},
     "output_type": "execute_result"
    }
   ],
   "source": [
    "filteredViaDataset.count()"
   ]
  },
  {
   "cell_type": "markdown",
   "id": "422990b5-e789-4b34-891f-0d9e2a66f8b4",
   "metadata": {},
   "source": [
    "## Events - DataFrame"
   ]
  },
  {
   "cell_type": "code",
   "execution_count": 9,
   "id": "b2bb886e-0346-4850-90e4-9a3c7dbdc4df",
   "metadata": {},
   "outputs": [
    {
     "data": {
      "text/plain": [
       "filteredViaDataFrame: org.apache.spark.sql.Dataset[org.apache.spark.sql.Row] = [user_id: int, device_id: int ... 4 more fields]\n"
      ]
     },
     "execution_count": 9,
     "metadata": {},
     "output_type": "execute_result"
    }
   ],
   "source": [
    "val filteredViaDataFrame = events.toDF().where($\"user_id\".isNotNull && $\"device_id\".isNotNull)"
   ]
  },
  {
   "cell_type": "code",
   "execution_count": 10,
   "id": "e44fa1b6-7919-43e1-ae7f-34bf95157763",
   "metadata": {},
   "outputs": [
    {
     "data": {
      "text/plain": [
       "res4: Long = 404747\n"
      ]
     },
     "execution_count": 10,
     "metadata": {},
     "output_type": "execute_result"
    }
   ],
   "source": [
    "filteredViaDataFrame.count()"
   ]
  },
  {
   "cell_type": "markdown",
   "id": "2af07054-c54d-461b-9080-2be644f42562",
   "metadata": {},
   "source": [
    "## Evnets - SQL"
   ]
  },
  {
   "cell_type": "code",
   "execution_count": 14,
   "id": "e39a1601-d202-480a-a643-6311bc44e0aa",
   "metadata": {},
   "outputs": [],
   "source": [
    "/*\n",
    "Ran this code in another notebook to create the events table\n",
    "from pyspark.sql import SparkSession\n",
    "from pyspark.sql.functions import expr, col\n",
    "spark = SparkSession.builder.appName(\"Jupyter\").getOrCreate()\n",
    "events = spark.read.option(\"header\", \"true\").csv(\"/home/iceberg/data/events.csv\").withColumn(\"event_date\", expr(\"DATE_TRUNC('day', event_time)\"))\n",
    "df.write.mode(\"overwrite\").saveAsTable(\"bootcamp.events_dump\")\n",
    "*/"
   ]
  },
  {
   "cell_type": "code",
   "execution_count": 15,
   "id": "25903287-b065-44be-b303-bc0bf6c4172e",
   "metadata": {},
   "outputs": [
    {
     "data": {
      "text/plain": [
       "filteredViaSparkSql: org.apache.spark.sql.DataFrame = [user_id: string, device_id: string ... 5 more fields]\n"
      ]
     },
     "execution_count": 15,
     "metadata": {},
     "output_type": "execute_result"
    }
   ],
   "source": [
    "val filteredViaSparkSql = sparkSession.sql(\"SELECT * FROM demo.bootcamp.events_dump WHERE user_id IS NOT NULL AND device_id IS NOT NULL\")"
   ]
  },
  {
   "cell_type": "code",
   "execution_count": 16,
   "id": "8bba07f1-acae-4c95-88bf-463fd1210ae1",
   "metadata": {},
   "outputs": [
    {
     "data": {
      "text/plain": [
       "res7: Long = 404747\n"
      ]
     },
     "execution_count": 16,
     "metadata": {},
     "output_type": "execute_result"
    }
   ],
   "source": [
    "filteredViaSparkSql.count()"
   ]
  },
  {
   "cell_type": "markdown",
   "id": "1f3ac42a-904f-4f79-b24b-427b22d8d75e",
   "metadata": {},
   "source": [
    "## Devices"
   ]
  },
  {
   "cell_type": "code",
   "execution_count": 51,
   "id": "b235126b-ef2b-416d-835a-4ca746e2ac75",
   "metadata": {},
   "outputs": [
    {
     "data": {
      "text/plain": [
       "import spark.implicits._\n",
       "defined class Device\n",
       "devices: org.apache.spark.sql.Dataset[Device] = [device_id: int, browser_type: string ... 2 more fields]\n"
      ]
     },
     "execution_count": 51,
     "metadata": {},
     "output_type": "execute_result"
    }
   ],
   "source": [
    "import spark.implicits._\n",
    "\n",
    "case class Device (\n",
    "    device_id: Integer,\n",
    "    browser_type: String,\n",
    "    os_type: String,\n",
    "    device_type: String\n",
    ")\n",
    "\n",
    "val devices = sparkSession.read.option(\"header\", \"true\")\n",
    "                        .option(\"inferSchema\", \"true\")\n",
    "                        .csv(\"/home/iceberg/data/devices.csv\")\n",
    "                        .as[Device]"
   ]
  },
  {
   "cell_type": "code",
   "execution_count": 52,
   "id": "dedd9ee8-3306-44f2-934d-e6d1a14c9d39",
   "metadata": {},
   "outputs": [
    {
     "data": {
      "text/plain": [
       "res33: org.apache.spark.sql.DataFrame = [summary: string, device_id: string ... 3 more fields]\n"
      ]
     },
     "execution_count": 52,
     "metadata": {},
     "output_type": "execute_result"
    }
   ],
   "source": [
    "devices.describe()"
   ]
  },
  {
   "cell_type": "code",
   "execution_count": 53,
   "id": "d5c1d10b-52ac-4d19-b5d9-ec8b17743ffd",
   "metadata": {},
   "outputs": [
    {
     "name": "stdout",
     "output_type": "stream",
     "text": [
      "+-----------+--------------------+-------+------------------+\n",
      "|  device_id|        browser_type|os_type|       device_type|\n",
      "+-----------+--------------------+-------+------------------+\n",
      "|-2147042689|             Firefox| Ubuntu|             Other|\n",
      "|-2146219609|            WhatsApp|  Other|            Spider|\n",
      "|-2145574618|       Chrome Mobile|Android|Generic Smartphone|\n",
      "|-2144707350|Chrome Mobile Web...|Android|  Samsung SM-G988B|\n",
      "|-2143813999|Mobile Safari UI/...|    iOS|            iPhone|\n",
      "+-----------+--------------------+-------+------------------+\n",
      "only showing top 5 rows\n",
      "\n"
     ]
    }
   ],
   "source": [
    "devices.show(5)"
   ]
  },
  {
   "cell_type": "code",
   "execution_count": 54,
   "id": "1aab8651-bb7c-4732-8782-97890b0cacab",
   "metadata": {},
   "outputs": [
    {
     "name": "stdout",
     "output_type": "stream",
     "text": [
      "+-----------+-----+\n",
      "|  device_id|count|\n",
      "+-----------+-----+\n",
      "|-2001648078|    1|\n",
      "|-1649034749|    1|\n",
      "|-1529640407|    1|\n",
      "|-1307533700|    1|\n",
      "|-1288794983|    1|\n",
      "+-----------+-----+\n",
      "only showing top 5 rows\n",
      "\n"
     ]
    }
   ],
   "source": [
    "devices.groupBy(\"device_id\").count().show(5)"
   ]
  },
  {
   "cell_type": "code",
   "execution_count": 55,
   "id": "eb74a33e-3967-4b5d-bb99-0ba0e7d71fb2",
   "metadata": {},
   "outputs": [],
   "source": [
    "devices.createOrReplaceTempView(\"devices\")\n",
    "events.createOrReplaceTempView(\"events\")"
   ]
  },
  {
   "cell_type": "code",
   "execution_count": 75,
   "id": "7cc81a5d-cbe8-4462-8e9d-590e13b5fe49",
   "metadata": {},
   "outputs": [
    {
     "name": "stdout",
     "output_type": "stream",
     "text": [
      "+-----------+---------+------------+-------+-----------+--------+--------------------+---+--------------------+\n",
      "|    user_id|device_id|browser_type|os_type|device_type|referrer|                host|url|          event_time|\n",
      "+-----------+---------+------------+-------+-----------+--------+--------------------+---+--------------------+\n",
      "| 1037710827|532630305|       OTHER|  Other|      Other|    NULL| www.zachwilson.tech|  /|2021-03-08 17:27:...|\n",
      "|  925588856|532630305|       OTHER|  Other|      Other|    NULL|    www.eczachly.com|  /|2021-05-10 11:26:...|\n",
      "|-1180485268|532630305|       OTHER|  Other|      Other|    NULL|admin.zachwilson....|  /|2021-02-17 16:19:...|\n",
      "|-1044833855|532630305|       OTHER|  Other|      Other|    NULL| www.zachwilson.tech|  /|2021-09-24 15:53:...|\n",
      "|  747494706|532630305|       OTHER|  Other|      Other|    NULL| www.zachwilson.tech|  /|2021-09-26 16:03:...|\n",
      "+-----------+---------+------------+-------+-----------+--------+--------------------+---+--------------------+\n",
      "only showing top 5 rows\n",
      "\n"
     ]
    },
    {
     "data": {
      "text/plain": [
       "defined class EventWithDeviceInfo\n",
       "toUpperCase: (s: String)String\n",
       "combinedViaDatasets: org.apache.spark.sql.Dataset[EventWithDeviceInfo] = [user_id: int, device_id: int ... 7 more fields]\n"
      ]
     },
     "execution_count": 75,
     "metadata": {},
     "output_type": "execute_result"
    }
   ],
   "source": [
    "case class EventWithDeviceInfo (\n",
    "    user_id: Integer,\n",
    "    device_id: Integer,\n",
    "    browser_type: String,\n",
    "    os_type: String,\n",
    "    device_type: String,\n",
    "    referrer: String,\n",
    "    host: String,\n",
    "    url: String,\n",
    "    event_time: String\n",
    ")\n",
    "\n",
    "def toUpperCase(s: String): String = {\n",
    "    return s.toUpperCase()\n",
    "}\n",
    "\n",
    "// This will fail if user_id is None\n",
    "val combinedViaDatasets = filteredViaDataset\n",
    "    .joinWith(devices, events(\"device_id\") === devices(\"device_id\"), \"inner\")\n",
    "    .map{case (event: Event, device: Device) => EventWithDeviceInfo(\n",
    "                  user_id=event.user_id.get,\n",
    "                  device_id=event.device_id.get,\n",
    "                  browser_type=device.browser_type,\n",
    "                  os_type=device.os_type,\n",
    "                  device_type=device.device_type,\n",
    "                  referrer=event.referrer,\n",
    "                  host=event.host,\n",
    "                  url=event.url,\n",
    "                  event_time=event.event_time\n",
    "              ) }\n",
    "    .map{ case (row: EventWithDeviceInfo) => \n",
    "        row.copy(browser_type = row.browser_type.toUpperCase)\n",
    "    }              \n",
    "    \n",
    "combinedViaDatasets.show(5)  "
   ]
  },
  {
   "cell_type": "code",
   "execution_count": 76,
   "id": "c8ecbbd7-03ba-41c2-a403-d7f7025cbef1",
   "metadata": {},
   "outputs": [
    {
     "name": "stdout",
     "output_type": "stream",
     "text": [
      "+-----------+---------+------------+-------+-----------+--------+--------------------+---+--------------------+\n",
      "|    user_id|device_id|browser_type|os_type|device_type|referrer|                host|url|          event_time|\n",
      "+-----------+---------+------------+-------+-----------+--------+--------------------+---+--------------------+\n",
      "| 1037710827|532630305|       OTHER|  Other|      Other|    NULL| www.zachwilson.tech|  /|2021-03-08 17:27:...|\n",
      "|  925588856|532630305|       OTHER|  Other|      Other|    NULL|    www.eczachly.com|  /|2021-05-10 11:26:...|\n",
      "|-1180485268|532630305|       OTHER|  Other|      Other|    NULL|admin.zachwilson....|  /|2021-02-17 16:19:...|\n",
      "|-1044833855|532630305|       OTHER|  Other|      Other|    NULL| www.zachwilson.tech|  /|2021-09-24 15:53:...|\n",
      "|  747494706|532630305|       OTHER|  Other|      Other|    NULL| www.zachwilson.tech|  /|2021-09-26 16:03:...|\n",
      "+-----------+---------+------------+-------+-----------+--------+--------------------+---+--------------------+\n",
      "only showing top 5 rows\n",
      "\n"
     ]
    },
    {
     "data": {
      "text/plain": [
       "toUpperCaseUdf: org.apache.spark.sql.expressions.UserDefinedFunction = SparkUserDefinedFunction($Lambda$7025/0x0000000842146840@34176149,StringType,List(Some(class[value[0]: string])),Some(class[value[0]: string]),None,true,true)\n",
       "combinedViaDataFrames: org.apache.spark.sql.DataFrame = [user_id: int, device_id: int ... 7 more fields]\n"
      ]
     },
     "execution_count": 76,
     "metadata": {},
     "output_type": "execute_result"
    }
   ],
   "source": [
    "val toUpperCaseUdf = udf(toUpperCase _)\n",
    "\n",
    "// DataFrames give up some of the intellisense because you no longer have static typing\n",
    "val combinedViaDataFrames = filteredViaDataFrame.as(\"e\")\n",
    "            //Make sure to use triple equals when using data frames\n",
    "            .join(devices.as(\"d\"), $\"e.device_id\" === $\"d.device_id\", \"inner\")\n",
    "            .select(\n",
    "              col(\"e.user_id\"),\n",
    "              $\"d.device_id\",\n",
    "              toUpperCaseUdf($\"d.browser_type\").as(\"browser_type\"),\n",
    "              $\"d.os_type\",\n",
    "              $\"d.device_type\",\n",
    "              $\"e.referrer\",\n",
    "              $\"e.host\",\n",
    "              $\"e.url\",\n",
    "              $\"e.event_time\"\n",
    "            )\n",
    "            \n",
    "combinedViaDataFrames.show(5)"
   ]
  },
  {
   "cell_type": "code",
   "execution_count": 25,
   "id": "23f52419-1bfc-423b-af4a-3ad4398aed01",
   "metadata": {},
   "outputs": [
    {
     "name": "stdout",
     "output_type": "stream",
     "text": [
      "+-----------+---------+------------+-------+-----------+--------+--------------------+---+--------------------+\n",
      "|    user_id|device_id|browser_type|os_type|device_type|referrer|                host|url|          event_time|\n",
      "+-----------+---------+------------+-------+-----------+--------+--------------------+---+--------------------+\n",
      "| 1037710827|532630305|       Other|  Other|      Other|    NULL| www.zachwilson.tech|  /|2021-03-08 17:27:...|\n",
      "|  925588856|532630305|       Other|  Other|      Other|    NULL|    www.eczachly.com|  /|2021-05-10 11:26:...|\n",
      "|-1180485268|532630305|       Other|  Other|      Other|    NULL|admin.zachwilson....|  /|2021-02-17 16:19:...|\n",
      "|-1044833855|532630305|       Other|  Other|      Other|    NULL| www.zachwilson.tech|  /|2021-09-24 15:53:...|\n",
      "|  747494706|532630305|       Other|  Other|      Other|    NULL| www.zachwilson.tech|  /|2021-09-26 16:03:...|\n",
      "+-----------+---------+------------+-------+-----------+--------+--------------------+---+--------------------+\n",
      "only showing top 5 rows\n",
      "\n"
     ]
    },
    {
     "data": {
      "text/plain": [
       "combinedViaSparkSQL: org.apache.spark.sql.DataFrame = [user_id: string, device_id: int ... 7 more fields]\n"
      ]
     },
     "execution_count": 25,
     "metadata": {},
     "output_type": "execute_result"
    }
   ],
   "source": [
    "//Creating temp views is a good strategy if you're leveraging SparkSQL\n",
    "filteredViaSparkSql.createOrReplaceTempView(\"filtered_events\")\n",
    "val combinedViaSparkSQL = spark.sql(f\"\"\"\n",
    "    SELECT \n",
    "        fe.user_id,\n",
    "        d.device_id,\n",
    "        d.browser_type,\n",
    "        d.os_type,\n",
    "        d.device_type,\n",
    "        fe. referrer,\n",
    "        fe.host,\n",
    "        fe.url,\n",
    "        fe.event_time\n",
    "    FROM filtered_events fe \n",
    "    JOIN devices d ON fe.device_id = d.device_id\n",
    "\"\"\")\n",
    "\n",
    "combinedViaSparkSQL.show(5)"
   ]
  },
  {
   "cell_type": "markdown",
   "id": "badbd9ed-15e2-40ad-a39c-b2b370710378",
   "metadata": {},
   "source": [
    "---\n",
    "# Original Code from Databricks [ Does not work]"
   ]
  },
  {
   "cell_type": "code",
   "execution_count": null,
   "id": "73b5384f-be28-49e3-9bcf-4b9783ba7d91",
   "metadata": {},
   "outputs": [],
   "source": [
    "import org.apache.spark.sql.SparkSession \n",
    "\n",
    "val sparkSession = SparkSession.builder.appName(\"Juptyer\").getOrCreate()\n",
    "\n",
    "//TODO Illustrate how this fails if you change from Option[String] to String for referrer\n",
    "case class Event (\n",
    "   //Option is a way to handle NULL more gracefully\n",
    "    user_id: Option[Integer],\n",
    "    device_id: Option[Integer],\n",
    "    referrer: Option[String],\n",
    "    host: String,\n",
    "    url: String,\n",
    "    event_time: String\n",
    ")\n",
    "\n",
    "\n",
    "dummyData = List(\n",
    "        Event(user_id=1, device_id=2, referrer=\"linkedin\", host=\"eczachly.com\", url=\"/signup\", event_time=\"2023-01-01\"),\n",
    "        Event(user_id=3, device_id=7, referrer=\"twitter\", host=\"eczachly.com\", url=\"/signup\", event_time=\"2023-01-01\")\n",
    "    )\n",
    "\n",
    "//TODO Illustrate how this fails if you change from Option[Long] to Long\n",
    "case class Device (\n",
    "    device_id: Integer,\n",
    "    browser_type: String,\n",
    "    os_type: String,\n",
    "    device_type: String\n",
    ")\n",
    "\n",
    "case class EventWithDeviceInfo (\n",
    "   user_id: Integer,\n",
    "    device_id: Integer,\n",
    "    browser_type: String,\n",
    "    os_type: String,\n",
    "    device_type: String,\n",
    "    referrer: String,\n",
    "    host: String,\n",
    "    url: String,\n",
    "    event_time: String\n",
    ")\n",
    "\n",
    "// When should you use each type?\n",
    "import sparkSession.implicits._\n",
    "\n",
    "// Applying this case class before hand is very powerful, enforces Nullability/non-nullability at runtime!\n",
    "val events: Dataset[Event] = sparkSession.read.option(\"header\", \"true\")\n",
    "                        .option(\"inferSchema\", \"true\")\n",
    "                        .csv(\"/home/iceberg/data/events.csv\")\n",
    "                        .as[Event]\n",
    "\n",
    "val devices: Dataset[Device] = sparkSession.read.option(\"header\", \"true\")\n",
    "                        .option(\"inferSchema\", \"true\")\n",
    "                        .csv(\"/home/iceberg/data/devices.csv\")\n",
    "                        .as[Device]\n",
    "\n",
    "devices.createOrReplaceTempView(\"devices\")\n",
    "events.createOrReplaceTempView(\"events\")\n",
    "\n",
    "// For simple transformations, you can see that these approaches are very similar. Dataset is winning slightly because of the quality enforcement\n",
    "val filteredViaDataset = events.filter(event => event.user_id.isDefined && event.device_id.isDefined)\n",
    "val filteredViaDataFrame = events.toDF().where($\"user_id\".isNotNull && $\"device_id\".isNotNull)\n",
    "val filteredViaSparkSql = sparkSession.sql(\"SELECT * FROM events WHERE user_id IS NOT NULL AND device_id IS NOT NULL\")\n",
    "\n",
    "\n",
    "// This will fail if user_id is None\n",
    "val combinedViaDatasets = filteredViaDataset\n",
    "    .joinWith(devices, events(\"device_id\") === devices(\"device_id\"), \"inner\")\n",
    "    .map{ case (event: Event, device: Device) => EventWithDeviceInfo(\n",
    "                  user_id=event.user_id.get,\n",
    "                  device_id=device.device_id,\n",
    "                  browser_type=device.browser_type,\n",
    "                  os_type=device.os_type,\n",
    "                  device_type=device.device_type,\n",
    "                  referrer=event.referrer,\n",
    "                  host=event.host,\n",
    "                  url=event.url,\n",
    "                  event_time=event.event_time\n",
    "              ) }\n",
    "    .map( case (row: EventWithDeviceInfo) => {\n",
    "        row.browser_type = toUpperCase(row.browser_type)\n",
    "        return row\n",
    "    })\n",
    "\n",
    "\n",
    "\n",
    "\n",
    "// DataFrames give up some of the intellisense because you no longer have static typing\n",
    "val combinedViaDataFrames = filteredViaDataFrame.as(\"e\")\n",
    "            //Make sure to use triple equals when using data frames\n",
    "            .join(devices.as(\"d\"), $\"e.device_id\" === $\"d.device_id\", \"inner\")\n",
    "            .select(\n",
    "              $\"e.user_id\",\n",
    "              $\"d.device_id\",\n",
    "              $\"d.browser_type\",\n",
    "              $\"d.os_type\",\n",
    "              $\"d.device_type\",\n",
    "              $\"e.referrer\",\n",
    "              $\"e.host\",\n",
    "              $\"e.url\",\n",
    "              $\"e.event_time\"\n",
    "            )\n",
    "\n",
    "//Creating temp views is a good strategy if you're leveraging SparkSQL\n",
    "filteredViaSparkSql.createOrReplaceTempView(\"filtered_events\")\n",
    "val combinedViaSparkSQL = spark.sql(f\"\"\"\n",
    "    SELECT \n",
    "        fe.user_id,\n",
    "        d.device_id,\n",
    "        d.browser_type,\n",
    "        d.os_type,\n",
    "        d.device_type,\n",
    "        fe. referrer,\n",
    "        fe.host,\n",
    "        fe.url,\n",
    "        fe.event_time\n",
    "    FROM filtered_events fe \n",
    "    JOIN devices d ON fe.device_id = d.device_id\n",
    "\"\"\")\n",
    "\n",
    "combinedViaDatasets.take(5)    "
   ]
  },
  {
   "cell_type": "code",
   "execution_count": null,
   "id": "203ac70d-b0e5-474b-8c82-b1bae2624d51",
   "metadata": {},
   "outputs": [],
   "source": []
  }
 ],
 "metadata": {
  "kernelspec": {
   "display_name": "spylon-kernel",
   "language": "scala",
   "name": "spylon-kernel"
  },
  "language_info": {
   "codemirror_mode": "text/x-scala",
   "file_extension": ".scala",
   "help_links": [
    {
     "text": "MetaKernel Magics",
     "url": "https://metakernel.readthedocs.io/en/latest/source/README.html"
    }
   ],
   "mimetype": "text/x-scala",
   "name": "scala",
   "pygments_lexer": "scala",
   "version": "0.4.1"
  }
 },
 "nbformat": 4,
 "nbformat_minor": 5
}
