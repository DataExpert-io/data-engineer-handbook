{
 "cells": [
  {
   "cell_type": "markdown",
   "id": "f91911a1-3b3d-4a8f-9807-bc814437fb9b",
   "metadata": {},
   "source": [
    "Homework Week 3 - Spark Fundamentals\n",
    "\n",
    "Start by loading the datasets from the iceberg data folder. The queries will use the following tables:\n",
    "- match_details\n",
    "- matches\n",
    "- medals_matches_players\n",
    "- medals\n",
    "- maps\n",
    "<br> Additional files include:<br>\n",
    " - devices\n",
    " - events"
   ]
  },
  {
   "cell_type": "code",
   "execution_count": 31,
   "id": "d08ce781-8730-485d-a624-37d6151fcf41",
   "metadata": {
    "scrolled": true
   },
   "outputs": [
    {
     "name": "stdout",
     "output_type": "stream",
     "text": [
      "+-----------+----------+--------+--------------------+----------+--------------------+\n",
      "|    user_id| device_id|referrer|                host|       url|          event_time|\n",
      "+-----------+----------+--------+--------------------+----------+--------------------+\n",
      "| 1037710827| 532630305|    NULL| www.zachwilson.tech|         /|2021-03-08 17:27:...|\n",
      "|  925588856| 532630305|    NULL|    www.eczachly.com|         /|2021-05-10 11:26:...|\n",
      "|-1180485268| 532630305|    NULL|admin.zachwilson....|         /|2021-02-17 16:19:...|\n",
      "|-1044833855| 532630305|    NULL| www.zachwilson.tech|         /|2021-09-24 15:53:...|\n",
      "|  747494706| 532630305|    NULL| www.zachwilson.tech|         /|2021-09-26 16:03:...|\n",
      "|  747494706| 532630305|    NULL|admin.zachwilson....|         /|2021-02-21 16:08:...|\n",
      "| -824540328| 532630305|    NULL|admin.zachwilson....|         /|2021-09-28 17:23:...|\n",
      "| -824540328| 532630305|    NULL|    www.eczachly.com|         /|2021-09-29 01:22:...|\n",
      "| 1833036683| 532630305|    NULL|admin.zachwilson....|         /|2021-01-24 03:15:...|\n",
      "|-2134824313| 532630305|    NULL|    www.eczachly.com|         /|2021-01-25 00:03:...|\n",
      "|-1809929467|-906264142|    NULL|admin.zachwilson....|/.git/HEAD|2021-02-22 01:36:...|\n",
      "| 2002285749|-906264142|    NULL|    www.eczachly.com|         /|2021-02-22 02:25:...|\n",
      "|-1562965412| 532630305|    NULL| www.zachwilson.tech|         /|2021-01-30 20:46:...|\n",
      "|-1099860451| 532630305|    NULL|    www.eczachly.com|         /|2021-02-04 23:49:...|\n",
      "| 1246896869|-906264142|    NULL| www.zachwilson.tech|         /|2021-02-22 02:50:...|\n",
      "| -629331502|-906264142|    NULL|admin.zachwilson....|/.git/HEAD|2021-02-22 23:51:...|\n",
      "|-1913422462|-906264142|    NULL|    www.eczachly.com|         /|2021-02-23 00:17:...|\n",
      "|   50429624| 532630305|    NULL|    www.eczachly.com|         /|2022-12-28 01:38:...|\n",
      "|  222389292| 532630305|    NULL| www.zachwilson.tech|         /|2022-12-28 05:23:...|\n",
      "| -779924777| 532630305|    NULL| www.zachwilson.tech|         /|2022-12-28 16:45:...|\n",
      "+-----------+----------+--------+--------------------+----------+--------------------+\n",
      "only showing top 20 rows\n",
      "\n"
     ]
    }
   ],
   "source": [
    "events = spark.read.option(\"header\", \"true\").csv(\"/home/iceberg/data/events.csv\").withColumn('event_date', expr(\"DATE_TRUNC('day', event_time)\"))\n",
    "\n",
    "events.show()"
   ]
  },
  {
   "cell_type": "code",
   "execution_count": 33,
   "id": "71a1372e-cadc-46ea-bfa5-a88f8ddfba6f",
   "metadata": {},
   "outputs": [
    {
     "name": "stdout",
     "output_type": "stream",
     "text": [
      "+--------------------+--------------------+------------+--------------------+--------------------+-------------+--------------------+--------------+---------+--------------------+-------------------+\n",
      "|            match_id|               mapid|is_team_game|         playlist_id|     game_variant_id|is_match_over|     completion_date|match_duration|game_mode|      map_variant_id|   partitioned_date|\n",
      "+--------------------+--------------------+------------+--------------------+--------------------+-------------+--------------------+--------------+---------+--------------------+-------------------+\n",
      "|11de1a94-8d07-416...|c7edbf0f-f206-11e...|        true|f72e0ef0-7c4a-430...|1e473914-46e4-408...|         true|2016-02-22 00:00:...|          NULL|     NULL|                NULL|2016-02-22 00:00:00|\n",
      "|d3643e71-3e51-43e...|cb914b9e-f206-11e...|       false|d0766624-dbd7-453...|257a305e-4dd3-41f...|         true|2016-02-14 00:00:...|          NULL|     NULL|                NULL|2016-02-14 00:00:00|\n",
      "|d78d2aae-36e4-48a...|c7edbf0f-f206-11e...|        true|f72e0ef0-7c4a-430...|1e473914-46e4-408...|         true|2016-03-24 00:00:...|          NULL|     NULL|55e5ee2e-88df-465...|2016-03-24 00:00:00|\n",
      "|b440069e-ec5f-4f5...|c7edbf0f-f206-11e...|        true|f72e0ef0-7c4a-430...|1e473914-46e4-408...|         true|2015-12-23 00:00:...|          NULL|     NULL|ec3eef73-13e3-4d4...|2015-12-23 00:00:00|\n",
      "|1dd475fc-ee6b-4e1...|c93d708f-f206-11e...|        true|0e39ead4-383b-445...|42f97cca-2cb4-497...|         true|2016-04-07 00:00:...|          NULL|     NULL|                NULL|2016-04-07 00:00:00|\n",
      "|848f02ad-72ef-479...|cbcea2c0-f206-11e...|        true|2323b76a-db98-4e0...|257a305e-4dd3-41f...|         true|2016-03-17 00:00:...|          NULL|     NULL|                NULL|2016-03-17 00:00:00|\n",
      "|e207adc1-4d7a-43a...|cc74f4e1-f206-11e...|        true|2323b76a-db98-4e0...|257a305e-4dd3-41f...|         true|2016-04-05 00:00:...|          NULL|     NULL|                NULL|2016-04-05 00:00:00|\n",
      "|1fb5c2ec-ca60-434...|ca737f8f-f206-11e...|        true|bc0f8ad6-31e6-4a1...|257a305e-4dd3-41f...|         true|2015-12-16 00:00:...|          NULL|     NULL|                NULL|2015-12-16 00:00:00|\n",
      "|54f1cbd2-2be6-4d5...|cbcea2c0-f206-11e...|        NULL|892189e9-d712-4bd...|257a305e-4dd3-41f...|         NULL|2016-02-04 00:00:...|          NULL|     NULL|7108c409-6d1e-41d...|2016-02-04 00:00:00|\n",
      "|9e079488-1355-4c6...|c74c9d0f-f206-11e...|        true|0bcf2be1-3168-4e4...|b45854a7-e6e1-4a9...|         true|2015-11-22 00:00:...|          NULL|     NULL|1c632c30-3994-444...|2015-11-22 00:00:00|\n",
      "|e17af58c-ee3d-4a7...|cbcea2c0-f206-11e...|        NULL|2323b76a-db98-4e0...|257a305e-4dd3-41f...|         NULL|2016-02-04 00:00:...|          NULL|     NULL|7108c409-6d1e-41d...|2016-02-04 00:00:00|\n",
      "|22027c64-d45a-48a...|ca737f8f-f206-11e...|        NULL|d0766624-dbd7-453...|257a305e-4dd3-41f...|         NULL|2016-02-04 00:00:...|          NULL|     NULL|1ebdebca-e1f8-48f...|2016-02-04 00:00:00|\n",
      "|8483565b-14d1-460...|c7805740-f206-11e...|        NULL|f72e0ef0-7c4a-430...|1e473914-46e4-408...|         NULL|2016-02-04 00:00:...|          NULL|     NULL|b5f6104e-3a99-438...|2016-02-04 00:00:00|\n",
      "|bc8f0d7a-cf4b-4a2...|c7edbf0f-f206-11e...|        NULL|f72e0ef0-7c4a-430...|1e473914-46e4-408...|         NULL|2016-02-04 00:00:...|          NULL|     NULL|7248ebbd-cd40-456...|2016-02-04 00:00:00|\n",
      "|f60f9d91-42c9-4a0...|cdb934b0-f206-11e...|        NULL|f72e0ef0-7c4a-430...|1e473914-46e4-408...|         NULL|2016-02-04 00:00:...|          NULL|     NULL|                NULL|2016-02-04 00:00:00|\n",
      "|ad4a5b9d-7127-404...|c7edbf0f-f206-11e...|        true|f72e0ef0-7c4a-430...|1e473914-46e4-408...|         true|2016-02-13 00:00:...|          NULL|     NULL|d591e5ba-a0db-4bf...|2016-02-13 00:00:00|\n",
      "|f44c9997-eb6f-4d6...|ce1dc2de-f206-11e...|        true|0504ca3c-de41-48f...|b0df8938-0fb6-42e...|         true|2016-02-28 00:00:...|          NULL|     NULL|d5a6277a-96d5-499...|2016-02-28 00:00:00|\n",
      "|5d8c7557-5347-451...|cdb934b0-f206-11e...|        NULL|d0766624-dbd7-453...|257a305e-4dd3-41f...|         NULL|2016-02-04 00:00:...|          NULL|     NULL|                NULL|2016-02-04 00:00:00|\n",
      "|89b24a08-8588-464...|cdb934b0-f206-11e...|        NULL|d0766624-dbd7-453...|257a305e-4dd3-41f...|         NULL|2016-02-04 00:00:...|          NULL|     NULL|                NULL|2016-02-04 00:00:00|\n",
      "|01805fa5-bd7c-462...|cdb934b0-f206-11e...|        NULL|f72e0ef0-7c4a-430...|1e473914-46e4-408...|         NULL|2016-02-04 00:00:...|          NULL|     NULL|                NULL|2016-02-04 00:00:00|\n",
      "+--------------------+--------------------+------------+--------------------+--------------------+-------------+--------------------+--------------+---------+--------------------+-------------------+\n",
      "only showing top 20 rows\n",
      "\n"
     ]
    }
   ],
   "source": [
    "from pyspark.sql import SparkSession\n",
    "from pyspark.sql.functions import expr, col\n",
    "spark = SparkSession.builder.appName(\"Jupyter\").getOrCreate()\n",
    "\n",
    "spark\n",
    "\n",
    "matches = spark.read.option(\"header\", \"true\").csv(\"/home/iceberg/data/matches.csv\").withColumn('partitioned_date', expr(\"DATE_TRUNC('day', event_time)\"))\n",
    "matches.show()"
   ]
  },
  {
   "cell_type": "code",
   "execution_count": 11,
   "id": "50ea8eea-2b9a-44f2-9efc-1027a2979c65",
   "metadata": {},
   "outputs": [
    {
     "name": "stdout",
     "output_type": "stream",
     "text": [
      "+--------------------+---------------+---------------------+------------+-----------------+--------+-----------------+------------------------+------------+---------------------------------+-----------------+----------------+-----------------------+-----------+--------------------------------+----------------+-------------------+---------------+-------------------+------------------+----------------------+--------------------------+-------------------------+------------------------+-------------------------+---------------------------+-------------------------------+--------------------------------+---------------------------+--------------------------------+-------------------------------+-------------------+--------------------+--------------------------+-------+-------+\n",
      "|            match_id|player_gamertag|previous_spartan_rank|spartan_rank|previous_total_xp|total_xp|previous_csr_tier|previous_csr_designation|previous_csr|previous_csr_percent_to_next_tier|previous_csr_rank|current_csr_tier|current_csr_designation|current_csr|current_csr_percent_to_next_tier|current_csr_rank|player_rank_on_team|player_finished|player_average_life|player_total_kills|player_total_headshots|player_total_weapon_damage|player_total_shots_landed|player_total_melee_kills|player_total_melee_damage|player_total_assassinations|player_total_ground_pound_kills|player_total_shoulder_bash_kills|player_total_grenade_damage|player_total_power_weapon_damage|player_total_power_weapon_grabs|player_total_deaths|player_total_assists|player_total_grenade_kills|did_win|team_id|\n",
      "+--------------------+---------------+---------------------+------------+-----------------+--------+-----------------+------------------------+------------+---------------------------------+-----------------+----------------+-----------------------+-----------+--------------------------------+----------------+-------------------+---------------+-------------------+------------------+----------------------+--------------------------+-------------------------+------------------------+-------------------------+---------------------------+-------------------------------+--------------------------------+---------------------------+--------------------------------+-------------------------------+-------------------+--------------------+--------------------------+-------+-------+\n",
      "|71d79b23-4143-435...|      taterbase|                    5|           5|            12537|   13383|                1|                       3|           0|                               98|             NULL|               2|                      3|          0|                              26|            NULL|                  4|          false|        PT14.81149S|                 6|                     4|                       255|                       28|                       0|                        0|                          0|                              0|                               0|                          0|                               0|                              0|                 13|                   1|                         0|      1|      1|\n",
      "|71d79b23-4143-435...| SuPeRSaYaInG0D|                   18|          18|           131943|  132557|                2|                       3|           0|                                2|             NULL|               1|                      3|          0|                              76|            NULL|                  7|          false|      PT11.2990845S|                 7|                     3|        350.58792304992676|                       49|                       1|                       45|                          0|                              0|                               0|                          0|                               0|                              0|                 18|                   2|                         0|      0|      0|\n",
      "|71d79b23-4143-435...|       EcZachly|                   21|          21|           168811|  169762|                2|                       5|           0|                               94|             NULL|               3|                      5|          0|                              24|            NULL|                  3|          false|      PT19.1357063S|                12|                    12|                       625|                       43|                       0|                        0|                          0|                              0|                               0|                          0|                               0|                              0|                 10|                   4|                         0|      1|      1|\n",
      "|71d79b23-4143-435...|    johnsnake04|                   14|          14|            64073|   64639|             NULL|                    NULL|        NULL|                             NULL|             NULL|            NULL|                   NULL|       NULL|                            NULL|            NULL|                  6|          false|      PT21.1521599S|                13|                    13|                       605|                       24|                       0|                        0|                          0|                              0|                               0|                          0|                               0|                              0|                  9|                   2|                         0|      0|      0|\n",
      "|71d79b23-4143-435...| Super Mac Bros|                   26|          26|           243425|  244430|                1|                       5|           0|                               86|             NULL|               2|                      5|          0|                               8|            NULL|                  2|          false|      PT12.8373793S|                13|                    12|                       595|                       32|                       1|       20.004501342773438|                          0|                              0|                               0|                          0|                               0|                              0|                 15|                   2|                         0|      1|      1|\n",
      "|71d79b23-4143-435...|   Wingspear0k8|                   18|          18|           129281|  129937|             NULL|                    NULL|        NULL|                             NULL|             NULL|               1|                      5|          0|                               0|            NULL|                  5|          false|      PT17.4531394S|                21|                    18|         822.8789710998535|                       53|                       2|        90.00449999980628|                          0|                              0|                               0|                          0|                               0|                              0|                 11|                   0|                         0|      0|      0|\n",
      "|71d79b23-4143-435...|  JakeWilson801|                   18|          18|           118483|  119849|                1|                       4|           0|                               96|             NULL|               2|                      4|          0|                              24|            NULL|                  1|          false|       PT21.154286S|                19|                    18|                       865|                       57|                       0|                        0|                          0|                              0|                               0|                          0|                               0|                              0|                  9|                   1|                         0|      1|      1|\n",
      "|71d79b23-4143-435...|       xTOTIx12|                   16|          16|            91632|   92224|             NULL|                    NULL|        NULL|                             NULL|             NULL|            NULL|                   NULL|       NULL|                            NULL|            NULL|                  8|          false|      PT14.8119293S|                 6|                     6|        274.90775299072266|                       26|                       0|                        0|                          0|                              0|                               0|                          0|                               0|                              0|                 13|                   1|                         0|      0|      0|\n",
      "|fc3cefc0-954a-456...|       EcZachly|                   61|          61|          1276248| 1276979|                1|                       5|           0|                                8|             NULL|               1|                      5|          0|                               0|            NULL|                  5|          false|      PT17.4548378S|                 9|                     9|                       410|                       16|                       0|                        0|                          0|                              0|                               0|                          0|                               0|                              0|                 10|                   1|                         0|      0|      1|\n",
      "|fc3cefc0-954a-456...|  De Spelbreker|                   83|          83|          2303102| 2304723|                3|                       4|           0|                               68|             NULL|               3|                      4|          0|                              96|            NULL|                  4|          false|      PT22.5787499S|                10|                     8|        385.00000190734863|                       29|                       2|                       65|                          0|                              0|                               0|                          0|                               0|                              0|                  7|                   1|                         0|      1|      0|\n",
      "|fc3cefc0-954a-456...|xXJointProXx NL|                   61|          62|          1279098| 1280871|                2|                       4|           0|                               68|             NULL|               2|                      4|          0|                              92|            NULL|                  1|          false|       PT19.742837S|                15|                    14|                       615|                       33|                       0|                       45|                          1|                              0|                               0|                          0|                               0|                              0|                  8|                   0|                         0|      1|      0|\n",
      "|fc3cefc0-954a-456...|   Stormbane321|                   14|          14|            70556|   71050|                1|                       4|           0|                               48|             NULL|               1|                      4|          0|                              32|            NULL|                  6|          false|        PT11.61249S|                 9|                     9|                       450|                       25|                       0|                        0|                          0|                              0|                               0|                          0|                               0|                              0|                 13|                   0|                         0|      0|      1|\n",
      "|fc3cefc0-954a-456...|     deVerdeler|                   82|          82|          2271708| 2272786|                5|                       4|           0|                               96|             NULL|               6|                      4|          0|                              22|            NULL|                  2|          false|      PT15.5739569S|                13|                    12|                       580|                       26|                       1|        45.00450134277344|                          0|                              0|                               0|                          0|                               0|                              0|                 10|                   1|                         0|      1|      0|\n",
      "|fc3cefc0-954a-456...|   TaubeGraph07|                   45|          45|           668043|  668697|                2|                       4|           0|                               26|             NULL|               2|                      4|          0|                               6|            NULL|                  8|          false|      PT10.6332601S|                 5|                     5|        242.49999952316284|                       13|                       0|                        0|                          0|                              0|                               0|                          0|                               0|                              0|                 14|                   0|                         0|      0|      1|\n",
      "|fc3cefc0-954a-456...|      derkarl15|                   51|          51|           910510|  911173|                6|                       3|           0|                               68|             NULL|               6|                      3|          0|                              48|            NULL|                  7|          false|      PT12.5038253S|                 8|                     6|                       305|                       18|                       2|        90.00449999980628|                          0|                              0|                               0|                          0|                               0|                              0|                 13|                   1|                         0|      0|      1|\n",
      "|fc3cefc0-954a-456...|   Skainai sama|                   28|          28|           295532|  296926|             NULL|                    NULL|        NULL|                             NULL|             NULL|            NULL|                   NULL|       NULL|                            NULL|            NULL|                  3|          false|      PT26.2458304S|                12|                    12|                       565|                       28|                       0|                        0|                          0|                              0|                               0|                          0|                               0|                              0|                  6|                   2|                         0|      1|      0|\n",
      "|322ae96f-7c46-450...|         Acerr1|                   27|          27|           272613|  273951|                4|                       4|           0|                               56|             NULL|               5|                      4|          0|                               6|            NULL|                  4|          false|      PT24.6986235S|                15|                     5|         2232.053300857544|                      156|                       2|        77.82261085510254|                          1|                              0|                               0|           281.012451171875|              294.22798585891724|                              0|                 14|                   7|                         1|      1|      0|\n",
      "|322ae96f-7c46-450...| Outlaw Fo LifE|                  111|         111|          3952656| 3953981|                6|                       5|           0|                               76|             NULL|               6|                      5|          0|                              32|            NULL|                  7|          false|      PT20.8639847S|                13|                     1|        2506.9466705322266|                      268|                       0|                      140|                          0|                              0|                               0|          557.2050848007202|                               0|                              0|                 16|                  18|                         1|      0|      1|\n",
      "|322ae96f-7c46-450...|    ILLICIT 117|                   84|          84|          2424679| 2426570|                1|                       5|           0|                               82|             NULL|               2|                      5|          0|                              28|            NULL|                  1|          false|       PT16.523964S|                 6|                     4|         743.8497371673584|                       57|                       1|                      210|                          0|                              0|                               0|          104.0456314086914|                               0|                              0|                 19|                   8|                         0|      1|      0|\n",
      "|322ae96f-7c46-450...| Darknight 1993|                  105|         105|          3500833| 3502154|                5|                       5|           0|                               68|             NULL|               5|                      5|          0|                              22|            NULL|                  6|          false|      PT20.8523365S|                21|                     5|        2009.4742918014526|                      162|                       5|        369.8188018798828|                          0|                              0|                               0|          629.1446075439453|               135.5218963623047|                              0|                 16|                  13|                         4|      0|      1|\n",
      "+--------------------+---------------+---------------------+------------+-----------------+--------+-----------------+------------------------+------------+---------------------------------+-----------------+----------------+-----------------------+-----------+--------------------------------+----------------+-------------------+---------------+-------------------+------------------+----------------------+--------------------------+-------------------------+------------------------+-------------------------+---------------------------+-------------------------------+--------------------------------+---------------------------+--------------------------------+-------------------------------+-------------------+--------------------+--------------------------+-------+-------+\n",
      "only showing top 20 rows\n",
      "\n"
     ]
    }
   ],
   "source": [
    "match_details = spark.read.option(\"header\", \"true\").csv(\"/home/iceberg/data/match_details.csv\")\n",
    "\n",
    "match.show()"
   ]
  },
  {
   "cell_type": "code",
   "execution_count": 74,
   "id": "1dfabd30-4307-4444-9f5e-d62d128c5e09",
   "metadata": {},
   "outputs": [
    {
     "data": {
      "text/plain": [
       "11"
      ]
     },
     "execution_count": 74,
     "metadata": {},
     "output_type": "execute_result"
    }
   ],
   "source": [
    "null_count = match_details.filter(match_details.team_id.isNull()).count()\n",
    "null_count"
   ]
  },
  {
   "cell_type": "code",
   "execution_count": 13,
   "id": "edbc02c9-cb7b-4714-b31f-c1433e0d32e1",
   "metadata": {},
   "outputs": [
    {
     "name": "stdout",
     "output_type": "stream",
     "text": [
      "+--------------------+---------------+----------+-----+\n",
      "|            match_id|player_gamertag|  medal_id|count|\n",
      "+--------------------+---------------+----------+-----+\n",
      "|009fdac5-e15c-47c...|       EcZachly|3261908037|    7|\n",
      "|009fdac5-e15c-47c...|       EcZachly| 824733727|    2|\n",
      "|009fdac5-e15c-47c...|       EcZachly|2078758684|    2|\n",
      "|009fdac5-e15c-47c...|       EcZachly|2782465081|    2|\n",
      "|9169d1a3-955c-4ea...|       EcZachly|3001183151|    1|\n",
      "|9169d1a3-955c-4ea...|       EcZachly|3565443938|    6|\n",
      "|9169d1a3-955c-4ea...|       EcZachly|3491849182|    1|\n",
      "|4a078b2f-65eb-4c6...|       EcZachly|3261908037|    8|\n",
      "|9169d1a3-955c-4ea...|       EcZachly|2105198095|    6|\n",
      "|9169d1a3-955c-4ea...|       EcZachly|2916014239|    3|\n",
      "|9169d1a3-955c-4ea...|       EcZachly|3261908037|    6|\n",
      "|9169d1a3-955c-4ea...|       EcZachly|1351381581|    2|\n",
      "|9169d1a3-955c-4ea...|       EcZachly|2838259753|    1|\n",
      "|9169d1a3-955c-4ea...|       EcZachly|3354395650|    1|\n",
      "|9169d1a3-955c-4ea...|       EcZachly| 298813630|    1|\n",
      "|9169d1a3-955c-4ea...|       EcZachly|2430242797|    1|\n",
      "|5ae5a459-6372-491...|       EcZachly|3261908037|    9|\n",
      "|5ae5a459-6372-491...|       EcZachly|2078758684|    2|\n",
      "|5ae5a459-6372-491...|       EcZachly| 824733727|    1|\n",
      "|5ae5a459-6372-491...|       EcZachly|1080468863|    1|\n",
      "+--------------------+---------------+----------+-----+\n",
      "only showing top 20 rows\n",
      "\n"
     ]
    }
   ],
   "source": [
    "medals_matches_players = spark.read.option(\"header\", \"true\").csv(\"/home/iceberg/data/medals_matches_players.csv\")\n",
    "medals_matches_players.show()"
   ]
  },
  {
   "cell_type": "code",
   "execution_count": 14,
   "id": "f3ff307a-ff59-46cf-b258-2b6d1dee848d",
   "metadata": {},
   "outputs": [
    {
     "name": "stdout",
     "output_type": "stream",
     "text": [
      "+----------+--------------------+-----------+----------+------------------+-------------------+------------+-------------+-----------------+--------------------+--------------+----------+\n",
      "|  medal_id|          sprite_uri|sprite_left|sprite_top|sprite_sheet_width|sprite_sheet_height|sprite_width|sprite_height|   classification|         description|          name|difficulty|\n",
      "+----------+--------------------+-----------+----------+------------------+-------------------+------------+-------------+-----------------+--------------------+--------------+----------+\n",
      "|2315448068|                NULL|       NULL|      NULL|              NULL|               NULL|        NULL|         NULL|             NULL|                NULL|          NULL|      NULL|\n",
      "|3565441934|                NULL|       NULL|      NULL|              NULL|               NULL|        NULL|         NULL|             NULL|                NULL|          NULL|      NULL|\n",
      "|4162659350|https://content.h...|        750|       750|                74|                 74|        1125|          899|         Breakout|Kill the last ene...| Buzzer Beater|        45|\n",
      "|1573153198|https://content.h...|          0|       300|                74|                 74|        1125|          899|         Breakout|Survive a one-on-...|    Vanquisher|        30|\n",
      "| 298813630|https://content.h...|          0|       825|                74|                 74|        1125|          899|            Style|Kill an enemy wit...|Spartan Charge|       135|\n",
      "|3824002610|https://content.h...|        750|       600|                74|                 74|        1125|          899|         Vehicles|Assist a player i...|  Ghost Assist|       140|\n",
      "|3324603383|https://content.h...|        225|       750|                74|                 74|        1125|          899|          Warzone|       Kill a Grunt.|    Grunt Kill|        60|\n",
      "| 979431049|https://content.h...|        975|       675|                74|                 74|        1125|          899|         Breakout|Survive a two-on-...|       Bifecta|        25|\n",
      "|3098362934|https://content.h...|        150|       750|                74|                 74|        1125|          899|WeaponProficiency|Kill a player in ...|  Perfect Kill|        25|\n",
      "|2435743433|https://content.h...|        750|       225|                74|                 74|        1125|          899|          Warzone|Kill an enemy in ...|  Base Defense|        30|\n",
      "|2430242797|https://content.h...|        675|       300|                74|                 74|        1125|          899|     KillingSpree|Kill 5 opponents ...| Killing Spree|        45|\n",
      "|1427531503|https://content.h...|        375|         0|                74|                 74|        1125|          899|            Style|Assist in a Team ...| Team Takedown|       245|\n",
      "|2359847435|https://content.h...|        525|       375|                74|                 74|        1125|          899|         Breakout|Kill every member...|    Extinction|        35|\n",
      "|1691836029|https://content.h...|        150|       375|                74|                 74|        1350|          824|            Style|Recharge your shi...|   Hard Target|       105|\n",
      "|2766284219|https://content.h...|        150|       525|                74|                 74|        1125|          899|            Style|Kill an opponent ...|     Quickdraw|       200|\n",
      "|3354395650|https://content.h...|        375|       600|                74|                 74|        1125|          899|      Strongholds|Capture 3 Strongh...| Capture Spree|        10|\n",
      "|2564994165|                NULL|       NULL|      NULL|              NULL|               NULL|        NULL|         NULL|WeaponProficiency|Pick up 3 power w...|Big Gun Runner|        75|\n",
      "|2896365521|https://content.h...|        300|       450|                74|                 74|        1125|          899|            Style|Assist in a Team ...| Team Takedown|       245|\n",
      "|3786961025|https://content.h...|        900|       450|                74|                 74|        1125|          899|            Style|Kill an opponent ...|      Fastball|        65|\n",
      "| 243900335|https://content.h...|        750|       375|                74|                 74|        1350|          824|WeaponProficiency|Kill an enemy by ...|  Shotgun Kill|       110|\n",
      "+----------+--------------------+-----------+----------+------------------+-------------------+------------+-------------+-----------------+--------------------+--------------+----------+\n",
      "only showing top 20 rows\n",
      "\n"
     ]
    }
   ],
   "source": [
    "medals = spark.read.option(\"header\", \"true\").csv(\"/home/iceberg/data/medals.csv\")\n",
    "medals.show()"
   ]
  },
  {
   "cell_type": "markdown",
   "id": "d2fa7f88-8cdc-4d49-b502-b5b0d7c8798d",
   "metadata": {},
   "source": [
    "Goal:\n",
    "- Build a disabled automatic broadcast join with spark.conf.set(\"spark.sql.autoBroadcastJoinThreshold\", \"-1\")\n",
    "- Explicitly broadcast JOINs medals and maps\n",
    "- Bucket join match_details, matches, and medal_matches_players on match_id with 16 buckets\n",
    "- Aggregate the joined data frame to determine the following: \n",
    "    - Player with highest kills per game average\n",
    "    - Playlist with most plays\n",
    "    - Map most played\n",
    "    - Map with most players earning Killing Spree medals\n",
    "- With the aggregated dataset, try different .sortWithinPartitions to see which has the smallest data size (check playlists and maps)"
   ]
  },
  {
   "cell_type": "markdown",
   "id": "84a9ad34-83fe-472b-82bc-42b7868f577e",
   "metadata": {},
   "source": [
    "Next, I need to create a database and insert the data from these tables so we can use SQL to query the data"
   ]
  },
  {
   "cell_type": "code",
   "execution_count": 15,
   "id": "1953d230-dc2b-4836-be5c-1355e6b94673",
   "metadata": {},
   "outputs": [
    {
     "data": {
      "text/html": [
       "<table>\n",
       "    <thead>\n",
       "        <tr>\n",
       "        </tr>\n",
       "    </thead>\n",
       "    <tbody>\n",
       "    </tbody>\n",
       "</table>"
      ],
      "text/plain": [
       "++\n",
       "||\n",
       "++\n",
       "++"
      ]
     },
     "execution_count": 15,
     "metadata": {},
     "output_type": "execute_result"
    }
   ],
   "source": [
    "%%sql\n",
    "CREATE DATABASE IF NOT EXISTS bootcamp"
   ]
  },
  {
   "cell_type": "code",
   "execution_count": 79,
   "id": "bb1e7f8f-dd6e-4031-b3a7-72df72cd7c91",
   "metadata": {},
   "outputs": [
    {
     "data": {
      "text/html": [
       "<table>\n",
       "    <thead>\n",
       "        <tr>\n",
       "        </tr>\n",
       "    </thead>\n",
       "    <tbody>\n",
       "    </tbody>\n",
       "</table>"
      ],
      "text/plain": [
       "++\n",
       "||\n",
       "++\n",
       "++"
      ]
     },
     "execution_count": 79,
     "metadata": {},
     "output_type": "execute_result"
    }
   ],
   "source": [
    "%%sql\n",
    "DROP TABLE IF EXISTS bootcamp.match_details"
   ]
  },
  {
   "cell_type": "code",
   "execution_count": 62,
   "id": "4c9d43a5-3f9c-465d-949f-93bf1e9c60cc",
   "metadata": {},
   "outputs": [
    {
     "data": {
      "text/html": [
       "<table>\n",
       "    <thead>\n",
       "        <tr>\n",
       "        </tr>\n",
       "    </thead>\n",
       "    <tbody>\n",
       "    </tbody>\n",
       "</table>"
      ],
      "text/plain": [
       "++\n",
       "||\n",
       "++\n",
       "++"
      ]
     },
     "execution_count": 62,
     "metadata": {},
     "output_type": "execute_result"
    }
   ],
   "source": [
    "%%sql\n",
    "DROP TABLE IF EXISTS bootcamp.matches"
   ]
  },
  {
   "cell_type": "code",
   "execution_count": 63,
   "id": "66575bf8-b2b5-4709-b914-1c3339f0a5c6",
   "metadata": {},
   "outputs": [
    {
     "data": {
      "text/html": [
       "<table>\n",
       "    <thead>\n",
       "        <tr>\n",
       "        </tr>\n",
       "    </thead>\n",
       "    <tbody>\n",
       "    </tbody>\n",
       "</table>"
      ],
      "text/plain": [
       "++\n",
       "||\n",
       "++\n",
       "++"
      ]
     },
     "execution_count": 63,
     "metadata": {},
     "output_type": "execute_result"
    }
   ],
   "source": [
    "%%sql\n",
    "DROP TABLE IF EXISTS bootcamp.medals_matches_players"
   ]
  },
  {
   "cell_type": "code",
   "execution_count": 64,
   "id": "d1621a31-f3a8-432d-aa63-d570bbc368eb",
   "metadata": {},
   "outputs": [
    {
     "data": {
      "text/html": [
       "<table>\n",
       "    <thead>\n",
       "        <tr>\n",
       "        </tr>\n",
       "    </thead>\n",
       "    <tbody>\n",
       "    </tbody>\n",
       "</table>"
      ],
      "text/plain": [
       "++\n",
       "||\n",
       "++\n",
       "++"
      ]
     },
     "execution_count": 64,
     "metadata": {},
     "output_type": "execute_result"
    }
   ],
   "source": [
    "%%sql\n",
    "DROP TABLE IF EXISTS bootcamp.medals"
   ]
  },
  {
   "cell_type": "code",
   "execution_count": 65,
   "id": "d700160e-b371-4b73-9c14-18b6a48d6c27",
   "metadata": {},
   "outputs": [
    {
     "data": {
      "text/html": [
       "<table>\n",
       "    <thead>\n",
       "        <tr>\n",
       "        </tr>\n",
       "    </thead>\n",
       "    <tbody>\n",
       "    </tbody>\n",
       "</table>"
      ],
      "text/plain": [
       "++\n",
       "||\n",
       "++\n",
       "++"
      ]
     },
     "execution_count": 65,
     "metadata": {},
     "output_type": "execute_result"
    }
   ],
   "source": [
    "%%sql\n",
    "DROP TABLE IF EXISTS bootcamp.maps"
   ]
  },
  {
   "cell_type": "code",
   "execution_count": 24,
   "id": "b5945b6f-6b7c-44df-a4b8-58b5526994ef",
   "metadata": {},
   "outputs": [
    {
     "data": {
      "text/plain": [
       "[('match_id', 'string'),\n",
       " ('player_gamertag', 'string'),\n",
       " ('previous_spartan_rank', 'string'),\n",
       " ('spartan_rank', 'string'),\n",
       " ('previous_total_xp', 'string'),\n",
       " ('total_xp', 'string'),\n",
       " ('previous_csr_tier', 'string'),\n",
       " ('previous_csr_designation', 'string'),\n",
       " ('previous_csr', 'string'),\n",
       " ('previous_csr_percent_to_next_tier', 'string'),\n",
       " ('previous_csr_rank', 'string'),\n",
       " ('current_csr_tier', 'string'),\n",
       " ('current_csr_designation', 'string'),\n",
       " ('current_csr', 'string'),\n",
       " ('current_csr_percent_to_next_tier', 'string'),\n",
       " ('current_csr_rank', 'string'),\n",
       " ('player_rank_on_team', 'string'),\n",
       " ('player_finished', 'string'),\n",
       " ('player_average_life', 'string'),\n",
       " ('player_total_kills', 'string'),\n",
       " ('player_total_headshots', 'string'),\n",
       " ('player_total_weapon_damage', 'string'),\n",
       " ('player_total_shots_landed', 'string'),\n",
       " ('player_total_melee_kills', 'string'),\n",
       " ('player_total_melee_damage', 'string'),\n",
       " ('player_total_assassinations', 'string'),\n",
       " ('player_total_ground_pound_kills', 'string'),\n",
       " ('player_total_shoulder_bash_kills', 'string'),\n",
       " ('player_total_grenade_damage', 'string'),\n",
       " ('player_total_power_weapon_damage', 'string'),\n",
       " ('player_total_power_weapon_grabs', 'string'),\n",
       " ('player_total_deaths', 'string'),\n",
       " ('player_total_assists', 'string'),\n",
       " ('player_total_grenade_kills', 'string'),\n",
       " ('did_win', 'string'),\n",
       " ('team_id', 'string')]"
      ]
     },
     "execution_count": 24,
     "metadata": {},
     "output_type": "execute_result"
    }
   ],
   "source": [
    "match_details.dtypes"
   ]
  },
  {
   "cell_type": "code",
   "execution_count": 77,
   "id": "be6b3826-fd46-4c71-a76c-2de60a89bb21",
   "metadata": {},
   "outputs": [
    {
     "data": {
      "text/plain": [
       "69420"
      ]
     },
     "execution_count": 77,
     "metadata": {},
     "output_type": "execute_result"
    }
   ],
   "source": [
    "from pyspark.sql.functions import countDistinct\n",
    "unique_players_count = match_details.select(countDistinct('player_gamertag')).collect()[0][0]\n",
    "\n",
    "unique_players_count"
   ]
  },
  {
   "cell_type": "code",
   "execution_count": 78,
   "id": "4d1a0fd7-5801-4b24-a640-9b5d8d3e5521",
   "metadata": {},
   "outputs": [
    {
     "data": {
      "text/plain": [
       "8"
      ]
     },
     "execution_count": 78,
     "metadata": {},
     "output_type": "execute_result"
    }
   ],
   "source": [
    "unique_teams = match_details.select(countDistinct('team_id')).collect()[0][0]\n",
    "unique_teams"
   ]
  },
  {
   "cell_type": "code",
   "execution_count": 76,
   "id": "95e20215-150c-4abe-8dab-3640112038c0",
   "metadata": {},
   "outputs": [
    {
     "data": {
      "text/plain": [
       "19050"
      ]
     },
     "execution_count": 76,
     "metadata": {},
     "output_type": "execute_result"
    }
   ],
   "source": [
    "unique_matches = match_details.select(countDistinct('match_id')).collect()[0][0]\n",
    "unique_matches"
   ]
  },
  {
   "cell_type": "code",
   "execution_count": 71,
   "id": "59402f30-5cfe-498d-8f5d-8035ffc01443",
   "metadata": {},
   "outputs": [
    {
     "data": {
      "text/plain": [
       "151761"
      ]
     },
     "execution_count": 71,
     "metadata": {},
     "output_type": "execute_result"
    }
   ],
   "source": [
    "match_details.count()"
   ]
  },
  {
   "cell_type": "code",
   "execution_count": 81,
   "id": "ddbfa268-339c-40d5-a0b1-6ed8a142cc64",
   "metadata": {},
   "outputs": [
    {
     "data": {
      "text/html": [
       "<table>\n",
       "    <thead>\n",
       "        <tr>\n",
       "        </tr>\n",
       "    </thead>\n",
       "    <tbody>\n",
       "    </tbody>\n",
       "</table>"
      ],
      "text/plain": [
       "++\n",
       "||\n",
       "++\n",
       "++"
      ]
     },
     "execution_count": 81,
     "metadata": {},
     "output_type": "execute_result"
    }
   ],
   "source": [
    "%%sql\n",
    "CREATE TABLE\n",
    "  IF NOT EXISTS bootcamp.match_details (\n",
    "    match_id STRING,\n",
    "    player_gamertag STRING,\n",
    "    previous_spartan_rank INT,\n",
    "    spartan_rank INT,\n",
    "    previous_total_xp BIGINT,\n",
    "    total_xp BIGINT,\n",
    "    previous_csr_tier INT,\n",
    "    previous_csr_designation INT,\n",
    "    previous_csr INT,\n",
    "    previous_csr_percent_to_next_tier DOUBLE,\n",
    "    previous_csr_rank INT,\n",
    "    current_csr_tier INT,\n",
    "    current_csr_designation INT,\n",
    "    current_csr INT,\n",
    "    current_csr_percent_to_next_tier DOUBLE,\n",
    "    current_csr_rank INT,\n",
    "    player_rank_on_team INT,\n",
    "    player_finished BOOLEAN,\n",
    "    player_average_life STRING,\n",
    "    player_total_kills INT,\n",
    "    player_total_headshots INT,\n",
    "    player_total_weapon_damage DOUBLE,\n",
    "    player_total_shots_landed INT,\n",
    "    player_total_melee_kills INT,\n",
    "    player_total_melee_damage DOUBLE,\n",
    "    player_total_assassinations INT,\n",
    "    player_total_ground_pound_kills INT,\n",
    "    player_total_shoulder_bash_kills INT,\n",
    "    player_total_grenade_damage DOUBLE,\n",
    "    player_total_power_weapon_damage DOUBLE,\n",
    "    player_total_power_weapon_grabs INT,\n",
    "    player_total_deaths INT,\n",
    "    player_total_assists INT,\n",
    "    player_total_grenade_kills INT,\n",
    "    did_win BOOLEAN,\n",
    "    team_id INT\n",
    "  ) USING iceberg PARTITIONED BY (team_id)"
   ]
  },
  {
   "cell_type": "code",
   "execution_count": 26,
   "id": "91b23b94-c96a-4604-9ba3-ead4393c28ee",
   "metadata": {},
   "outputs": [
    {
     "data": {
      "text/plain": [
       "[('match_id', 'string'),\n",
       " ('mapid', 'string'),\n",
       " ('is_team_game', 'string'),\n",
       " ('playlist_id', 'string'),\n",
       " ('game_variant_id', 'string'),\n",
       " ('is_match_over', 'string'),\n",
       " ('completion_date', 'string'),\n",
       " ('match_duration', 'string'),\n",
       " ('game_mode', 'string'),\n",
       " ('map_variant_id', 'string')]"
      ]
     },
     "execution_count": 26,
     "metadata": {},
     "output_type": "execute_result"
    }
   ],
   "source": [
    "matches.dtypes"
   ]
  },
  {
   "cell_type": "code",
   "execution_count": 69,
   "id": "584e69df-8583-4b67-8b02-63226afd538d",
   "metadata": {},
   "outputs": [
    {
     "data": {
      "text/html": [
       "<table>\n",
       "    <thead>\n",
       "        <tr>\n",
       "        </tr>\n",
       "    </thead>\n",
       "    <tbody>\n",
       "    </tbody>\n",
       "</table>"
      ],
      "text/plain": [
       "++\n",
       "||\n",
       "++\n",
       "++"
      ]
     },
     "execution_count": 69,
     "metadata": {},
     "output_type": "execute_result"
    }
   ],
   "source": [
    "%%sql \n",
    "CREATE TABLE\n",
    "  IF NOT EXISTS bootcamp.matches (\n",
    "    match_id STRING,\n",
    "    mapid STRING,\n",
    "    is_team_game BOOLEAN,\n",
    "    playlist_id STRING,\n",
    "    game_variant_id STRING,\n",
    "    is_match_over BOOLEAN,\n",
    "    completion_date TIMESTAMP,\n",
    "    match_duration STRING,\n",
    "    game_mode STRING,\n",
    "    map_variant_id STRING,\n",
    "    partitioned_date DATE\n",
    "  ) USING iceberg PARTITIONED BY (mapid)"
   ]
  },
  {
   "cell_type": "code",
   "execution_count": 40,
   "id": "f18ac055-17f1-4830-958d-86f6e946afc2",
   "metadata": {},
   "outputs": [
    {
     "data": {
      "text/plain": [
       "[('match_id', 'string'),\n",
       " ('player_gamertag', 'string'),\n",
       " ('medal_id', 'string'),\n",
       " ('count', 'string')]"
      ]
     },
     "execution_count": 40,
     "metadata": {},
     "output_type": "execute_result"
    }
   ],
   "source": [
    "medals_matches_players.dtypes"
   ]
  },
  {
   "cell_type": "code",
   "execution_count": 68,
   "id": "c2a50ed9-635d-474e-9e04-4a0cf7883611",
   "metadata": {},
   "outputs": [
    {
     "data": {
      "text/html": [
       "<table>\n",
       "    <thead>\n",
       "        <tr>\n",
       "        </tr>\n",
       "    </thead>\n",
       "    <tbody>\n",
       "    </tbody>\n",
       "</table>"
      ],
      "text/plain": [
       "++\n",
       "||\n",
       "++\n",
       "++"
      ]
     },
     "execution_count": 68,
     "metadata": {},
     "output_type": "execute_result"
    }
   ],
   "source": [
    "%%sql\n",
    "CREATE TABLE\n",
    "  IF NOT EXISTS bootcamp.medals_matches_players (\n",
    "    match_id STRING,\n",
    "    player_gamertag STRING,\n",
    "    medal_id BIGINT,\n",
    "    COUNT INT\n",
    "  ) USING iceberg PARTITIONED BY (medal_id)"
   ]
  },
  {
   "cell_type": "code",
   "execution_count": 86,
   "id": "a209f485-3832-4258-a5c0-fb58ba0b1155",
   "metadata": {},
   "outputs": [
    {
     "data": {
      "text/plain": [
       "755229"
      ]
     },
     "execution_count": 86,
     "metadata": {},
     "output_type": "execute_result"
    }
   ],
   "source": [
    "medals_matches_players.count()"
   ]
  },
  {
   "cell_type": "code",
   "execution_count": 44,
   "id": "f4f30e80-5ae2-48c4-a564-ad6e326d70ea",
   "metadata": {},
   "outputs": [
    {
     "data": {
      "text/plain": [
       "[('medal_id', 'string'),\n",
       " ('sprite_uri', 'string'),\n",
       " ('sprite_left', 'string'),\n",
       " ('sprite_top', 'string'),\n",
       " ('sprite_sheet_width', 'string'),\n",
       " ('sprite_sheet_height', 'string'),\n",
       " ('sprite_width', 'string'),\n",
       " ('sprite_height', 'string'),\n",
       " ('classification', 'string'),\n",
       " ('description', 'string'),\n",
       " ('name', 'string'),\n",
       " ('difficulty', 'string')]"
      ]
     },
     "execution_count": 44,
     "metadata": {},
     "output_type": "execute_result"
    }
   ],
   "source": [
    "medals.dtypes"
   ]
  },
  {
   "cell_type": "code",
   "execution_count": 85,
   "id": "eceeb91c-05d5-49cc-97f0-11829dac1061",
   "metadata": {},
   "outputs": [
    {
     "data": {
      "text/plain": [
       "183"
      ]
     },
     "execution_count": 85,
     "metadata": {},
     "output_type": "execute_result"
    }
   ],
   "source": [
    "medals.count()"
   ]
  },
  {
   "cell_type": "code",
   "execution_count": 88,
   "id": "1be781c7-e2ec-4208-805e-71400945d882",
   "metadata": {},
   "outputs": [
    {
     "data": {
      "text/html": [
       "<table>\n",
       "    <thead>\n",
       "        <tr>\n",
       "        </tr>\n",
       "    </thead>\n",
       "    <tbody>\n",
       "    </tbody>\n",
       "</table>"
      ],
      "text/plain": [
       "++\n",
       "||\n",
       "++\n",
       "++"
      ]
     },
     "execution_count": 88,
     "metadata": {},
     "output_type": "execute_result"
    }
   ],
   "source": [
    "%%sql\n",
    "CREATE TABLE\n",
    "  IF NOT EXISTS bootcamp.medals (\n",
    "    medal_id BIGINT,\n",
    "    sprite_uri STRING,\n",
    "    sprite_left INT,\n",
    "    sprite_top INT,\n",
    "    sprite_sheet_width INT,\n",
    "    sprite_sheet_height INT,\n",
    "    sprite_width INT,\n",
    "    sprite_height INT,\n",
    "    classification STRING,\n",
    "    description STRING,\n",
    "    name STRING,\n",
    "    difficulty INT\n",
    "  ) USING iceberg"
   ]
  },
  {
   "cell_type": "code",
   "execution_count": 53,
   "id": "080886c5-98d4-4cee-8922-b87cb25652eb",
   "metadata": {},
   "outputs": [
    {
     "name": "stdout",
     "output_type": "stream",
     "text": [
      "+--------------------+-------------------+--------------------+\n",
      "|               mapid|               name|         description|\n",
      "+--------------------+-------------------+--------------------+\n",
      "|c93d708f-f206-11e...|              Urban|Andesia was the c...|\n",
      "|cb251c51-f206-11e...|     Raid on Apex 7|This unbroken rin...|\n",
      "|c854e54f-f206-11e...|March on Stormbreak|                NULL|\n",
      "|c8d69870-f206-11e...| Escape from A.R.C.|Scientists flocke...|\n",
      "|73ed1fd0-45e5-4bb...|             Osiris|                NULL|\n",
      "|96c3e3dd-7703-408...|          Blue Team|                NULL|\n",
      "|1c4f8e19-b046-4f7...|            Glassed|                NULL|\n",
      "|825065cf-df57-42e...|        Unconfirmed|                NULL|\n",
      "|9a188f67-1664-4d7...|           Alliance|                NULL|\n",
      "|2702ea83-2c3e-4fd...|   Before the Storm|                NULL|\n",
      "|82f8471c-a2ef-408...|            Genesis|                NULL|\n",
      "|fcd7caa4-37c9-436...|       The Breaking|                NULL|\n",
      "|7dc80b62-dd39-41d...|          Guardians|                NULL|\n",
      "|db9f76c4-6f9a-4c1...|   Meridian Station|                NULL|\n",
      "|b486c8f6-0b00-4a4...|         Evacuation|                NULL|\n",
      "|37c717b8-7ae8-4be...|            Reunion|                NULL|\n",
      "|72c98d4a-4ee4-40d...|Sword of Sanghelios|                NULL|\n",
      "|f352eafd-d307-434...|        Enemy Lines|                NULL|\n",
      "|8d72dd82-3afb-409...|  Battle of Sunaion|                NULL|\n",
      "|c822b1c0-f206-11e...|             Summit|The half-real spa...|\n",
      "+--------------------+-------------------+--------------------+\n",
      "only showing top 20 rows\n",
      "\n"
     ]
    }
   ],
   "source": [
    "maps = spark.read.option(\"header\", \"true\").csv(\"/home/iceberg/data/maps.csv\")\n",
    "maps.show()"
   ]
  },
  {
   "cell_type": "code",
   "execution_count": 58,
   "id": "8984e21b-6475-45b3-ab3c-d0545b90d3c9",
   "metadata": {},
   "outputs": [
    {
     "data": {
      "text/plain": [
       "40"
      ]
     },
     "execution_count": 58,
     "metadata": {},
     "output_type": "execute_result"
    }
   ],
   "source": [
    "maps.count()"
   ]
  },
  {
   "cell_type": "code",
   "execution_count": 66,
   "id": "b69dcf17-ab53-486f-a870-37ff564a5cda",
   "metadata": {},
   "outputs": [
    {
     "data": {
      "text/html": [
       "<table>\n",
       "    <thead>\n",
       "        <tr>\n",
       "        </tr>\n",
       "    </thead>\n",
       "    <tbody>\n",
       "    </tbody>\n",
       "</table>"
      ],
      "text/plain": [
       "++\n",
       "||\n",
       "++\n",
       "++"
      ]
     },
     "execution_count": 66,
     "metadata": {},
     "output_type": "execute_result"
    }
   ],
   "source": [
    "%%sql\n",
    "CREATE TABLE\n",
    "  IF NOT EXISTS bootcamp.maps (mapid STRING, name STRING, description STRING) USING iceberg"
   ]
  },
  {
   "cell_type": "markdown",
   "id": "9224ba73-9612-4e6e-af93-aeaa30850c44",
   "metadata": {},
   "source": [
    "## Prior to making any joins, I need to set spart such that it doesn't automatically broadcast joins"
   ]
  },
  {
   "cell_type": "code",
   "execution_count": 83,
   "id": "2f5fec26-b5c0-4dd8-8800-e45a45f641b2",
   "metadata": {},
   "outputs": [],
   "source": [
    "spark.conf.set(\"spark.sql.autoBroadcastJoinThreshold\", \"-1\")"
   ]
  },
  {
   "cell_type": "code",
   "execution_count": 84,
   "id": "f0ec4f13-016c-4f00-96c7-0726690297b1",
   "metadata": {},
   "outputs": [
    {
     "name": "stdout",
     "output_type": "stream",
     "text": [
      "-1\n"
     ]
    }
   ],
   "source": [
    "print(spark.conf.get(\"spark.sql.autoBroadcastJoinThreshold\"))"
   ]
  },
  {
   "cell_type": "markdown",
   "id": "e3204ea1-6fd4-4386-9aa7-517bcd1a5cbe",
   "metadata": {},
   "source": [
    "Write the data to the database"
   ]
  },
  {
   "cell_type": "code",
   "execution_count": 89,
   "id": "bf5a0761-fd03-456f-a6b2-f3e03eb2e1a7",
   "metadata": {},
   "outputs": [
    {
     "name": "stderr",
     "output_type": "stream",
     "text": [
      "                                                                                \r"
     ]
    }
   ],
   "source": [
    "maps.write.mode(\"overwrite\").saveAsTable(\"bootcamp.maps\")\n",
    "medals.write.mode(\"overwrite\").saveAsTable(\"bootcamp.medals\")"
   ]
  },
  {
   "cell_type": "code",
   "execution_count": 92,
   "id": "9993e6c4-d126-4a8c-a1ad-95aaa9c8afab",
   "metadata": {},
   "outputs": [
    {
     "data": {
      "text/html": [
       "<table>\n",
       "    <thead>\n",
       "        <tr>\n",
       "            <th>mapid</th>\n",
       "            <th>name</th>\n",
       "            <th>description</th>\n",
       "        </tr>\n",
       "    </thead>\n",
       "    <tbody>\n",
       "        <tr>\n",
       "            <td>c93d708f-f206-11e4-a815-24be05e24f7e</td>\n",
       "            <td>Urban</td>\n",
       "            <td>Andesia was the crucible for countless heroes and villains caught in the throes of seething rebellion and righteous excess.</td>\n",
       "        </tr>\n",
       "        <tr>\n",
       "            <td>cb251c51-f206-11e4-8541-24be05e24f7e</td>\n",
       "            <td>Raid on Apex 7</td>\n",
       "            <td>This unbroken ring is a symbol of the discovery that shook the galaxy and changed the course of both human and Covenant destiny.</td>\n",
       "        </tr>\n",
       "        <tr>\n",
       "            <td>c854e54f-f206-11e4-bddc-24be05e24f7e</td>\n",
       "            <td>March on Stormbreak</td>\n",
       "            <td>None</td>\n",
       "        </tr>\n",
       "        <tr>\n",
       "            <td>c8d69870-f206-11e4-b477-24be05e24f7e</td>\n",
       "            <td>Escape from A.R.C.</td>\n",
       "            <td>Scientists flocked to this Forerunner excavation in search of new beginnings. What they unearthed will lead to their inevitable end.</td>\n",
       "        </tr>\n",
       "        <tr>\n",
       "            <td>73ed1fd0-45e5-4bb9-ab6a-d2852c04ea7d</td>\n",
       "            <td>Osiris</td>\n",
       "            <td>None</td>\n",
       "        </tr>\n",
       "    </tbody>\n",
       "</table>"
      ],
      "text/plain": [
       "+--------------------------------------+---------------------+--------------------------------------------------------------------------------------------------------------------------------------+\n",
       "|                                mapid |                name |                                                                                                                          description |\n",
       "+--------------------------------------+---------------------+--------------------------------------------------------------------------------------------------------------------------------------+\n",
       "| c93d708f-f206-11e4-a815-24be05e24f7e |               Urban |          Andesia was the crucible for countless heroes and villains caught in the throes of seething rebellion and righteous excess. |\n",
       "| cb251c51-f206-11e4-8541-24be05e24f7e |      Raid on Apex 7 |     This unbroken ring is a symbol of the discovery that shook the galaxy and changed the course of both human and Covenant destiny. |\n",
       "| c854e54f-f206-11e4-bddc-24be05e24f7e | March on Stormbreak |                                                                                                                                 None |\n",
       "| c8d69870-f206-11e4-b477-24be05e24f7e |  Escape from A.R.C. | Scientists flocked to this Forerunner excavation in search of new beginnings. What they unearthed will lead to their inevitable end. |\n",
       "| 73ed1fd0-45e5-4bb9-ab6a-d2852c04ea7d |              Osiris |                                                                                                                                 None |\n",
       "+--------------------------------------+---------------------+--------------------------------------------------------------------------------------------------------------------------------------+"
      ]
     },
     "execution_count": 92,
     "metadata": {},
     "output_type": "execute_result"
    }
   ],
   "source": [
    "%%sql\n",
    "SELECT\n",
    "  *\n",
    "FROM\n",
    "  bootcamp.maps\n",
    "LIMIT\n",
    "  5"
   ]
  },
  {
   "cell_type": "code",
   "execution_count": 93,
   "id": "2180f911-9aa1-4334-a720-7d8e034f0911",
   "metadata": {},
   "outputs": [
    {
     "data": {
      "text/html": [
       "<table>\n",
       "    <thead>\n",
       "        <tr>\n",
       "            <th>medal_id</th>\n",
       "            <th>sprite_uri</th>\n",
       "            <th>sprite_left</th>\n",
       "            <th>sprite_top</th>\n",
       "            <th>sprite_sheet_width</th>\n",
       "            <th>sprite_sheet_height</th>\n",
       "            <th>sprite_width</th>\n",
       "            <th>sprite_height</th>\n",
       "            <th>classification</th>\n",
       "            <th>description</th>\n",
       "            <th>name</th>\n",
       "            <th>difficulty</th>\n",
       "        </tr>\n",
       "    </thead>\n",
       "    <tbody>\n",
       "        <tr>\n",
       "            <td>2315448068</td>\n",
       "            <td>None</td>\n",
       "            <td>None</td>\n",
       "            <td>None</td>\n",
       "            <td>None</td>\n",
       "            <td>None</td>\n",
       "            <td>None</td>\n",
       "            <td>None</td>\n",
       "            <td>None</td>\n",
       "            <td>None</td>\n",
       "            <td>None</td>\n",
       "            <td>None</td>\n",
       "        </tr>\n",
       "        <tr>\n",
       "            <td>3565441934</td>\n",
       "            <td>None</td>\n",
       "            <td>None</td>\n",
       "            <td>None</td>\n",
       "            <td>None</td>\n",
       "            <td>None</td>\n",
       "            <td>None</td>\n",
       "            <td>None</td>\n",
       "            <td>None</td>\n",
       "            <td>None</td>\n",
       "            <td>None</td>\n",
       "            <td>None</td>\n",
       "        </tr>\n",
       "        <tr>\n",
       "            <td>4162659350</td>\n",
       "            <td>https://content.halocdn.com/media/Default/games/halo-5-guardians/sprites/medalspritesheet-be288ea5c0994a4e9d36f43aee7bc631.png</td>\n",
       "            <td>750</td>\n",
       "            <td>750</td>\n",
       "            <td>74</td>\n",
       "            <td>74</td>\n",
       "            <td>1125</td>\n",
       "            <td>899</td>\n",
       "            <td>Breakout</td>\n",
       "            <td>Kill the last enemy within the last 10 seconds of a round.</td>\n",
       "            <td>Buzzer Beater</td>\n",
       "            <td>45</td>\n",
       "        </tr>\n",
       "        <tr>\n",
       "            <td>1573153198</td>\n",
       "            <td>https://content.halocdn.com/media/Default/games/halo-5-guardians/sprites/medalspritesheet-be288ea5c0994a4e9d36f43aee7bc631.png</td>\n",
       "            <td>0</td>\n",
       "            <td>300</td>\n",
       "            <td>74</td>\n",
       "            <td>74</td>\n",
       "            <td>1125</td>\n",
       "            <td>899</td>\n",
       "            <td>Breakout</td>\n",
       "            <td>Survive a one-on-one encounter.</td>\n",
       "            <td>Vanquisher</td>\n",
       "            <td>30</td>\n",
       "        </tr>\n",
       "        <tr>\n",
       "            <td>298813630</td>\n",
       "            <td>https://content.halocdn.com/media/Default/games/halo-5-guardians/sprites/medalspritesheet-be288ea5c0994a4e9d36f43aee7bc631.png</td>\n",
       "            <td>0</td>\n",
       "            <td>825</td>\n",
       "            <td>74</td>\n",
       "            <td>74</td>\n",
       "            <td>1125</td>\n",
       "            <td>899</td>\n",
       "            <td>Style</td>\n",
       "            <td>Kill an enemy with Spartan Charge.</td>\n",
       "            <td>Spartan Charge</td>\n",
       "            <td>135</td>\n",
       "        </tr>\n",
       "    </tbody>\n",
       "</table>"
      ],
      "text/plain": [
       "+------------+--------------------------------------------------------------------------------------------------------------------------------+-------------+------------+--------------------+---------------------+--------------+---------------+----------------+------------------------------------------------------------+----------------+------------+\n",
       "|   medal_id |                                                                                                                     sprite_uri | sprite_left | sprite_top | sprite_sheet_width | sprite_sheet_height | sprite_width | sprite_height | classification |                                                description |           name | difficulty |\n",
       "+------------+--------------------------------------------------------------------------------------------------------------------------------+-------------+------------+--------------------+---------------------+--------------+---------------+----------------+------------------------------------------------------------+----------------+------------+\n",
       "| 2315448068 |                                                                                                                           None |        None |       None |               None |                None |         None |          None |           None |                                                       None |           None |       None |\n",
       "| 3565441934 |                                                                                                                           None |        None |       None |               None |                None |         None |          None |           None |                                                       None |           None |       None |\n",
       "| 4162659350 | https://content.halocdn.com/media/Default/games/halo-5-guardians/sprites/medalspritesheet-be288ea5c0994a4e9d36f43aee7bc631.png |         750 |        750 |                 74 |                  74 |         1125 |           899 |       Breakout | Kill the last enemy within the last 10 seconds of a round. |  Buzzer Beater |         45 |\n",
       "| 1573153198 | https://content.halocdn.com/media/Default/games/halo-5-guardians/sprites/medalspritesheet-be288ea5c0994a4e9d36f43aee7bc631.png |           0 |        300 |                 74 |                  74 |         1125 |           899 |       Breakout |                            Survive a one-on-one encounter. |     Vanquisher |         30 |\n",
       "|  298813630 | https://content.halocdn.com/media/Default/games/halo-5-guardians/sprites/medalspritesheet-be288ea5c0994a4e9d36f43aee7bc631.png |           0 |        825 |                 74 |                  74 |         1125 |           899 |          Style |                         Kill an enemy with Spartan Charge. | Spartan Charge |        135 |\n",
       "+------------+--------------------------------------------------------------------------------------------------------------------------------+-------------+------------+--------------------+---------------------+--------------+---------------+----------------+------------------------------------------------------------+----------------+------------+"
      ]
     },
     "execution_count": 93,
     "metadata": {},
     "output_type": "execute_result"
    }
   ],
   "source": [
    "%%sql\n",
    "SELECT\n",
    "  *\n",
    "FROM\n",
    "  bootcamp.medals\n",
    "LIMIT\n",
    "  5"
   ]
  },
  {
   "cell_type": "code",
   "execution_count": 94,
   "id": "277cbbfd-5141-43bd-9b9d-56210623e180",
   "metadata": {},
   "outputs": [
    {
     "name": "stderr",
     "output_type": "stream",
     "text": [
      "                                                                                \r"
     ]
    }
   ],
   "source": [
    "matches.write.mode(\"overwrite\").saveAsTable(\"bootcamp.matches\")\n",
    "match_details.write.mode(\"overwrite\").saveAsTable(\"bootcamp.match_details\")\n",
    "medals_matches_players.write.mode(\"overwrite\").saveAsTable(\"bootcamp.medals_matches_players\")"
   ]
  },
  {
   "cell_type": "markdown",
   "id": "c777d089-41a0-4342-bb78-2f972c4393ab",
   "metadata": {},
   "source": [
    "To explicitly broadcast the table joins for the medals and maps, we need to have an understanding of the tables: \n",
    "\n",
    "match_details ─┬─── matches ─── maps (via map_id)\n",
    "               └─── medals_matches_players\n",
    "                         │\n",
    "                         └─── medals\n",
    "\n",
    "Fact Tables: \n",
    "- match_details\n",
    "- medals_matches_players\n",
    "- matches\n",
    "\n",
    "Dimension Tables: \n",
    "- medals\n",
    "- maps\n",
    "\n",
    "Prior to joining, we also need to consider the possibility of Duplicates, and dedupe the medals and maps tables (as well as the others)"
   ]
  },
  {
   "cell_type": "code",
   "execution_count": 99,
   "id": "18026ae6-63ae-4fb6-ae46-f6a4b293bc99",
   "metadata": {},
   "outputs": [
    {
     "name": "stdout",
     "output_type": "stream",
     "text": [
      "+-----+----+-----------+-----+\n",
      "|mapid|name|description|count|\n",
      "+-----+----+-----------+-----+\n",
      "+-----+----+-----------+-----+\n",
      "\n"
     ]
    }
   ],
   "source": [
    "duplicate_maps = maps.groupBy(maps.columns).count().filter(\"count >1\")\n",
    "duplicate_maps.show()"
   ]
  },
  {
   "cell_type": "code",
   "execution_count": 101,
   "id": "ee7d2a2b-948e-47dd-b8e4-21ed6ec5fb8e",
   "metadata": {},
   "outputs": [
    {
     "name": "stdout",
     "output_type": "stream",
     "text": [
      "+--------+----------+-----------+----------+------------------+-------------------+------------+-------------+--------------+-----------+----+----------+-----+\n",
      "|medal_id|sprite_uri|sprite_left|sprite_top|sprite_sheet_width|sprite_sheet_height|sprite_width|sprite_height|classification|description|name|difficulty|count|\n",
      "+--------+----------+-----------+----------+------------------+-------------------+------------+-------------+--------------+-----------+----+----------+-----+\n",
      "+--------+----------+-----------+----------+------------------+-------------------+------------+-------------+--------------+-----------+----+----------+-----+\n",
      "\n"
     ]
    }
   ],
   "source": [
    "duplicate_medals = medals.groupBy(medals.columns).count().filter(\"count > 1\")\n",
    "duplicate_medals.show()"
   ]
  },
  {
   "cell_type": "code",
   "execution_count": 102,
   "id": "40d11d1c-b53e-4fc9-82f1-3e9fdaa5e201",
   "metadata": {},
   "outputs": [
    {
     "name": "stderr",
     "output_type": "stream",
     "text": [
      "[Stage 94:=================================>                        (4 + 3) / 7]\r"
     ]
    },
    {
     "name": "stdout",
     "output_type": "stream",
     "text": [
      "+--------+---------------+---------------------+------------+-----------------+--------+-----------------+------------------------+------------+---------------------------------+-----------------+----------------+-----------------------+-----------+--------------------------------+----------------+-------------------+---------------+-------------------+------------------+----------------------+--------------------------+-------------------------+------------------------+-------------------------+---------------------------+-------------------------------+--------------------------------+---------------------------+--------------------------------+-------------------------------+-------------------+--------------------+--------------------------+-------+-------+-----+\n",
      "|match_id|player_gamertag|previous_spartan_rank|spartan_rank|previous_total_xp|total_xp|previous_csr_tier|previous_csr_designation|previous_csr|previous_csr_percent_to_next_tier|previous_csr_rank|current_csr_tier|current_csr_designation|current_csr|current_csr_percent_to_next_tier|current_csr_rank|player_rank_on_team|player_finished|player_average_life|player_total_kills|player_total_headshots|player_total_weapon_damage|player_total_shots_landed|player_total_melee_kills|player_total_melee_damage|player_total_assassinations|player_total_ground_pound_kills|player_total_shoulder_bash_kills|player_total_grenade_damage|player_total_power_weapon_damage|player_total_power_weapon_grabs|player_total_deaths|player_total_assists|player_total_grenade_kills|did_win|team_id|count|\n",
      "+--------+---------------+---------------------+------------+-----------------+--------+-----------------+------------------------+------------+---------------------------------+-----------------+----------------+-----------------------+-----------+--------------------------------+----------------+-------------------+---------------+-------------------+------------------+----------------------+--------------------------+-------------------------+------------------------+-------------------------+---------------------------+-------------------------------+--------------------------------+---------------------------+--------------------------------+-------------------------------+-------------------+--------------------+--------------------------+-------+-------+-----+\n",
      "+--------+---------------+---------------------+------------+-----------------+--------+-----------------+------------------------+------------+---------------------------------+-----------------+----------------+-----------------------+-----------+--------------------------------+----------------+-------------------+---------------+-------------------+------------------+----------------------+--------------------------+-------------------------+------------------------+-------------------------+---------------------------+-------------------------------+--------------------------------+---------------------------+--------------------------------+-------------------------------+-------------------+--------------------+--------------------------+-------+-------+-----+\n",
      "\n"
     ]
    },
    {
     "name": "stderr",
     "output_type": "stream",
     "text": [
      "                                                                                \r"
     ]
    }
   ],
   "source": [
    "duplicate_match_details = match_details.groupBy(match_details.columns).count().filter(\"count > 1\")\n",
    "duplicate_match_details.show()"
   ]
  },
  {
   "cell_type": "code",
   "execution_count": 115,
   "id": "2b5b4f66-0916-4f99-9d22-2bb97cf4951c",
   "metadata": {},
   "outputs": [
    {
     "name": "stderr",
     "output_type": "stream",
     "text": [
      "[Stage 102:=============================================>         (10 + 2) / 12]\r"
     ]
    },
    {
     "name": "stdout",
     "output_type": "stream",
     "text": [
      "+--------+---------------+--------+---------------+\n",
      "|match_id|player_gamertag|medal_id|duplicate_count|\n",
      "+--------+---------------+--------+---------------+\n",
      "+--------+---------------+--------+---------------+\n",
      "\n"
     ]
    },
    {
     "name": "stderr",
     "output_type": "stream",
     "text": [
      "                                                                                \r"
     ]
    }
   ],
   "source": [
    "from pyspark.sql.functions import sum, avg, max, min, col, lit, count\n",
    "\n",
    "duplicate_medals_matches_players = medals_matches_players.groupBy(\"match_id\", \"player_gamertag\", \"medal_id\") \\\n",
    "    .agg(count(\"*\").alias(\"duplicate_count\")) \\\n",
    "    .filter(\"duplicate_count > 1\")\n",
    "\n",
    "duplicate_medals_matches_players.show()"
   ]
  },
  {
   "cell_type": "code",
   "execution_count": 116,
   "id": "5bcf8e4f-775e-4f83-94ff-b7bcaecdd4ce",
   "metadata": {},
   "outputs": [
    {
     "name": "stdout",
     "output_type": "stream",
     "text": [
      "+--------+-----+------------+-----------+---------------+-------------+---------------+--------------+---------+--------------+----------------+-----+\n",
      "|match_id|mapid|is_team_game|playlist_id|game_variant_id|is_match_over|completion_date|match_duration|game_mode|map_variant_id|partitioned_date|count|\n",
      "+--------+-----+------------+-----------+---------------+-------------+---------------+--------------+---------+--------------+----------------+-----+\n",
      "+--------+-----+------------+-----------+---------------+-------------+---------------+--------------+---------+--------------+----------------+-----+\n",
      "\n"
     ]
    }
   ],
   "source": [
    "duplicate_matches = matches.groupBy(matches.columns).count().filter(\"count > 1\")\n",
    "duplicate_matches.show()"
   ]
  },
  {
   "cell_type": "markdown",
   "id": "f2607a3d-2af7-4178-8987-1293b846c2ed",
   "metadata": {},
   "source": [
    "There do not seem to be any duplicate rows in any of the tables. "
   ]
  },
  {
   "cell_type": "code",
   "execution_count": 1,
   "id": "264d33ca-409f-41ec-a6d6-c17fbf34760a",
   "metadata": {},
   "outputs": [],
   "source": [
    "from pyspark.sql.functions import broadcast, split, lit\n"
   ]
  },
  {
   "cell_type": "markdown",
   "id": "3701da8a-67b8-4e71-819d-9956eac2661d",
   "metadata": {},
   "source": [
    "The next step is to join all of the tables. \n",
    "- Maps and medals will be broadcasted explicitly\n",
    "- the fact tables will be bucketed into 16 buckets\n",
    "- the fact tables will be joined on match_id"
   ]
  },
  {
   "cell_type": "code",
   "execution_count": 3,
   "id": "8cb1ee44-ea15-42cb-a209-d615484d6939",
   "metadata": {},
   "outputs": [],
   "source": [
    "# Bucket the fact tables\n",
    "\n",
    "matches_bucketed = spark.read.option(\"header\", \"true\") \\\n",
    "    .option(\"inferSchema\", \"true\") \\\n",
    "    .csv(\"/home/iceberg/data/matches.csv\")\n",
    "\n",
    "match_details_bucketed = spark.read.option(\"header\", \"true\") \\\n",
    "    .option(\"inferSchema\", \"true\") \\\n",
    "    .csv(\"/home/iceberg/data/match_details.csv\")\n",
    "\n",
    "medals_matches_players_bucketed = spark.read.option(\"header\", \"true\") \\\n",
    "    .option(\"inferSchema\", \"true\") \\\n",
    "    .csv(\"/home/iceberg/data/medals_matches_players.csv\")"
   ]
  },
  {
   "cell_type": "code",
   "execution_count": 4,
   "id": "49b1ec1d-fb38-43e8-b4d0-7faeec64ce03",
   "metadata": {},
   "outputs": [],
   "source": [
    "spark.conf.set(\"spark.sql.autoBroadcastJoinThreshold\", \"-1\")"
   ]
  },
  {
   "cell_type": "code",
   "execution_count": 5,
   "id": "e02c6aa6-f33a-44f1-a268-dbb9d4a68c70",
   "metadata": {},
   "outputs": [
    {
     "name": "stderr",
     "output_type": "stream",
     "text": [
      "24/12/11 21:50:32 WARN SparkSession: Using an existing Spark session; only runtime SQL configurations will take effect.\n"
     ]
    },
    {
     "data": {
      "text/html": [
       "<table>\n",
       "    <thead>\n",
       "        <tr>\n",
       "        </tr>\n",
       "    </thead>\n",
       "    <tbody>\n",
       "    </tbody>\n",
       "</table>"
      ],
      "text/plain": [
       "++\n",
       "||\n",
       "++\n",
       "++"
      ]
     },
     "execution_count": 5,
     "metadata": {},
     "output_type": "execute_result"
    }
   ],
   "source": [
    "%%sql \n",
    "CREATE DATABASE IF NOT EXISTS bootcamp"
   ]
  },
  {
   "cell_type": "code",
   "execution_count": 7,
   "id": "1b7a8d4b-0642-4bdc-afef-ea7086ec73b8",
   "metadata": {},
   "outputs": [],
   "source": [
    "# Configure Spark catalog for local storage\n",
    "spark.conf.set(\"spark.sql.catalog.spark_catalog\", \"org.apache.spark.sql.iceberg.catalog.SparkCatalog\")\n",
    "spark.conf.set(\"spark.sql.catalog.spark_catalog.type\", \"hadoop\")\n",
    "spark.conf.set(\"spark.sql.catalog.spark_catalog.warehouse\", \"file:///tmp/warehouse\")"
   ]
  },
  {
   "cell_type": "code",
   "execution_count": 11,
   "id": "d674d0ba-c41d-4762-a0e7-70f45c9cfd89",
   "metadata": {},
   "outputs": [
    {
     "ename": "Py4JJavaError",
     "evalue": "An error occurred while calling o36.sql.\n: org.apache.iceberg.exceptions.ServiceFailureException: Server error: NotFoundException: Location does not exist: s3://warehouse/bootcamp/matches_bucketed/metadata/00000-fad46569-9160-441f-9d16-84baae194736.metadata.json\n\tat org.apache.iceberg.rest.ErrorHandlers$DefaultErrorHandler.accept(ErrorHandlers.java:217)\n\tat org.apache.iceberg.rest.ErrorHandlers$TableErrorHandler.accept(ErrorHandlers.java:118)\n\tat org.apache.iceberg.rest.ErrorHandlers$TableErrorHandler.accept(ErrorHandlers.java:102)\n\tat org.apache.iceberg.rest.HTTPClient.throwFailure(HTTPClient.java:201)\n\tat org.apache.iceberg.rest.HTTPClient.execute(HTTPClient.java:313)\n\tat org.apache.iceberg.rest.HTTPClient.execute(HTTPClient.java:252)\n\tat org.apache.iceberg.rest.HTTPClient.get(HTTPClient.java:348)\n\tat org.apache.iceberg.rest.RESTClient.get(RESTClient.java:96)\n\tat org.apache.iceberg.rest.RESTSessionCatalog.loadInternal(RESTSessionCatalog.java:331)\n\tat org.apache.iceberg.rest.RESTSessionCatalog.loadTable(RESTSessionCatalog.java:347)\n\tat org.apache.iceberg.catalog.BaseSessionCatalog$AsCatalog.loadTable(BaseSessionCatalog.java:99)\n\tat org.apache.iceberg.rest.RESTCatalog.loadTable(RESTCatalog.java:102)\n\tat org.apache.iceberg.shaded.com.github.benmanes.caffeine.cache.BoundedLocalCache.lambda$doComputeIfAbsent$14(BoundedLocalCache.java:2406)\n\tat java.base/java.util.concurrent.ConcurrentHashMap.compute(ConcurrentHashMap.java:1908)\n\tat org.apache.iceberg.shaded.com.github.benmanes.caffeine.cache.BoundedLocalCache.doComputeIfAbsent(BoundedLocalCache.java:2404)\n\tat org.apache.iceberg.shaded.com.github.benmanes.caffeine.cache.BoundedLocalCache.computeIfAbsent(BoundedLocalCache.java:2387)\n\tat org.apache.iceberg.shaded.com.github.benmanes.caffeine.cache.LocalCache.computeIfAbsent(LocalCache.java:108)\n\tat org.apache.iceberg.shaded.com.github.benmanes.caffeine.cache.LocalManualCache.get(LocalManualCache.java:62)\n\tat org.apache.iceberg.CachingCatalog.loadTable(CachingCatalog.java:166)\n\tat org.apache.iceberg.spark.SparkCatalog.load(SparkCatalog.java:843)\n\tat org.apache.iceberg.spark.SparkCatalog.loadTable(SparkCatalog.java:170)\n\tat org.apache.spark.sql.connector.catalog.TableCatalog.tableExists(TableCatalog.java:164)\n\tat org.apache.spark.sql.execution.datasources.v2.CreateTableExec.run(CreateTableExec.scala:42)\n\tat org.apache.spark.sql.execution.datasources.v2.V2CommandExec.result$lzycompute(V2CommandExec.scala:43)\n\tat org.apache.spark.sql.execution.datasources.v2.V2CommandExec.result(V2CommandExec.scala:43)\n\tat org.apache.spark.sql.execution.datasources.v2.V2CommandExec.executeCollect(V2CommandExec.scala:49)\n\tat org.apache.spark.sql.execution.QueryExecution$$anonfun$eagerlyExecuteCommands$1.$anonfun$applyOrElse$1(QueryExecution.scala:107)\n\tat org.apache.spark.sql.execution.SQLExecution$.$anonfun$withNewExecutionId$6(SQLExecution.scala:125)\n\tat org.apache.spark.sql.execution.SQLExecution$.withSQLConfPropagated(SQLExecution.scala:201)\n\tat org.apache.spark.sql.execution.SQLExecution$.$anonfun$withNewExecutionId$1(SQLExecution.scala:108)\n\tat org.apache.spark.sql.SparkSession.withActive(SparkSession.scala:900)\n\tat org.apache.spark.sql.execution.SQLExecution$.withNewExecutionId(SQLExecution.scala:66)\n\tat org.apache.spark.sql.execution.QueryExecution$$anonfun$eagerlyExecuteCommands$1.applyOrElse(QueryExecution.scala:107)\n\tat org.apache.spark.sql.execution.QueryExecution$$anonfun$eagerlyExecuteCommands$1.applyOrElse(QueryExecution.scala:98)\n\tat org.apache.spark.sql.catalyst.trees.TreeNode.$anonfun$transformDownWithPruning$1(TreeNode.scala:461)\n\tat org.apache.spark.sql.catalyst.trees.CurrentOrigin$.withOrigin(origin.scala:76)\n\tat org.apache.spark.sql.catalyst.trees.TreeNode.transformDownWithPruning(TreeNode.scala:461)\n\tat org.apache.spark.sql.catalyst.plans.logical.LogicalPlan.org$apache$spark$sql$catalyst$plans$logical$AnalysisHelper$$super$transformDownWithPruning(LogicalPlan.scala:32)\n\tat org.apache.spark.sql.catalyst.plans.logical.AnalysisHelper.transformDownWithPruning(AnalysisHelper.scala:267)\n\tat org.apache.spark.sql.catalyst.plans.logical.AnalysisHelper.transformDownWithPruning$(AnalysisHelper.scala:263)\n\tat org.apache.spark.sql.catalyst.plans.logical.LogicalPlan.transformDownWithPruning(LogicalPlan.scala:32)\n\tat org.apache.spark.sql.catalyst.plans.logical.LogicalPlan.transformDownWithPruning(LogicalPlan.scala:32)\n\tat org.apache.spark.sql.catalyst.trees.TreeNode.transformDown(TreeNode.scala:437)\n\tat org.apache.spark.sql.execution.QueryExecution.eagerlyExecuteCommands(QueryExecution.scala:98)\n\tat org.apache.spark.sql.execution.QueryExecution.commandExecuted$lzycompute(QueryExecution.scala:85)\n\tat org.apache.spark.sql.execution.QueryExecution.commandExecuted(QueryExecution.scala:83)\n\tat org.apache.spark.sql.Dataset.<init>(Dataset.scala:220)\n\tat org.apache.spark.sql.Dataset$.$anonfun$ofRows$2(Dataset.scala:100)\n\tat org.apache.spark.sql.SparkSession.withActive(SparkSession.scala:900)\n\tat org.apache.spark.sql.Dataset$.ofRows(Dataset.scala:97)\n\tat org.apache.spark.sql.SparkSession.$anonfun$sql$1(SparkSession.scala:638)\n\tat org.apache.spark.sql.SparkSession.withActive(SparkSession.scala:900)\n\tat org.apache.spark.sql.SparkSession.sql(SparkSession.scala:629)\n\tat org.apache.spark.sql.SparkSession.sql(SparkSession.scala:659)\n\tat java.base/jdk.internal.reflect.NativeMethodAccessorImpl.invoke0(Native Method)\n\tat java.base/jdk.internal.reflect.NativeMethodAccessorImpl.invoke(NativeMethodAccessorImpl.java:62)\n\tat java.base/jdk.internal.reflect.DelegatingMethodAccessorImpl.invoke(DelegatingMethodAccessorImpl.java:43)\n\tat java.base/java.lang.reflect.Method.invoke(Method.java:566)\n\tat py4j.reflection.MethodInvoker.invoke(MethodInvoker.java:244)\n\tat py4j.reflection.ReflectionEngine.invoke(ReflectionEngine.java:374)\n\tat py4j.Gateway.invoke(Gateway.java:282)\n\tat py4j.commands.AbstractCommand.invokeMethod(AbstractCommand.java:132)\n\tat py4j.commands.CallCommand.execute(CallCommand.java:79)\n\tat py4j.ClientServerConnection.waitForCommands(ClientServerConnection.java:182)\n\tat py4j.ClientServerConnection.run(ClientServerConnection.java:106)\n\tat java.base/java.lang.Thread.run(Thread.java:829)\n",
     "output_type": "error",
     "traceback": [
      "\u001b[0;31m---------------------------------------------------------------------------\u001b[0m",
      "\u001b[0;31mPy4JJavaError\u001b[0m                             Traceback (most recent call last)",
      "Cell \u001b[0;32mIn[11], line 14\u001b[0m\n\u001b[1;32m      1\u001b[0m \u001b[38;5;66;03m# Create external table\u001b[39;00m\n\u001b[1;32m      2\u001b[0m bucketed_matches_ddl \u001b[38;5;241m=\u001b[39m \u001b[38;5;124m\"\"\"\u001b[39m\n\u001b[1;32m      3\u001b[0m \u001b[38;5;124mCREATE EXTERNAL TABLE IF NOT EXISTS bootcamp.matches_bucketed (\u001b[39m\n\u001b[1;32m      4\u001b[0m \u001b[38;5;124m    match_id STRING,\u001b[39m\n\u001b[0;32m   (...)\u001b[0m\n\u001b[1;32m     11\u001b[0m \u001b[38;5;124mLOCATION \u001b[39m\u001b[38;5;124m'\u001b[39m\u001b[38;5;124m/tmp/external/matches_bucketed\u001b[39m\u001b[38;5;124m'\u001b[39m\n\u001b[1;32m     12\u001b[0m \u001b[38;5;124m\"\"\"\u001b[39m\n\u001b[0;32m---> 14\u001b[0m \u001b[43mspark\u001b[49m\u001b[38;5;241;43m.\u001b[39;49m\u001b[43msql\u001b[49m\u001b[43m(\u001b[49m\u001b[43mbucketed_matches_ddl\u001b[49m\u001b[43m)\u001b[49m\n",
      "File \u001b[0;32m/opt/spark/python/pyspark/sql/session.py:1631\u001b[0m, in \u001b[0;36mSparkSession.sql\u001b[0;34m(self, sqlQuery, args, **kwargs)\u001b[0m\n\u001b[1;32m   1627\u001b[0m         \u001b[38;5;28;01massert\u001b[39;00m \u001b[38;5;28mself\u001b[39m\u001b[38;5;241m.\u001b[39m_jvm \u001b[38;5;129;01mis\u001b[39;00m \u001b[38;5;129;01mnot\u001b[39;00m \u001b[38;5;28;01mNone\u001b[39;00m\n\u001b[1;32m   1628\u001b[0m         litArgs \u001b[38;5;241m=\u001b[39m \u001b[38;5;28mself\u001b[39m\u001b[38;5;241m.\u001b[39m_jvm\u001b[38;5;241m.\u001b[39mPythonUtils\u001b[38;5;241m.\u001b[39mtoArray(\n\u001b[1;32m   1629\u001b[0m             [_to_java_column(lit(v)) \u001b[38;5;28;01mfor\u001b[39;00m v \u001b[38;5;129;01min\u001b[39;00m (args \u001b[38;5;129;01mor\u001b[39;00m [])]\n\u001b[1;32m   1630\u001b[0m         )\n\u001b[0;32m-> 1631\u001b[0m     \u001b[38;5;28;01mreturn\u001b[39;00m DataFrame(\u001b[38;5;28;43mself\u001b[39;49m\u001b[38;5;241;43m.\u001b[39;49m\u001b[43m_jsparkSession\u001b[49m\u001b[38;5;241;43m.\u001b[39;49m\u001b[43msql\u001b[49m\u001b[43m(\u001b[49m\u001b[43msqlQuery\u001b[49m\u001b[43m,\u001b[49m\u001b[43m \u001b[49m\u001b[43mlitArgs\u001b[49m\u001b[43m)\u001b[49m, \u001b[38;5;28mself\u001b[39m)\n\u001b[1;32m   1632\u001b[0m \u001b[38;5;28;01mfinally\u001b[39;00m:\n\u001b[1;32m   1633\u001b[0m     \u001b[38;5;28;01mif\u001b[39;00m \u001b[38;5;28mlen\u001b[39m(kwargs) \u001b[38;5;241m>\u001b[39m \u001b[38;5;241m0\u001b[39m:\n",
      "File \u001b[0;32m/opt/spark/python/lib/py4j-0.10.9.7-src.zip/py4j/java_gateway.py:1322\u001b[0m, in \u001b[0;36mJavaMember.__call__\u001b[0;34m(self, *args)\u001b[0m\n\u001b[1;32m   1316\u001b[0m command \u001b[38;5;241m=\u001b[39m proto\u001b[38;5;241m.\u001b[39mCALL_COMMAND_NAME \u001b[38;5;241m+\u001b[39m\\\n\u001b[1;32m   1317\u001b[0m     \u001b[38;5;28mself\u001b[39m\u001b[38;5;241m.\u001b[39mcommand_header \u001b[38;5;241m+\u001b[39m\\\n\u001b[1;32m   1318\u001b[0m     args_command \u001b[38;5;241m+\u001b[39m\\\n\u001b[1;32m   1319\u001b[0m     proto\u001b[38;5;241m.\u001b[39mEND_COMMAND_PART\n\u001b[1;32m   1321\u001b[0m answer \u001b[38;5;241m=\u001b[39m \u001b[38;5;28mself\u001b[39m\u001b[38;5;241m.\u001b[39mgateway_client\u001b[38;5;241m.\u001b[39msend_command(command)\n\u001b[0;32m-> 1322\u001b[0m return_value \u001b[38;5;241m=\u001b[39m \u001b[43mget_return_value\u001b[49m\u001b[43m(\u001b[49m\n\u001b[1;32m   1323\u001b[0m \u001b[43m    \u001b[49m\u001b[43manswer\u001b[49m\u001b[43m,\u001b[49m\u001b[43m \u001b[49m\u001b[38;5;28;43mself\u001b[39;49m\u001b[38;5;241;43m.\u001b[39;49m\u001b[43mgateway_client\u001b[49m\u001b[43m,\u001b[49m\u001b[43m \u001b[49m\u001b[38;5;28;43mself\u001b[39;49m\u001b[38;5;241;43m.\u001b[39;49m\u001b[43mtarget_id\u001b[49m\u001b[43m,\u001b[49m\u001b[43m \u001b[49m\u001b[38;5;28;43mself\u001b[39;49m\u001b[38;5;241;43m.\u001b[39;49m\u001b[43mname\u001b[49m\u001b[43m)\u001b[49m\n\u001b[1;32m   1325\u001b[0m \u001b[38;5;28;01mfor\u001b[39;00m temp_arg \u001b[38;5;129;01min\u001b[39;00m temp_args:\n\u001b[1;32m   1326\u001b[0m     \u001b[38;5;28;01mif\u001b[39;00m \u001b[38;5;28mhasattr\u001b[39m(temp_arg, \u001b[38;5;124m\"\u001b[39m\u001b[38;5;124m_detach\u001b[39m\u001b[38;5;124m\"\u001b[39m):\n",
      "File \u001b[0;32m/opt/spark/python/pyspark/errors/exceptions/captured.py:179\u001b[0m, in \u001b[0;36mcapture_sql_exception.<locals>.deco\u001b[0;34m(*a, **kw)\u001b[0m\n\u001b[1;32m    177\u001b[0m \u001b[38;5;28;01mdef\u001b[39;00m \u001b[38;5;21mdeco\u001b[39m(\u001b[38;5;241m*\u001b[39ma: Any, \u001b[38;5;241m*\u001b[39m\u001b[38;5;241m*\u001b[39mkw: Any) \u001b[38;5;241m-\u001b[39m\u001b[38;5;241m>\u001b[39m Any:\n\u001b[1;32m    178\u001b[0m     \u001b[38;5;28;01mtry\u001b[39;00m:\n\u001b[0;32m--> 179\u001b[0m         \u001b[38;5;28;01mreturn\u001b[39;00m \u001b[43mf\u001b[49m\u001b[43m(\u001b[49m\u001b[38;5;241;43m*\u001b[39;49m\u001b[43ma\u001b[49m\u001b[43m,\u001b[49m\u001b[43m \u001b[49m\u001b[38;5;241;43m*\u001b[39;49m\u001b[38;5;241;43m*\u001b[39;49m\u001b[43mkw\u001b[49m\u001b[43m)\u001b[49m\n\u001b[1;32m    180\u001b[0m     \u001b[38;5;28;01mexcept\u001b[39;00m Py4JJavaError \u001b[38;5;28;01mas\u001b[39;00m e:\n\u001b[1;32m    181\u001b[0m         converted \u001b[38;5;241m=\u001b[39m convert_exception(e\u001b[38;5;241m.\u001b[39mjava_exception)\n",
      "File \u001b[0;32m/opt/spark/python/lib/py4j-0.10.9.7-src.zip/py4j/protocol.py:326\u001b[0m, in \u001b[0;36mget_return_value\u001b[0;34m(answer, gateway_client, target_id, name)\u001b[0m\n\u001b[1;32m    324\u001b[0m value \u001b[38;5;241m=\u001b[39m OUTPUT_CONVERTER[\u001b[38;5;28mtype\u001b[39m](answer[\u001b[38;5;241m2\u001b[39m:], gateway_client)\n\u001b[1;32m    325\u001b[0m \u001b[38;5;28;01mif\u001b[39;00m answer[\u001b[38;5;241m1\u001b[39m] \u001b[38;5;241m==\u001b[39m REFERENCE_TYPE:\n\u001b[0;32m--> 326\u001b[0m     \u001b[38;5;28;01mraise\u001b[39;00m Py4JJavaError(\n\u001b[1;32m    327\u001b[0m         \u001b[38;5;124m\"\u001b[39m\u001b[38;5;124mAn error occurred while calling \u001b[39m\u001b[38;5;132;01m{0}\u001b[39;00m\u001b[38;5;132;01m{1}\u001b[39;00m\u001b[38;5;132;01m{2}\u001b[39;00m\u001b[38;5;124m.\u001b[39m\u001b[38;5;130;01m\\n\u001b[39;00m\u001b[38;5;124m\"\u001b[39m\u001b[38;5;241m.\u001b[39m\n\u001b[1;32m    328\u001b[0m         \u001b[38;5;28mformat\u001b[39m(target_id, \u001b[38;5;124m\"\u001b[39m\u001b[38;5;124m.\u001b[39m\u001b[38;5;124m\"\u001b[39m, name), value)\n\u001b[1;32m    329\u001b[0m \u001b[38;5;28;01melse\u001b[39;00m:\n\u001b[1;32m    330\u001b[0m     \u001b[38;5;28;01mraise\u001b[39;00m Py4JError(\n\u001b[1;32m    331\u001b[0m         \u001b[38;5;124m\"\u001b[39m\u001b[38;5;124mAn error occurred while calling \u001b[39m\u001b[38;5;132;01m{0}\u001b[39;00m\u001b[38;5;132;01m{1}\u001b[39;00m\u001b[38;5;132;01m{2}\u001b[39;00m\u001b[38;5;124m. Trace:\u001b[39m\u001b[38;5;130;01m\\n\u001b[39;00m\u001b[38;5;132;01m{3}\u001b[39;00m\u001b[38;5;130;01m\\n\u001b[39;00m\u001b[38;5;124m\"\u001b[39m\u001b[38;5;241m.\u001b[39m\n\u001b[1;32m    332\u001b[0m         \u001b[38;5;28mformat\u001b[39m(target_id, \u001b[38;5;124m\"\u001b[39m\u001b[38;5;124m.\u001b[39m\u001b[38;5;124m\"\u001b[39m, name, value))\n",
      "\u001b[0;31mPy4JJavaError\u001b[0m: An error occurred while calling o36.sql.\n: org.apache.iceberg.exceptions.ServiceFailureException: Server error: NotFoundException: Location does not exist: s3://warehouse/bootcamp/matches_bucketed/metadata/00000-fad46569-9160-441f-9d16-84baae194736.metadata.json\n\tat org.apache.iceberg.rest.ErrorHandlers$DefaultErrorHandler.accept(ErrorHandlers.java:217)\n\tat org.apache.iceberg.rest.ErrorHandlers$TableErrorHandler.accept(ErrorHandlers.java:118)\n\tat org.apache.iceberg.rest.ErrorHandlers$TableErrorHandler.accept(ErrorHandlers.java:102)\n\tat org.apache.iceberg.rest.HTTPClient.throwFailure(HTTPClient.java:201)\n\tat org.apache.iceberg.rest.HTTPClient.execute(HTTPClient.java:313)\n\tat org.apache.iceberg.rest.HTTPClient.execute(HTTPClient.java:252)\n\tat org.apache.iceberg.rest.HTTPClient.get(HTTPClient.java:348)\n\tat org.apache.iceberg.rest.RESTClient.get(RESTClient.java:96)\n\tat org.apache.iceberg.rest.RESTSessionCatalog.loadInternal(RESTSessionCatalog.java:331)\n\tat org.apache.iceberg.rest.RESTSessionCatalog.loadTable(RESTSessionCatalog.java:347)\n\tat org.apache.iceberg.catalog.BaseSessionCatalog$AsCatalog.loadTable(BaseSessionCatalog.java:99)\n\tat org.apache.iceberg.rest.RESTCatalog.loadTable(RESTCatalog.java:102)\n\tat org.apache.iceberg.shaded.com.github.benmanes.caffeine.cache.BoundedLocalCache.lambda$doComputeIfAbsent$14(BoundedLocalCache.java:2406)\n\tat java.base/java.util.concurrent.ConcurrentHashMap.compute(ConcurrentHashMap.java:1908)\n\tat org.apache.iceberg.shaded.com.github.benmanes.caffeine.cache.BoundedLocalCache.doComputeIfAbsent(BoundedLocalCache.java:2404)\n\tat org.apache.iceberg.shaded.com.github.benmanes.caffeine.cache.BoundedLocalCache.computeIfAbsent(BoundedLocalCache.java:2387)\n\tat org.apache.iceberg.shaded.com.github.benmanes.caffeine.cache.LocalCache.computeIfAbsent(LocalCache.java:108)\n\tat org.apache.iceberg.shaded.com.github.benmanes.caffeine.cache.LocalManualCache.get(LocalManualCache.java:62)\n\tat org.apache.iceberg.CachingCatalog.loadTable(CachingCatalog.java:166)\n\tat org.apache.iceberg.spark.SparkCatalog.load(SparkCatalog.java:843)\n\tat org.apache.iceberg.spark.SparkCatalog.loadTable(SparkCatalog.java:170)\n\tat org.apache.spark.sql.connector.catalog.TableCatalog.tableExists(TableCatalog.java:164)\n\tat org.apache.spark.sql.execution.datasources.v2.CreateTableExec.run(CreateTableExec.scala:42)\n\tat org.apache.spark.sql.execution.datasources.v2.V2CommandExec.result$lzycompute(V2CommandExec.scala:43)\n\tat org.apache.spark.sql.execution.datasources.v2.V2CommandExec.result(V2CommandExec.scala:43)\n\tat org.apache.spark.sql.execution.datasources.v2.V2CommandExec.executeCollect(V2CommandExec.scala:49)\n\tat org.apache.spark.sql.execution.QueryExecution$$anonfun$eagerlyExecuteCommands$1.$anonfun$applyOrElse$1(QueryExecution.scala:107)\n\tat org.apache.spark.sql.execution.SQLExecution$.$anonfun$withNewExecutionId$6(SQLExecution.scala:125)\n\tat org.apache.spark.sql.execution.SQLExecution$.withSQLConfPropagated(SQLExecution.scala:201)\n\tat org.apache.spark.sql.execution.SQLExecution$.$anonfun$withNewExecutionId$1(SQLExecution.scala:108)\n\tat org.apache.spark.sql.SparkSession.withActive(SparkSession.scala:900)\n\tat org.apache.spark.sql.execution.SQLExecution$.withNewExecutionId(SQLExecution.scala:66)\n\tat org.apache.spark.sql.execution.QueryExecution$$anonfun$eagerlyExecuteCommands$1.applyOrElse(QueryExecution.scala:107)\n\tat org.apache.spark.sql.execution.QueryExecution$$anonfun$eagerlyExecuteCommands$1.applyOrElse(QueryExecution.scala:98)\n\tat org.apache.spark.sql.catalyst.trees.TreeNode.$anonfun$transformDownWithPruning$1(TreeNode.scala:461)\n\tat org.apache.spark.sql.catalyst.trees.CurrentOrigin$.withOrigin(origin.scala:76)\n\tat org.apache.spark.sql.catalyst.trees.TreeNode.transformDownWithPruning(TreeNode.scala:461)\n\tat org.apache.spark.sql.catalyst.plans.logical.LogicalPlan.org$apache$spark$sql$catalyst$plans$logical$AnalysisHelper$$super$transformDownWithPruning(LogicalPlan.scala:32)\n\tat org.apache.spark.sql.catalyst.plans.logical.AnalysisHelper.transformDownWithPruning(AnalysisHelper.scala:267)\n\tat org.apache.spark.sql.catalyst.plans.logical.AnalysisHelper.transformDownWithPruning$(AnalysisHelper.scala:263)\n\tat org.apache.spark.sql.catalyst.plans.logical.LogicalPlan.transformDownWithPruning(LogicalPlan.scala:32)\n\tat org.apache.spark.sql.catalyst.plans.logical.LogicalPlan.transformDownWithPruning(LogicalPlan.scala:32)\n\tat org.apache.spark.sql.catalyst.trees.TreeNode.transformDown(TreeNode.scala:437)\n\tat org.apache.spark.sql.execution.QueryExecution.eagerlyExecuteCommands(QueryExecution.scala:98)\n\tat org.apache.spark.sql.execution.QueryExecution.commandExecuted$lzycompute(QueryExecution.scala:85)\n\tat org.apache.spark.sql.execution.QueryExecution.commandExecuted(QueryExecution.scala:83)\n\tat org.apache.spark.sql.Dataset.<init>(Dataset.scala:220)\n\tat org.apache.spark.sql.Dataset$.$anonfun$ofRows$2(Dataset.scala:100)\n\tat org.apache.spark.sql.SparkSession.withActive(SparkSession.scala:900)\n\tat org.apache.spark.sql.Dataset$.ofRows(Dataset.scala:97)\n\tat org.apache.spark.sql.SparkSession.$anonfun$sql$1(SparkSession.scala:638)\n\tat org.apache.spark.sql.SparkSession.withActive(SparkSession.scala:900)\n\tat org.apache.spark.sql.SparkSession.sql(SparkSession.scala:629)\n\tat org.apache.spark.sql.SparkSession.sql(SparkSession.scala:659)\n\tat java.base/jdk.internal.reflect.NativeMethodAccessorImpl.invoke0(Native Method)\n\tat java.base/jdk.internal.reflect.NativeMethodAccessorImpl.invoke(NativeMethodAccessorImpl.java:62)\n\tat java.base/jdk.internal.reflect.DelegatingMethodAccessorImpl.invoke(DelegatingMethodAccessorImpl.java:43)\n\tat java.base/java.lang.reflect.Method.invoke(Method.java:566)\n\tat py4j.reflection.MethodInvoker.invoke(MethodInvoker.java:244)\n\tat py4j.reflection.ReflectionEngine.invoke(ReflectionEngine.java:374)\n\tat py4j.Gateway.invoke(Gateway.java:282)\n\tat py4j.commands.AbstractCommand.invokeMethod(AbstractCommand.java:132)\n\tat py4j.commands.CallCommand.execute(CallCommand.java:79)\n\tat py4j.ClientServerConnection.waitForCommands(ClientServerConnection.java:182)\n\tat py4j.ClientServerConnection.run(ClientServerConnection.java:106)\n\tat java.base/java.lang.Thread.run(Thread.java:829)\n"
     ]
    }
   ],
   "source": [
    "# Create external table\n",
    "bucketed_matches_ddl = \"\"\"\n",
    "CREATE EXTERNAL TABLE IF NOT EXISTS bootcamp.matches_bucketed (\n",
    "    match_id STRING,\n",
    "    is_team_game BOOLEAN,\n",
    "    playlist_id STRING,\n",
    "    completion_date TIMESTAMP\n",
    ")\n",
    "CLUSTERED BY (match_id) INTO 16 BUCKETS\n",
    "STORED AS parquet\n",
    "LOCATION '/tmp/external/matches_bucketed'\n",
    "\"\"\"\n",
    "\n",
    "spark.sql(bucketed_matches_ddl)"
   ]
  },
  {
   "cell_type": "code",
   "execution_count": null,
   "id": "dde2b4b1-6a3c-43f9-a4ad-9483cf5296db",
   "metadata": {},
   "outputs": [],
   "source": [
    "matchesBucketed.select(\n",
    "     $\"match_id\", $\"is_team_game\", $\"playlist_id\", $\"completion_date\"\n",
    "     )\n",
    "     .write.mode(\"append\")\n",
    "     .partitionBy(\"completion_date\")\n",
    "     .bucketBy(16, \"match_id\").saveAsTable(\"bootcamp.matches_bucketed\")"
   ]
  },
  {
   "cell_type": "code",
   "execution_count": null,
   "id": "2c531302-db2a-4977-8b00-2cad010d1fe7",
   "metadata": {},
   "outputs": [],
   "source": [
    "matchesBucketed.createOrReplaceTempView(\"matches\")"
   ]
  },
  {
   "cell_type": "code",
   "execution_count": 12,
   "id": "ce9a958a-d26f-4aa3-b0bc-19531c0cf63a",
   "metadata": {},
   "outputs": [
    {
     "ename": "Py4JJavaError",
     "evalue": "An error occurred while calling o36.sql.\n: org.apache.iceberg.exceptions.ServiceFailureException: Server error: NotFoundException: Location does not exist: s3://warehouse/bootcamp/matches_bucketed/metadata/00000-fad46569-9160-441f-9d16-84baae194736.metadata.json\n\tat org.apache.iceberg.rest.ErrorHandlers$DefaultErrorHandler.accept(ErrorHandlers.java:217)\n\tat org.apache.iceberg.rest.ErrorHandlers$TableErrorHandler.accept(ErrorHandlers.java:118)\n\tat org.apache.iceberg.rest.ErrorHandlers$TableErrorHandler.accept(ErrorHandlers.java:102)\n\tat org.apache.iceberg.rest.HTTPClient.throwFailure(HTTPClient.java:201)\n\tat org.apache.iceberg.rest.HTTPClient.execute(HTTPClient.java:313)\n\tat org.apache.iceberg.rest.HTTPClient.execute(HTTPClient.java:252)\n\tat org.apache.iceberg.rest.HTTPClient.get(HTTPClient.java:348)\n\tat org.apache.iceberg.rest.RESTClient.get(RESTClient.java:96)\n\tat org.apache.iceberg.rest.RESTSessionCatalog.loadInternal(RESTSessionCatalog.java:331)\n\tat org.apache.iceberg.rest.RESTSessionCatalog.loadTable(RESTSessionCatalog.java:347)\n\tat org.apache.iceberg.catalog.BaseSessionCatalog$AsCatalog.loadTable(BaseSessionCatalog.java:99)\n\tat org.apache.iceberg.rest.RESTCatalog.loadTable(RESTCatalog.java:102)\n\tat org.apache.iceberg.shaded.com.github.benmanes.caffeine.cache.BoundedLocalCache.lambda$doComputeIfAbsent$14(BoundedLocalCache.java:2406)\n\tat java.base/java.util.concurrent.ConcurrentHashMap.compute(ConcurrentHashMap.java:1908)\n\tat org.apache.iceberg.shaded.com.github.benmanes.caffeine.cache.BoundedLocalCache.doComputeIfAbsent(BoundedLocalCache.java:2404)\n\tat org.apache.iceberg.shaded.com.github.benmanes.caffeine.cache.BoundedLocalCache.computeIfAbsent(BoundedLocalCache.java:2387)\n\tat org.apache.iceberg.shaded.com.github.benmanes.caffeine.cache.LocalCache.computeIfAbsent(LocalCache.java:108)\n\tat org.apache.iceberg.shaded.com.github.benmanes.caffeine.cache.LocalManualCache.get(LocalManualCache.java:62)\n\tat org.apache.iceberg.CachingCatalog.loadTable(CachingCatalog.java:166)\n\tat org.apache.iceberg.spark.SparkCatalog.load(SparkCatalog.java:843)\n\tat org.apache.iceberg.spark.SparkCatalog.loadTable(SparkCatalog.java:170)\n\tat org.apache.spark.sql.connector.catalog.TableCatalog.tableExists(TableCatalog.java:164)\n\tat org.apache.spark.sql.execution.datasources.v2.DropTableExec.run(DropTableExec.scala:36)\n\tat org.apache.spark.sql.execution.datasources.v2.V2CommandExec.result$lzycompute(V2CommandExec.scala:43)\n\tat org.apache.spark.sql.execution.datasources.v2.V2CommandExec.result(V2CommandExec.scala:43)\n\tat org.apache.spark.sql.execution.datasources.v2.V2CommandExec.executeCollect(V2CommandExec.scala:49)\n\tat org.apache.spark.sql.execution.QueryExecution$$anonfun$eagerlyExecuteCommands$1.$anonfun$applyOrElse$1(QueryExecution.scala:107)\n\tat org.apache.spark.sql.execution.SQLExecution$.$anonfun$withNewExecutionId$6(SQLExecution.scala:125)\n\tat org.apache.spark.sql.execution.SQLExecution$.withSQLConfPropagated(SQLExecution.scala:201)\n\tat org.apache.spark.sql.execution.SQLExecution$.$anonfun$withNewExecutionId$1(SQLExecution.scala:108)\n\tat org.apache.spark.sql.SparkSession.withActive(SparkSession.scala:900)\n\tat org.apache.spark.sql.execution.SQLExecution$.withNewExecutionId(SQLExecution.scala:66)\n\tat org.apache.spark.sql.execution.QueryExecution$$anonfun$eagerlyExecuteCommands$1.applyOrElse(QueryExecution.scala:107)\n\tat org.apache.spark.sql.execution.QueryExecution$$anonfun$eagerlyExecuteCommands$1.applyOrElse(QueryExecution.scala:98)\n\tat org.apache.spark.sql.catalyst.trees.TreeNode.$anonfun$transformDownWithPruning$1(TreeNode.scala:461)\n\tat org.apache.spark.sql.catalyst.trees.CurrentOrigin$.withOrigin(origin.scala:76)\n\tat org.apache.spark.sql.catalyst.trees.TreeNode.transformDownWithPruning(TreeNode.scala:461)\n\tat org.apache.spark.sql.catalyst.plans.logical.LogicalPlan.org$apache$spark$sql$catalyst$plans$logical$AnalysisHelper$$super$transformDownWithPruning(LogicalPlan.scala:32)\n\tat org.apache.spark.sql.catalyst.plans.logical.AnalysisHelper.transformDownWithPruning(AnalysisHelper.scala:267)\n\tat org.apache.spark.sql.catalyst.plans.logical.AnalysisHelper.transformDownWithPruning$(AnalysisHelper.scala:263)\n\tat org.apache.spark.sql.catalyst.plans.logical.LogicalPlan.transformDownWithPruning(LogicalPlan.scala:32)\n\tat org.apache.spark.sql.catalyst.plans.logical.LogicalPlan.transformDownWithPruning(LogicalPlan.scala:32)\n\tat org.apache.spark.sql.catalyst.trees.TreeNode.transformDown(TreeNode.scala:437)\n\tat org.apache.spark.sql.execution.QueryExecution.eagerlyExecuteCommands(QueryExecution.scala:98)\n\tat org.apache.spark.sql.execution.QueryExecution.commandExecuted$lzycompute(QueryExecution.scala:85)\n\tat org.apache.spark.sql.execution.QueryExecution.commandExecuted(QueryExecution.scala:83)\n\tat org.apache.spark.sql.Dataset.<init>(Dataset.scala:220)\n\tat org.apache.spark.sql.Dataset$.$anonfun$ofRows$2(Dataset.scala:100)\n\tat org.apache.spark.sql.SparkSession.withActive(SparkSession.scala:900)\n\tat org.apache.spark.sql.Dataset$.ofRows(Dataset.scala:97)\n\tat org.apache.spark.sql.SparkSession.$anonfun$sql$1(SparkSession.scala:638)\n\tat org.apache.spark.sql.SparkSession.withActive(SparkSession.scala:900)\n\tat org.apache.spark.sql.SparkSession.sql(SparkSession.scala:629)\n\tat org.apache.spark.sql.SparkSession.sql(SparkSession.scala:659)\n\tat java.base/jdk.internal.reflect.NativeMethodAccessorImpl.invoke0(Native Method)\n\tat java.base/jdk.internal.reflect.NativeMethodAccessorImpl.invoke(NativeMethodAccessorImpl.java:62)\n\tat java.base/jdk.internal.reflect.DelegatingMethodAccessorImpl.invoke(DelegatingMethodAccessorImpl.java:43)\n\tat java.base/java.lang.reflect.Method.invoke(Method.java:566)\n\tat py4j.reflection.MethodInvoker.invoke(MethodInvoker.java:244)\n\tat py4j.reflection.ReflectionEngine.invoke(ReflectionEngine.java:374)\n\tat py4j.Gateway.invoke(Gateway.java:282)\n\tat py4j.commands.AbstractCommand.invokeMethod(AbstractCommand.java:132)\n\tat py4j.commands.CallCommand.execute(CallCommand.java:79)\n\tat py4j.ClientServerConnection.waitForCommands(ClientServerConnection.java:182)\n\tat py4j.ClientServerConnection.run(ClientServerConnection.java:106)\n\tat java.base/java.lang.Thread.run(Thread.java:829)\n",
     "output_type": "error",
     "traceback": [
      "\u001b[0;31m---------------------------------------------------------------------------\u001b[0m",
      "\u001b[0;31mPy4JJavaError\u001b[0m                             Traceback (most recent call last)",
      "Cell \u001b[0;32mIn[12], line 19\u001b[0m\n\u001b[1;32m     10\u001b[0m create_table_sql \u001b[38;5;241m=\u001b[39m \u001b[38;5;124m\"\"\"\u001b[39m\n\u001b[1;32m     11\u001b[0m \u001b[38;5;124mCREATE TABLE bootcamp.matches_bucketed\u001b[39m\n\u001b[1;32m     12\u001b[0m \u001b[38;5;124mUSING parquet\u001b[39m\n\u001b[0;32m   (...)\u001b[0m\n\u001b[1;32m     15\u001b[0m \u001b[38;5;124mFROM matches_temp\u001b[39m\n\u001b[1;32m     16\u001b[0m \u001b[38;5;124m\"\"\"\u001b[39m\n\u001b[1;32m     18\u001b[0m \u001b[38;5;66;03m# Drop the table if it exists\u001b[39;00m\n\u001b[0;32m---> 19\u001b[0m \u001b[43mspark\u001b[49m\u001b[38;5;241;43m.\u001b[39;49m\u001b[43msql\u001b[49m\u001b[43m(\u001b[49m\u001b[38;5;124;43m\"\u001b[39;49m\u001b[38;5;124;43mDROP TABLE IF EXISTS bootcamp.matches_bucketed\u001b[39;49m\u001b[38;5;124;43m\"\u001b[39;49m\u001b[43m)\u001b[49m\n\u001b[1;32m     21\u001b[0m \u001b[38;5;66;03m# Create the new table\u001b[39;00m\n\u001b[1;32m     22\u001b[0m spark\u001b[38;5;241m.\u001b[39msql(create_table_sql)\n",
      "File \u001b[0;32m/opt/spark/python/pyspark/sql/session.py:1631\u001b[0m, in \u001b[0;36mSparkSession.sql\u001b[0;34m(self, sqlQuery, args, **kwargs)\u001b[0m\n\u001b[1;32m   1627\u001b[0m         \u001b[38;5;28;01massert\u001b[39;00m \u001b[38;5;28mself\u001b[39m\u001b[38;5;241m.\u001b[39m_jvm \u001b[38;5;129;01mis\u001b[39;00m \u001b[38;5;129;01mnot\u001b[39;00m \u001b[38;5;28;01mNone\u001b[39;00m\n\u001b[1;32m   1628\u001b[0m         litArgs \u001b[38;5;241m=\u001b[39m \u001b[38;5;28mself\u001b[39m\u001b[38;5;241m.\u001b[39m_jvm\u001b[38;5;241m.\u001b[39mPythonUtils\u001b[38;5;241m.\u001b[39mtoArray(\n\u001b[1;32m   1629\u001b[0m             [_to_java_column(lit(v)) \u001b[38;5;28;01mfor\u001b[39;00m v \u001b[38;5;129;01min\u001b[39;00m (args \u001b[38;5;129;01mor\u001b[39;00m [])]\n\u001b[1;32m   1630\u001b[0m         )\n\u001b[0;32m-> 1631\u001b[0m     \u001b[38;5;28;01mreturn\u001b[39;00m DataFrame(\u001b[38;5;28;43mself\u001b[39;49m\u001b[38;5;241;43m.\u001b[39;49m\u001b[43m_jsparkSession\u001b[49m\u001b[38;5;241;43m.\u001b[39;49m\u001b[43msql\u001b[49m\u001b[43m(\u001b[49m\u001b[43msqlQuery\u001b[49m\u001b[43m,\u001b[49m\u001b[43m \u001b[49m\u001b[43mlitArgs\u001b[49m\u001b[43m)\u001b[49m, \u001b[38;5;28mself\u001b[39m)\n\u001b[1;32m   1632\u001b[0m \u001b[38;5;28;01mfinally\u001b[39;00m:\n\u001b[1;32m   1633\u001b[0m     \u001b[38;5;28;01mif\u001b[39;00m \u001b[38;5;28mlen\u001b[39m(kwargs) \u001b[38;5;241m>\u001b[39m \u001b[38;5;241m0\u001b[39m:\n",
      "File \u001b[0;32m/opt/spark/python/lib/py4j-0.10.9.7-src.zip/py4j/java_gateway.py:1322\u001b[0m, in \u001b[0;36mJavaMember.__call__\u001b[0;34m(self, *args)\u001b[0m\n\u001b[1;32m   1316\u001b[0m command \u001b[38;5;241m=\u001b[39m proto\u001b[38;5;241m.\u001b[39mCALL_COMMAND_NAME \u001b[38;5;241m+\u001b[39m\\\n\u001b[1;32m   1317\u001b[0m     \u001b[38;5;28mself\u001b[39m\u001b[38;5;241m.\u001b[39mcommand_header \u001b[38;5;241m+\u001b[39m\\\n\u001b[1;32m   1318\u001b[0m     args_command \u001b[38;5;241m+\u001b[39m\\\n\u001b[1;32m   1319\u001b[0m     proto\u001b[38;5;241m.\u001b[39mEND_COMMAND_PART\n\u001b[1;32m   1321\u001b[0m answer \u001b[38;5;241m=\u001b[39m \u001b[38;5;28mself\u001b[39m\u001b[38;5;241m.\u001b[39mgateway_client\u001b[38;5;241m.\u001b[39msend_command(command)\n\u001b[0;32m-> 1322\u001b[0m return_value \u001b[38;5;241m=\u001b[39m \u001b[43mget_return_value\u001b[49m\u001b[43m(\u001b[49m\n\u001b[1;32m   1323\u001b[0m \u001b[43m    \u001b[49m\u001b[43manswer\u001b[49m\u001b[43m,\u001b[49m\u001b[43m \u001b[49m\u001b[38;5;28;43mself\u001b[39;49m\u001b[38;5;241;43m.\u001b[39;49m\u001b[43mgateway_client\u001b[49m\u001b[43m,\u001b[49m\u001b[43m \u001b[49m\u001b[38;5;28;43mself\u001b[39;49m\u001b[38;5;241;43m.\u001b[39;49m\u001b[43mtarget_id\u001b[49m\u001b[43m,\u001b[49m\u001b[43m \u001b[49m\u001b[38;5;28;43mself\u001b[39;49m\u001b[38;5;241;43m.\u001b[39;49m\u001b[43mname\u001b[49m\u001b[43m)\u001b[49m\n\u001b[1;32m   1325\u001b[0m \u001b[38;5;28;01mfor\u001b[39;00m temp_arg \u001b[38;5;129;01min\u001b[39;00m temp_args:\n\u001b[1;32m   1326\u001b[0m     \u001b[38;5;28;01mif\u001b[39;00m \u001b[38;5;28mhasattr\u001b[39m(temp_arg, \u001b[38;5;124m\"\u001b[39m\u001b[38;5;124m_detach\u001b[39m\u001b[38;5;124m\"\u001b[39m):\n",
      "File \u001b[0;32m/opt/spark/python/pyspark/errors/exceptions/captured.py:179\u001b[0m, in \u001b[0;36mcapture_sql_exception.<locals>.deco\u001b[0;34m(*a, **kw)\u001b[0m\n\u001b[1;32m    177\u001b[0m \u001b[38;5;28;01mdef\u001b[39;00m \u001b[38;5;21mdeco\u001b[39m(\u001b[38;5;241m*\u001b[39ma: Any, \u001b[38;5;241m*\u001b[39m\u001b[38;5;241m*\u001b[39mkw: Any) \u001b[38;5;241m-\u001b[39m\u001b[38;5;241m>\u001b[39m Any:\n\u001b[1;32m    178\u001b[0m     \u001b[38;5;28;01mtry\u001b[39;00m:\n\u001b[0;32m--> 179\u001b[0m         \u001b[38;5;28;01mreturn\u001b[39;00m \u001b[43mf\u001b[49m\u001b[43m(\u001b[49m\u001b[38;5;241;43m*\u001b[39;49m\u001b[43ma\u001b[49m\u001b[43m,\u001b[49m\u001b[43m \u001b[49m\u001b[38;5;241;43m*\u001b[39;49m\u001b[38;5;241;43m*\u001b[39;49m\u001b[43mkw\u001b[49m\u001b[43m)\u001b[49m\n\u001b[1;32m    180\u001b[0m     \u001b[38;5;28;01mexcept\u001b[39;00m Py4JJavaError \u001b[38;5;28;01mas\u001b[39;00m e:\n\u001b[1;32m    181\u001b[0m         converted \u001b[38;5;241m=\u001b[39m convert_exception(e\u001b[38;5;241m.\u001b[39mjava_exception)\n",
      "File \u001b[0;32m/opt/spark/python/lib/py4j-0.10.9.7-src.zip/py4j/protocol.py:326\u001b[0m, in \u001b[0;36mget_return_value\u001b[0;34m(answer, gateway_client, target_id, name)\u001b[0m\n\u001b[1;32m    324\u001b[0m value \u001b[38;5;241m=\u001b[39m OUTPUT_CONVERTER[\u001b[38;5;28mtype\u001b[39m](answer[\u001b[38;5;241m2\u001b[39m:], gateway_client)\n\u001b[1;32m    325\u001b[0m \u001b[38;5;28;01mif\u001b[39;00m answer[\u001b[38;5;241m1\u001b[39m] \u001b[38;5;241m==\u001b[39m REFERENCE_TYPE:\n\u001b[0;32m--> 326\u001b[0m     \u001b[38;5;28;01mraise\u001b[39;00m Py4JJavaError(\n\u001b[1;32m    327\u001b[0m         \u001b[38;5;124m\"\u001b[39m\u001b[38;5;124mAn error occurred while calling \u001b[39m\u001b[38;5;132;01m{0}\u001b[39;00m\u001b[38;5;132;01m{1}\u001b[39;00m\u001b[38;5;132;01m{2}\u001b[39;00m\u001b[38;5;124m.\u001b[39m\u001b[38;5;130;01m\\n\u001b[39;00m\u001b[38;5;124m\"\u001b[39m\u001b[38;5;241m.\u001b[39m\n\u001b[1;32m    328\u001b[0m         \u001b[38;5;28mformat\u001b[39m(target_id, \u001b[38;5;124m\"\u001b[39m\u001b[38;5;124m.\u001b[39m\u001b[38;5;124m\"\u001b[39m, name), value)\n\u001b[1;32m    329\u001b[0m \u001b[38;5;28;01melse\u001b[39;00m:\n\u001b[1;32m    330\u001b[0m     \u001b[38;5;28;01mraise\u001b[39;00m Py4JError(\n\u001b[1;32m    331\u001b[0m         \u001b[38;5;124m\"\u001b[39m\u001b[38;5;124mAn error occurred while calling \u001b[39m\u001b[38;5;132;01m{0}\u001b[39;00m\u001b[38;5;132;01m{1}\u001b[39;00m\u001b[38;5;132;01m{2}\u001b[39;00m\u001b[38;5;124m. Trace:\u001b[39m\u001b[38;5;130;01m\\n\u001b[39;00m\u001b[38;5;132;01m{3}\u001b[39;00m\u001b[38;5;130;01m\\n\u001b[39;00m\u001b[38;5;124m\"\u001b[39m\u001b[38;5;241m.\u001b[39m\n\u001b[1;32m    332\u001b[0m         \u001b[38;5;28mformat\u001b[39m(target_id, \u001b[38;5;124m\"\u001b[39m\u001b[38;5;124m.\u001b[39m\u001b[38;5;124m\"\u001b[39m, name, value))\n",
      "\u001b[0;31mPy4JJavaError\u001b[0m: An error occurred while calling o36.sql.\n: org.apache.iceberg.exceptions.ServiceFailureException: Server error: NotFoundException: Location does not exist: s3://warehouse/bootcamp/matches_bucketed/metadata/00000-fad46569-9160-441f-9d16-84baae194736.metadata.json\n\tat org.apache.iceberg.rest.ErrorHandlers$DefaultErrorHandler.accept(ErrorHandlers.java:217)\n\tat org.apache.iceberg.rest.ErrorHandlers$TableErrorHandler.accept(ErrorHandlers.java:118)\n\tat org.apache.iceberg.rest.ErrorHandlers$TableErrorHandler.accept(ErrorHandlers.java:102)\n\tat org.apache.iceberg.rest.HTTPClient.throwFailure(HTTPClient.java:201)\n\tat org.apache.iceberg.rest.HTTPClient.execute(HTTPClient.java:313)\n\tat org.apache.iceberg.rest.HTTPClient.execute(HTTPClient.java:252)\n\tat org.apache.iceberg.rest.HTTPClient.get(HTTPClient.java:348)\n\tat org.apache.iceberg.rest.RESTClient.get(RESTClient.java:96)\n\tat org.apache.iceberg.rest.RESTSessionCatalog.loadInternal(RESTSessionCatalog.java:331)\n\tat org.apache.iceberg.rest.RESTSessionCatalog.loadTable(RESTSessionCatalog.java:347)\n\tat org.apache.iceberg.catalog.BaseSessionCatalog$AsCatalog.loadTable(BaseSessionCatalog.java:99)\n\tat org.apache.iceberg.rest.RESTCatalog.loadTable(RESTCatalog.java:102)\n\tat org.apache.iceberg.shaded.com.github.benmanes.caffeine.cache.BoundedLocalCache.lambda$doComputeIfAbsent$14(BoundedLocalCache.java:2406)\n\tat java.base/java.util.concurrent.ConcurrentHashMap.compute(ConcurrentHashMap.java:1908)\n\tat org.apache.iceberg.shaded.com.github.benmanes.caffeine.cache.BoundedLocalCache.doComputeIfAbsent(BoundedLocalCache.java:2404)\n\tat org.apache.iceberg.shaded.com.github.benmanes.caffeine.cache.BoundedLocalCache.computeIfAbsent(BoundedLocalCache.java:2387)\n\tat org.apache.iceberg.shaded.com.github.benmanes.caffeine.cache.LocalCache.computeIfAbsent(LocalCache.java:108)\n\tat org.apache.iceberg.shaded.com.github.benmanes.caffeine.cache.LocalManualCache.get(LocalManualCache.java:62)\n\tat org.apache.iceberg.CachingCatalog.loadTable(CachingCatalog.java:166)\n\tat org.apache.iceberg.spark.SparkCatalog.load(SparkCatalog.java:843)\n\tat org.apache.iceberg.spark.SparkCatalog.loadTable(SparkCatalog.java:170)\n\tat org.apache.spark.sql.connector.catalog.TableCatalog.tableExists(TableCatalog.java:164)\n\tat org.apache.spark.sql.execution.datasources.v2.DropTableExec.run(DropTableExec.scala:36)\n\tat org.apache.spark.sql.execution.datasources.v2.V2CommandExec.result$lzycompute(V2CommandExec.scala:43)\n\tat org.apache.spark.sql.execution.datasources.v2.V2CommandExec.result(V2CommandExec.scala:43)\n\tat org.apache.spark.sql.execution.datasources.v2.V2CommandExec.executeCollect(V2CommandExec.scala:49)\n\tat org.apache.spark.sql.execution.QueryExecution$$anonfun$eagerlyExecuteCommands$1.$anonfun$applyOrElse$1(QueryExecution.scala:107)\n\tat org.apache.spark.sql.execution.SQLExecution$.$anonfun$withNewExecutionId$6(SQLExecution.scala:125)\n\tat org.apache.spark.sql.execution.SQLExecution$.withSQLConfPropagated(SQLExecution.scala:201)\n\tat org.apache.spark.sql.execution.SQLExecution$.$anonfun$withNewExecutionId$1(SQLExecution.scala:108)\n\tat org.apache.spark.sql.SparkSession.withActive(SparkSession.scala:900)\n\tat org.apache.spark.sql.execution.SQLExecution$.withNewExecutionId(SQLExecution.scala:66)\n\tat org.apache.spark.sql.execution.QueryExecution$$anonfun$eagerlyExecuteCommands$1.applyOrElse(QueryExecution.scala:107)\n\tat org.apache.spark.sql.execution.QueryExecution$$anonfun$eagerlyExecuteCommands$1.applyOrElse(QueryExecution.scala:98)\n\tat org.apache.spark.sql.catalyst.trees.TreeNode.$anonfun$transformDownWithPruning$1(TreeNode.scala:461)\n\tat org.apache.spark.sql.catalyst.trees.CurrentOrigin$.withOrigin(origin.scala:76)\n\tat org.apache.spark.sql.catalyst.trees.TreeNode.transformDownWithPruning(TreeNode.scala:461)\n\tat org.apache.spark.sql.catalyst.plans.logical.LogicalPlan.org$apache$spark$sql$catalyst$plans$logical$AnalysisHelper$$super$transformDownWithPruning(LogicalPlan.scala:32)\n\tat org.apache.spark.sql.catalyst.plans.logical.AnalysisHelper.transformDownWithPruning(AnalysisHelper.scala:267)\n\tat org.apache.spark.sql.catalyst.plans.logical.AnalysisHelper.transformDownWithPruning$(AnalysisHelper.scala:263)\n\tat org.apache.spark.sql.catalyst.plans.logical.LogicalPlan.transformDownWithPruning(LogicalPlan.scala:32)\n\tat org.apache.spark.sql.catalyst.plans.logical.LogicalPlan.transformDownWithPruning(LogicalPlan.scala:32)\n\tat org.apache.spark.sql.catalyst.trees.TreeNode.transformDown(TreeNode.scala:437)\n\tat org.apache.spark.sql.execution.QueryExecution.eagerlyExecuteCommands(QueryExecution.scala:98)\n\tat org.apache.spark.sql.execution.QueryExecution.commandExecuted$lzycompute(QueryExecution.scala:85)\n\tat org.apache.spark.sql.execution.QueryExecution.commandExecuted(QueryExecution.scala:83)\n\tat org.apache.spark.sql.Dataset.<init>(Dataset.scala:220)\n\tat org.apache.spark.sql.Dataset$.$anonfun$ofRows$2(Dataset.scala:100)\n\tat org.apache.spark.sql.SparkSession.withActive(SparkSession.scala:900)\n\tat org.apache.spark.sql.Dataset$.ofRows(Dataset.scala:97)\n\tat org.apache.spark.sql.SparkSession.$anonfun$sql$1(SparkSession.scala:638)\n\tat org.apache.spark.sql.SparkSession.withActive(SparkSession.scala:900)\n\tat org.apache.spark.sql.SparkSession.sql(SparkSession.scala:629)\n\tat org.apache.spark.sql.SparkSession.sql(SparkSession.scala:659)\n\tat java.base/jdk.internal.reflect.NativeMethodAccessorImpl.invoke0(Native Method)\n\tat java.base/jdk.internal.reflect.NativeMethodAccessorImpl.invoke(NativeMethodAccessorImpl.java:62)\n\tat java.base/jdk.internal.reflect.DelegatingMethodAccessorImpl.invoke(DelegatingMethodAccessorImpl.java:43)\n\tat java.base/java.lang.reflect.Method.invoke(Method.java:566)\n\tat py4j.reflection.MethodInvoker.invoke(MethodInvoker.java:244)\n\tat py4j.reflection.ReflectionEngine.invoke(ReflectionEngine.java:374)\n\tat py4j.Gateway.invoke(Gateway.java:282)\n\tat py4j.commands.AbstractCommand.invokeMethod(AbstractCommand.java:132)\n\tat py4j.commands.CallCommand.execute(CallCommand.java:79)\n\tat py4j.ClientServerConnection.waitForCommands(ClientServerConnection.java:182)\n\tat py4j.ClientServerConnection.run(ClientServerConnection.java:106)\n\tat java.base/java.lang.Thread.run(Thread.java:829)\n"
     ]
    }
   ],
   "source": [
    "# First, read the CSV data\n",
    "matches_df = spark.read.option(\"header\", \"true\") \\\n",
    "                      .option(\"inferSchema\", \"true\") \\\n",
    "                      .csv(\"/home/iceberg/data/matches.csv\")\n",
    "\n",
    "# Create a temporary view\n",
    "matches_df.createOrReplaceTempView(\"matches_temp\")\n",
    "\n",
    "# Create the bucketed table using CTAS (Create Table As Select)\n",
    "create_table_sql = \"\"\"\n",
    "CREATE TABLE bootcamp.matches_bucketed\n",
    "USING parquet\n",
    "CLUSTERED BY (match_id) INTO 16 BUCKETS\n",
    "AS SELECT match_id, is_team_game, playlist_id, completion_date \n",
    "FROM matches_temp\n",
    "\"\"\"\n",
    "\n",
    "# Drop the table if it exists\n",
    "spark.sql(\"DROP TABLE IF EXISTS bootcamp.matches_bucketed\")\n",
    "\n",
    "# Create the new table\n",
    "spark.sql(create_table_sql)"
   ]
  }
 ],
 "metadata": {
  "kernelspec": {
   "display_name": "Python 3 (ipykernel)",
   "language": "python",
   "name": "python3"
  },
  "language_info": {
   "codemirror_mode": {
    "name": "ipython",
    "version": 3
   },
   "file_extension": ".py",
   "mimetype": "text/x-python",
   "name": "python",
   "nbconvert_exporter": "python",
   "pygments_lexer": "ipython3",
   "version": "3.9.18"
  }
 },
 "nbformat": 4,
 "nbformat_minor": 5
}
