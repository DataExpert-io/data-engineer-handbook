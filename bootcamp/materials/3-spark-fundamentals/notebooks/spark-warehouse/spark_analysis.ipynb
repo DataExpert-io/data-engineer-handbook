{
 "cells": [
  {
   "cell_type": "code",
   "execution_count": 22,
   "metadata": {},
   "outputs": [],
   "source": [
    "from pyspark.sql.functions import col, avg, count, desc, broadcast\n",
    "from pyspark.sql import DataFrame\n",
    "from pyspark.sql import SparkSession\n",
    "# Disable automatic broadcast join\n",
    "spark = SparkSession.builder.appName(\"Jupyter\").getOrCreate()\n",
    "spark.conf.set(\"spark.sql.autoBroadcastJoinThreshold\", \"-1\")\n"
   ]
  },
  {
   "cell_type": "code",
   "execution_count": 26,
   "metadata": {},
   "outputs": [],
   "source": [
    "# Load datasets (assuming they are in CSV format)\n",
    "match_details = spark.read.option(\"header\", \"true\").csv(\"/home/iceberg/data/match_details.csv\")\n",
    "matches = spark.read.option(\"header\", \"true\").csv(\"/home/iceberg/data/matches.csv\")\n",
    "medals_matches_players = spark.read.option(\"header\", \"true\").csv(\"/home/iceberg/data/medals_matches_players.csv\")\n",
    "medals = spark.read.option(\"header\", \"true\").csv(\"/home/iceberg/data/medals.csv\")\n",
    "maps = spark.read.option(\"header\", \"true\").csv(\"/home/iceberg/data/maps.csv\")"
   ]
  },
  {
   "cell_type": "code",
   "execution_count": 24,
   "metadata": {},
   "outputs": [],
   "source": [
    "# Convert appropriate columns to integers where necessary\n",
    "match_details = match_details.withColumn(\"match_id\", col(\"match_id\").cast(\"int\")) \\\n",
    "                             .withColumn(\"player_total_kills\", col(\"player_total_kills\").cast(\"int\"))\n",
    "\n",
    "matches = matches.withColumn(\"match_id\", col(\"match_id\").cast(\"int\"))\n",
    "\n",
    "medals_matches_players = medals_matches_players.withColumn(\"match_id\", col(\"match_id\").cast(\"int\")) \\\n",
    "                                               .withColumn(\"medal_id\", col(\"medal_id\").cast(\"int\")) \\\n",
    "                                               .withColumn(\"count\", col(\"count\").cast(\"int\"))\n",
    "\n",
    "medals = medals.withColumn(\"medal_id\", col(\"medal_id\").cast(\"int\"))"
   ]
  },
  {
   "cell_type": "code",
   "execution_count": 39,
   "metadata": {},
   "outputs": [],
   "source": [
    "# Rename the 'name' column in the 'medals' DataFrame to 'medal_name' to avoid ambiguity\n",
    "medals_renamed = medals.withColumnRenamed(\"name\", \"medal_name\")"
   ]
  },
  {
   "cell_type": "code",
   "execution_count": 40,
   "metadata": {},
   "outputs": [],
   "source": [
    "# Explicitly broadcast the 'medals' and 'maps' DataFrames\n",
    "medals_broadcasted = broadcast(medals_renamed)\n",
    "maps_broadcasted = broadcast(maps)\n"
   ]
  },
  {
   "cell_type": "code",
   "execution_count": 41,
   "metadata": {},
   "outputs": [],
   "source": [
    "# Bucket join for match_details, matches, and medals_matches_players on match_id with 16 buckets\n",
    "match_details = match_details.repartitionByRange(16, col(\"match_id\"))\n",
    "matches = matches.repartitionByRange(16, col(\"match_id\"))\n",
    "medals_matches_players = medals_matches_players.repartitionByRange(16, col(\"match_id\"))\n"
   ]
  },
  {
   "cell_type": "code",
   "execution_count": 42,
   "metadata": {},
   "outputs": [],
   "source": [
    "# Perform bucket join with broadcasted DataFrames\n",
    "joined_df = match_details.join(matches, \"match_id\") \\\n",
    "                         .join(medals_matches_players, [\"match_id\", \"player_gamertag\"]) \\\n",
    "                         .join(medals_broadcasted, \"medal_id\") \\\n",
    "                         .join(maps_broadcasted, \"mapid\", \"left\")"
   ]
  },
  {
   "cell_type": "code",
   "execution_count": 43,
   "metadata": {},
   "outputs": [],
   "source": [
    "# Aggregation: Which player averages the most kills per game?\n",
    "kills_per_game = joined_df.groupBy(\"player_gamertag\") \\\n",
    "                          .agg(avg(\"player_total_kills\").alias(\"avg_kills\")) \\\n",
    "                          .orderBy(desc(\"avg_kills\"))"
   ]
  },
  {
   "cell_type": "code",
   "execution_count": 44,
   "metadata": {},
   "outputs": [],
   "source": [
    "# Aggregation: Which playlist gets played the most?\n",
    "playlist_count = joined_df.groupBy(\"playlist_id\") \\\n",
    "                          .agg(count(\"match_id\").alias(\"match_count\")) \\\n",
    "                          .orderBy(desc(\"match_count\"))\n"
   ]
  },
  {
   "cell_type": "code",
   "execution_count": 45,
   "metadata": {},
   "outputs": [],
   "source": [
    "# Aggregation: Which map gets played the most?\n",
    "map_count = joined_df.groupBy(\"mapid\") \\\n",
    "                     .agg(count(\"match_id\").alias(\"match_count\")) \\\n",
    "                     .orderBy(desc(\"match_count\"))"
   ]
  },
  {
   "cell_type": "code",
   "execution_count": 46,
   "metadata": {},
   "outputs": [],
   "source": [
    "# Aggregation: Which map do players get the most Killing Spree medals on?\n",
    "killing_spree_maps = joined_df.filter(col(\"medal_name\") == \"Killing Spree\") \\\n",
    "                              .groupBy(\"mapid\") \\\n",
    "                              .agg(count(\"medal_id\").alias(\"killing_spree_count\")) \\\n",
    "                              .orderBy(desc(\"killing_spree_count\"))"
   ]
  },
  {
   "cell_type": "code",
   "execution_count": 48,
   "metadata": {},
   "outputs": [],
   "source": [
    "# Sorting within partitions to minimize data size\n",
    "kills_per_game = kills_per_game.sortWithinPartitions(\"player_gamertag\")\n",
    "playlist_count = playlist_count.sortWithinPartitions(\"playlist_id\")\n",
    "map_count = map_count.sortWithinPartitions(\"mapid\")\n",
    "killing_spree_maps = killing_spree_maps.sortWithinPartitions(\"mapid\")\n",
    "\n"
   ]
  },
  {
   "cell_type": "code",
   "execution_count": 49,
   "metadata": {},
   "outputs": [
    {
     "name": "stdout",
     "output_type": "stream",
     "text": [
      "Players with the highest average kills per game:\n"
     ]
    },
    {
     "name": "stderr",
     "output_type": "stream",
     "text": [
      "                                                                                \r"
     ]
    },
    {
     "name": "stdout",
     "output_type": "stream",
     "text": [
      "+---------------+------------------+\n",
      "|player_gamertag|avg_kills         |\n",
      "+---------------+------------------+\n",
      "|A 0 N Eclipse  |5.5               |\n",
      "|A 2 tailed fox |23.0              |\n",
      "|A 29 Delivery  |11.0              |\n",
      "|A 2tha nimal   |9.066666666666666 |\n",
      "|A 7 Gram Blunt |12.0              |\n",
      "|A 9ja Ch0p     |5.0               |\n",
      "|A American Monk|1.0               |\n",
      "|A B4ller1      |5.0               |\n",
      "|A BALLS86      |1.0               |\n",
      "|A BIG mC       |5.6               |\n",
      "|A BOOTY TAP    |2.0               |\n",
      "|A BOSS Coyote  |10.0              |\n",
      "|A BRIGHT SHADOW|4.6923076923076925|\n",
      "|A Baby Lynx    |12.0              |\n",
      "|A BacKWaRdsManN|6.0               |\n",
      "|A Bad Dream x  |11.0              |\n",
      "|A Baggie       |20.0              |\n",
      "|A Bear of Doom |8.5               |\n",
      "|A Big Blue Ape |13.0              |\n",
      "|A Blind Kid 8P |29.0              |\n",
      "+---------------+------------------+\n",
      "only showing top 20 rows\n",
      "\n",
      "Most played playlists:\n"
     ]
    },
    {
     "name": "stderr",
     "output_type": "stream",
     "text": [
      "                                                                                \r"
     ]
    },
    {
     "name": "stdout",
     "output_type": "stream",
     "text": [
      "+------------------------------------+-----------+\n",
      "|playlist_id                         |match_count|\n",
      "+------------------------------------+-----------+\n",
      "|0504ca3c-de41-48f3-b9c8-3aab534d69e5|2254       |\n",
      "|0bcf2be1-3168-4e42-9fb5-3551d7dbce77|66477      |\n",
      "|2323b76a-db98-4e03-aa37-e171cfbdd1a4|92148      |\n",
      "|2e812e09-912f-458b-a659-4ccb84232c65|1493       |\n",
      "|355dc154-9809-4edb-8ed4-fff910c6ae9c|17194      |\n",
      "|4b12472e-2a06-4235-ba58-f376be6c1b39|3839       |\n",
      "|5728f612-3f20-4459-98bd-3478c79c4861|8001       |\n",
      "|7385b4a1-86bf-4aec-b9c2-411a6aa48633|9490       |\n",
      "|780cc101-005c-4fca-8ce7-6f36d7156ffe|66081      |\n",
      "|7b7e892c-d9b7-4b03-bef8-c6a071df28ef|10685      |\n",
      "|819eb188-1a1c-48b4-9af3-283d2447ff6f|5487       |\n",
      "|88b7de19-113c-4beb-af7f-8553aeda3f4c|2116       |\n",
      "|892189e9-d712-4bdb-afa7-1ccab43fbed4|86496      |\n",
      "|b5d5a242-ffa5-4d88-a229-5031916be036|3778       |\n",
      "|bc0f8ad6-31e6-4a18-87d9-ad5a2dbc8212|11071      |\n",
      "|c98949ae-60a8-43dc-85d7-0feb0b92e719|107422     |\n",
      "|d0766624-dbd7-4536-ba39-2d890a6143a9|23969      |\n",
      "|d21c8381-26f1-4d65-832a-ef9fa0854eb5|3617       |\n",
      "|ddfb6af3-2a64-4ecd-8eda-c1ce4413b676|427        |\n",
      "|f0c9ef9a-48bd-4b24-9db3-2c76b4e23450|4849       |\n",
      "+------------------------------------+-----------+\n",
      "only showing top 20 rows\n",
      "\n",
      "Most played maps:\n"
     ]
    },
    {
     "name": "stderr",
     "output_type": "stream",
     "text": [
      "                                                                                \r"
     ]
    },
    {
     "name": "stdout",
     "output_type": "stream",
     "text": [
      "+------------------------------------+-----------+\n",
      "|mapid                               |match_count|\n",
      "+------------------------------------+-----------+\n",
      "|c74c9d0f-f206-11e4-8330-24be05e24f7e|105658     |\n",
      "|c7805740-f206-11e4-982c-24be05e24f7e|70182      |\n",
      "|c7b7baf0-f206-11e4-ae9a-24be05e24f7e|14515      |\n",
      "|c7edbf0f-f206-11e4-aa52-24be05e24f7e|186118     |\n",
      "|ca737f8f-f206-11e4-a7e2-24be05e24f7e|20994      |\n",
      "|caacb800-f206-11e4-81ab-24be05e24f7e|38731      |\n",
      "|cb914b9e-f206-11e4-b447-24be05e24f7e|41098      |\n",
      "|cbcea2c0-f206-11e4-8c4a-24be05e24f7e|17926      |\n",
      "|cc040aa1-f206-11e4-a3e0-24be05e24f7e|33786      |\n",
      "|cc74f4e1-f206-11e4-ad66-24be05e24f7e|16648      |\n",
      "|cd844200-f206-11e4-9393-24be05e24f7e|34368      |\n",
      "|cdb934b0-f206-11e4-8810-24be05e24f7e|51845      |\n",
      "|cdee4e70-f206-11e4-87a2-24be05e24f7e|32247      |\n",
      "|ce1dc2de-f206-11e4-a646-24be05e24f7e|39699      |\n",
      "|ce89a40f-f206-11e4-b83f-24be05e24f7e|8759       |\n",
      "|cebd854f-f206-11e4-b46e-24be05e24f7e|38560      |\n",
      "+------------------------------------+-----------+\n",
      "\n",
      "Maps with the most Killing Spree medals:\n"
     ]
    },
    {
     "name": "stderr",
     "output_type": "stream",
     "text": [
      "[Stage 166:====================================>               (140 + 10) / 200]\r"
     ]
    },
    {
     "name": "stdout",
     "output_type": "stream",
     "text": [
      "+------------------------------------+-------------------+\n",
      "|mapid                               |killing_spree_count|\n",
      "+------------------------------------+-------------------+\n",
      "|c74c9d0f-f206-11e4-8330-24be05e24f7e|4317               |\n",
      "|c7805740-f206-11e4-982c-24be05e24f7e|2611               |\n",
      "|c7b7baf0-f206-11e4-ae9a-24be05e24f7e|517                |\n",
      "|c7edbf0f-f206-11e4-aa52-24be05e24f7e|6553               |\n",
      "|ca737f8f-f206-11e4-a7e2-24be05e24f7e|916                |\n",
      "|caacb800-f206-11e4-81ab-24be05e24f7e|1654               |\n",
      "|cb914b9e-f206-11e4-b447-24be05e24f7e|1733               |\n",
      "|cbcea2c0-f206-11e4-8c4a-24be05e24f7e|809                |\n",
      "|cc040aa1-f206-11e4-a3e0-24be05e24f7e|1439               |\n",
      "|cc74f4e1-f206-11e4-ad66-24be05e24f7e|771                |\n",
      "|cd844200-f206-11e4-9393-24be05e24f7e|1544               |\n",
      "|cdb934b0-f206-11e4-8810-24be05e24f7e|1991               |\n",
      "|cdee4e70-f206-11e4-87a2-24be05e24f7e|1540               |\n",
      "|ce1dc2de-f206-11e4-a646-24be05e24f7e|1751               |\n",
      "|ce89a40f-f206-11e4-b83f-24be05e24f7e|312                |\n",
      "|cebd854f-f206-11e4-b46e-24be05e24f7e|1646               |\n",
      "+------------------------------------+-------------------+\n",
      "\n"
     ]
    },
    {
     "name": "stderr",
     "output_type": "stream",
     "text": [
      "                                                                                \r"
     ]
    }
   ],
   "source": [
    "# Show results\n",
    "print(\"Players with the highest average kills per game:\")\n",
    "kills_per_game.show(truncate=False)\n",
    "\n",
    "print(\"Most played playlists:\")\n",
    "playlist_count.show(truncate=False)\n",
    "\n",
    "print(\"Most played maps:\")\n",
    "map_count.show(truncate=False)\n",
    "\n",
    "print(\"Maps with the most Killing Spree medals:\")\n",
    "killing_spree_maps.show(truncate=False)"
   ]
  },
  {
   "cell_type": "code",
   "execution_count": null,
   "metadata": {},
   "outputs": [],
   "source": []
  }
 ],
 "metadata": {
  "kernelspec": {
   "display_name": "Python 3 (ipykernel)",
   "language": "python",
   "name": "python3"
  },
  "language_info": {
   "codemirror_mode": {
    "name": "ipython",
    "version": 3
   },
   "file_extension": ".py",
   "mimetype": "text/x-python",
   "name": "python",
   "nbconvert_exporter": "python",
   "pygments_lexer": "ipython3",
   "version": "3.9.18"
  }
 },
 "nbformat": 4,
 "nbformat_minor": 4
}
