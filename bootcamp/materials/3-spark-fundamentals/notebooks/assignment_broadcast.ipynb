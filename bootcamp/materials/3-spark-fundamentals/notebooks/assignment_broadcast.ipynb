{
 "cells": [
  {
   "cell_type": "code",
   "execution_count": 1,
   "id": "81cca085-dba2-42eb-a13b-fa64b6e86583",
   "metadata": {},
   "outputs": [
    {
     "name": "stderr",
     "output_type": "stream",
     "text": [
      "25/07/02 10:51:01 WARN SparkSession: Using an existing Spark session; only runtime SQL configurations will take effect.\n",
      "25/07/02 10:51:04 WARN SparkStringUtils: Truncated the string representation of a plan since it was too large. This behavior can be adjusted by setting 'spark.sql.debug.maxToStringFields'.\n",
      "[Stage 10:==========================>                              (6 + 7) / 13]"
     ]
    },
    {
     "name": "stdout",
     "output_type": "stream",
     "text": [
      "+--------------------+--------------------+----------+---------------+-----+--------------------+-----------+----------+------------------+-------------------+------------+-------------+-----------------+--------------------+-------------+----------+------------+--------------------+--------------------+-------------+--------------------+--------------+---------+--------------+------+--------------------+\n",
      "|               mapid|            match_id|  medal_id|player_gamertag|count|          sprite_uri|sprite_left|sprite_top|sprite_sheet_width|sprite_sheet_height|sprite_width|sprite_height|   classification|         description|         name|difficulty|is_team_game|         playlist_id|     game_variant_id|is_match_over|     completion_date|match_duration|game_mode|map_variant_id|  name|         description|\n",
      "+--------------------+--------------------+----------+---------------+-----+--------------------+-----------+----------+------------------+-------------------+------------+-------------+-----------------+--------------------+-------------+----------+------------+--------------------+--------------------+-------------+--------------------+--------------+---------+--------------+------+--------------------+\n",
      "|cc040aa1-f206-11e...|00169217-cca6-4b4...|3270120991|       DJ RAHHH|    1|https://content.h...|        525|       450|                74|                 74|        1125|          899|            Style|Kill an opponent ...|    Beat Down|       185|        true|2323b76a-db98-4e0...|257a305e-4dd3-41f...|         true|2016-03-13 00:00:...|          NULL|     NULL|          NULL|Fathom|The UNSC explores...|\n",
      "|cc040aa1-f206-11e...|00169217-cca6-4b4...|2287626681|  King Terror V|    1|https://content.h...|        600|       300|                74|                 74|        1125|          899|            Style|Kill an opponent ...|   Melee Kill|       220|        true|2323b76a-db98-4e0...|257a305e-4dd3-41f...|         true|2016-03-13 00:00:...|          NULL|     NULL|          NULL|Fathom|The UNSC explores...|\n",
      "|cc040aa1-f206-11e...|00169217-cca6-4b4...|2287626681|      King Sope|    1|https://content.h...|        600|       300|                74|                 74|        1125|          899|            Style|Kill an opponent ...|   Melee Kill|       220|        true|2323b76a-db98-4e0...|257a305e-4dd3-41f...|         true|2016-03-13 00:00:...|          NULL|     NULL|          NULL|Fathom|The UNSC explores...|\n",
      "|cc040aa1-f206-11e...|00169217-cca6-4b4...|2287626681|    EXTREMENOVA|    1|https://content.h...|        600|       300|                74|                 74|        1125|          899|            Style|Kill an opponent ...|   Melee Kill|       220|        true|2323b76a-db98-4e0...|257a305e-4dd3-41f...|         true|2016-03-13 00:00:...|          NULL|     NULL|          NULL|Fathom|The UNSC explores...|\n",
      "|cc040aa1-f206-11e...|00169217-cca6-4b4...|2287626681|Trap Lord David|    3|https://content.h...|        600|       300|                74|                 74|        1125|          899|            Style|Kill an opponent ...|   Melee Kill|       220|        true|2323b76a-db98-4e0...|257a305e-4dd3-41f...|         true|2016-03-13 00:00:...|          NULL|     NULL|          NULL|Fathom|The UNSC explores...|\n",
      "|cc040aa1-f206-11e...|00169217-cca6-4b4...| 466059351|  King Terror V|    1|https://content.h...|        825|       825|                74|                 74|        1125|          899|            Style|Be the first play...|      Top Gun|        20|        true|2323b76a-db98-4e0...|257a305e-4dd3-41f...|         true|2016-03-13 00:00:...|          NULL|     NULL|          NULL|Fathom|The UNSC explores...|\n",
      "|cc040aa1-f206-11e...|00169217-cca6-4b4...|3261908037|  King Terror V|   11|https://content.h...|        375|       525|                74|                 74|        1125|          899|WeaponProficiency|Kill an opponent ...|     Headshot|        60|        true|2323b76a-db98-4e0...|257a305e-4dd3-41f...|         true|2016-03-13 00:00:...|          NULL|     NULL|          NULL|Fathom|The UNSC explores...|\n",
      "|cc040aa1-f206-11e...|00169217-cca6-4b4...|3261908037|      King Sope|   10|https://content.h...|        375|       525|                74|                 74|        1125|          899|WeaponProficiency|Kill an opponent ...|     Headshot|        60|        true|2323b76a-db98-4e0...|257a305e-4dd3-41f...|         true|2016-03-13 00:00:...|          NULL|     NULL|          NULL|Fathom|The UNSC explores...|\n",
      "|cc040aa1-f206-11e...|00169217-cca6-4b4...|3261908037|       mcnaeric|    9|https://content.h...|        375|       525|                74|                 74|        1125|          899|WeaponProficiency|Kill an opponent ...|     Headshot|        60|        true|2323b76a-db98-4e0...|257a305e-4dd3-41f...|         true|2016-03-13 00:00:...|          NULL|     NULL|          NULL|Fathom|The UNSC explores...|\n",
      "|cc040aa1-f206-11e...|00169217-cca6-4b4...|3261908037|    EXTREMENOVA|    6|https://content.h...|        375|       525|                74|                 74|        1125|          899|WeaponProficiency|Kill an opponent ...|     Headshot|        60|        true|2323b76a-db98-4e0...|257a305e-4dd3-41f...|         true|2016-03-13 00:00:...|          NULL|     NULL|          NULL|Fathom|The UNSC explores...|\n",
      "|cc040aa1-f206-11e...|00169217-cca6-4b4...|3261908037| Psych0ticCamel|    8|https://content.h...|        375|       525|                74|                 74|        1125|          899|WeaponProficiency|Kill an opponent ...|     Headshot|        60|        true|2323b76a-db98-4e0...|257a305e-4dd3-41f...|         true|2016-03-13 00:00:...|          NULL|     NULL|          NULL|Fathom|The UNSC explores...|\n",
      "|cc040aa1-f206-11e...|00169217-cca6-4b4...|3261908037|Trap Lord David|    5|https://content.h...|        375|       525|                74|                 74|        1125|          899|WeaponProficiency|Kill an opponent ...|     Headshot|        60|        true|2323b76a-db98-4e0...|257a305e-4dd3-41f...|         true|2016-03-13 00:00:...|          NULL|     NULL|          NULL|Fathom|The UNSC explores...|\n",
      "|cc040aa1-f206-11e...|00169217-cca6-4b4...|3261908037|       DJ RAHHH|   12|https://content.h...|        375|       525|                74|                 74|        1125|          899|WeaponProficiency|Kill an opponent ...|     Headshot|        60|        true|2323b76a-db98-4e0...|257a305e-4dd3-41f...|         true|2016-03-13 00:00:...|          NULL|     NULL|          NULL|Fathom|The UNSC explores...|\n",
      "|cc040aa1-f206-11e...|00169217-cca6-4b4...|2078758684|  King Terror V|    3|https://content.h...|        450|       300|                74|                 74|        1125|          899|        MultiKill|Kill 2 opponents ...|  Double Kill|        45|        true|2323b76a-db98-4e0...|257a305e-4dd3-41f...|         true|2016-03-13 00:00:...|          NULL|     NULL|          NULL|Fathom|The UNSC explores...|\n",
      "|cc040aa1-f206-11e...|00169217-cca6-4b4...|2078758684|      King Sope|    1|https://content.h...|        450|       300|                74|                 74|        1125|          899|        MultiKill|Kill 2 opponents ...|  Double Kill|        45|        true|2323b76a-db98-4e0...|257a305e-4dd3-41f...|         true|2016-03-13 00:00:...|          NULL|     NULL|          NULL|Fathom|The UNSC explores...|\n",
      "|cc040aa1-f206-11e...|00169217-cca6-4b4...|2078758684|       mcnaeric|    1|https://content.h...|        450|       300|                74|                 74|        1125|          899|        MultiKill|Kill 2 opponents ...|  Double Kill|        45|        true|2323b76a-db98-4e0...|257a305e-4dd3-41f...|         true|2016-03-13 00:00:...|          NULL|     NULL|          NULL|Fathom|The UNSC explores...|\n",
      "|cc040aa1-f206-11e...|00169217-cca6-4b4...|2078758684|Trap Lord David|    2|https://content.h...|        450|       300|                74|                 74|        1125|          899|        MultiKill|Kill 2 opponents ...|  Double Kill|        45|        true|2323b76a-db98-4e0...|257a305e-4dd3-41f...|         true|2016-03-13 00:00:...|          NULL|     NULL|          NULL|Fathom|The UNSC explores...|\n",
      "|cc040aa1-f206-11e...|00169217-cca6-4b4...|2078758684|       DJ RAHHH|    1|https://content.h...|        450|       300|                74|                 74|        1125|          899|        MultiKill|Kill 2 opponents ...|  Double Kill|        45|        true|2323b76a-db98-4e0...|257a305e-4dd3-41f...|         true|2016-03-13 00:00:...|          NULL|     NULL|          NULL|Fathom|The UNSC explores...|\n",
      "|cc040aa1-f206-11e...|00169217-cca6-4b4...|2430242797|  King Terror V|    1|https://content.h...|        675|       300|                74|                 74|        1125|          899|     KillingSpree|Kill 5 opponents ...|Killing Spree|        45|        true|2323b76a-db98-4e0...|257a305e-4dd3-41f...|         true|2016-03-13 00:00:...|          NULL|     NULL|          NULL|Fathom|The UNSC explores...|\n",
      "|cc040aa1-f206-11e...|00169217-cca6-4b4...| 250435527|    EXTREMENOVA|    1|https://content.h...|        900|       225|                74|                 74|        1125|          899|            Style|Kill an enemy usi...|      Brawler|       195|        true|2323b76a-db98-4e0...|257a305e-4dd3-41f...|         true|2016-03-13 00:00:...|          NULL|     NULL|          NULL|Fathom|The UNSC explores...|\n",
      "+--------------------+--------------------+----------+---------------+-----+--------------------+-----------+----------+------------------+-------------------+------------+-------------+-----------------+--------------------+-------------+----------+------------+--------------------+--------------------+-------------+--------------------+--------------+---------+--------------+------+--------------------+\n",
      "only showing top 20 rows\n",
      "\n"
     ]
    },
    {
     "name": "stderr",
     "output_type": "stream",
     "text": [
      "                                                                                "
     ]
    }
   ],
   "source": [
    "from pyspark.sql import SparkSession\n",
    "from pyspark.sql.functions import broadcast, col\n",
    "\n",
    "spark = SparkSession.builder.appName(\"Broadcast Join\").getOrCreate()\n",
    "\n",
    "spark.conf.set(\"spark.sql.autoBroadcastJoinThreshold\", \"-1\")\n",
    "\n",
    "df_medals = spark.read.option(\"header\", \"true\").csv(\"/home/iceberg/data/medals.csv\")\n",
    "df_medals_matches_players = spark.read.option(\"header\", \"true\").csv(\"/home/iceberg/data/medals_matches_players.csv\")\n",
    "df_matches = spark.read.option(\"header\", \"true\").csv(\"/home/iceberg/data/matches.csv\")\n",
    "df_maps = spark.read.option(\"header\", \"true\").csv(\"/home/iceberg/data/maps.csv\")\n",
    "\n",
    "df_medals_join_match_id = df_medals_matches_players.join(df_medals, on=\"medal_id\", how=\"inner\")\n",
    "df_match_join_map_id = df_medals_join_match_id.join(df_matches, on=\"match_id\", how=\"inner\")\n",
    "df_medals_maps = df_match_join_map_id.join(broadcast(df_maps), on=\"mapid\", how=\"inner\")\n",
    "df_medals_maps.show()"
   ]
  },
  {
   "cell_type": "code",
   "execution_count": 1,
   "id": "591ba0b7-2e6f-420a-960d-95e5734b0166",
   "metadata": {},
   "outputs": [
    {
     "ename": "Py4JJavaError",
     "evalue": "An error occurred while calling o36.sql.\n: org.apache.iceberg.exceptions.ServiceFailureException: Server error: NotFoundException: Location does not exist: s3://warehouse/bootcamp/match_details_bucketed/metadata/00001-8cf37a8c-f298-4478-97b0-b8f76e52fc53.metadata.json\n\tat org.apache.iceberg.rest.ErrorHandlers$DefaultErrorHandler.accept(ErrorHandlers.java:217)\n\tat org.apache.iceberg.rest.ErrorHandlers$TableErrorHandler.accept(ErrorHandlers.java:118)\n\tat org.apache.iceberg.rest.ErrorHandlers$TableErrorHandler.accept(ErrorHandlers.java:102)\n\tat org.apache.iceberg.rest.HTTPClient.throwFailure(HTTPClient.java:224)\n\tat org.apache.iceberg.rest.HTTPClient.execute(HTTPClient.java:308)\n\tat org.apache.iceberg.rest.BaseHTTPClient.get(BaseHTTPClient.java:77)\n\tat org.apache.iceberg.rest.RESTClient.get(RESTClient.java:97)\n\tat org.apache.iceberg.rest.RESTSessionCatalog.loadInternal(RESTSessionCatalog.java:465)\n\tat org.apache.iceberg.rest.RESTSessionCatalog.loadTable(RESTSessionCatalog.java:489)\n\tat org.apache.iceberg.catalog.BaseSessionCatalog$AsCatalog.loadTable(BaseSessionCatalog.java:99)\n\tat org.apache.iceberg.rest.RESTCatalog.loadTable(RESTCatalog.java:102)\n\tat org.apache.iceberg.shaded.com.github.benmanes.caffeine.cache.BoundedLocalCache.lambda$doComputeIfAbsent$14(BoundedLocalCache.java:2406)\n\tat java.base/java.util.concurrent.ConcurrentHashMap.compute(ConcurrentHashMap.java:1916)\n\tat org.apache.iceberg.shaded.com.github.benmanes.caffeine.cache.BoundedLocalCache.doComputeIfAbsent(BoundedLocalCache.java:2404)\n\tat org.apache.iceberg.shaded.com.github.benmanes.caffeine.cache.BoundedLocalCache.computeIfAbsent(BoundedLocalCache.java:2387)\n\tat org.apache.iceberg.shaded.com.github.benmanes.caffeine.cache.LocalCache.computeIfAbsent(LocalCache.java:108)\n\tat org.apache.iceberg.shaded.com.github.benmanes.caffeine.cache.LocalManualCache.get(LocalManualCache.java:62)\n\tat org.apache.iceberg.CachingCatalog.loadTable(CachingCatalog.java:147)\n\tat org.apache.iceberg.spark.SparkCatalog.load(SparkCatalog.java:844)\n\tat org.apache.iceberg.spark.SparkCatalog.loadTable(SparkCatalog.java:169)\n\tat org.apache.spark.sql.connector.catalog.TableCatalog.tableExists(TableCatalog.java:185)\n\tat org.apache.spark.sql.execution.datasources.v2.DropTableExec.run(DropTableExec.scala:36)\n\tat org.apache.spark.sql.execution.datasources.v2.V2CommandExec.result$lzycompute(V2CommandExec.scala:43)\n\tat org.apache.spark.sql.execution.datasources.v2.V2CommandExec.result(V2CommandExec.scala:43)\n\tat org.apache.spark.sql.execution.datasources.v2.V2CommandExec.executeCollect(V2CommandExec.scala:49)\n\tat org.apache.spark.sql.execution.QueryExecution$$anonfun$eagerlyExecuteCommands$1.$anonfun$applyOrElse$1(QueryExecution.scala:107)\n\tat org.apache.spark.sql.execution.SQLExecution$.$anonfun$withNewExecutionId$6(SQLExecution.scala:125)\n\tat org.apache.spark.sql.execution.SQLExecution$.withSQLConfPropagated(SQLExecution.scala:201)\n\tat org.apache.spark.sql.execution.SQLExecution$.$anonfun$withNewExecutionId$1(SQLExecution.scala:108)\n\tat org.apache.spark.sql.SparkSession.withActive(SparkSession.scala:900)\n\tat org.apache.spark.sql.execution.SQLExecution$.withNewExecutionId(SQLExecution.scala:66)\n\tat org.apache.spark.sql.execution.QueryExecution$$anonfun$eagerlyExecuteCommands$1.applyOrElse(QueryExecution.scala:107)\n\tat org.apache.spark.sql.execution.QueryExecution$$anonfun$eagerlyExecuteCommands$1.applyOrElse(QueryExecution.scala:98)\n\tat org.apache.spark.sql.catalyst.trees.TreeNode.$anonfun$transformDownWithPruning$1(TreeNode.scala:461)\n\tat org.apache.spark.sql.catalyst.trees.CurrentOrigin$.withOrigin(origin.scala:76)\n\tat org.apache.spark.sql.catalyst.trees.TreeNode.transformDownWithPruning(TreeNode.scala:461)\n\tat org.apache.spark.sql.catalyst.plans.logical.LogicalPlan.org$apache$spark$sql$catalyst$plans$logical$AnalysisHelper$$super$transformDownWithPruning(LogicalPlan.scala:32)\n\tat org.apache.spark.sql.catalyst.plans.logical.AnalysisHelper.transformDownWithPruning(AnalysisHelper.scala:267)\n\tat org.apache.spark.sql.catalyst.plans.logical.AnalysisHelper.transformDownWithPruning$(AnalysisHelper.scala:263)\n\tat org.apache.spark.sql.catalyst.plans.logical.LogicalPlan.transformDownWithPruning(LogicalPlan.scala:32)\n\tat org.apache.spark.sql.catalyst.plans.logical.LogicalPlan.transformDownWithPruning(LogicalPlan.scala:32)\n\tat org.apache.spark.sql.catalyst.trees.TreeNode.transformDown(TreeNode.scala:437)\n\tat org.apache.spark.sql.execution.QueryExecution.eagerlyExecuteCommands(QueryExecution.scala:98)\n\tat org.apache.spark.sql.execution.QueryExecution.commandExecuted$lzycompute(QueryExecution.scala:85)\n\tat org.apache.spark.sql.execution.QueryExecution.commandExecuted(QueryExecution.scala:83)\n\tat org.apache.spark.sql.Dataset.<init>(Dataset.scala:220)\n\tat org.apache.spark.sql.Dataset$.$anonfun$ofRows$2(Dataset.scala:100)\n\tat org.apache.spark.sql.SparkSession.withActive(SparkSession.scala:900)\n\tat org.apache.spark.sql.Dataset$.ofRows(Dataset.scala:97)\n\tat org.apache.spark.sql.SparkSession.$anonfun$sql$1(SparkSession.scala:638)\n\tat org.apache.spark.sql.SparkSession.withActive(SparkSession.scala:900)\n\tat org.apache.spark.sql.SparkSession.sql(SparkSession.scala:629)\n\tat org.apache.spark.sql.SparkSession.sql(SparkSession.scala:659)\n\tat java.base/jdk.internal.reflect.NativeMethodAccessorImpl.invoke0(Native Method)\n\tat java.base/jdk.internal.reflect.NativeMethodAccessorImpl.invoke(NativeMethodAccessorImpl.java:77)\n\tat java.base/jdk.internal.reflect.DelegatingMethodAccessorImpl.invoke(DelegatingMethodAccessorImpl.java:43)\n\tat java.base/java.lang.reflect.Method.invoke(Method.java:569)\n\tat py4j.reflection.MethodInvoker.invoke(MethodInvoker.java:244)\n\tat py4j.reflection.ReflectionEngine.invoke(ReflectionEngine.java:374)\n\tat py4j.Gateway.invoke(Gateway.java:282)\n\tat py4j.commands.AbstractCommand.invokeMethod(AbstractCommand.java:132)\n\tat py4j.commands.CallCommand.execute(CallCommand.java:79)\n\tat py4j.ClientServerConnection.waitForCommands(ClientServerConnection.java:182)\n\tat py4j.ClientServerConnection.run(ClientServerConnection.java:106)\n\tat java.base/java.lang.Thread.run(Thread.java:840)\n",
     "output_type": "error",
     "traceback": [
      "\u001b[0;31m---------------------------------------------------------------------------\u001b[0m",
      "\u001b[0;31mPy4JJavaError\u001b[0m                             Traceback (most recent call last)",
      "Cell \u001b[0;32mIn[1], line 2\u001b[0m\n\u001b[1;32m      1\u001b[0m spark\u001b[38;5;241m.\u001b[39msql(\u001b[38;5;124m\"\"\"\u001b[39m\u001b[38;5;124mCREATE DATABASE IF NOT EXISTS bootcamp\u001b[39m\u001b[38;5;124m\"\"\"\u001b[39m)\n\u001b[0;32m----> 2\u001b[0m \u001b[43mspark\u001b[49m\u001b[38;5;241;43m.\u001b[39;49m\u001b[43msql\u001b[49m\u001b[43m(\u001b[49m\u001b[38;5;124;43m\"\"\"\u001b[39;49m\u001b[38;5;124;43mDROP TABLE IF EXISTS bootcamp.match_details_bucketed\u001b[39;49m\u001b[38;5;124;43m\"\"\"\u001b[39;49m\u001b[43m)\u001b[49m\n\u001b[1;32m      3\u001b[0m spark\u001b[38;5;241m.\u001b[39msql(\u001b[38;5;124m\"\"\"\u001b[39m\u001b[38;5;124mDROP TABLE IF EXISTS bootcamp.matches_bucketed\u001b[39m\u001b[38;5;124m\"\"\"\u001b[39m)\n\u001b[1;32m      4\u001b[0m spark\u001b[38;5;241m.\u001b[39msql(\u001b[38;5;124m\"\"\"\u001b[39m\u001b[38;5;124mDROP TABLE IF EXISTS bootcamp.medal_matches_players_bucketed\u001b[39m\u001b[38;5;124m\"\"\"\u001b[39m)\n",
      "File \u001b[0;32m/opt/spark/python/pyspark/sql/session.py:1631\u001b[0m, in \u001b[0;36mSparkSession.sql\u001b[0;34m(self, sqlQuery, args, **kwargs)\u001b[0m\n\u001b[1;32m   1627\u001b[0m         \u001b[38;5;28;01massert\u001b[39;00m \u001b[38;5;28mself\u001b[39m\u001b[38;5;241m.\u001b[39m_jvm \u001b[38;5;129;01mis\u001b[39;00m \u001b[38;5;129;01mnot\u001b[39;00m \u001b[38;5;28;01mNone\u001b[39;00m\n\u001b[1;32m   1628\u001b[0m         litArgs \u001b[38;5;241m=\u001b[39m \u001b[38;5;28mself\u001b[39m\u001b[38;5;241m.\u001b[39m_jvm\u001b[38;5;241m.\u001b[39mPythonUtils\u001b[38;5;241m.\u001b[39mtoArray(\n\u001b[1;32m   1629\u001b[0m             [_to_java_column(lit(v)) \u001b[38;5;28;01mfor\u001b[39;00m v \u001b[38;5;129;01min\u001b[39;00m (args \u001b[38;5;129;01mor\u001b[39;00m [])]\n\u001b[1;32m   1630\u001b[0m         )\n\u001b[0;32m-> 1631\u001b[0m     \u001b[38;5;28;01mreturn\u001b[39;00m DataFrame(\u001b[38;5;28;43mself\u001b[39;49m\u001b[38;5;241;43m.\u001b[39;49m\u001b[43m_jsparkSession\u001b[49m\u001b[38;5;241;43m.\u001b[39;49m\u001b[43msql\u001b[49m\u001b[43m(\u001b[49m\u001b[43msqlQuery\u001b[49m\u001b[43m,\u001b[49m\u001b[43m \u001b[49m\u001b[43mlitArgs\u001b[49m\u001b[43m)\u001b[49m, \u001b[38;5;28mself\u001b[39m)\n\u001b[1;32m   1632\u001b[0m \u001b[38;5;28;01mfinally\u001b[39;00m:\n\u001b[1;32m   1633\u001b[0m     \u001b[38;5;28;01mif\u001b[39;00m \u001b[38;5;28mlen\u001b[39m(kwargs) \u001b[38;5;241m>\u001b[39m \u001b[38;5;241m0\u001b[39m:\n",
      "File \u001b[0;32m/opt/spark/python/lib/py4j-0.10.9.7-src.zip/py4j/java_gateway.py:1322\u001b[0m, in \u001b[0;36mJavaMember.__call__\u001b[0;34m(self, *args)\u001b[0m\n\u001b[1;32m   1316\u001b[0m command \u001b[38;5;241m=\u001b[39m proto\u001b[38;5;241m.\u001b[39mCALL_COMMAND_NAME \u001b[38;5;241m+\u001b[39m\\\n\u001b[1;32m   1317\u001b[0m     \u001b[38;5;28mself\u001b[39m\u001b[38;5;241m.\u001b[39mcommand_header \u001b[38;5;241m+\u001b[39m\\\n\u001b[1;32m   1318\u001b[0m     args_command \u001b[38;5;241m+\u001b[39m\\\n\u001b[1;32m   1319\u001b[0m     proto\u001b[38;5;241m.\u001b[39mEND_COMMAND_PART\n\u001b[1;32m   1321\u001b[0m answer \u001b[38;5;241m=\u001b[39m \u001b[38;5;28mself\u001b[39m\u001b[38;5;241m.\u001b[39mgateway_client\u001b[38;5;241m.\u001b[39msend_command(command)\n\u001b[0;32m-> 1322\u001b[0m return_value \u001b[38;5;241m=\u001b[39m \u001b[43mget_return_value\u001b[49m\u001b[43m(\u001b[49m\n\u001b[1;32m   1323\u001b[0m \u001b[43m    \u001b[49m\u001b[43manswer\u001b[49m\u001b[43m,\u001b[49m\u001b[43m \u001b[49m\u001b[38;5;28;43mself\u001b[39;49m\u001b[38;5;241;43m.\u001b[39;49m\u001b[43mgateway_client\u001b[49m\u001b[43m,\u001b[49m\u001b[43m \u001b[49m\u001b[38;5;28;43mself\u001b[39;49m\u001b[38;5;241;43m.\u001b[39;49m\u001b[43mtarget_id\u001b[49m\u001b[43m,\u001b[49m\u001b[43m \u001b[49m\u001b[38;5;28;43mself\u001b[39;49m\u001b[38;5;241;43m.\u001b[39;49m\u001b[43mname\u001b[49m\u001b[43m)\u001b[49m\n\u001b[1;32m   1325\u001b[0m \u001b[38;5;28;01mfor\u001b[39;00m temp_arg \u001b[38;5;129;01min\u001b[39;00m temp_args:\n\u001b[1;32m   1326\u001b[0m     \u001b[38;5;28;01mif\u001b[39;00m \u001b[38;5;28mhasattr\u001b[39m(temp_arg, \u001b[38;5;124m\"\u001b[39m\u001b[38;5;124m_detach\u001b[39m\u001b[38;5;124m\"\u001b[39m):\n",
      "File \u001b[0;32m/opt/spark/python/pyspark/errors/exceptions/captured.py:179\u001b[0m, in \u001b[0;36mcapture_sql_exception.<locals>.deco\u001b[0;34m(*a, **kw)\u001b[0m\n\u001b[1;32m    177\u001b[0m \u001b[38;5;28;01mdef\u001b[39;00m\u001b[38;5;250m \u001b[39m\u001b[38;5;21mdeco\u001b[39m(\u001b[38;5;241m*\u001b[39ma: Any, \u001b[38;5;241m*\u001b[39m\u001b[38;5;241m*\u001b[39mkw: Any) \u001b[38;5;241m-\u001b[39m\u001b[38;5;241m>\u001b[39m Any:\n\u001b[1;32m    178\u001b[0m     \u001b[38;5;28;01mtry\u001b[39;00m:\n\u001b[0;32m--> 179\u001b[0m         \u001b[38;5;28;01mreturn\u001b[39;00m \u001b[43mf\u001b[49m\u001b[43m(\u001b[49m\u001b[38;5;241;43m*\u001b[39;49m\u001b[43ma\u001b[49m\u001b[43m,\u001b[49m\u001b[43m \u001b[49m\u001b[38;5;241;43m*\u001b[39;49m\u001b[38;5;241;43m*\u001b[39;49m\u001b[43mkw\u001b[49m\u001b[43m)\u001b[49m\n\u001b[1;32m    180\u001b[0m     \u001b[38;5;28;01mexcept\u001b[39;00m Py4JJavaError \u001b[38;5;28;01mas\u001b[39;00m e:\n\u001b[1;32m    181\u001b[0m         converted \u001b[38;5;241m=\u001b[39m convert_exception(e\u001b[38;5;241m.\u001b[39mjava_exception)\n",
      "File \u001b[0;32m/opt/spark/python/lib/py4j-0.10.9.7-src.zip/py4j/protocol.py:326\u001b[0m, in \u001b[0;36mget_return_value\u001b[0;34m(answer, gateway_client, target_id, name)\u001b[0m\n\u001b[1;32m    324\u001b[0m value \u001b[38;5;241m=\u001b[39m OUTPUT_CONVERTER[\u001b[38;5;28mtype\u001b[39m](answer[\u001b[38;5;241m2\u001b[39m:], gateway_client)\n\u001b[1;32m    325\u001b[0m \u001b[38;5;28;01mif\u001b[39;00m answer[\u001b[38;5;241m1\u001b[39m] \u001b[38;5;241m==\u001b[39m REFERENCE_TYPE:\n\u001b[0;32m--> 326\u001b[0m     \u001b[38;5;28;01mraise\u001b[39;00m Py4JJavaError(\n\u001b[1;32m    327\u001b[0m         \u001b[38;5;124m\"\u001b[39m\u001b[38;5;124mAn error occurred while calling \u001b[39m\u001b[38;5;132;01m{0}\u001b[39;00m\u001b[38;5;132;01m{1}\u001b[39;00m\u001b[38;5;132;01m{2}\u001b[39;00m\u001b[38;5;124m.\u001b[39m\u001b[38;5;130;01m\\n\u001b[39;00m\u001b[38;5;124m\"\u001b[39m\u001b[38;5;241m.\u001b[39m\n\u001b[1;32m    328\u001b[0m         \u001b[38;5;28mformat\u001b[39m(target_id, \u001b[38;5;124m\"\u001b[39m\u001b[38;5;124m.\u001b[39m\u001b[38;5;124m\"\u001b[39m, name), value)\n\u001b[1;32m    329\u001b[0m \u001b[38;5;28;01melse\u001b[39;00m:\n\u001b[1;32m    330\u001b[0m     \u001b[38;5;28;01mraise\u001b[39;00m Py4JError(\n\u001b[1;32m    331\u001b[0m         \u001b[38;5;124m\"\u001b[39m\u001b[38;5;124mAn error occurred while calling \u001b[39m\u001b[38;5;132;01m{0}\u001b[39;00m\u001b[38;5;132;01m{1}\u001b[39;00m\u001b[38;5;132;01m{2}\u001b[39;00m\u001b[38;5;124m. Trace:\u001b[39m\u001b[38;5;130;01m\\n\u001b[39;00m\u001b[38;5;132;01m{3}\u001b[39;00m\u001b[38;5;130;01m\\n\u001b[39;00m\u001b[38;5;124m\"\u001b[39m\u001b[38;5;241m.\u001b[39m\n\u001b[1;32m    332\u001b[0m         \u001b[38;5;28mformat\u001b[39m(target_id, \u001b[38;5;124m\"\u001b[39m\u001b[38;5;124m.\u001b[39m\u001b[38;5;124m\"\u001b[39m, name, value))\n",
      "\u001b[0;31mPy4JJavaError\u001b[0m: An error occurred while calling o36.sql.\n: org.apache.iceberg.exceptions.ServiceFailureException: Server error: NotFoundException: Location does not exist: s3://warehouse/bootcamp/match_details_bucketed/metadata/00001-8cf37a8c-f298-4478-97b0-b8f76e52fc53.metadata.json\n\tat org.apache.iceberg.rest.ErrorHandlers$DefaultErrorHandler.accept(ErrorHandlers.java:217)\n\tat org.apache.iceberg.rest.ErrorHandlers$TableErrorHandler.accept(ErrorHandlers.java:118)\n\tat org.apache.iceberg.rest.ErrorHandlers$TableErrorHandler.accept(ErrorHandlers.java:102)\n\tat org.apache.iceberg.rest.HTTPClient.throwFailure(HTTPClient.java:224)\n\tat org.apache.iceberg.rest.HTTPClient.execute(HTTPClient.java:308)\n\tat org.apache.iceberg.rest.BaseHTTPClient.get(BaseHTTPClient.java:77)\n\tat org.apache.iceberg.rest.RESTClient.get(RESTClient.java:97)\n\tat org.apache.iceberg.rest.RESTSessionCatalog.loadInternal(RESTSessionCatalog.java:465)\n\tat org.apache.iceberg.rest.RESTSessionCatalog.loadTable(RESTSessionCatalog.java:489)\n\tat org.apache.iceberg.catalog.BaseSessionCatalog$AsCatalog.loadTable(BaseSessionCatalog.java:99)\n\tat org.apache.iceberg.rest.RESTCatalog.loadTable(RESTCatalog.java:102)\n\tat org.apache.iceberg.shaded.com.github.benmanes.caffeine.cache.BoundedLocalCache.lambda$doComputeIfAbsent$14(BoundedLocalCache.java:2406)\n\tat java.base/java.util.concurrent.ConcurrentHashMap.compute(ConcurrentHashMap.java:1916)\n\tat org.apache.iceberg.shaded.com.github.benmanes.caffeine.cache.BoundedLocalCache.doComputeIfAbsent(BoundedLocalCache.java:2404)\n\tat org.apache.iceberg.shaded.com.github.benmanes.caffeine.cache.BoundedLocalCache.computeIfAbsent(BoundedLocalCache.java:2387)\n\tat org.apache.iceberg.shaded.com.github.benmanes.caffeine.cache.LocalCache.computeIfAbsent(LocalCache.java:108)\n\tat org.apache.iceberg.shaded.com.github.benmanes.caffeine.cache.LocalManualCache.get(LocalManualCache.java:62)\n\tat org.apache.iceberg.CachingCatalog.loadTable(CachingCatalog.java:147)\n\tat org.apache.iceberg.spark.SparkCatalog.load(SparkCatalog.java:844)\n\tat org.apache.iceberg.spark.SparkCatalog.loadTable(SparkCatalog.java:169)\n\tat org.apache.spark.sql.connector.catalog.TableCatalog.tableExists(TableCatalog.java:185)\n\tat org.apache.spark.sql.execution.datasources.v2.DropTableExec.run(DropTableExec.scala:36)\n\tat org.apache.spark.sql.execution.datasources.v2.V2CommandExec.result$lzycompute(V2CommandExec.scala:43)\n\tat org.apache.spark.sql.execution.datasources.v2.V2CommandExec.result(V2CommandExec.scala:43)\n\tat org.apache.spark.sql.execution.datasources.v2.V2CommandExec.executeCollect(V2CommandExec.scala:49)\n\tat org.apache.spark.sql.execution.QueryExecution$$anonfun$eagerlyExecuteCommands$1.$anonfun$applyOrElse$1(QueryExecution.scala:107)\n\tat org.apache.spark.sql.execution.SQLExecution$.$anonfun$withNewExecutionId$6(SQLExecution.scala:125)\n\tat org.apache.spark.sql.execution.SQLExecution$.withSQLConfPropagated(SQLExecution.scala:201)\n\tat org.apache.spark.sql.execution.SQLExecution$.$anonfun$withNewExecutionId$1(SQLExecution.scala:108)\n\tat org.apache.spark.sql.SparkSession.withActive(SparkSession.scala:900)\n\tat org.apache.spark.sql.execution.SQLExecution$.withNewExecutionId(SQLExecution.scala:66)\n\tat org.apache.spark.sql.execution.QueryExecution$$anonfun$eagerlyExecuteCommands$1.applyOrElse(QueryExecution.scala:107)\n\tat org.apache.spark.sql.execution.QueryExecution$$anonfun$eagerlyExecuteCommands$1.applyOrElse(QueryExecution.scala:98)\n\tat org.apache.spark.sql.catalyst.trees.TreeNode.$anonfun$transformDownWithPruning$1(TreeNode.scala:461)\n\tat org.apache.spark.sql.catalyst.trees.CurrentOrigin$.withOrigin(origin.scala:76)\n\tat org.apache.spark.sql.catalyst.trees.TreeNode.transformDownWithPruning(TreeNode.scala:461)\n\tat org.apache.spark.sql.catalyst.plans.logical.LogicalPlan.org$apache$spark$sql$catalyst$plans$logical$AnalysisHelper$$super$transformDownWithPruning(LogicalPlan.scala:32)\n\tat org.apache.spark.sql.catalyst.plans.logical.AnalysisHelper.transformDownWithPruning(AnalysisHelper.scala:267)\n\tat org.apache.spark.sql.catalyst.plans.logical.AnalysisHelper.transformDownWithPruning$(AnalysisHelper.scala:263)\n\tat org.apache.spark.sql.catalyst.plans.logical.LogicalPlan.transformDownWithPruning(LogicalPlan.scala:32)\n\tat org.apache.spark.sql.catalyst.plans.logical.LogicalPlan.transformDownWithPruning(LogicalPlan.scala:32)\n\tat org.apache.spark.sql.catalyst.trees.TreeNode.transformDown(TreeNode.scala:437)\n\tat org.apache.spark.sql.execution.QueryExecution.eagerlyExecuteCommands(QueryExecution.scala:98)\n\tat org.apache.spark.sql.execution.QueryExecution.commandExecuted$lzycompute(QueryExecution.scala:85)\n\tat org.apache.spark.sql.execution.QueryExecution.commandExecuted(QueryExecution.scala:83)\n\tat org.apache.spark.sql.Dataset.<init>(Dataset.scala:220)\n\tat org.apache.spark.sql.Dataset$.$anonfun$ofRows$2(Dataset.scala:100)\n\tat org.apache.spark.sql.SparkSession.withActive(SparkSession.scala:900)\n\tat org.apache.spark.sql.Dataset$.ofRows(Dataset.scala:97)\n\tat org.apache.spark.sql.SparkSession.$anonfun$sql$1(SparkSession.scala:638)\n\tat org.apache.spark.sql.SparkSession.withActive(SparkSession.scala:900)\n\tat org.apache.spark.sql.SparkSession.sql(SparkSession.scala:629)\n\tat org.apache.spark.sql.SparkSession.sql(SparkSession.scala:659)\n\tat java.base/jdk.internal.reflect.NativeMethodAccessorImpl.invoke0(Native Method)\n\tat java.base/jdk.internal.reflect.NativeMethodAccessorImpl.invoke(NativeMethodAccessorImpl.java:77)\n\tat java.base/jdk.internal.reflect.DelegatingMethodAccessorImpl.invoke(DelegatingMethodAccessorImpl.java:43)\n\tat java.base/java.lang.reflect.Method.invoke(Method.java:569)\n\tat py4j.reflection.MethodInvoker.invoke(MethodInvoker.java:244)\n\tat py4j.reflection.ReflectionEngine.invoke(ReflectionEngine.java:374)\n\tat py4j.Gateway.invoke(Gateway.java:282)\n\tat py4j.commands.AbstractCommand.invokeMethod(AbstractCommand.java:132)\n\tat py4j.commands.CallCommand.execute(CallCommand.java:79)\n\tat py4j.ClientServerConnection.waitForCommands(ClientServerConnection.java:182)\n\tat py4j.ClientServerConnection.run(ClientServerConnection.java:106)\n\tat java.base/java.lang.Thread.run(Thread.java:840)\n"
     ]
    }
   ],
   "source": [
    "spark.sql(\"\"\"CREATE DATABASE IF NOT EXISTS bootcamp\"\"\")\n",
    "spark.sql(\"\"\"DROP TABLE IF EXISTS bootcamp.match_details_bucketed\"\"\")\n",
    "spark.sql(\"\"\"DROP TABLE IF EXISTS bootcamp.matches_bucketed\"\"\")\n",
    "spark.sql(\"\"\"DROP TABLE IF EXISTS bootcamp.medal_matches_players_bucketed\"\"\")\n",
    "\n",
    "# Load match details from csv\n",
    "df_match_details = spark.read.option(\"header\", \"true\").csv(\"/home/iceberg/data/match_details.csv\")\n",
    "# DDL for match details\n",
    "match_details_ddl = \"\"\"\n",
    "CREATE TABLE IF NOT EXISTS bootcamp.match_details_bucketed (\n",
    "    match_id STRING,\n",
    "    player_gamertag STRING,\n",
    "    total_xp INT,\n",
    "    player_rank_on_team INT,\n",
    "    player_finished BOOLEAN,\n",
    "    player_total_kills INT,\n",
    "    player_total_deaths INT,\n",
    "    player_total_assists INT,\n",
    "    did_win INT,\n",
    "    team_id INT\n",
    ") USING iceberg\n",
    "PARTITIONED BY (bucket(16, match_id));\n",
    "\"\"\"\n",
    "spark.sql(match_details_ddl)\n",
    "df_match_details.select(\n",
    "    \"match_id\",\n",
    "    \"player_gamertag\",\n",
    "    \"total_xp\",\n",
    "    \"player_rank_on_team\",\n",
    "    \"player_finished\",\n",
    "    \"player_total_kills\",\n",
    "    \"player_total_deaths\",\n",
    "    \"player_total_assists\",\n",
    "    \"did_win\",\n",
    "    \"team_id\"\n",
    ").write.mode(\"overwrite\").bucketBy(16, \"match_id\").saveAsTable(\"bootcamp.match_details_bucketed\")\n",
    "\n",
    "# DDL for matches\n",
    "matches_ddl = \"\"\"\n",
    "CREATE TABLE IF NOT EXISTS bootcamp.matches_bucketed (\n",
    "    match_id STRING,\n",
    "    mapid STRING,\n",
    "    is_team_game BOOLEAN,\n",
    "    playlist_id STRING,\n",
    "    game_variant_id STRING,\n",
    "    game_mode STRING,\n",
    "    map_variant_id STRING\n",
    ") USING iceberg\n",
    "PARTITIONED BY (bucket(16, match_id));\n",
    "\"\"\"\n",
    "spark.sql(matches_ddl)\n",
    "df_matches.select(\n",
    "    \"match_id\",\n",
    "    \"mapid\",\n",
    "    \"is_team_game\",\n",
    "    \"playlist_id\",\n",
    "    \"game_variant_id\",\n",
    "    \"game_mode\",\n",
    "    \"map_variant_id\"\n",
    ").write.mode(\"overwrite\").bucketBy(16, \"match_id\").saveAsTable(\n",
    "    \"bootcamp.matches_bucketed\"\n",
    ")\n",
    "\n",
    "# DDL for medals, matches and players\n",
    "medal_matches_players_ddl = \"\"\"\n",
    "CREATE TABLE IF NOT EXISTS bootcamp.medal_matches_players_bucketed (\n",
    "    match_id STRING,\n",
    "    player_gamertag STRING,\n",
    "    medal_id BIGINT,\n",
    "    count INT\n",
    ") USING iceberg\n",
    "PARTITIONED BY (bucket(16, match_id));\n",
    "\"\"\"\n",
    "spark.sql(medal_matches_players_ddl)\n",
    "df_medals_matches_players.select(\n",
    "    \"match_id\",\n",
    "    \"player_gamertag\",\n",
    "    \"medal_id\",\n",
    "    \"count\"\n",
    ").write.mode(\"overwrite\").bucketBy(16, \"match_id\").saveAsTable(\n",
    "    \"bootcamp.medal_matches_players_bucketed\"\n",
    ")\n",
    "\n",
    "bucket_result = spark.sql(\"\"\"\n",
    "    SELECT\n",
    "        mdb.match_id AS match_id,\n",
    "        mdb.player_gamertag AS player_gamertag,\n",
    "        mdb.total_xp AS total_xp,\n",
    "        mdb.player_rank_on_team AS player_rank_on_team,\n",
    "        mdb.player_finished AS player_finished,\n",
    "        mdb.player_total_kills AS player_total_kills,\n",
    "        mdb.player_total_deaths AS player_total_deaths,\n",
    "        mdb.player_total_assists AS player_total_assists,\n",
    "        mdb.did_win AS did_win,\n",
    "        mdb.team_id AS team_id,\n",
    "        md.mapid AS mapid,\n",
    "        md.is_team_game AS is_team_game,\n",
    "        md.playlist_id AS playlist_id,\n",
    "        md.game_variant_id AS game_variant_id,\n",
    "        md.game_mode AS game_mode,\n",
    "        md.map_variant_id AS map_variant_id,\n",
    "        mmp.medal_id AS medal_id,\n",
    "        mmp.count AS count\n",
    "    FROM bootcamp.match_details_bucketed mdb \n",
    "    JOIN bootcamp.matches_bucketed md ON mdb.match_id = md.match_id\n",
    "    JOIN bootcamp.medal_matches_players_bucketed mmp ON mdb.match_id = mmp.match_id\n",
    "\"\"\")"
   ]
  },
  {
   "cell_type": "code",
   "execution_count": 3,
   "id": "bf12beae-699d-498d-aea2-9df3c53caa81",
   "metadata": {},
   "outputs": [
    {
     "ename": "NameError",
     "evalue": "name 'bucket_result' is not defined",
     "output_type": "error",
     "traceback": [
      "\u001b[0;31m---------------------------------------------------------------------------\u001b[0m",
      "\u001b[0;31mNameError\u001b[0m                                 Traceback (most recent call last)",
      "Cell \u001b[0;32mIn[3], line 1\u001b[0m\n\u001b[0;32m----> 1\u001b[0m \u001b[43mbucket_result\u001b[49m\u001b[38;5;241m.\u001b[39mexplain()\n",
      "\u001b[0;31mNameError\u001b[0m: name 'bucket_result' is not defined"
     ]
    }
   ],
   "source": [
    "bucket_result.explain()"
   ]
  },
  {
   "cell_type": "code",
   "execution_count": 4,
   "id": "6360bd90-2b2c-41dc-a415-1d4f186e0971",
   "metadata": {},
   "outputs": [
    {
     "name": "stderr",
     "output_type": "stream",
     "text": [
      "[Stage 28:=============================>                            (2 + 2) / 4]"
     ]
    },
    {
     "name": "stdout",
     "output_type": "stream",
     "text": [
      "+--------------------+---------------+--------+-------------------+---------------+------------------+-------------------+--------------------+-------+-------+--------------------+------------+--------------------+--------------------+---------+--------------+----------+-----+\n",
      "|            match_id|player_gamertag|total_xp|player_rank_on_team|player_finished|player_total_kills|player_total_deaths|player_total_assists|did_win|team_id|               mapid|is_team_game|         playlist_id|     game_variant_id|game_mode|map_variant_id|  medal_id|count|\n",
      "+--------------------+---------------+--------+-------------------+---------------+------------------+-------------------+--------------------+-------+-------+--------------------+------------+--------------------+--------------------+---------+--------------+----------+-----+\n",
      "|00169217-cca6-4b4...|  King Terror V| 1601153|                  1|          false|                14|                  7|                   2|      1|      1|cc040aa1-f206-11e...|        true|2323b76a-db98-4e0...|257a305e-4dd3-41f...|     NULL|          NULL|3261908037|   11|\n",
      "|00169217-cca6-4b4...|  King Terror V| 1601153|                  1|          false|                14|                  7|                   2|      1|      1|cc040aa1-f206-11e...|        true|2323b76a-db98-4e0...|257a305e-4dd3-41f...|     NULL|          NULL|3001183151|    1|\n",
      "|00169217-cca6-4b4...|  King Terror V| 1601153|                  1|          false|                14|                  7|                   2|      1|      1|cc040aa1-f206-11e...|        true|2323b76a-db98-4e0...|257a305e-4dd3-41f...|     NULL|          NULL| 824733727|    3|\n",
      "|00169217-cca6-4b4...|  King Terror V| 1601153|                  1|          false|                14|                  7|                   2|      1|      1|cc040aa1-f206-11e...|        true|2323b76a-db98-4e0...|257a305e-4dd3-41f...|     NULL|          NULL|2078758684|    3|\n",
      "|00169217-cca6-4b4...|  King Terror V| 1601153|                  1|          false|                14|                  7|                   2|      1|      1|cc040aa1-f206-11e...|        true|2323b76a-db98-4e0...|257a305e-4dd3-41f...|     NULL|          NULL|2430242797|    1|\n",
      "|00169217-cca6-4b4...|  King Terror V| 1601153|                  1|          false|                14|                  7|                   2|      1|      1|cc040aa1-f206-11e...|        true|2323b76a-db98-4e0...|257a305e-4dd3-41f...|     NULL|          NULL| 466059351|    1|\n",
      "|00169217-cca6-4b4...|  King Terror V| 1601153|                  1|          false|                14|                  7|                   2|      1|      1|cc040aa1-f206-11e...|        true|2323b76a-db98-4e0...|257a305e-4dd3-41f...|     NULL|          NULL|2782465081|    2|\n",
      "|00169217-cca6-4b4...|  King Terror V| 1601153|                  1|          false|                14|                  7|                   2|      1|      1|cc040aa1-f206-11e...|        true|2323b76a-db98-4e0...|257a305e-4dd3-41f...|     NULL|          NULL|2287626681|    1|\n",
      "|00169217-cca6-4b4...|  King Terror V| 1601153|                  1|          false|                14|                  7|                   2|      1|      1|cc040aa1-f206-11e...|        true|2323b76a-db98-4e0...|257a305e-4dd3-41f...|     NULL|          NULL|2782465081|    2|\n",
      "|00169217-cca6-4b4...|  King Terror V| 1601153|                  1|          false|                14|                  7|                   2|      1|      1|cc040aa1-f206-11e...|        true|2323b76a-db98-4e0...|257a305e-4dd3-41f...|     NULL|          NULL|3261908037|   10|\n",
      "|00169217-cca6-4b4...|  King Terror V| 1601153|                  1|          false|                14|                  7|                   2|      1|      1|cc040aa1-f206-11e...|        true|2323b76a-db98-4e0...|257a305e-4dd3-41f...|     NULL|          NULL|2287626681|    1|\n",
      "|00169217-cca6-4b4...|  King Terror V| 1601153|                  1|          false|                14|                  7|                   2|      1|      1|cc040aa1-f206-11e...|        true|2323b76a-db98-4e0...|257a305e-4dd3-41f...|     NULL|          NULL|2078758684|    1|\n",
      "|00169217-cca6-4b4...|  King Terror V| 1601153|                  1|          false|                14|                  7|                   2|      1|      1|cc040aa1-f206-11e...|        true|2323b76a-db98-4e0...|257a305e-4dd3-41f...|     NULL|          NULL| 824733727|    1|\n",
      "|00169217-cca6-4b4...|  King Terror V| 1601153|                  1|          false|                14|                  7|                   2|      1|      1|cc040aa1-f206-11e...|        true|2323b76a-db98-4e0...|257a305e-4dd3-41f...|     NULL|          NULL|3261908037|    9|\n",
      "|00169217-cca6-4b4...|  King Terror V| 1601153|                  1|          false|                14|                  7|                   2|      1|      1|cc040aa1-f206-11e...|        true|2323b76a-db98-4e0...|257a305e-4dd3-41f...|     NULL|          NULL|2782465081|    1|\n",
      "|00169217-cca6-4b4...|  King Terror V| 1601153|                  1|          false|                14|                  7|                   2|      1|      1|cc040aa1-f206-11e...|        true|2323b76a-db98-4e0...|257a305e-4dd3-41f...|     NULL|          NULL|2078758684|    1|\n",
      "|00169217-cca6-4b4...|  King Terror V| 1601153|                  1|          false|                14|                  7|                   2|      1|      1|cc040aa1-f206-11e...|        true|2323b76a-db98-4e0...|257a305e-4dd3-41f...|     NULL|          NULL|2287626681|    1|\n",
      "|00169217-cca6-4b4...|  King Terror V| 1601153|                  1|          false|                14|                  7|                   2|      1|      1|cc040aa1-f206-11e...|        true|2323b76a-db98-4e0...|257a305e-4dd3-41f...|     NULL|          NULL|3261908037|    6|\n",
      "|00169217-cca6-4b4...|  King Terror V| 1601153|                  1|          false|                14|                  7|                   2|      1|      1|cc040aa1-f206-11e...|        true|2323b76a-db98-4e0...|257a305e-4dd3-41f...|     NULL|          NULL|2782465081|    1|\n",
      "|00169217-cca6-4b4...|  King Terror V| 1601153|                  1|          false|                14|                  7|                   2|      1|      1|cc040aa1-f206-11e...|        true|2323b76a-db98-4e0...|257a305e-4dd3-41f...|     NULL|          NULL| 250435527|    1|\n",
      "+--------------------+---------------+--------+-------------------+---------------+------------------+-------------------+--------------------+-------+-------+--------------------+------------+--------------------+--------------------+---------+--------------+----------+-----+\n",
      "only showing top 20 rows\n",
      "\n"
     ]
    },
    {
     "name": "stderr",
     "output_type": "stream",
     "text": [
      "                                                                                "
     ]
    }
   ],
   "source": [
    "bucket_result.createOrReplaceTempView(\"bucket_result\")\n",
    "\n",
    "spark.sql(\"\"\"\n",
    "    SELECT * FROM bucket_result\n",
    "\"\"\").show()"
   ]
  },
  {
   "cell_type": "code",
   "execution_count": 27,
   "id": "28f10e8a-467b-4192-a6e5-8c8595005920",
   "metadata": {},
   "outputs": [
    {
     "name": "stdout",
     "output_type": "stream",
     "text": [
      "+---------------+------------------+\n",
      "|player_gamertag|avg_kills_per_game|\n",
      "+---------------+------------------+\n",
      "|   gimpinator14|             109.0|\n",
      "|  I Johann117 I|              96.0|\n",
      "|BudgetLegendary|              83.0|\n",
      "|      GsFurreal|              75.0|\n",
      "|   TameablePoet| 74.22429906542057|\n",
      "|   Sexy is Back|              73.0|\n",
      "|   killerguy789|              68.0|\n",
      "|THC GUILTYSPARK|              67.0|\n",
      "|    HisLattice1|              66.0|\n",
      "|PrimePromethean|              66.0|\n",
      "|     Profit TKO| 64.38181818181818|\n",
      "|     taurenmonk|              64.0|\n",
      "|  DBossCnDTEXAS| 63.47586206896552|\n",
      "|   Dinosaur B0B|              63.0|\n",
      "|WhiteMountainDC|              63.0|\n",
      "|        Darugis|              62.0|\n",
      "|     MONKEYBAKE|              62.0|\n",
      "|       BlightNB|              62.0|\n",
      "|    ManicZ0mb1e|              61.0|\n",
      "|Lord Leonidamir|              60.0|\n",
      "+---------------+------------------+\n",
      "only showing top 20 rows\n",
      "\n"
     ]
    }
   ],
   "source": [
    "# - Which player averages the most kills per game?\n",
    "spark.sql(\"\"\"\n",
    "    SELECT\n",
    "        player_gamertag,\n",
    "        COUNT(1) AS num_\n",
    "        AVG(player_total_kills) AS avg_kills_per_game\n",
    "    FROM bucket_result\n",
    "    GROUP BY player_gamertag\n",
    "    ORDER BY avg_kills_per_game DESC\n",
    "\"\"\").show()"
   ]
  },
  {
   "cell_type": "code",
   "execution_count": 6,
   "id": "7991ab7e-4f02-43b3-9185-19aae5ed03f6",
   "metadata": {},
   "outputs": [
    {
     "name": "stdout",
     "output_type": "stream",
     "text": [
      "+--------------------+-------+\n",
      "|         playlist_id|  count|\n",
      "+--------------------+-------+\n",
      "|f72e0ef0-7c4a-430...|1565529|\n",
      "|780cc101-005c-4fc...|1116002|\n",
      "|0bcf2be1-3168-4e4...|1015496|\n",
      "|c98949ae-60a8-43d...| 824932|\n",
      "|2323b76a-db98-4e0...| 692342|\n",
      "|892189e9-d712-4bd...| 667670|\n",
      "|f27a65eb-2d11-496...| 167498|\n",
      "|355dc154-9809-4ed...| 140006|\n",
      "|d0766624-dbd7-453...| 138470|\n",
      "|bc0f8ad6-31e6-4a1...| 111073|\n",
      "|7b7e892c-d9b7-4b0...|  82723|\n",
      "|7385b4a1-86bf-4ae...|  76425|\n",
      "|f0c9ef9a-48bd-4b2...|  47813|\n",
      "|b5d5a242-ffa5-4d8...|  46411|\n",
      "|819eb188-1a1c-48b...|  39404|\n",
      "|d21c8381-26f1-4d6...|  37049|\n",
      "|4b12472e-2a06-423...|  28733|\n",
      "|5728f612-3f20-445...|  28543|\n",
      "|0504ca3c-de41-48f...|  22502|\n",
      "|88b7de19-113c-4be...|  15860|\n",
      "+--------------------+-------+\n",
      "only showing top 20 rows\n",
      "\n"
     ]
    }
   ],
   "source": [
    "# - Which playlist gets played the most?\n",
    "spark.sql(\"\"\"\n",
    "    SELECT\n",
    "        playlist_id,\n",
    "        COUNT(1) AS count\n",
    "    FROM bucket_result\n",
    "    GROUP BY playlist_id\n",
    "    ORDER BY count DESC\n",
    "\"\"\").show()"
   ]
  },
  {
   "cell_type": "code",
   "execution_count": 7,
   "id": "176c8d24-8625-465d-a6bb-3ff6d67810b4",
   "metadata": {},
   "outputs": [
    {
     "name": "stdout",
     "output_type": "stream",
     "text": [
      "+--------------------+-----------+\n",
      "|               mapid|plays_count|\n",
      "+--------------------+-----------+\n",
      "|c74c9d0f-f206-11e...|    1445545|\n",
      "|c7edbf0f-f206-11e...|    1435048|\n",
      "|c7805740-f206-11e...|     953278|\n",
      "|cdb934b0-f206-11e...|     396305|\n",
      "|cb914b9e-f206-11e...|     309045|\n",
      "|ce1dc2de-f206-11e...|     299736|\n",
      "|cebd854f-f206-11e...|     298891|\n",
      "|caacb800-f206-11e...|     291540|\n",
      "|cd844200-f206-11e...|     261162|\n",
      "|cc040aa1-f206-11e...|     256966|\n",
      "|cdee4e70-f206-11e...|     244295|\n",
      "|c7b7baf0-f206-11e...|     204568|\n",
      "|ca737f8f-f206-11e...|     156631|\n",
      "|cbcea2c0-f206-11e...|     135375|\n",
      "|cc74f4e1-f206-11e...|     132392|\n",
      "|ce89a40f-f206-11e...|      65081|\n",
      "+--------------------+-----------+\n",
      "\n"
     ]
    }
   ],
   "source": [
    "# - Which map gets played the most?\n",
    "spark.sql(\"\"\"\n",
    "    SELECT\n",
    "        mapid,\n",
    "        COUNT(1) AS plays_count\n",
    "    FROM bucket_result\n",
    "    GROUP BY mapid\n",
    "    ORDER BY plays_count DESC\n",
    "\"\"\").show()"
   ]
  },
  {
   "cell_type": "code",
   "execution_count": 8,
   "id": "269b2831-a753-4779-96a8-174879816f16",
   "metadata": {},
   "outputs": [
    {
     "name": "stderr",
     "output_type": "stream",
     "text": [
      "25/07/01 13:30:31 WARN DataSourceV2Strategy: Can't translate true to source filter, unsupported expression\n"
     ]
    },
    {
     "name": "stdout",
     "output_type": "stream",
     "text": [
      "+--------------------+-----------+\n",
      "|               mapid|spree_count|\n",
      "+--------------------+-----------+\n",
      "|c74c9d0f-f206-11e...|    71863.0|\n",
      "|c7edbf0f-f206-11e...|    51973.0|\n",
      "|c7805740-f206-11e...|    46833.0|\n",
      "|cdb934b0-f206-11e...|    16860.0|\n",
      "|ce1dc2de-f206-11e...|    15509.0|\n",
      "|cb914b9e-f206-11e...|    14962.0|\n",
      "|cebd854f-f206-11e...|    14777.0|\n",
      "|caacb800-f206-11e...|    14380.0|\n",
      "|cd844200-f206-11e...|    13382.0|\n",
      "|cdee4e70-f206-11e...|    13208.0|\n",
      "|cc040aa1-f206-11e...|    12579.0|\n",
      "|c7b7baf0-f206-11e...|    10076.0|\n",
      "|ca737f8f-f206-11e...|     7691.0|\n",
      "|cc74f4e1-f206-11e...|     7138.0|\n",
      "|cbcea2c0-f206-11e...|     6899.0|\n",
      "|ce89a40f-f206-11e...|     2640.0|\n",
      "+--------------------+-----------+\n",
      "\n"
     ]
    }
   ],
   "source": [
    "# - Which map do players get the most Killing Spree medals on?\n",
    "spark.sql(\"\"\"\n",
    "    SELECT\n",
    "        mapid,\n",
    "        SUM(count) AS spree_count\n",
    "    FROM bucket_result\n",
    "    WHERE medal_id = 2430242797\n",
    "    GROUP BY mapid\n",
    "    ORDER BY spree_count DESC\n",
    "\"\"\").show()"
   ]
  },
  {
   "cell_type": "code",
   "execution_count": 24,
   "id": "bf6f3655-d993-4753-b597-1f36bf392a6f",
   "metadata": {},
   "outputs": [
    {
     "name": "stderr",
     "output_type": "stream",
     "text": [
      "                                                                                "
     ]
    },
    {
     "name": "stdout",
     "output_type": "stream",
     "text": [
      "+--------+---------+\n",
      "|    size|num_files|\n",
      "+--------+---------+\n",
      "|15561528|       10|\n",
      "+--------+---------+\n",
      "\n"
     ]
    }
   ],
   "source": [
    "# Task 5 - With the aggregated data set; try different `.sortWithinPartitions` to see which has the smallest data size (hint: playlists and maps are both very low cardinality)\n",
    "sorted_bucket_result = bucket_result.repartition(10, col(\"match_id\")).sortWithinPartitions(col(\"playlist_id\"), col(\"mapid\"), col(\"game_variant_id\"), col(\"team_id\"))\n",
    "sorted_bucket_result.write.mode(\"overwrite\").saveAsTable(\"bootcamp.sorted_bucket_result\")\n",
    "spark.sql(\"\"\"\n",
    "    SELECT\n",
    "        SUM(file_size_in_bytes) AS size,\n",
    "        COUNT(1) AS num_files\n",
    "    FROM bootcamp.sorted_bucket_result.files\n",
    "\"\"\").show()"
   ]
  },
  {
   "cell_type": "code",
   "execution_count": 10,
   "id": "38c1801c-42e1-4e05-bc6c-6eabd025e628",
   "metadata": {},
   "outputs": [
    {
     "data": {
      "text/plain": [
       "(Column<'(15688851 - playlist_id)'>, Column<'mapid'>)"
      ]
     },
     "execution_count": 10,
     "metadata": {},
     "output_type": "execute_result"
    }
   ],
   "source": [
    "15561528 - col(\"playlist_id\"), col(\"mapid\"), col(\"game_variant_id\"), col(\"team_id\")\n",
    "15636964 - col(\"playlist_id\"), col(\"mapid\"), col(\"team_id\"), col(\"game_variant_id\")\n",
    "15688851 - col(\"playlist_id\"), col(\"mapid\")\n",
    "15817563 - col(\"mapid\"), col(\"playlist_id\"), col(\"game_variant_id\")\n",
    "15876151 - col(\"mapid\"), col(\"game_variant_id\"), col(\"playlist_id\")\n",
    "15881785 - col(\"game_variant_id\"), col(\"playlist_id\"), col(\"mapid\")\n",
    "16042944 - col(\"team_id\"), col(\"game_variant_id\"), col(\"playlist_id\"), col(\"mapid\")"
   ]
  },
  {
   "cell_type": "code",
   "execution_count": 21,
   "id": "666ff4f7-06bf-4be2-ba3e-ca9e058b6a58",
   "metadata": {},
   "outputs": [
    {
     "name": "stderr",
     "output_type": "stream",
     "text": [
      "[Stage 217:>                                                      (0 + 10) / 10]"
     ]
    },
    {
     "name": "stdout",
     "output_type": "stream",
     "text": [
      "+-------+-----+-----------+---------------+--------------+--------+\n",
      "|team_id|mapid|playlist_id|game_variant_id|map_variant_id|medal_id|\n",
      "+-------+-----+-----------+---------------+--------------+--------+\n",
      "|      8|   16|         23|              9|           584|     142|\n",
      "+-------+-----+-----------+---------------+--------------+--------+\n",
      "\n"
     ]
    },
    {
     "name": "stderr",
     "output_type": "stream",
     "text": [
      "                                                                                "
     ]
    }
   ],
   "source": [
    "spark.sql(\"\"\"\n",
    "    SELECT\n",
    "        COUNT(DISTINCT team_id) AS team_id,\n",
    "        COUNT(DISTINCT mapid) AS mapid,\n",
    "        COUNT(DISTINCT playlist_id) AS playlist_id,\n",
    "        COUNT(DISTINCT game_variant_id) AS game_variant_id,\n",
    "        COUNT(DISTINCT map_variant_id) AS map_variant_id,\n",
    "        COUNT(DISTINCT medal_id) AS medal_id\n",
    "    FROM bucket_result\n",
    "\"\"\").show()"
   ]
  },
  {
   "cell_type": "code",
   "execution_count": null,
   "id": "50d16b19-31e3-409c-b93d-252213411b1d",
   "metadata": {},
   "outputs": [],
   "source": []
  }
 ],
 "metadata": {
  "kernelspec": {
   "display_name": "Python 3 (ipykernel)",
   "language": "python",
   "name": "python3"
  },
  "language_info": {
   "codemirror_mode": {
    "name": "ipython",
    "version": 3
   },
   "file_extension": ".py",
   "mimetype": "text/x-python",
   "name": "python",
   "nbconvert_exporter": "python",
   "pygments_lexer": "ipython3",
   "version": "3.10.16"
  }
 },
 "nbformat": 4,
 "nbformat_minor": 5
}
