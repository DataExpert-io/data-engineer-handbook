{
 "cells": [
  {
   "cell_type": "markdown",
   "id": "970275c6-f9b1-401f-ae18-ce6823cc4771",
   "metadata": {},
   "source": [
    "### Giving more resources to SPARK"
   ]
  },
  {
   "cell_type": "code",
   "execution_count": 1,
   "id": "678c8ea9-03b2-4c7e-9773-30d9d5443bb4",
   "metadata": {},
   "outputs": [
    {
     "data": {
      "text/plain": [
       "Intitializing Scala interpreter ..."
      ]
     },
     "metadata": {},
     "output_type": "display_data"
    },
    {
     "data": {
      "text/plain": [
       "Spark Web UI available at http://d772c787a954:4041\n",
       "SparkContext available as 'sc' (version = 3.5.1, master = local[*], app id = local-1734576327409)\n",
       "SparkSession available as 'spark'\n"
      ]
     },
     "metadata": {},
     "output_type": "display_data"
    },
    {
     "data": {
      "text/plain": [
       "import org.apache.spark.sql.SparkSession\n",
       "import org.apache.spark.sql.functions.col\n",
       "import org.apache.spark.storage.StorageLevel\n",
       "spark: org.apache.spark.sql.SparkSession = org.apache.spark.sql.SparkSession@73d0495\n"
      ]
     },
     "execution_count": 1,
     "metadata": {},
     "output_type": "execute_result"
    }
   ],
   "source": [
    "import org.apache.spark.sql.SparkSession\n",
    "import org.apache.spark.sql.functions.{col}\n",
    "import org.apache.spark.storage.StorageLevel\n",
    "\n",
    "val spark = SparkSession.builder()\n",
    "  .appName(\"IcebergTableManagement\") \n",
    "  .config(\"spark.executor.memory\", \"32g\")\n",
    "  .config(\"spark.driver.memory\", \"32g\")\n",
    "  .config(\"spark.sql.shuffle.partitions\", \"200\") // Fine for large datasets\n",
    "  .config(\"spark.sql.files.maxPartitionBytes\", \"134217728\") // Optional: 128 MB is default\n",
    "  .config(\"spark.sql.autoBroadcastJoinThreshold\", \"-1\") // Optional: Disable broadcast join\n",
    "  .config(\"spark.dynamicAllocation.enabled\", \"true\") // Helps with resource allocation\n",
    "  .config(\"spark.dynamicAllocation.minExecutors\", \"1\") // Ensure minimum resources\n",
    "  .config(\"spark.dynamicAllocation.maxExecutors\", \"50\") // Scalable resource allocation\n",
    "  .getOrCreate()"
   ]
  },
  {
   "cell_type": "markdown",
   "id": "93497a33-06bd-46fd-b9bd-76dad95ec182",
   "metadata": {},
   "source": [
    "### Loading Data"
   ]
  },
  {
   "cell_type": "code",
   "execution_count": 62,
   "id": "596b9188-ab6d-4550-bfbe-748f69e5ef81",
   "metadata": {},
   "outputs": [
    {
     "data": {
      "text/plain": [
       "import org.apache.spark.sql.functions.{broadcast, split, lit}\n",
       "matchesBucketed: org.apache.spark.sql.DataFrame = [match_id: string, mapid: string ... 8 more fields]\n",
       "matchDetailsBucketed: org.apache.spark.sql.DataFrame = [match_id: string, player_gamertag: string ... 34 more fields]\n"
      ]
     },
     "execution_count": 62,
     "metadata": {},
     "output_type": "execute_result"
    }
   ],
   "source": [
    "// In python use: from pyspark.sql.functions import broadcast, split, lit\n",
    "import org.apache.spark.sql.functions.{broadcast, split, lit}\n",
    "\n",
    "\n",
    "val matchesBucketed = spark.read.option(\"header\", \"true\")\n",
    "                        .option(\"inferSchema\", \"true\")\n",
    "                        .csv(\"/home/iceberg/data/matches.csv\")\n",
    "                        \n",
    "val matchDetailsBucketed =  spark.read.option(\"header\", \"true\")\n",
    "                        .option(\"inferSchema\", \"true\")\n",
    "                        .csv(\"/home/iceberg/data/match_details.csv\")"
   ]
  },
  {
   "cell_type": "code",
   "execution_count": 63,
   "id": "9eafc6a3-2427-436c-9952-504dcb565c98",
   "metadata": {},
   "outputs": [
    {
     "name": "stdout",
     "output_type": "stream",
     "text": [
      "+--------------------+------------+--------------------+-------------------+\n",
      "|            match_id|is_team_game|         playlist_id|    completion_date|\n",
      "+--------------------+------------+--------------------+-------------------+\n",
      "|11de1a94-8d07-416...|        true|f72e0ef0-7c4a-430...|2016-02-22 00:00:00|\n",
      "|d3643e71-3e51-43e...|       false|d0766624-dbd7-453...|2016-02-14 00:00:00|\n",
      "|d78d2aae-36e4-48a...|        true|f72e0ef0-7c4a-430...|2016-03-24 00:00:00|\n",
      "|b440069e-ec5f-4f5...|        true|f72e0ef0-7c4a-430...|2015-12-23 00:00:00|\n",
      "|1dd475fc-ee6b-4e1...|        true|0e39ead4-383b-445...|2016-04-07 00:00:00|\n",
      "+--------------------+------------+--------------------+-------------------+\n",
      "only showing top 5 rows\n",
      "\n"
     ]
    },
    {
     "data": {
      "text/plain": [
       "res41: Long = 24025\n"
      ]
     },
     "execution_count": 63,
     "metadata": {},
     "output_type": "execute_result"
    }
   ],
   "source": [
    "matchesBucketed.select($\"match_id\", $\"is_team_game\", $\"playlist_id\", $\"completion_date\").show(5)\n",
    "matchesBucketed.count()"
   ]
  },
  {
   "cell_type": "code",
   "execution_count": 64,
   "id": "04af2b67-fce6-49fa-ab06-e6e489186fdd",
   "metadata": {},
   "outputs": [
    {
     "name": "stdout",
     "output_type": "stream",
     "text": [
      "+--------------------+---------------+------------------+-------------------+\n",
      "|            match_id|player_gamertag|player_total_kills|player_total_deaths|\n",
      "+--------------------+---------------+------------------+-------------------+\n",
      "|71d79b23-4143-435...|      taterbase|                 6|                 13|\n",
      "|71d79b23-4143-435...| SuPeRSaYaInG0D|                 7|                 18|\n",
      "|71d79b23-4143-435...|       EcZachly|                12|                 10|\n",
      "|71d79b23-4143-435...|    johnsnake04|                13|                  9|\n",
      "|71d79b23-4143-435...| Super Mac Bros|                13|                 15|\n",
      "+--------------------+---------------+------------------+-------------------+\n",
      "only showing top 5 rows\n",
      "\n"
     ]
    },
    {
     "data": {
      "text/plain": [
       "res42: Long = 151761\n"
      ]
     },
     "execution_count": 64,
     "metadata": {},
     "output_type": "execute_result"
    }
   ],
   "source": [
    "matchDetailsBucketed.select($\"match_id\", $\"player_gamertag\", $\"player_total_kills\", $\"player_total_deaths\").show(5)\n",
    "matchDetailsBucketed.count()"
   ]
  },
  {
   "cell_type": "code",
   "execution_count": 65,
   "id": "9b382e22-529e-4441-bfc7-949a00f9c5b7",
   "metadata": {},
   "outputs": [
    {
     "data": {
      "text/plain": [
       "res43: org.apache.spark.sql.DataFrame = [summary: string, match_id: string ... 3 more fields]\n"
      ]
     },
     "execution_count": 65,
     "metadata": {},
     "output_type": "execute_result"
    }
   ],
   "source": [
    "matchDetailsBucketed.select($\"match_id\", $\"player_gamertag\", $\"player_total_kills\", $\"player_total_deaths\").describe()"
   ]
  },
  {
   "cell_type": "code",
   "execution_count": 66,
   "id": "94cbc8ef-ce3b-4eb9-a435-1dfe2602d789",
   "metadata": {},
   "outputs": [
    {
     "data": {
      "text/plain": [
       "matches: org.apache.spark.sql.DataFrame = [match_id: string, is_team_game: boolean ... 2 more fields]\n",
       "matchDetails: org.apache.spark.sql.DataFrame = [match_id: string, player_gamertag: string ... 2 more fields]\n"
      ]
     },
     "execution_count": 66,
     "metadata": {},
     "output_type": "execute_result"
    }
   ],
   "source": [
    "val matches = matchesBucketed.select($\"match_id\", $\"is_team_game\", $\"playlist_id\", $\"completion_date\")\n",
    "val matchDetails = matchDetailsBucketed.select($\"match_id\", $\"player_gamertag\", $\"player_total_kills\", $\"player_total_deaths\")"
   ]
  },
  {
   "cell_type": "code",
   "execution_count": 67,
   "id": "6ffe323c-8d5a-4365-bef7-36cf27522fb3",
   "metadata": {},
   "outputs": [
    {
     "name": "stdout",
     "output_type": "stream",
     "text": [
      "+--------------------+------------+--------------------+-------------------+\n",
      "|            match_id|is_team_game|         playlist_id|    completion_date|\n",
      "+--------------------+------------+--------------------+-------------------+\n",
      "|11de1a94-8d07-416...|        true|f72e0ef0-7c4a-430...|2016-02-22 00:00:00|\n",
      "|d3643e71-3e51-43e...|       false|d0766624-dbd7-453...|2016-02-14 00:00:00|\n",
      "|d78d2aae-36e4-48a...|        true|f72e0ef0-7c4a-430...|2016-03-24 00:00:00|\n",
      "|b440069e-ec5f-4f5...|        true|f72e0ef0-7c4a-430...|2015-12-23 00:00:00|\n",
      "|1dd475fc-ee6b-4e1...|        true|0e39ead4-383b-445...|2016-04-07 00:00:00|\n",
      "+--------------------+------------+--------------------+-------------------+\n",
      "only showing top 5 rows\n",
      "\n",
      "+--------------------+---------------+------------------+-------------------+\n",
      "|            match_id|player_gamertag|player_total_kills|player_total_deaths|\n",
      "+--------------------+---------------+------------------+-------------------+\n",
      "|71d79b23-4143-435...|      taterbase|                 6|                 13|\n",
      "|71d79b23-4143-435...| SuPeRSaYaInG0D|                 7|                 18|\n",
      "|71d79b23-4143-435...|       EcZachly|                12|                 10|\n",
      "|71d79b23-4143-435...|    johnsnake04|                13|                  9|\n",
      "|71d79b23-4143-435...| Super Mac Bros|                13|                 15|\n",
      "+--------------------+---------------+------------------+-------------------+\n",
      "only showing top 5 rows\n",
      "\n"
     ]
    }
   ],
   "source": [
    "matches.show(5)\n",
    "matchDetails.show(5)"
   ]
  },
  {
   "cell_type": "markdown",
   "id": "9deedeef-8157-4a05-a6ce-36200c0b6954",
   "metadata": {},
   "source": [
    "### Loading data from CSV -> Iceberg Table with buckets"
   ]
  },
  {
   "cell_type": "markdown",
   "id": "22e65974-82e0-434f-a0d3-50f42e952a7d",
   "metadata": {},
   "source": [
    "**Table 1 - Matches**"
   ]
  },
  {
   "cell_type": "code",
   "execution_count": 5,
   "id": "cc0312ff-aab6-40ca-8bf4-b7a628fdc4e9",
   "metadata": {},
   "outputs": [
    {
     "data": {
      "text/plain": [
       "res2: org.apache.spark.sql.DataFrame = []\n"
      ]
     },
     "execution_count": 5,
     "metadata": {},
     "output_type": "execute_result"
    }
   ],
   "source": [
    "spark.sql(\"\"\"DROP TABLE IF EXISTS bootcamp.matches_bucketed;\"\"\")"
   ]
  },
  {
   "cell_type": "code",
   "execution_count": 6,
   "id": "da358566-1f8e-4e5d-b142-3de3d2219963",
   "metadata": {},
   "outputs": [
    {
     "data": {
      "text/plain": [
       "bucketedDDL: String =\n",
       "\"\n",
       "CREATE TABLE IF NOT EXISTS bootcamp.matches_bucketed (\n",
       "     match_id STRING,\n",
       "     is_team_game BOOLEAN,\n",
       "     playlist_id STRING,\n",
       "     completion_date TIMESTAMP\n",
       " )\n",
       " USING iceberg\n",
       " PARTITIONED BY (completion_date, bucket(16, match_id));\n",
       " \"\n",
       "res3: org.apache.spark.sql.DataFrame = []\n"
      ]
     },
     "execution_count": 6,
     "metadata": {},
     "output_type": "execute_result"
    }
   ],
   "source": [
    "val bucketedDDL = \"\"\"\n",
    "CREATE TABLE IF NOT EXISTS bootcamp.matches_bucketed (\n",
    "     match_id STRING,\n",
    "     is_team_game BOOLEAN,\n",
    "     playlist_id STRING,\n",
    "     completion_date TIMESTAMP\n",
    " )\n",
    " USING iceberg\n",
    " PARTITIONED BY (completion_date, bucket(16, match_id));\n",
    " \"\"\"\n",
    "spark.sql(bucketedDDL)"
   ]
  },
  {
   "cell_type": "markdown",
   "id": "440f5148-8a30-4cef-afdc-5e1cfb3b4f14",
   "metadata": {},
   "source": [
    "**Directly trying to save does not work!**"
   ]
  },
  {
   "cell_type": "code",
   "execution_count": 7,
   "id": "305013f6-dcab-4b77-9fe5-ec3e767aa0f1",
   "metadata": {},
   "outputs": [],
   "source": [
    "//matchesBucketed.select($\"match_id\", $\"is_team_game\", $\"playlist_id\", $\"completion_date\")\n",
    "//.write.mode(\"append\")\n",
    "//.partitionBy(\"completion_date\")\n",
    "//.bucketBy(4, \"match_id\")\n",
    "//.saveAsTable(\"bootcamp.matches_bucketed\")"
   ]
  },
  {
   "cell_type": "markdown",
   "id": "355243f4-f88f-4351-a6dc-50051f95c3cb",
   "metadata": {},
   "source": [
    "**Processing in Batches**"
   ]
  },
  {
   "cell_type": "code",
   "execution_count": 8,
   "id": "5c387f1c-3fe2-4499-b412-f502539fb340",
   "metadata": {},
   "outputs": [
    {
     "data": {
      "text/plain": [
       "distinctDates: Array[org.apache.spark.sql.Row] = Array([2016-03-13 00:00:00.0], [2016-03-11 00:00:00.0], [2016-03-10 00:00:00.0], [2016-01-30 00:00:00.0], [2016-03-27 00:00:00.0], [2016-04-10 00:00:00.0], [2016-01-18 00:00:00.0], [2016-02-01 00:00:00.0], [2015-12-14 00:00:00.0], [2016-02-03 00:00:00.0], [2016-04-30 00:00:00.0], [2016-03-05 00:00:00.0], [2016-04-15 00:00:00.0], [2016-05-21 00:00:00.0], [2015-10-31 00:00:00.0], [2016-01-22 00:00:00.0], [2016-02-09 00:00:00.0], [2016-03-17 00:00:00.0], [2016-04-04 00:00:00.0], [2016-05-08 00:00:00.0], [2016-01-21 00:00:00.0], [2015-10-28 00:00:00.0], [2016-03-30 00:00:00.0], [2016-05-03 00:00:00.0], [2016-02-04 00:00:00.0], [2015-11-25 00:00:00.0], [2016-01-13 00:00:00.0], [2016-04-29 00:00:00.0], [2016-05-18 00:00:00.0], [2016-03-24 00:00...\n"
      ]
     },
     "execution_count": 8,
     "metadata": {},
     "output_type": "execute_result"
    }
   ],
   "source": [
    "// Get distinct completion dates\n",
    "val distinctDates = matchesBucketed.select(\"completion_date\").distinct().collect()"
   ]
  },
  {
   "cell_type": "code",
   "execution_count": 9,
   "id": "577b60c2-d395-4483-92b4-24a36bcbc8ed",
   "metadata": {},
   "outputs": [],
   "source": [
    "// Process data in chunks based on completion_date\n",
    "distinctDates.foreach { row =>\n",
    "  val date = row.getAs[java.sql.Timestamp](\"completion_date\")\n",
    "  val filteredMatches = matchesBucketed.filter(col(\"completion_date\") === date)\n",
    "  \n",
    "  // Repartition and persist the filtered data\n",
    "  val optimizedMatches = filteredMatches\n",
    "    .select($\"match_id\", $\"is_team_game\", $\"playlist_id\", $\"completion_date\")\n",
    "    .repartition(16, $\"match_id\")\n",
    "    .persist(StorageLevel.MEMORY_AND_DISK)\n",
    "    \n",
    "  optimizedMatches.write\n",
    "    .mode(\"append\")\n",
    "    .bucketBy(16, \"match_id\")\n",
    "    .partitionBy(\"completion_date\")\n",
    "    .saveAsTable(\"bootcamp.matches_bucketed\")\n",
    "}"
   ]
  },
  {
   "cell_type": "code",
   "execution_count": 10,
   "id": "c15599ae-f84e-4f10-a1f8-5d0df99637e4",
   "metadata": {},
   "outputs": [
    {
     "name": "stdout",
     "output_type": "stream",
     "text": [
      "+--------------------+------------+--------------------+-------------------+\n",
      "|            match_id|is_team_game|         playlist_id|    completion_date|\n",
      "+--------------------+------------+--------------------+-------------------+\n",
      "|faf37c7f-3f3a-4f0...|        true|b617e24f-71aa-432...|2016-05-16 00:00:00|\n",
      "|cbb50ffc-714d-438...|       false|d0766624-dbd7-453...|2016-09-26 00:00:00|\n",
      "|d6aea3be-8d6f-408...|        true|2323b76a-db98-4e0...|2016-08-13 00:00:00|\n",
      "|9be0f082-b7fa-47f...|        true|892189e9-d712-4bd...|2015-11-12 00:00:00|\n",
      "|4a7fcf11-1d90-4c9...|        true|2323b76a-db98-4e0...|2016-09-22 00:00:00|\n",
      "+--------------------+------------+--------------------+-------------------+\n",
      "only showing top 5 rows\n",
      "\n"
     ]
    }
   ],
   "source": [
    "// Verify the data in the table\n",
    "spark.sql(\"SELECT * FROM bootcamp.matches_bucketed\").show(5)"
   ]
  },
  {
   "cell_type": "code",
   "execution_count": 11,
   "id": "beac45af-7755-4195-9cd7-59a1d4de5934",
   "metadata": {},
   "outputs": [
    {
     "name": "stdout",
     "output_type": "stream",
     "text": [
      "+---------+\n",
      "|num_files|\n",
      "+---------+\n",
      "|     3665|\n",
      "+---------+\n",
      "\n"
     ]
    }
   ],
   "source": [
    "// Verify number of files\n",
    "spark.sql(\"SELECT COUNT(1) as num_files FROM bootcamp.matches_bucketed.files\").show()"
   ]
  },
  {
   "cell_type": "markdown",
   "id": "0af254c8-8539-46f6-a94b-79820d2fbf70",
   "metadata": {},
   "source": [
    "**Table 2 - Match Details**"
   ]
  },
  {
   "cell_type": "code",
   "execution_count": 12,
   "id": "0f0b5f60-965b-431d-93c8-d2714098552c",
   "metadata": {},
   "outputs": [
    {
     "data": {
      "text/plain": [
       "res8: org.apache.spark.sql.DataFrame = []\n"
      ]
     },
     "execution_count": 12,
     "metadata": {},
     "output_type": "execute_result"
    }
   ],
   "source": [
    "spark.sql(\"\"\"DROP TABLE IF EXISTS bootcamp.match_details_bucketed;\"\"\")"
   ]
  },
  {
   "cell_type": "code",
   "execution_count": 13,
   "id": "b279c388-ea54-4c97-a14e-736e5aebb57e",
   "metadata": {},
   "outputs": [
    {
     "data": {
      "text/plain": [
       "bucketedDetailsDDL: String =\n",
       "\"\n",
       "CREATE TABLE IF NOT EXISTS bootcamp.match_details_bucketed (\n",
       "     match_id STRING,\n",
       "     player_gamertag STRING,\n",
       "     player_total_kills INTEGER,\n",
       "     player_total_deaths INTEGER\n",
       ")\n",
       "USING iceberg\n",
       "PARTITIONED BY (bucket(16, match_id));\n",
       "\"\n",
       "res9: org.apache.spark.sql.DataFrame = []\n"
      ]
     },
     "execution_count": 13,
     "metadata": {},
     "output_type": "execute_result"
    }
   ],
   "source": [
    "val bucketedDetailsDDL = \"\"\"\n",
    "CREATE TABLE IF NOT EXISTS bootcamp.match_details_bucketed (\n",
    "     match_id STRING,\n",
    "     player_gamertag STRING,\n",
    "     player_total_kills INTEGER,\n",
    "     player_total_deaths INTEGER\n",
    ")\n",
    "USING iceberg\n",
    "PARTITIONED BY (bucket(16, match_id));\n",
    "\"\"\"\n",
    "spark.sql(bucketedDetailsDDL)\n"
   ]
  },
  {
   "cell_type": "code",
   "execution_count": 53,
   "id": "cc72b083-df90-48a5-8b61-c951666b13e8",
   "metadata": {},
   "outputs": [],
   "source": [
    "//matchDetailsBucketed.select($\"match_id\", $\"player_gamertag\", $\"player_total_kills\", $\"player_total_deaths\")\n",
    "//.write.mode(\"append\")\n",
    "//.bucketBy(16, \"match_id\").saveAsTable(\"bootcamp.match_details_bucketed\")"
   ]
  },
  {
   "cell_type": "code",
   "execution_count": 45,
   "id": "c017e9b7-1bc1-46d1-aa04-2e5ddc849155",
   "metadata": {},
   "outputs": [
    {
     "data": {
      "text/plain": [
       "someField: Array[org.apache.spark.sql.Row] = Array([31], [34], [28], [27], [26], [44], [12], [22], [47], [1], [13], [6], [16], [3], [20], [57], [48], [5], [19], [64], [41], [15], [37], [9], [17], [35], [4], [8], [23], [39], [7], [10], [50], [45], [38], [25], [24], [29], [21], [32], [11], [33], [14], [42], [2], [30], [46], [0], [18], [36], [52], [40], [94], [54], [43], [61], [59], [49], [51], [63], [82], [62], [60], [75], [109], [58], [83], [67], [69], [56], [71], [53], [76], [96], [55], [73], [90], [66], [65], [68])\n"
      ]
     },
     "execution_count": 45,
     "metadata": {},
     "output_type": "execute_result"
    }
   ],
   "source": [
    "val someField = matchDetails.select(\"player_total_kills\").distinct().collect()"
   ]
  },
  {
   "cell_type": "code",
   "execution_count": 52,
   "id": "5f718dc1-4a4a-4b35-a23b-93af3d04de5c",
   "metadata": {},
   "outputs": [],
   "source": [
    "// Process data in chunks based on completion_date\n",
    "someField.foreach { row =>\n",
    "  val fieldValue = row.getAs[Int](\"player_total_kills\") \n",
    "  val filteredData = matchDetailsBucketed.filter(col(\"player_total_kills\") === fieldValue)\n",
    "\n",
    "  // Repartition and persist the filtered data\n",
    "  val optimizedData = filteredData\n",
    "    .select($\"match_id\", $\"player_gamertag\", $\"player_total_kills\", $\"player_total_deaths\")\n",
    "    .repartition(16, $\"match_id\")\n",
    "    .persist(StorageLevel.MEMORY_AND_DISK)\n",
    "    \n",
    "  optimizedData.write\n",
    "    .mode(\"append\")\n",
    "    .bucketBy(16, \"match_id\")\n",
    "    //.partitionBy(\"completion_date\")\n",
    "    .saveAsTable(\"bootcamp.match_details_bucketed\")\n",
    "}"
   ]
  },
  {
   "cell_type": "code",
   "execution_count": 54,
   "id": "32c996c0-3151-466f-9d33-a57e896ee591",
   "metadata": {},
   "outputs": [
    {
     "name": "stdout",
     "output_type": "stream",
     "text": [
      "== Physical Plan ==\n",
      "AdaptiveSparkPlan isFinalPlan=false\n",
      "+- SortMergeJoin [match_id#48578], [match_id#48582], Inner\n",
      "   :- Sort [match_id#48578 ASC NULLS FIRST], false, 0\n",
      "   :  +- Exchange hashpartitioning(match_id#48578, 200), ENSURE_REQUIREMENTS, [plan_id=21199]\n",
      "   :     +- BatchScan demo.bootcamp.match_details_bucketed[match_id#48578, player_gamertag#48579, player_total_kills#48580, player_total_deaths#48581] demo.bootcamp.match_details_bucketed (branch=null) [filters=match_id IS NOT NULL, groupedBy=] RuntimeFilters: []\n",
      "   +- Sort [match_id#48582 ASC NULLS FIRST], false, 0\n",
      "      +- Exchange hashpartitioning(match_id#48582, 200), ENSURE_REQUIREMENTS, [plan_id=21200]\n",
      "         +- BatchScan demo.bootcamp.matches_bucketed[match_id#48582, is_team_game#48583, playlist_id#48584, completion_date#48585] demo.bootcamp.matches_bucketed (branch=null) [filters=completion_date IS NOT NULL, completion_date = 1451606400000000, match_id IS NOT NULL, groupedBy=] RuntimeFilters: []\n",
      "\n",
      "\n"
     ]
    }
   ],
   "source": [
    "// Shutting off Broadcast join to have Spark pick Bucketing \n",
    "spark.conf.set(\"spark.sql.autoBroadcastJoinThreshold\", \"-1\")\n",
    "\n",
    "//matchesBucketed.createOrReplaceTempView(\"matches\")\n",
    "//matchDetailsBucketed.createOrReplaceTempView(\"match_details\")\n",
    "\n",
    "spark.sql(\"\"\"\n",
    "    SELECT * FROM bootcamp.match_details_bucketed mdb JOIN bootcamp.matches_bucketed md \n",
    "    ON mdb.match_id = md.match_id\n",
    "    AND md.completion_date = DATE('2016-01-01')        \n",
    "\"\"\").explain()"
   ]
  },
  {
   "cell_type": "code",
   "execution_count": 59,
   "id": "e596c02a-cda3-4a6e-9d84-5ef3b7e25a83",
   "metadata": {},
   "outputs": [],
   "source": [
    "//Not needed to save to table. we can join on csv files directly.\n",
    "//matches.write.mode(\"overwrite\").saveAsTable(\"bootcamp.matches_raw\")\n",
    "//matchDetails.write.mode(\"overwrite\").saveAsTable(\"bootcamp.match_details_raw\")"
   ]
  },
  {
   "cell_type": "code",
   "execution_count": 68,
   "id": "e62b8eb1-91e0-42d0-b71b-11162b068a39",
   "metadata": {},
   "outputs": [],
   "source": [
    "matchesBucketed.createOrReplaceTempView(\"matches\")\n",
    "matchDetailsBucketed.createOrReplaceTempView(\"match_details\")"
   ]
  },
  {
   "cell_type": "code",
   "execution_count": 70,
   "id": "18df6c19-3aa1-48fd-9960-0fc2ac2b5084",
   "metadata": {},
   "outputs": [
    {
     "name": "stdout",
     "output_type": "stream",
     "text": [
      "== Physical Plan ==\n",
      "AdaptiveSparkPlan isFinalPlan=false\n",
      "+- SortMergeJoin [match_id#48790], [match_id#48753], Inner\n",
      "   :- Sort [match_id#48790 ASC NULLS FIRST], false, 0\n",
      "   :  +- Exchange hashpartitioning(match_id#48790, 200), ENSURE_REQUIREMENTS, [plan_id=21459]\n",
      "   :     +- Filter isnotnull(match_id#48790)\n",
      "   :        +- FileScan csv [match_id#48790,player_gamertag#48791,previous_spartan_rank#48792,spartan_rank#48793,previous_total_xp#48794,total_xp#48795,previous_csr_tier#48796,previous_csr_designation#48797,previous_csr#48798,previous_csr_percent_to_next_tier#48799,previous_csr_rank#48800,current_csr_tier#48801,current_csr_designation#48802,current_csr#48803,current_csr_percent_to_next_tier#48804,current_csr_rank#48805,player_rank_on_team#48806,player_finished#48807,player_average_life#48808,player_total_kills#48809,player_total_headshots#48810,player_total_weapon_damage#48811,player_total_shots_landed#48812,player_total_melee_kills#48813,... 12 more fields] Batched: false, DataFilters: [isnotnull(match_id#48790)], Format: CSV, Location: InMemoryFileIndex(1 paths)[file:/home/iceberg/data/match_details.csv], PartitionFilters: [], PushedFilters: [IsNotNull(match_id)], ReadSchema: struct<match_id:string,player_gamertag:string,previous_spartan_rank:int,spartan_rank:int,previous...\n",
      "   +- Sort [match_id#48753 ASC NULLS FIRST], false, 0\n",
      "      +- Exchange hashpartitioning(match_id#48753, 200), ENSURE_REQUIREMENTS, [plan_id=21460]\n",
      "         +- Filter isnotnull(match_id#48753)\n",
      "            +- FileScan csv [match_id#48753,mapid#48754,is_team_game#48755,playlist_id#48756,game_variant_id#48757,is_match_over#48758,completion_date#48759,match_duration#48760,game_mode#48761,map_variant_id#48762] Batched: false, DataFilters: [isnotnull(match_id#48753)], Format: CSV, Location: InMemoryFileIndex(1 paths)[file:/home/iceberg/data/matches.csv], PartitionFilters: [], PushedFilters: [IsNotNull(match_id)], ReadSchema: struct<match_id:string,mapid:string,is_team_game:boolean,playlist_id:string,game_variant_id:strin...\n",
      "\n",
      "\n"
     ]
    }
   ],
   "source": [
    "spark.sql(\"\"\"\n",
    "    SELECT * FROM match_details mdb JOIN matches md ON mdb.match_id = md.match_id    \n",
    "\"\"\").explain()"
   ]
  },
  {
   "cell_type": "code",
   "execution_count": null,
   "id": "374411c5-a48f-4739-9031-d638638633a3",
   "metadata": {},
   "outputs": [],
   "source": [
    "\n",
    "\n",
    "// spark.conf.set(\"spark.sql.autoBroadcastJoinThreshold\", \"1000000000000\")\n",
    "\n",
    "// val broadcastFromThreshold = matches.as(\"m\").join(matchDetails.as(\"md\"), $\"m.match_id\" === $\"md.match_id\")\n",
    "//   .select($\"m.completion_date\", $\"md.player_gamertag\",  $\"md.player_total_kills\")\n",
    "//   .take(5)\n",
    "\n",
    "// val explicitBroadcast = matches.as(\"m\").join(broadcast(matchDetails).as(\"md\"), $\"m.match_id\" === $\"md.match_id\")\n",
    "//   .select($\"md.*\", split($\"completion_date\", \" \").getItem(0).as(\"ds\"))\n",
    "\n",
    "// val bucketedValues = matchDetailsBucketed.as(\"mdb\").join(matchesBucketed.as(\"mb\"), $\"mb.match_id\" === $\"mdb.match_id\").explain()\n",
    "// // .take(5)\n",
    "\n",
    "// val values = matchDetailsBucketed.as(\"m\").join(matchesBucketed.as(\"md\"), $\"m.match_id\" === $\"md.match_id\").explain()\n",
    "\n",
    "// explicitBroadcast.write.mode(\"overwrite\").insertInto(\"match_details_bucketed\")\n",
    "\n",
    "// matches.withColumn(\"ds\", split($\"completion_date\", \" \").getItem(0)).write.mode(\"overwrite\").insertInto(\"matches_bucketed\")\n",
    "\n",
    "// spark.sql(bucketedSQL)\n",
    "\n"
   ]
  },
  {
   "cell_type": "code",
   "execution_count": null,
   "id": "fc8adb02-d5bd-4e84-a671-48991772d233",
   "metadata": {},
   "outputs": [],
   "source": []
  },
  {
   "cell_type": "code",
   "execution_count": null,
   "id": "6f1eecb6-ca9a-4b5c-b046-b3a0dd1ff3bf",
   "metadata": {},
   "outputs": [],
   "source": []
  }
 ],
 "metadata": {
  "kernelspec": {
   "display_name": "spylon-kernel",
   "language": "scala",
   "name": "spylon-kernel"
  },
  "language_info": {
   "codemirror_mode": "text/x-scala",
   "file_extension": ".scala",
   "help_links": [
    {
     "text": "MetaKernel Magics",
     "url": "https://metakernel.readthedocs.io/en/latest/source/README.html"
    }
   ],
   "mimetype": "text/x-scala",
   "name": "scala",
   "pygments_lexer": "scala",
   "version": "0.4.1"
  }
 },
 "nbformat": 4,
 "nbformat_minor": 5
}
