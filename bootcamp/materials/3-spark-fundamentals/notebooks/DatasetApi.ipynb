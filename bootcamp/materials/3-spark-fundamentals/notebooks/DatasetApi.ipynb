{
   "cells": [
      {
         "cell_type": "code",
         "execution_count": 1,
         "id": "22b842be-6a82-4127-b937-ead4103a92e8",
         "metadata": {},
         "outputs": [
            {
               "data": {
                  "text/plain": [
                     "Intitializing Scala interpreter ..."
                  ]
               },
               "metadata": {},
               "output_type": "display_data"
            },
            {
               "data": {
                  "text/plain": [
                     "Spark Web UI available at http://88fd5f590760:4041\n",
                     "SparkContext available as 'sc' (version = 3.5.1, master = local[*], app id = local-1733507352003)\n",
                     "SparkSession available as 'spark'\n"
                  ]
               },
               "metadata": {},
               "output_type": "display_data"
            },
            {
               "data": {
                  "text/plain": [
                     "res0: org.apache.spark.sql.SparkSession = org.apache.spark.sql.SparkSession@4e16c18c\n"
                  ]
               },
               "execution_count": 1,
               "metadata": {},
               "output_type": "execute_result"
            }
         ],
         "source": [
            "spark"
         ]
      },
      {
         "cell_type": "code",
         "execution_count": 2,
         "id": "3c60bff2-6115-4025-b92e-8789c9d9a074",
         "metadata": {},
         "outputs": [
            {
               "data": {
                  "text/plain": [
                     "import org.apache.spark.sql._\n",
                     "import org.apache.spark.sql.functions._\n"
                  ]
               },
               "execution_count": 2,
               "metadata": {},
               "output_type": "execute_result"
            }
         ],
         "source": [
            "import org.apache.spark.sql._\n",
            "import org.apache.spark.sql.functions._"
         ]
      },
      {
         "cell_type": "code",
         "execution_count": 3,
         "id": "630e889b-123f-4c8a-8e23-68b9f9a77f5e",
         "metadata": {},
         "outputs": [
            {
               "data": {
                  "text/plain": [
                     "import org.apache.spark.sql.SparkSession\n",
                     "sparkSession: org.apache.spark.sql.SparkSession = org.apache.spark.sql.SparkSession@4e16c18c\n",
                     "import sparkSession.implicits._\n"
                  ]
               },
               "execution_count": 3,
               "metadata": {},
               "output_type": "execute_result"
            }
         ],
         "source": [
            "import org.apache.spark.sql.SparkSession \n",
            "val sparkSession = SparkSession.builder.appName(\"Juptyer\").getOrCreate()\n",
            "import sparkSession.implicits._"
         ]
      },
      {
         "cell_type": "code",
         "execution_count": 4,
         "id": "2e024fa5-157a-46f8-855f-0592f7fc24cc",
         "metadata": {},
         "outputs": [
            {
               "data": {
                  "text/plain": [
                     "defined class Event\n",
                     "defined class Device\n",
                     "defined class EventWithDeviceInfo\n"
                  ]
               },
               "execution_count": 4,
               "metadata": {},
               "output_type": "execute_result"
            }
         ],
         "source": [
            "//TODO Illustrate how this fails if you change from Option[String] to String for referrer\n",
            "case class Event (\n",
            "   //Option is a way to handle NULL more gracefully\n",
            "    user_id: Option[Integer],\n",
            "    device_id: Option[Integer],\n",
            "    referrer: Option[String],\n",
            "    host: String,\n",
            "    url: String,\n",
            "    event_time: String\n",
            ")\n",
            "case class Device (\n",
            "    device_id: Integer,\n",
            "    browser_type: String,\n",
            "    os_type: String,\n",
            "    device_type: String\n",
            ")\n",
            "\n",
            "case class EventWithDeviceInfo (\n",
            "   user_id: Integer,\n",
            "    device_id: Integer,\n",
            "    browser_type: String,\n",
            "    os_type: String,\n",
            "    device_type: String,\n",
            "    referrer: String,\n",
            "    host: String,\n",
            "    url: String,\n",
            "    event_time: String\n",
            ")"
         ]
      },
      {
         "cell_type": "code",
         "execution_count": 5,
         "id": "95d9f492-3697-4d26-90d2-db1ed9150655",
         "metadata": {},
         "outputs": [
            {
               "data": {
                  "text/plain": [
                     "dummyData: List[Event] = List(Event(Some(1),Some(2),Some(linkedin),eczachly.com,/signup,2023-01-01), Event(Some(3),Some(7),Some(twitter),eczachly.com,/signup,2023-01-01))\n"
                  ]
               },
               "execution_count": 5,
               "metadata": {},
               "output_type": "execute_result"
            }
         ],
         "source": [
            "val dummyData = List(\n",
            "  Event(Some(1), Some(2), Some(\"linkedin\"), \"eczachly.com\", \"/signup\", \"2023-01-01\"),\n",
            "  Event(Some(3), Some(7), Some(\"twitter\"), \"eczachly.com\", \"/signup\", \"2023-01-01\")\n",
            ")"
         ]
      },
      {
         "cell_type": "code",
         "execution_count": 6,
         "id": "0711111d-2d28-4ffe-9b03-914410f125e3",
         "metadata": {},
         "outputs": [
            {
               "data": {
                  "text/plain": [
                     "events: org.apache.spark.sql.Dataset[Event] = [user_id: int, device_id: int ... 4 more fields]\n",
                     "devices: org.apache.spark.sql.Dataset[Device] = [device_id: int, browser_type: string ... 2 more fields]\n"
                  ]
               },
               "execution_count": 6,
               "metadata": {},
               "output_type": "execute_result"
            }
         ],
         "source": [
            "val events: Dataset[Event] = sparkSession.read.option(\"header\", \"true\")\n",
            "                        .option(\"inferSchema\", \"true\")\n",
            "                        .csv(\"/home/iceberg/data/events.csv\")\n",
            "                        .as[Event]\n",
            "\n",
            "val devices: Dataset[Device] = sparkSession.read.option(\"header\", \"true\")\n",
            "                        .option(\"inferSchema\", \"true\")\n",
            "                        .csv(\"/home/iceberg/data/devices.csv\")\n",
            "                        .as[Device]\n",
            "\n",
            "devices.createOrReplaceTempView(\"devices\")\n",
            "events.createOrReplaceTempView(\"events\")"
         ]
      },
      {
         "cell_type": "code",
         "execution_count": 7,
         "id": "fe9b5e31-5157-4d20-ae68-66ed051a157f",
         "metadata": {},
         "outputs": [
            {
               "data": {
                  "text/plain": [
                     "filteredViaDataset: org.apache.spark.sql.Dataset[Event] = [user_id: int, device_id: int ... 4 more fields]\n",
                     "filteredViaDataFrame: org.apache.spark.sql.Dataset[org.apache.spark.sql.Row] = [user_id: int, device_id: int ... 4 more fields]\n",
                     "filteredViaSparkSql: org.apache.spark.sql.DataFrame = [user_id: int, device_id: int ... 4 more fields]\n"
                  ]
               },
               "execution_count": 7,
               "metadata": {},
               "output_type": "execute_result"
            }
         ],
         "source": [
            "val filteredViaDataset = events.filter(event => event.user_id.isDefined && event.device_id.isDefined)\n",
            "val filteredViaDataFrame = events.toDF().where($\"user_id\".isNotNull && $\"device_id\".isNotNull)\n",
            "val filteredViaSparkSql = sparkSession.sql(\"SELECT * FROM events WHERE user_id IS NOT NULL AND device_id IS NOT NULL\")"
         ]
      },
      {
         "cell_type": "code",
         "execution_count": 11,
         "id": "4ae85949-690d-4af2-b6db-e5200ebc61b9",
         "metadata": {},
         "outputs": [
            {
               "data": {
                  "text/plain": [
                     "toUpperCase: (s: String)String\n",
                     "combinedViaDatasets: org.apache.spark.sql.Dataset[EventWithDeviceInfo] = [user_id: int, device_id: int ... 7 more fields]\n"
                  ]
               },
               "execution_count": 11,
               "metadata": {},
               "output_type": "execute_result"
            }
         ],
         "source": [
            "def toUpperCase(s:String):String = {\n",
            "    return s.toUpperCase()\n",
            "}\n",
            "\n",
            "// This will fail if user_id is None\n",
            "val combinedViaDatasets = filteredViaDataset\n",
            "    .joinWith(devices, events(\"device_id\") === devices(\"device_id\"), \"inner\")\n",
            "    .map{ case (event: Event, device: Device) => EventWithDeviceInfo(\n",
            "                  user_id=event.user_id.get,\n",
            "                  device_id=device.device_id,\n",
            "                  browser_type=device.browser_type,\n",
            "                  os_type=device.os_type,\n",
            "                  device_type=device.device_type,\n",
            "                  referrer=event.referrer.getOrElse(\"default_referrer\"),\n",
            "                  host=event.host,\n",
            "                  url=event.url,\n",
            "                  event_time=event.event_time\n",
            "              ) }\n",
            "\n",
            "       // .map(row => {\n",
            "    //  row.browser_type = toUpperCase(row.browser_type)\n",
            "   //   row\n",
            "   // })\n",
            "\n",
            "    .map(row => row.copy(browser_type = row.browser_type.toUpperCase))\n",
            "\n",
            "    \n",
            "// .map( case (row: EventWithDeviceInfo) => {\n",
            "//    row.browser_type = toUpperCase(row.browser_type)\n",
            "//   return row\n",
            "//})"
         ]
      },
      {
         "cell_type": "code",
         "execution_count": 12,
         "id": "265fc825-921d-46d9-995d-3ee6002885f3",
         "metadata": {},
         "outputs": [
            {
               "data": {
                  "text/plain": [
                     "res2: Array[EventWithDeviceInfo] = Array(EventWithDeviceInfo(1037710827,532630305,OTHER,Other,Other,default_referrer,www.zachwilson.tech,/,2021-03-08 17:27:24.241), EventWithDeviceInfo(925588856,532630305,OTHER,Other,Other,default_referrer,www.eczachly.com,/,2021-05-10 11:26:21.247), EventWithDeviceInfo(-1180485268,532630305,OTHER,Other,Other,default_referrer,admin.zachwilson.tech,/,2021-02-17 16:19:30.738), EventWithDeviceInfo(-1044833855,532630305,OTHER,Other,Other,default_referrer,www.zachwilson.tech,/,2021-09-24 15:53:14.466), EventWithDeviceInfo(747494706,532630305,OTHER,Other,Other,default_referrer,www.zachwilson.tech,/,2021-09-26 16:03:17.535))\n"
                  ]
               },
               "execution_count": 12,
               "metadata": {},
               "output_type": "execute_result"
            }
         ],
         "source": [
            "combinedViaDatasets.take(5)"
         ]
      },
      {
         "cell_type": "code",
         "execution_count": 18,
         "id": "b774804a-01e8-4905-970d-f60e7520fa45",
         "metadata": {},
         "outputs": [
            {
               "data": {
                  "text/plain": [
                     "toUpperCase: (s: String)String\n",
                     "toUpperCaseUdf: org.apache.spark.sql.expressions.UserDefinedFunction = SparkUserDefinedFunction($Lambda$5162/0x0000000841b7f840@3d38488f,StringType,List(Some(class[value[0]: string])),Some(class[value[0]: string]),None,true,true)\n",
                     "combinedViaDataFrames: org.apache.spark.sql.DataFrame = [user_id: int, device_id: int ... 7 more fields]\n"
                  ]
               },
               "execution_count": 18,
               "metadata": {},
               "output_type": "execute_result"
            }
         ],
         "source": [
            "def toUpperCase(s:String):String = {\n",
            "    return s.toUpperCase()\n",
            "}\n",
            "val toUpperCaseUdf = udf(toUpperCase(_))\n",
            "\n",
            "val combinedViaDataFrames = filteredViaDataFrame.as(\"e\")\n",
            "            //Make sure to use triple equals when using data frames\n",
            "            .join(devices.as(\"d\"), $\"e.device_id\" === $\"d.device_id\", \"inner\")\n",
            "            .select(\n",
            "              $\"e.user_id\",\n",
            "              $\"d.device_id\",\n",
            "              toUpperCaseUdf($\"d.browser_type\").as(\"browser_type\"),\n",
            "              $\"d.os_type\",\n",
            "              $\"d.device_type\",\n",
            "              $\"e.referrer\",\n",
            "              $\"e.host\",\n",
            "              $\"e.url\",\n",
            "              $\"e.event_time\"\n",
            "            )"
         ]
      },
      {
         "cell_type": "code",
         "execution_count": 19,
         "id": "fb3a0625-1248-4800-81d8-46da6232701a",
         "metadata": {},
         "outputs": [
            {
               "data": {
                  "text/plain": [
                     "res3: Array[org.apache.spark.sql.Row] = Array([1037710827,532630305,OTHER,Other,Other,null,www.zachwilson.tech,/,2021-03-08 17:27:24.241], [925588856,532630305,OTHER,Other,Other,null,www.eczachly.com,/,2021-05-10 11:26:21.247], [-1180485268,532630305,OTHER,Other,Other,null,admin.zachwilson.tech,/,2021-02-17 16:19:30.738], [-1044833855,532630305,OTHER,Other,Other,null,www.zachwilson.tech,/,2021-09-24 15:53:14.466], [747494706,532630305,OTHER,Other,Other,null,www.zachwilson.tech,/,2021-09-26 16:03:17.535])\n"
                  ]
               },
               "execution_count": 19,
               "metadata": {},
               "output_type": "execute_result"
            }
         ],
         "source": [
            "combinedViaDataFrames.take(5)"
         ]
      },
      {
         "cell_type": "code",
         "execution_count": 14,
         "id": "ae4a9f80-5a60-4199-8eb4-c9f38ac6ef97",
         "metadata": {},
         "outputs": [
            {
               "data": {
                  "text/plain": [
                     "combinedViaSparkSQL: org.apache.spark.sql.DataFrame = [user_id: int, device_id: int ... 7 more fields]\n"
                  ]
               },
               "execution_count": 14,
               "metadata": {},
               "output_type": "execute_result"
            }
         ],
         "source": [
            "filteredViaSparkSql.createOrReplaceTempView(\"filtered_events\")\n",
            "val combinedViaSparkSQL = spark.sql(f\"\"\"\n",
            "    SELECT \n",
            "        fe.user_id,\n",
            "        d.device_id,\n",
            "        d.browser_type,\n",
            "        d.os_type,\n",
            "        d.device_type,\n",
            "        fe. referrer,\n",
            "        fe.host,\n",
            "        fe.url,\n",
            "        fe.event_time\n",
            "    FROM filtered_events fe \n",
            "    JOIN devices d ON fe.device_id = d.device_id\n",
            "\"\"\")"
         ]
      },
      {
         "cell_type": "code",
         "execution_count": 17,
         "id": "73b5384f-be28-49e3-9bcf-4b9783ba7d91",
         "metadata": {},
         "outputs": [
            {
               "ename": "<console>",
               "evalue": "112: error: type mismatch;",
               "output_type": "error",
               "traceback": [
                  "<console>:112: error: type mismatch;",
                  " found   : Option[String]",
                  " required: String",
                  "                         referrer=event.referrer,",
                  "                                        ^",
                  ""
               ]
            }
         ],
         "source": [
            "import org.apache.spark.sql.SparkSession \n",
            "\n",
            "val sparkSession = SparkSession.builder.appName(\"Juptyer\").getOrCreate()\n",
            "\n",
            "//TODO Illustrate how this fails if you change from Option[String] to String for referrer\n",
            "case class Event (\n",
            "   //Option is a way to handle NULL more gracefully\n",
            "    user_id: Option[Integer],\n",
            "    device_id: Option[Integer],\n",
            "    referrer: Option[String],\n",
            "    host: String,\n",
            "    url: String,\n",
            "    event_time: String\n",
            ")\n",
            "\n",
            "//val dummyData = List(\n",
            "//        Event(user_id=1, device_id=2, referrer=\"linkedin\", host=\"eczachly.com\", url=\"/signup\", event_time=\"2023-01-01\"),\n",
            " //       Event(user_id=3, device_id=7, referrer=\"twitter\", host=\"eczachly.com\", url=\"/signup\", event_time=\"2023-01-01\")\n",
            " //   )\n",
            "    \n",
            "val dummyData = List(\n",
            "  Event(Some(1), Some(2), Some(\"linkedin\"), \"eczachly.com\", \"/signup\", \"2023-01-01\"),\n",
            "  Event(Some(3), Some(7), Some(\"twitter\"), \"eczachly.com\", \"/signup\", \"2023-01-01\")\n",
            ")\n",
            "\n",
            "\n",
            "//TODO Illustrate how this fails if you change from Option[Long] to Long\n",
            "case class Device (\n",
            "    device_id: Integer,\n",
            "    browser_type: String,\n",
            "    os_type: String,\n",
            "    device_type: String\n",
            ")\n",
            "\n",
            "case class EventWithDeviceInfo (\n",
            "   user_id: Integer,\n",
            "    device_id: Integer,\n",
            "    browser_type: String,\n",
            "    os_type: String,\n",
            "    device_type: String,\n",
            "    referrer: String,\n",
            "    host: String,\n",
            "    url: String,\n",
            "    event_time: String\n",
            ")\n",
            "\n",
            "// When should you use each type?\n",
            "import sparkSession.implicits._\n",
            "\n",
            "// Applying this case class before hand is very powerful, enforces Nullability/non-nullability at runtime!\n",
            "val events: Dataset[Event] = sparkSession.read.option(\"header\", \"true\")\n",
            "                        .option(\"inferSchema\", \"true\")\n",
            "                        .csv(\"/home/iceberg/data/events.csv\")\n",
            "                        .as[Event]\n",
            "\n",
            "val devices: Dataset[Device] = sparkSession.read.option(\"header\", \"true\")\n",
            "                        .option(\"inferSchema\", \"true\")\n",
            "                        .csv(\"/home/iceberg/data/devices.csv\")\n",
            "                        .as[Device]\n",
            "\n",
            "devices.createOrReplaceTempView(\"devices\")\n",
            "events.createOrReplaceTempView(\"events\")\n",
            "\n",
            "// For simple transformations, you can see that these approaches are very similar. Dataset is winning slightly because of the quality\n",
            "// enforcement\n",
            "val filteredViaDataset = events.filter(event => event.user_id.isDefined && event.device_id.isDefined)\n",
            "val filteredViaDataFrame = events.toDF().where($\"user_id\".isNotNull && $\"device_id\".isNotNull)\n",
            "val filteredViaSparkSql = sparkSession.sql(\"SELECT * FROM events WHERE user_id IS NOT NULL AND device_id IS NOT NULL\")\n",
            "\n",
            "def toUpperCase(s:String):String = {\n",
            "    return s.toUpperCase()\n",
            "}\n",
            "\n",
            "// This will fail if user_id is None\n",
            "val combinedViaDatasets = filteredViaDataset\n",
            "    .joinWith(devices, events(\"device_id\") === devices(\"device_id\"), \"inner\")\n",
            "    .map{ case (event: Event, device: Device) => EventWithDeviceInfo(\n",
            "                  user_id=event.user_id.get,\n",
            "                  device_id=device.device_id,\n",
            "                  browser_type=device.browser_type,\n",
            "                  os_type=device.os_type,\n",
            "                  device_type=device.device_type,\n",
            "                  referrer=event.referrer,\n",
            "                  host=event.host,\n",
            "                  url=event.url,\n",
            "                  event_time=event.event_time\n",
            "              ) }\n",
            "\n",
            "        .map(row => {\n",
            "      row.browser_type = toUpperCase(row.browser_type)\n",
            "      row\n",
            "    })\n",
            "    \n",
            "// .map( case (row: EventWithDeviceInfo) => {\n",
            "//    row.browser_type = toUpperCase(row.browser_type)\n",
            "//   return row\n",
            "//})\n",
            "\n",
            "\n",
            "\n",
            "// DataFrames give up some of the intellisense because you no longer have static typing\n",
            "val combinedViaDataFrames = filteredViaDataFrame.as(\"e\")\n",
            "            //Make sure to use triple equals when using data frames\n",
            "            .join(devices.as(\"d\"), $\"e.device_id\" === $\"d.device_id\", \"inner\")\n",
            "            .select(\n",
            "              $\"e.user_id\",\n",
            "              $\"d.device_id\",\n",
            "              $\"d.browser_type\",\n",
            "              $\"d.os_type\",\n",
            "              $\"d.device_type\",\n",
            "              $\"e.referrer\",\n",
            "              $\"e.host\",\n",
            "              $\"e.url\",\n",
            "              $\"e.event_time\"\n",
            "            )\n",
            "\n",
            "//Creating temp views is a good strategy if you're leveraging SparkSQL\n",
            "filteredViaSparkSql.createOrReplaceTempView(\"filtered_events\")\n",
            "val combinedViaSparkSQL = spark.sql(f\"\"\"\n",
            "    SELECT \n",
            "        fe.user_id,\n",
            "        d.device_id,\n",
            "        d.browser_type,\n",
            "        d.os_type,\n",
            "        d.device_type,\n",
            "        fe. referrer,\n",
            "        fe.host,\n",
            "        fe.url,\n",
            "        fe.event_time\n",
            "    FROM filtered_events fe \n",
            "    JOIN devices d ON fe.device_id = d.device_id\n",
            "\"\"\")\n",
            "\n",
            "combinedViaDatasets.take(5)\n"
         ]
      },
      {
         "cell_type": "code",
         "execution_count": 11,
         "id": "dd4b33aa-98c4-4f8d-8d38-f5674eb4d8ed",
         "metadata": {},
         "outputs": [],
         "source": []
      }
   ],
   "metadata": {
      "kernelspec": {
         "display_name": "Python 3 (ipykernel)",
         "language": "python",
         "name": "python3"
      },
      "language_info": {
         "codemirror_mode": {
            "name": "ipython",
            "version": 3
         },
         "file_extension": ".py",
         "mimetype": "text/x-python",
         "name": "python",
         "nbconvert_exporter": "python",
         "pygments_lexer": "ipython3",
         "version": "3.9.18"
      }
   },
   "nbformat": 4,
   "nbformat_minor": 5
}