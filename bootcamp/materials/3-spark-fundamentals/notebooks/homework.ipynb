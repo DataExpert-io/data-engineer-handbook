{
 "cells": [
  {
   "cell_type": "markdown",
   "id": "8f1fc058-cb23-40e0-bdfe-43fe87f31082",
   "metadata": {},
   "source": [
    "# First part of Zack Wilson's bootcamp [spark homework](https://github.com/DataExpert-io/data-engineer-handbook/blob/main/bootcamp/materials/3-spark-fundamentals/homework/homework.md).\n",
    "\n",
    "[Pyspark documentation](https://spark.apache.org/docs/latest/api/python/reference/pyspark.sql/api/pyspark.sql.DataFrame.alias.html)\n",
    "\n",
    "### Make imports and create spark session if necessary"
   ]
  },
  {
   "cell_type": "code",
   "execution_count": 102,
   "id": "acb389cc-f615-4bb7-9067-07a7680710ad",
   "metadata": {},
   "outputs": [],
   "source": [
    "from pyspark.sql import SparkSession\n",
    "from pyspark.sql.functions import broadcast\n",
    "from pyspark.sql import functions as F\n",
    "\n",
    "spark = SparkSession.builder.appName(\"Jupyter\").getOrCreate()"
   ]
  },
  {
   "cell_type": "markdown",
   "id": "e1afa36e-0f5d-43c3-bbfa-12d6afad97d2",
   "metadata": {},
   "source": [
    "### Disable autoBroadcast joins. We will explicitely do it"
   ]
  },
  {
   "cell_type": "code",
   "execution_count": 2,
   "id": "27f7cb74-e1cd-483c-82eb-d5277e7d15b0",
   "metadata": {
    "scrolled": true
   },
   "outputs": [
    {
     "name": "stdout",
     "output_type": "stream",
     "text": [
      "Originally, autoBroadcastJoinThreshold is 10485760b\n",
      "Now is -1\n"
     ]
    }
   ],
   "source": [
    "# spark.sparkContext.getConf().getAll()\n",
    "print(f\"Originally, autoBroadcastJoinThreshold is {spark.conf.get('spark.sql.autoBroadcastJoinThreshold')}\")\n",
    "spark.conf.set(\"spark.sql.autoBroadcastJoinThreshold\", -1)\n",
    "print(f\"Now is {spark.conf.get('spark.sql.autoBroadcastJoinThreshold')}\")"
   ]
  },
  {
   "cell_type": "markdown",
   "id": "21b4fa24-8655-4da2-b48c-85730034af22",
   "metadata": {},
   "source": [
    "### Add a few helpers"
   ]
  },
  {
   "cell_type": "code",
   "execution_count": 246,
   "id": "7f252239-2f36-4cf6-9465-fce61d243a3d",
   "metadata": {},
   "outputs": [],
   "source": [
    "def create_df_from_csv(csv_name):\n",
    "    '''\n",
    "        All csvs are in /home/iceberg/data/\n",
    "        Needs spark\n",
    "    '''\n",
    "    return spark \\\n",
    "        .read \\\n",
    "        .option(\"header\",\"true\") \\\n",
    "        .option(\"inferSchema\", \"true\") \\\n",
    "        .csv(f\"/home/iceberg/data/{csv_name}.csv\")\n",
    "\n",
    "def drop_table(table_name, schema_name=\"bootcamp\"):\n",
    "    spark.sql(f\"drop table if exists {schema_name}.{table_name}\")\n",
    "\n",
    "def print_table_size(table_name, schema_name=\"bootcamp\"):\n",
    "    file_sizes_df = spark.sql(f\"\"\"\n",
    "        select \n",
    "            file_path, \n",
    "            file_size_in_bytes \n",
    "        from \n",
    "            {schema_name}.{table_name}.files\n",
    "    \"\"\")\n",
    "\n",
    "    # file_sizes_df.show(truncate=False)\n",
    "    \n",
    "    total_size = file_sizes_df.agg({\"file_size_in_bytes\": \"sum\"}).collect()[0][0]\n",
    "    print(f\"Total table size: {total_size/1000000} Mb\")"
   ]
  },
  {
   "cell_type": "markdown",
   "id": "e575a1e5-de17-4b22-98b4-663abf007311",
   "metadata": {},
   "source": [
    "### Read the necessary datasets from csvs"
   ]
  },
  {
   "cell_type": "code",
   "execution_count": 11,
   "id": "cc2964ba-a3cc-4deb-8183-47f87386e602",
   "metadata": {},
   "outputs": [],
   "source": [
    "medals = create_df_from_csv(\"medals\")\n",
    "\n",
    "maps = create_df_from_csv(\"maps\")\n",
    "\n",
    "match_details = create_df_from_csv(\"match_details\")\n",
    "\n",
    "matches = create_df_from_csv(\"matches\")\n",
    "\n",
    "medals_matches_players = create_df_from_csv(\"medals_matches_players\")\n"
   ]
  },
  {
   "cell_type": "code",
   "execution_count": 12,
   "id": "f3455879-6bfb-4169-8d1d-e09a6568fd8b",
   "metadata": {},
   "outputs": [
    {
     "name": "stdout",
     "output_type": "stream",
     "text": [
      "183\n",
      "40\n",
      "151761\n",
      "24025\n",
      "755229\n"
     ]
    }
   ],
   "source": [
    "for df in [medals, maps, match_details, matches, medals_matches_players]:\n",
    "    print(f\"{df.count()}\")"
   ]
  },
  {
   "cell_type": "markdown",
   "id": "31c16c48-84bc-4461-bca4-afbd90d3364b",
   "metadata": {},
   "source": [
    "### Handle joins directly\n",
    "* medals and maps are considerably smaller than the others => broadcast them when join\n",
    "* create iceberg tables upon them in order to leverage bucket joins \n",
    "\n",
    "### Lets create tables and populate with their respective csvs"
   ]
  },
  {
   "cell_type": "code",
   "execution_count": 6,
   "id": "99b49795-e10f-4bbe-bb26-c991f0234589",
   "metadata": {},
   "outputs": [
    {
     "name": "stdout",
     "output_type": "stream",
     "text": [
      "+---------+--------------------+-----------+\n",
      "|namespace|           tableName|isTemporary|\n",
      "+---------+--------------------+-----------+\n",
      "| bootcamp|match_details_buc...|      false|\n",
      "| bootcamp|    matches_bucketed|      false|\n",
      "| bootcamp|medals_matches_pl...|      false|\n",
      "+---------+--------------------+-----------+\n",
      "\n"
     ]
    }
   ],
   "source": [
    "spark.sql(\"show tables in bootcamp\").show()"
   ]
  },
  {
   "cell_type": "code",
   "execution_count": 188,
   "id": "6c0d2535-f344-4cb5-9857-a5a3b0cf455d",
   "metadata": {},
   "outputs": [],
   "source": [
    "drop_table(\"match_details_bucketed\")\n",
    "\n",
    "match_details_bucketed_ddl = \"\"\"\n",
    "CREATE TABLE IF NOT EXISTS bootcamp.match_details_bucketed (\n",
    "    match_id STRING,\n",
    "    player_gamertag STRING,\n",
    "    player_total_kills INTEGER,\n",
    "    player_total_deaths INTEGER\n",
    ")\n",
    "USING iceberg\n",
    "PARTITIONED BY (bucket(16, match_id));\n",
    "\"\"\"\n",
    "\n",
    "spark.sql(match_details_bucketed_ddl)\n",
    "\n",
    "match_details \\\n",
    "    .select(\n",
    "        \"match_id\", \"player_gamertag\", \"player_total_kills\", \"player_total_deaths\"\n",
    "    ) \\\n",
    "    .write.mode(\"overwrite\") \\\n",
    "    .bucketBy(16, \"match_id\") \\\n",
    "    .saveAsTable(\"bootcamp.match_details_bucketed\")"
   ]
  },
  {
   "cell_type": "code",
   "execution_count": 187,
   "id": "820d3f55-562a-45e0-90d1-9603353828c1",
   "metadata": {},
   "outputs": [],
   "source": [
    "drop_table(\"matches_bucketed\")\n",
    "\n",
    "matches_bucketed_ddl = \"\"\"\n",
    "CREATE TABLE IF NOT EXISTS bootcamp.matches_bucketed (\n",
    "     match_id STRING,\n",
    "     mapid STRING,\n",
    "     is_team_game BOOLEAN,\n",
    "     playlist_id STRING,\n",
    "     completion_date TIMESTAMP\n",
    " )\n",
    " USING iceberg\n",
    " PARTITIONED BY (bucket(16, match_id));\n",
    " \"\"\"\n",
    "\n",
    "spark.sql(matches_bucketed_ddl)\n",
    "\n",
    "matches \\\n",
    "    .select(\n",
    "        \"match_id\", \"mapid\", \"is_team_game\", \"playlist_id\", \"completion_date\"\n",
    "    ) \\\n",
    "    .write.mode(\"overwrite\") \\\n",
    "    .bucketBy(16, \"match_id\") \\\n",
    "    .saveAsTable(\"bootcamp.matches_bucketed\")\n"
   ]
  },
  {
   "cell_type": "code",
   "execution_count": 186,
   "id": "49fb905e-6baa-4f5a-ba6f-7ecd1a4fbf2c",
   "metadata": {},
   "outputs": [],
   "source": [
    "drop_table(\"medals_matches_players_bucketed\")\n",
    "\n",
    "medals_matches_players_bucketed_ddl = \"\"\"\n",
    "CREATE TABLE IF NOT EXISTS bootcamp.medals_matches_players_bucketed (\n",
    "    match_id STRING,\n",
    "    medal_id STRING,\n",
    "    player_gamertag STRING,\n",
    "    count INTEGER\n",
    ")\n",
    "USING iceberg\n",
    "PARTITIONED BY (bucket(16, match_id));\n",
    "\"\"\"\n",
    "\n",
    "spark.sql(medals_matches_players_bucketed_ddl)\n",
    "\n",
    "medals_matches_players \\\n",
    "    .select(\n",
    "        \"match_id\", \"medal_id\", \"player_gamertag\", \"count\"\n",
    "    ) \\\n",
    "    .write.mode(\"overwrite\") \\\n",
    "    .bucketBy(16, \"match_id\") \\\n",
    "    .saveAsTable(\"bootcamp.medals_matches_players_bucketed\")\n"
   ]
  },
  {
   "cell_type": "markdown",
   "id": "122162a5-871f-4f2a-bf1e-7917be67dd0e",
   "metadata": {},
   "source": [
    "### Reselect them as tables"
   ]
  },
  {
   "cell_type": "code",
   "execution_count": 45,
   "id": "9ab7078c-0ebf-4d13-8c8c-1b2fe4d46742",
   "metadata": {},
   "outputs": [],
   "source": [
    "match_details_table = spark.sql(\"select * from bootcamp.match_details_bucketed\")\n",
    "matches_table = spark.sql(\"select * from bootcamp.matches_bucketed\")\n",
    "medals_matches_players_table = spark.sql(\"select * from bootcamp.medals_matches_players_bucketed\")"
   ]
  },
  {
   "cell_type": "code",
   "execution_count": 18,
   "id": "aa0dcea9-e131-4383-8ccd-e2aaa18089dc",
   "metadata": {},
   "outputs": [
    {
     "data": {
      "text/plain": [
       "755229"
      ]
     },
     "execution_count": 18,
     "metadata": {},
     "output_type": "execute_result"
    }
   ],
   "source": [
    "spark.sql(\"select * from bootcamp.medals_matches_players_bucketed\").count()"
   ]
  },
  {
   "cell_type": "markdown",
   "id": "92b30351-f7bb-4426-890a-9cd2d6bbe1f2",
   "metadata": {},
   "source": [
    "### Answering questions from the homework\n",
    "1. Which player averages the most kills per game?\n",
    "2. Which playlist gets played the most?\n",
    "3. Which map gets played the most?\n",
    "4. Which map do players get the most Killing Spree medals on?\n",
    "\n",
    "In the assignement, we are asked first to join all the dataframes and then answer questions but I feel like this would not be the more efficient. I do the join in order to comply but I'll answer questions differently.\n",
    "\n",
    "WARNING : in the _medals_ dataset, some _medal\\_id_ does not have a _name_ and their are duplicates in _name_ => the joined dataframe will have a row per _match\\_id_, _player\\_gamertag_, _medal\\_id_ (we have to keep the last one to ensure uniqueness)."
   ]
  },
  {
   "cell_type": "code",
   "execution_count": 130,
   "id": "40d1945b-f2f3-4ccb-a217-ec952c1e6d83",
   "metadata": {},
   "outputs": [],
   "source": [
    "joined_df = match_details_table \\\n",
    "    .join(\n",
    "        matches_table\n",
    "        , matches_table.match_id == match_details_table.match_id\n",
    "        , how=\"inner\"\n",
    "    ) \\\n",
    "    .join(\n",
    "        medals_matches_players_table\n",
    "        , [medals_matches_players_table.match_id == match_details_table.match_id\n",
    "            , medals_matches_players_table.player_gamertag == match_details_table.player_gamertag]\n",
    "        , how=\"inner\"\n",
    "    ) \\\n",
    "    .join(\n",
    "        broadcast(maps)\n",
    "        , maps.mapid == matches_table.mapid\n",
    "        , how=\"inner\"\n",
    "    ) \\\n",
    "    .join(\n",
    "        broadcast(medals)\n",
    "        , medals.medal_id == medals_matches_players_table.medal_id\n",
    "        , how=\"inner\"\n",
    "    ) \\\n",
    "    .select(\n",
    "        match_details_table.match_id\n",
    "        , match_details_table.player_gamertag\n",
    "        , medals_matches_players_table.medal_id\n",
    "        , maps.name.alias(\"map_name\")\n",
    "        , matches_table.playlist_id\n",
    "        , match_details_table.player_total_kills\n",
    "        , match_details_table.player_total_deaths\n",
    "        , medals.name.alias(\"medal_name\")\n",
    "        , F.col(\"count\").alias(\"medal_count\")\n",
    "    )\n"
   ]
  },
  {
   "cell_type": "code",
   "execution_count": null,
   "id": "1a8a66b6-454c-4d77-89df-e19caf685f21",
   "metadata": {},
   "outputs": [
    {
     "name": "stdout",
     "output_type": "stream",
     "text": [
      "+---------------+---------+\n",
      "|player_gamertag|avg_kills|\n",
      "+---------------+---------+\n",
      "|   gimpinator14|    109.0|\n",
      "|  I Johann117 I|     96.0|\n",
      "|BudgetLegendary|     83.0|\n",
      "|      GsFurreal|     75.0|\n",
      "|   Sexy is Back|     73.0|\n",
      "+---------------+---------+\n",
      "\n"
     ]
    }
   ],
   "source": [
    "# Top 5 avg kills player, limit should be deterministic\n",
    "match_details_table \\\n",
    "    .groupBy(\"player_gamertag\") \\\n",
    "    .agg(F.avg(\"player_total_kills\").alias(\"avg_kills\")) \\\n",
    "    .sort(F.desc(\"avg_kills\")) \\\n",
    "    .limit(5) \\\n",
    "    .show()\n",
    "    "
   ]
  },
  {
   "cell_type": "code",
   "execution_count": null,
   "id": "d478e2a8-aae1-4053-83be-6d96f3498463",
   "metadata": {},
   "outputs": [
    {
     "name": "stdout",
     "output_type": "stream",
     "text": [
      "+--------------------+---------+\n",
      "|         playlist_id|nb_played|\n",
      "+--------------------+---------+\n",
      "|f72e0ef0-7c4a-430...|     9350|\n",
      "|2323b76a-db98-4e0...|     3244|\n",
      "|892189e9-d712-4bd...|     2159|\n",
      "|c98949ae-60a8-43d...|     1984|\n",
      "|b50c4dc2-6c86-4d7...|     1462|\n",
      "+--------------------+---------+\n",
      "\n"
     ]
    }
   ],
   "source": [
    "# Top 5 most played playlists. Did not found were to look for playlist_name, limit should be deterministic\n",
    "matches_table \\\n",
    "    .groupBy(\"playlist_id\") \\\n",
    "    .agg(F.count(\"match_id\").alias(\"nb_played\")) \\\n",
    "    .sort(F.desc(\"nb_played\")) \\\n",
    "    .limit(5) \\\n",
    "    .show()"
   ]
  },
  {
   "cell_type": "code",
   "execution_count": 173,
   "id": "6c68395e-dfc2-44d8-a6e8-63a22f4703e6",
   "metadata": {},
   "outputs": [
    {
     "name": "stdout",
     "output_type": "stream",
     "text": [
      "+--------------+---------+\n",
      "|      map_name|nb_played|\n",
      "+--------------+---------+\n",
      "|Breakout Arena|     8587|\n",
      "|        Empire|     1489|\n",
      "|        Alpine|     1461|\n",
      "|       The Rig|     1088|\n",
      "|       Glacier|     1052|\n",
      "+--------------+---------+\n",
      "\n"
     ]
    }
   ],
   "source": [
    "# Top 5 most played maps, limit should be deterministic\n",
    "matches_table \\\n",
    "    .join(broadcast(maps)\n",
    "          , matches_table.mapid == maps.mapid\n",
    "    ) \\\n",
    "    .select(\n",
    "        matches_table.mapid\n",
    "        , maps.name.alias(\"map_name\")\n",
    "    ) \\\n",
    "    .groupBy(\"map_name\") \\\n",
    "    .agg(F.count(\"mapid\").alias(\"nb_played\")) \\\n",
    "    .sort(F.desc(\"nb_played\")) \\\n",
    "    .limit(5) \\\n",
    "    .show()"
   ]
  },
  {
   "cell_type": "code",
   "execution_count": 171,
   "id": "44e9de6d-5a0f-4c09-85dd-16063dff7c93",
   "metadata": {},
   "outputs": [
    {
     "name": "stdout",
     "output_type": "stream",
     "text": [
      "+--------------+----------+\n",
      "|      map_name|sum_medals|\n",
      "+--------------+----------+\n",
      "|Breakout Arena|      6738|\n",
      "|        Alpine|      5359|\n",
      "|       Glacier|      3402|\n",
      "|        Empire|      2233|\n",
      "|         Truth|      2061|\n",
      "+--------------+----------+\n",
      "\n"
     ]
    }
   ],
   "source": [
    "# Top 5 maps having the most Killing Spree medal, limit should be deterministic\n",
    "joined_df \\\n",
    "    .where(\"medal_name='Killing Spree'\") \\\n",
    "    .groupBy(\"map_name\") \\\n",
    "    .agg(F.sum(\"medal_count\").alias(\"sum_medals\")) \\\n",
    "    .sort(F.desc(\"sum_medals\")) \\\n",
    "    .limit(5) \\\n",
    "    .show()"
   ]
  },
  {
   "cell_type": "markdown",
   "id": "eaba1b30-1264-40f0-9fa6-af43a94afa3d",
   "metadata": {},
   "source": [
    "### Find best keys to sort partitions in order to find the smallest total file size\n",
    "\n",
    "In the homework, it is written to sort the aggregated dataset but I do it on the joined one because I feel like there was no single aggregated dataset"
   ]
  },
  {
   "cell_type": "code",
   "execution_count": 229,
   "id": "48cc00ab-43d6-49f0-b965-f269da39fedd",
   "metadata": {},
   "outputs": [],
   "source": [
    "def print_file_size_from_sort_keys(df, sorting_keys=[], base_table_name=\"joined\", schema_name=\"bootcamp\"):\n",
    "    table_name = base_table_name\n",
    "    for key in sorting_keys: table_name += f\"_{key}\"\n",
    "    print(f\"table name is : {table_name}\")\n",
    "    df \\\n",
    "        .sortWithinPartitions(sorting_keys) \\\n",
    "        .write.mode(\"overwrite\") \\\n",
    "        .saveAsTable(f\"{schema_name}.{table_name}\")\n",
    "    print_table_size(table_name)"
   ]
  },
  {
   "cell_type": "code",
   "execution_count": 237,
   "id": "7731bae9-6984-4589-9b3f-34bd128de901",
   "metadata": {},
   "outputs": [
    {
     "name": "stdout",
     "output_type": "stream",
     "text": [
      "table name is : joined\n",
      "+---------------------------------------------------------------------------------------------------+------------------+\n",
      "|file_path                                                                                          |file_size_in_bytes|\n",
      "+---------------------------------------------------------------------------------------------------+------------------+\n",
      "|s3://warehouse/bootcamp/joined/data/00000-1381-3d948036-92d0-4183-9c5b-645032e21819-0-00001.parquet|556199            |\n",
      "|s3://warehouse/bootcamp/joined/data/00001-1382-3d948036-92d0-4183-9c5b-645032e21819-0-00001.parquet|545976            |\n",
      "|s3://warehouse/bootcamp/joined/data/00002-1383-3d948036-92d0-4183-9c5b-645032e21819-0-00001.parquet|542160            |\n",
      "|s3://warehouse/bootcamp/joined/data/00003-1384-3d948036-92d0-4183-9c5b-645032e21819-0-00001.parquet|544373            |\n",
      "|s3://warehouse/bootcamp/joined/data/00004-1385-3d948036-92d0-4183-9c5b-645032e21819-0-00001.parquet|535833            |\n",
      "|s3://warehouse/bootcamp/joined/data/00005-1386-3d948036-92d0-4183-9c5b-645032e21819-0-00001.parquet|541559            |\n",
      "|s3://warehouse/bootcamp/joined/data/00006-1387-3d948036-92d0-4183-9c5b-645032e21819-0-00001.parquet|537016            |\n",
      "|s3://warehouse/bootcamp/joined/data/00007-1388-3d948036-92d0-4183-9c5b-645032e21819-0-00001.parquet|538258            |\n",
      "|s3://warehouse/bootcamp/joined/data/00008-1389-3d948036-92d0-4183-9c5b-645032e21819-0-00001.parquet|539584            |\n",
      "|s3://warehouse/bootcamp/joined/data/00009-1390-3d948036-92d0-4183-9c5b-645032e21819-0-00001.parquet|547477            |\n",
      "|s3://warehouse/bootcamp/joined/data/00010-1391-3d948036-92d0-4183-9c5b-645032e21819-0-00001.parquet|541584            |\n",
      "|s3://warehouse/bootcamp/joined/data/00011-1392-3d948036-92d0-4183-9c5b-645032e21819-0-00001.parquet|538345            |\n",
      "|s3://warehouse/bootcamp/joined/data/00012-1393-3d948036-92d0-4183-9c5b-645032e21819-0-00001.parquet|292764            |\n",
      "+---------------------------------------------------------------------------------------------------+------------------+\n",
      "\n",
      "Total table size: 6.801128 Mb\n"
     ]
    }
   ],
   "source": [
    "print_file_size_from_sort_keys(joined_df)"
   ]
  },
  {
   "cell_type": "code",
   "execution_count": 238,
   "id": "f0213917-ed20-4d33-9e36-7db9fad935cb",
   "metadata": {},
   "outputs": [
    {
     "name": "stdout",
     "output_type": "stream",
     "text": [
      "table name is : joined_match_id\n",
      "+------------------------------------------------------------------------------------------------------------+------------------+\n",
      "|file_path                                                                                                   |file_size_in_bytes|\n",
      "+------------------------------------------------------------------------------------------------------------+------------------+\n",
      "|s3://warehouse/bootcamp/joined_match_id/data/00000-1417-e74683fd-2f5a-47b3-9281-ab146d6aeda9-0-00001.parquet|556199            |\n",
      "|s3://warehouse/bootcamp/joined_match_id/data/00001-1418-e74683fd-2f5a-47b3-9281-ab146d6aeda9-0-00001.parquet|545976            |\n",
      "|s3://warehouse/bootcamp/joined_match_id/data/00002-1419-e74683fd-2f5a-47b3-9281-ab146d6aeda9-0-00001.parquet|542160            |\n",
      "|s3://warehouse/bootcamp/joined_match_id/data/00003-1420-e74683fd-2f5a-47b3-9281-ab146d6aeda9-0-00001.parquet|544373            |\n",
      "|s3://warehouse/bootcamp/joined_match_id/data/00004-1421-e74683fd-2f5a-47b3-9281-ab146d6aeda9-0-00001.parquet|535833            |\n",
      "|s3://warehouse/bootcamp/joined_match_id/data/00005-1422-e74683fd-2f5a-47b3-9281-ab146d6aeda9-0-00001.parquet|541559            |\n",
      "|s3://warehouse/bootcamp/joined_match_id/data/00006-1423-e74683fd-2f5a-47b3-9281-ab146d6aeda9-0-00001.parquet|537016            |\n",
      "|s3://warehouse/bootcamp/joined_match_id/data/00007-1424-e74683fd-2f5a-47b3-9281-ab146d6aeda9-0-00001.parquet|538258            |\n",
      "|s3://warehouse/bootcamp/joined_match_id/data/00008-1425-e74683fd-2f5a-47b3-9281-ab146d6aeda9-0-00001.parquet|539584            |\n",
      "|s3://warehouse/bootcamp/joined_match_id/data/00009-1426-e74683fd-2f5a-47b3-9281-ab146d6aeda9-0-00001.parquet|547477            |\n",
      "|s3://warehouse/bootcamp/joined_match_id/data/00010-1427-e74683fd-2f5a-47b3-9281-ab146d6aeda9-0-00001.parquet|541584            |\n",
      "|s3://warehouse/bootcamp/joined_match_id/data/00011-1428-e74683fd-2f5a-47b3-9281-ab146d6aeda9-0-00001.parquet|538345            |\n",
      "|s3://warehouse/bootcamp/joined_match_id/data/00012-1429-e74683fd-2f5a-47b3-9281-ab146d6aeda9-0-00001.parquet|292764            |\n",
      "+------------------------------------------------------------------------------------------------------------+------------------+\n",
      "\n",
      "Total table size: 6.801128 Mb\n"
     ]
    }
   ],
   "source": [
    "print_file_size_from_sort_keys(joined_df, [\"match_id\"])"
   ]
  },
  {
   "cell_type": "code",
   "execution_count": 239,
   "id": "8da58427-34e9-4aa0-9f3a-9298103c0225",
   "metadata": {},
   "outputs": [
    {
     "name": "stdout",
     "output_type": "stream",
     "text": [
      "table name is : joined_match_id_player_gamertag\n",
      "+----------------------------------------------------------------------------------------------------------------------------+------------------+\n",
      "|file_path                                                                                                                   |file_size_in_bytes|\n",
      "+----------------------------------------------------------------------------------------------------------------------------+------------------+\n",
      "|s3://warehouse/bootcamp/joined_match_id_player_gamertag/data/00000-1453-cfa20978-c230-4e69-b062-bace6a86ae39-0-00001.parquet|556199            |\n",
      "|s3://warehouse/bootcamp/joined_match_id_player_gamertag/data/00001-1454-cfa20978-c230-4e69-b062-bace6a86ae39-0-00001.parquet|545976            |\n",
      "|s3://warehouse/bootcamp/joined_match_id_player_gamertag/data/00002-1455-cfa20978-c230-4e69-b062-bace6a86ae39-0-00001.parquet|542160            |\n",
      "|s3://warehouse/bootcamp/joined_match_id_player_gamertag/data/00003-1456-cfa20978-c230-4e69-b062-bace6a86ae39-0-00001.parquet|544373            |\n",
      "|s3://warehouse/bootcamp/joined_match_id_player_gamertag/data/00004-1457-cfa20978-c230-4e69-b062-bace6a86ae39-0-00001.parquet|535833            |\n",
      "|s3://warehouse/bootcamp/joined_match_id_player_gamertag/data/00005-1458-cfa20978-c230-4e69-b062-bace6a86ae39-0-00001.parquet|541559            |\n",
      "|s3://warehouse/bootcamp/joined_match_id_player_gamertag/data/00006-1459-cfa20978-c230-4e69-b062-bace6a86ae39-0-00001.parquet|537016            |\n",
      "|s3://warehouse/bootcamp/joined_match_id_player_gamertag/data/00007-1460-cfa20978-c230-4e69-b062-bace6a86ae39-0-00001.parquet|538258            |\n",
      "|s3://warehouse/bootcamp/joined_match_id_player_gamertag/data/00008-1461-cfa20978-c230-4e69-b062-bace6a86ae39-0-00001.parquet|539584            |\n",
      "|s3://warehouse/bootcamp/joined_match_id_player_gamertag/data/00009-1462-cfa20978-c230-4e69-b062-bace6a86ae39-0-00001.parquet|547477            |\n",
      "|s3://warehouse/bootcamp/joined_match_id_player_gamertag/data/00010-1463-cfa20978-c230-4e69-b062-bace6a86ae39-0-00001.parquet|541584            |\n",
      "|s3://warehouse/bootcamp/joined_match_id_player_gamertag/data/00011-1464-cfa20978-c230-4e69-b062-bace6a86ae39-0-00001.parquet|538345            |\n",
      "|s3://warehouse/bootcamp/joined_match_id_player_gamertag/data/00012-1465-cfa20978-c230-4e69-b062-bace6a86ae39-0-00001.parquet|292764            |\n",
      "+----------------------------------------------------------------------------------------------------------------------------+------------------+\n",
      "\n",
      "Total table size: 6.801128 Mb\n"
     ]
    }
   ],
   "source": [
    "print_file_size_from_sort_keys(joined_df, [\"match_id\", \"player_gamertag\"])"
   ]
  },
  {
   "cell_type": "code",
   "execution_count": 240,
   "id": "284d71f0-1008-444d-9fb8-01c4e4566253",
   "metadata": {},
   "outputs": [
    {
     "name": "stdout",
     "output_type": "stream",
     "text": [
      "table name is : joined_match_id_player_gamertag_map_name\n",
      "+-------------------------------------------------------------------------------------------------------------------------------------+------------------+\n",
      "|file_path                                                                                                                            |file_size_in_bytes|\n",
      "+-------------------------------------------------------------------------------------------------------------------------------------+------------------+\n",
      "|s3://warehouse/bootcamp/joined_match_id_player_gamertag_map_name/data/00000-1489-6900f47d-eadc-42c7-bff7-03ac7d8e4117-0-00001.parquet|556199            |\n",
      "|s3://warehouse/bootcamp/joined_match_id_player_gamertag_map_name/data/00001-1490-6900f47d-eadc-42c7-bff7-03ac7d8e4117-0-00001.parquet|545976            |\n",
      "|s3://warehouse/bootcamp/joined_match_id_player_gamertag_map_name/data/00002-1491-6900f47d-eadc-42c7-bff7-03ac7d8e4117-0-00001.parquet|542160            |\n",
      "|s3://warehouse/bootcamp/joined_match_id_player_gamertag_map_name/data/00003-1492-6900f47d-eadc-42c7-bff7-03ac7d8e4117-0-00001.parquet|544373            |\n",
      "|s3://warehouse/bootcamp/joined_match_id_player_gamertag_map_name/data/00004-1493-6900f47d-eadc-42c7-bff7-03ac7d8e4117-0-00001.parquet|535833            |\n",
      "|s3://warehouse/bootcamp/joined_match_id_player_gamertag_map_name/data/00005-1494-6900f47d-eadc-42c7-bff7-03ac7d8e4117-0-00001.parquet|541559            |\n",
      "|s3://warehouse/bootcamp/joined_match_id_player_gamertag_map_name/data/00006-1495-6900f47d-eadc-42c7-bff7-03ac7d8e4117-0-00001.parquet|537016            |\n",
      "|s3://warehouse/bootcamp/joined_match_id_player_gamertag_map_name/data/00007-1496-6900f47d-eadc-42c7-bff7-03ac7d8e4117-0-00001.parquet|538258            |\n",
      "|s3://warehouse/bootcamp/joined_match_id_player_gamertag_map_name/data/00008-1497-6900f47d-eadc-42c7-bff7-03ac7d8e4117-0-00001.parquet|539584            |\n",
      "|s3://warehouse/bootcamp/joined_match_id_player_gamertag_map_name/data/00009-1498-6900f47d-eadc-42c7-bff7-03ac7d8e4117-0-00001.parquet|547477            |\n",
      "|s3://warehouse/bootcamp/joined_match_id_player_gamertag_map_name/data/00010-1499-6900f47d-eadc-42c7-bff7-03ac7d8e4117-0-00001.parquet|541584            |\n",
      "|s3://warehouse/bootcamp/joined_match_id_player_gamertag_map_name/data/00011-1500-6900f47d-eadc-42c7-bff7-03ac7d8e4117-0-00001.parquet|538345            |\n",
      "|s3://warehouse/bootcamp/joined_match_id_player_gamertag_map_name/data/00012-1501-6900f47d-eadc-42c7-bff7-03ac7d8e4117-0-00001.parquet|292764            |\n",
      "+-------------------------------------------------------------------------------------------------------------------------------------+------------------+\n",
      "\n",
      "Total table size: 6.801128 Mb\n"
     ]
    },
    {
     "name": "stderr",
     "output_type": "stream",
     "text": [
      "                                                                                \r"
     ]
    }
   ],
   "source": [
    "print_file_size_from_sort_keys(joined_df, [\"match_id\", \"player_gamertag\", \"map_name\"])"
   ]
  },
  {
   "cell_type": "code",
   "execution_count": 241,
   "id": "a220a2d5-1f64-423f-90fe-0e4c30eb894c",
   "metadata": {},
   "outputs": [
    {
     "name": "stdout",
     "output_type": "stream",
     "text": [
      "table name is : joined_match_id_player_gamertag_map_name_playlist_id\n",
      "+-------------------------------------------------------------------------------------------------------------------------------------------------+------------------+\n",
      "|file_path                                                                                                                                        |file_size_in_bytes|\n",
      "+-------------------------------------------------------------------------------------------------------------------------------------------------+------------------+\n",
      "|s3://warehouse/bootcamp/joined_match_id_player_gamertag_map_name_playlist_id/data/00000-1525-1570bb5b-35af-4d3e-907f-fc250a3dbd31-0-00001.parquet|556199            |\n",
      "|s3://warehouse/bootcamp/joined_match_id_player_gamertag_map_name_playlist_id/data/00001-1526-1570bb5b-35af-4d3e-907f-fc250a3dbd31-0-00001.parquet|545976            |\n",
      "|s3://warehouse/bootcamp/joined_match_id_player_gamertag_map_name_playlist_id/data/00002-1527-1570bb5b-35af-4d3e-907f-fc250a3dbd31-0-00001.parquet|542160            |\n",
      "|s3://warehouse/bootcamp/joined_match_id_player_gamertag_map_name_playlist_id/data/00003-1528-1570bb5b-35af-4d3e-907f-fc250a3dbd31-0-00001.parquet|544373            |\n",
      "|s3://warehouse/bootcamp/joined_match_id_player_gamertag_map_name_playlist_id/data/00004-1529-1570bb5b-35af-4d3e-907f-fc250a3dbd31-0-00001.parquet|535833            |\n",
      "|s3://warehouse/bootcamp/joined_match_id_player_gamertag_map_name_playlist_id/data/00005-1530-1570bb5b-35af-4d3e-907f-fc250a3dbd31-0-00001.parquet|541559            |\n",
      "|s3://warehouse/bootcamp/joined_match_id_player_gamertag_map_name_playlist_id/data/00006-1531-1570bb5b-35af-4d3e-907f-fc250a3dbd31-0-00001.parquet|537016            |\n",
      "|s3://warehouse/bootcamp/joined_match_id_player_gamertag_map_name_playlist_id/data/00007-1532-1570bb5b-35af-4d3e-907f-fc250a3dbd31-0-00001.parquet|538258            |\n",
      "|s3://warehouse/bootcamp/joined_match_id_player_gamertag_map_name_playlist_id/data/00008-1533-1570bb5b-35af-4d3e-907f-fc250a3dbd31-0-00001.parquet|539584            |\n",
      "|s3://warehouse/bootcamp/joined_match_id_player_gamertag_map_name_playlist_id/data/00009-1534-1570bb5b-35af-4d3e-907f-fc250a3dbd31-0-00001.parquet|547477            |\n",
      "|s3://warehouse/bootcamp/joined_match_id_player_gamertag_map_name_playlist_id/data/00010-1535-1570bb5b-35af-4d3e-907f-fc250a3dbd31-0-00001.parquet|541584            |\n",
      "|s3://warehouse/bootcamp/joined_match_id_player_gamertag_map_name_playlist_id/data/00011-1536-1570bb5b-35af-4d3e-907f-fc250a3dbd31-0-00001.parquet|538345            |\n",
      "|s3://warehouse/bootcamp/joined_match_id_player_gamertag_map_name_playlist_id/data/00012-1537-1570bb5b-35af-4d3e-907f-fc250a3dbd31-0-00001.parquet|292764            |\n",
      "+-------------------------------------------------------------------------------------------------------------------------------------------------+------------------+\n",
      "\n",
      "Total table size: 6.801128 Mb\n"
     ]
    }
   ],
   "source": [
    "print_file_size_from_sort_keys(joined_df, [\"match_id\", \"player_gamertag\", \"map_name\", \"playlist_id\"])"
   ]
  },
  {
   "cell_type": "code",
   "execution_count": 242,
   "id": "e3c5dddb-7c41-4af5-bfd6-e5fb2e1a53e4",
   "metadata": {},
   "outputs": [
    {
     "name": "stdout",
     "output_type": "stream",
     "text": [
      "table name is : joined_map_name_playlist_id\n",
      "+------------------------------------------------------------------------------------------------------------------------+------------------+\n",
      "|file_path                                                                                                               |file_size_in_bytes|\n",
      "+------------------------------------------------------------------------------------------------------------------------+------------------+\n",
      "|s3://warehouse/bootcamp/joined_map_name_playlist_id/data/00000-1561-a713a7f9-9cac-46b3-a6f1-b3d0b44107ba-0-00001.parquet|518156            |\n",
      "|s3://warehouse/bootcamp/joined_map_name_playlist_id/data/00001-1562-a713a7f9-9cac-46b3-a6f1-b3d0b44107ba-0-00001.parquet|517032            |\n",
      "|s3://warehouse/bootcamp/joined_map_name_playlist_id/data/00002-1563-a713a7f9-9cac-46b3-a6f1-b3d0b44107ba-0-00001.parquet|513594            |\n",
      "|s3://warehouse/bootcamp/joined_map_name_playlist_id/data/00003-1564-a713a7f9-9cac-46b3-a6f1-b3d0b44107ba-0-00001.parquet|517511            |\n",
      "|s3://warehouse/bootcamp/joined_map_name_playlist_id/data/00004-1565-a713a7f9-9cac-46b3-a6f1-b3d0b44107ba-0-00001.parquet|513527            |\n",
      "|s3://warehouse/bootcamp/joined_map_name_playlist_id/data/00005-1566-a713a7f9-9cac-46b3-a6f1-b3d0b44107ba-0-00001.parquet|512396            |\n",
      "|s3://warehouse/bootcamp/joined_map_name_playlist_id/data/00006-1567-a713a7f9-9cac-46b3-a6f1-b3d0b44107ba-0-00001.parquet|509823            |\n",
      "|s3://warehouse/bootcamp/joined_map_name_playlist_id/data/00007-1568-a713a7f9-9cac-46b3-a6f1-b3d0b44107ba-0-00001.parquet|509826            |\n",
      "|s3://warehouse/bootcamp/joined_map_name_playlist_id/data/00008-1569-a713a7f9-9cac-46b3-a6f1-b3d0b44107ba-0-00001.parquet|509453            |\n",
      "|s3://warehouse/bootcamp/joined_map_name_playlist_id/data/00009-1570-a713a7f9-9cac-46b3-a6f1-b3d0b44107ba-0-00001.parquet|512135            |\n",
      "|s3://warehouse/bootcamp/joined_map_name_playlist_id/data/00010-1571-a713a7f9-9cac-46b3-a6f1-b3d0b44107ba-0-00001.parquet|514203            |\n",
      "|s3://warehouse/bootcamp/joined_map_name_playlist_id/data/00011-1572-a713a7f9-9cac-46b3-a6f1-b3d0b44107ba-0-00001.parquet|508447            |\n",
      "|s3://warehouse/bootcamp/joined_map_name_playlist_id/data/00012-1573-a713a7f9-9cac-46b3-a6f1-b3d0b44107ba-0-00001.parquet|277606            |\n",
      "+------------------------------------------------------------------------------------------------------------------------+------------------+\n",
      "\n",
      "Total table size: 6.433709 Mb\n"
     ]
    }
   ],
   "source": [
    "print_file_size_from_sort_keys(joined_df, [\"map_name\", \"playlist_id\"])"
   ]
  },
  {
   "cell_type": "code",
   "execution_count": 243,
   "id": "9e385264-203d-49dc-a3f2-fad7dfb5cba5",
   "metadata": {},
   "outputs": [
    {
     "name": "stdout",
     "output_type": "stream",
     "text": [
      "table name is : joined_playlist_id_map_name\n",
      "+------------------------------------------------------------------------------------------------------------------------+------------------+\n",
      "|file_path                                                                                                               |file_size_in_bytes|\n",
      "+------------------------------------------------------------------------------------------------------------------------+------------------+\n",
      "|s3://warehouse/bootcamp/joined_playlist_id_map_name/data/00000-1597-e8289d61-f286-4b40-9a34-22960f095697-0-00001.parquet|517441            |\n",
      "|s3://warehouse/bootcamp/joined_playlist_id_map_name/data/00001-1598-e8289d61-f286-4b40-9a34-22960f095697-0-00001.parquet|515904            |\n",
      "|s3://warehouse/bootcamp/joined_playlist_id_map_name/data/00002-1599-e8289d61-f286-4b40-9a34-22960f095697-0-00001.parquet|508226            |\n",
      "|s3://warehouse/bootcamp/joined_playlist_id_map_name/data/00003-1600-e8289d61-f286-4b40-9a34-22960f095697-0-00001.parquet|514682            |\n",
      "|s3://warehouse/bootcamp/joined_playlist_id_map_name/data/00004-1601-e8289d61-f286-4b40-9a34-22960f095697-0-00001.parquet|511127            |\n",
      "|s3://warehouse/bootcamp/joined_playlist_id_map_name/data/00005-1602-e8289d61-f286-4b40-9a34-22960f095697-0-00001.parquet|511204            |\n",
      "|s3://warehouse/bootcamp/joined_playlist_id_map_name/data/00006-1603-e8289d61-f286-4b40-9a34-22960f095697-0-00001.parquet|505614            |\n",
      "|s3://warehouse/bootcamp/joined_playlist_id_map_name/data/00007-1604-e8289d61-f286-4b40-9a34-22960f095697-0-00001.parquet|507685            |\n",
      "|s3://warehouse/bootcamp/joined_playlist_id_map_name/data/00008-1605-e8289d61-f286-4b40-9a34-22960f095697-0-00001.parquet|507416            |\n",
      "|s3://warehouse/bootcamp/joined_playlist_id_map_name/data/00009-1606-e8289d61-f286-4b40-9a34-22960f095697-0-00001.parquet|511477            |\n",
      "|s3://warehouse/bootcamp/joined_playlist_id_map_name/data/00010-1607-e8289d61-f286-4b40-9a34-22960f095697-0-00001.parquet|513026            |\n",
      "|s3://warehouse/bootcamp/joined_playlist_id_map_name/data/00011-1608-e8289d61-f286-4b40-9a34-22960f095697-0-00001.parquet|504803            |\n",
      "|s3://warehouse/bootcamp/joined_playlist_id_map_name/data/00012-1609-e8289d61-f286-4b40-9a34-22960f095697-0-00001.parquet|276564            |\n",
      "+------------------------------------------------------------------------------------------------------------------------+------------------+\n",
      "\n",
      "Total table size: 6.405169 Mb\n"
     ]
    }
   ],
   "source": [
    "print_file_size_from_sort_keys(joined_df, [\"playlist_id\", \"map_name\"])"
   ]
  },
  {
   "cell_type": "code",
   "execution_count": 244,
   "id": "9ce3a32a-c930-47cf-863c-2fc4de4a0a5a",
   "metadata": {},
   "outputs": [
    {
     "name": "stdout",
     "output_type": "stream",
     "text": [
      "table name is : joined_playlist_id\n",
      "+---------------------------------------------------------------------------------------------------------------+------------------+\n",
      "|file_path                                                                                                      |file_size_in_bytes|\n",
      "+---------------------------------------------------------------------------------------------------------------+------------------+\n",
      "|s3://warehouse/bootcamp/joined_playlist_id/data/00000-1633-ae92856e-278e-4679-ab28-346dcd56b072-0-00001.parquet|528154            |\n",
      "|s3://warehouse/bootcamp/joined_playlist_id/data/00001-1634-ae92856e-278e-4679-ab28-346dcd56b072-0-00001.parquet|523819            |\n",
      "|s3://warehouse/bootcamp/joined_playlist_id/data/00002-1635-ae92856e-278e-4679-ab28-346dcd56b072-0-00001.parquet|514774            |\n",
      "|s3://warehouse/bootcamp/joined_playlist_id/data/00003-1636-ae92856e-278e-4679-ab28-346dcd56b072-0-00001.parquet|525455            |\n",
      "|s3://warehouse/bootcamp/joined_playlist_id/data/00004-1637-ae92856e-278e-4679-ab28-346dcd56b072-0-00001.parquet|520598            |\n",
      "|s3://warehouse/bootcamp/joined_playlist_id/data/00005-1638-ae92856e-278e-4679-ab28-346dcd56b072-0-00001.parquet|515997            |\n",
      "|s3://warehouse/bootcamp/joined_playlist_id/data/00006-1639-ae92856e-278e-4679-ab28-346dcd56b072-0-00001.parquet|513993            |\n",
      "|s3://warehouse/bootcamp/joined_playlist_id/data/00007-1640-ae92856e-278e-4679-ab28-346dcd56b072-0-00001.parquet|515179            |\n",
      "|s3://warehouse/bootcamp/joined_playlist_id/data/00008-1641-ae92856e-278e-4679-ab28-346dcd56b072-0-00001.parquet|516567            |\n",
      "|s3://warehouse/bootcamp/joined_playlist_id/data/00009-1642-ae92856e-278e-4679-ab28-346dcd56b072-0-00001.parquet|525552            |\n",
      "|s3://warehouse/bootcamp/joined_playlist_id/data/00010-1643-ae92856e-278e-4679-ab28-346dcd56b072-0-00001.parquet|522372            |\n",
      "|s3://warehouse/bootcamp/joined_playlist_id/data/00011-1644-ae92856e-278e-4679-ab28-346dcd56b072-0-00001.parquet|513772            |\n",
      "|s3://warehouse/bootcamp/joined_playlist_id/data/00012-1645-ae92856e-278e-4679-ab28-346dcd56b072-0-00001.parquet|281902            |\n",
      "+---------------------------------------------------------------------------------------------------------------+------------------+\n",
      "\n",
      "Total table size: 6.518134 Mb\n"
     ]
    }
   ],
   "source": [
    "print_file_size_from_sort_keys(joined_df, [\"playlist_id\"])"
   ]
  },
  {
   "cell_type": "code",
   "execution_count": 245,
   "id": "3513d8ae-e4e6-49b5-ae97-46978488371d",
   "metadata": {},
   "outputs": [
    {
     "name": "stdout",
     "output_type": "stream",
     "text": [
      "table name is : joined_map_name\n",
      "+------------------------------------------------------------------------------------------------------------+------------------+\n",
      "|file_path                                                                                                   |file_size_in_bytes|\n",
      "+------------------------------------------------------------------------------------------------------------+------------------+\n",
      "|s3://warehouse/bootcamp/joined_map_name/data/00000-1669-dd0ac11a-d8d2-45be-b7e3-07cf99b34452-0-00001.parquet|531473            |\n",
      "|s3://warehouse/bootcamp/joined_map_name/data/00001-1670-dd0ac11a-d8d2-45be-b7e3-07cf99b34452-0-00001.parquet|526259            |\n",
      "|s3://warehouse/bootcamp/joined_map_name/data/00002-1671-dd0ac11a-d8d2-45be-b7e3-07cf99b34452-0-00001.parquet|526445            |\n",
      "|s3://warehouse/bootcamp/joined_map_name/data/00003-1672-dd0ac11a-d8d2-45be-b7e3-07cf99b34452-0-00001.parquet|526395            |\n",
      "|s3://warehouse/bootcamp/joined_map_name/data/00004-1673-dd0ac11a-d8d2-45be-b7e3-07cf99b34452-0-00001.parquet|521352            |\n",
      "|s3://warehouse/bootcamp/joined_map_name/data/00005-1674-dd0ac11a-d8d2-45be-b7e3-07cf99b34452-0-00001.parquet|520425            |\n",
      "|s3://warehouse/bootcamp/joined_map_name/data/00006-1675-dd0ac11a-d8d2-45be-b7e3-07cf99b34452-0-00001.parquet|519755            |\n",
      "|s3://warehouse/bootcamp/joined_map_name/data/00007-1676-dd0ac11a-d8d2-45be-b7e3-07cf99b34452-0-00001.parquet|520342            |\n",
      "|s3://warehouse/bootcamp/joined_map_name/data/00008-1677-dd0ac11a-d8d2-45be-b7e3-07cf99b34452-0-00001.parquet|515999            |\n",
      "|s3://warehouse/bootcamp/joined_map_name/data/00009-1678-dd0ac11a-d8d2-45be-b7e3-07cf99b34452-0-00001.parquet|524941            |\n",
      "|s3://warehouse/bootcamp/joined_map_name/data/00010-1679-dd0ac11a-d8d2-45be-b7e3-07cf99b34452-0-00001.parquet|523343            |\n",
      "|s3://warehouse/bootcamp/joined_map_name/data/00011-1680-dd0ac11a-d8d2-45be-b7e3-07cf99b34452-0-00001.parquet|517760            |\n",
      "|s3://warehouse/bootcamp/joined_map_name/data/00012-1681-dd0ac11a-d8d2-45be-b7e3-07cf99b34452-0-00001.parquet|284138            |\n",
      "+------------------------------------------------------------------------------------------------------------+------------------+\n",
      "\n",
      "Total table size: 6.558627 Mb\n"
     ]
    }
   ],
   "source": [
    "print_file_size_from_sort_keys(joined_df, [\"map_name\"])"
   ]
  }
 ],
 "metadata": {
  "kernelspec": {
   "display_name": "Python 3 (ipykernel)",
   "language": "python",
   "name": "python3"
  },
  "language_info": {
   "codemirror_mode": {
    "name": "ipython",
    "version": 3
   },
   "file_extension": ".py",
   "mimetype": "text/x-python",
   "name": "python",
   "nbconvert_exporter": "python",
   "pygments_lexer": "ipython3",
   "version": "3.9.18"
  }
 },
 "nbformat": 4,
 "nbformat_minor": 5
}
