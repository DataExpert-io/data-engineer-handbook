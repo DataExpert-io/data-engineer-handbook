{
 "cells": [
  {
   "cell_type": "code",
   "execution_count": 2,
   "id": "b7c7b347-c9ec-4d71-bbe0-d195d9988826",
   "metadata": {},
   "outputs": [],
   "source": [
    "from pyspark.sql.functions import broadcast, split, lit\n",
    "from pyspark.sql.functions import col\n",
    "from pyspark import StorageLevel\n",
    "from pyspark.sql import SparkSession"
   ]
  },
  {
   "cell_type": "markdown",
   "id": "7311e586-7148-400d-86b7-e8620561d092",
   "metadata": {},
   "source": [
    "**Question 1:** Disable automatic broadcast join"
   ]
  },
  {
   "cell_type": "code",
   "execution_count": 2,
   "id": "a32eba64-7dda-4f38-8dda-878eb5ca940a",
   "metadata": {},
   "outputs": [
    {
     "name": "stderr",
     "output_type": "stream",
     "text": [
      "24/12/10 13:23:11 WARN SparkSession: Using an existing Spark session; only runtime SQL configurations will take effect.\n"
     ]
    }
   ],
   "source": [
    "spark = SparkSession.builder \\\n",
    "    .appName(\"IcebergTableManagement\") \\\n",
    "    .config(\"spark.executor.memory\", \"4g\") \\\n",
    "    .config(\"spark.driver.memory\", \"4g\") \\\n",
    "    .config(\"spark.sql.shuffle.partitions\", \"200\") \\\n",
    "    .config(\"spark.sql.files.maxPartitionBytes\", \"134217728\") \\\n",
    "    .config(\"spark.sql.autoBroadcastJoinThreshold\", \"-1\") \\\n",
    "    .config(\"spark.dynamicAllocation.enabled\", \"true\") \\\n",
    "    .config(\"spark.dynamicAllocation.minExecutors\", \"1\") \\\n",
    "    .config(\"spark.dynamicAllocation.maxExecutors\", \"50\") \\\n",
    "    .getOrCreate()"
   ]
  },
  {
   "cell_type": "markdown",
   "id": "df43c041-b100-41f7-acbd-5044dff86d2c",
   "metadata": {},
   "source": [
    "**Question 2:** Explicitly broadcast JOINs `medals` and `maps`"
   ]
  },
  {
   "cell_type": "code",
   "execution_count": 41,
   "id": "d9c85f74-07da-42e8-8be3-e3e5e81977b8",
   "metadata": {},
   "outputs": [],
   "source": [
    "df_medals = spark.read.option(\"header\", \"true\").option(\"inferSchema\", \"true\").csv(\"/home/iceberg/data/medals.csv\")\n",
    "df_maps = spark.read.option(\"header\", \"true\").option(\"inferSchema\", \"true\").csv(\"/home/iceberg/data/maps.csv\")"
   ]
  },
  {
   "cell_type": "code",
   "execution_count": 4,
   "id": "1c22e496-e9a8-49b9-8e32-8b3a3ac3b811",
   "metadata": {
    "scrolled": true
   },
   "outputs": [
    {
     "name": "stdout",
     "output_type": "stream",
     "text": [
      "+----------+--------------------+-----------+----------+------------------+-------------------+------------+-------------+--------------+--------------------+--------------+----------+\n",
      "|  medal_id|          sprite_uri|sprite_left|sprite_top|sprite_sheet_width|sprite_sheet_height|sprite_width|sprite_height|classification|         description|          name|difficulty|\n",
      "+----------+--------------------+-----------+----------+------------------+-------------------+------------+-------------+--------------+--------------------+--------------+----------+\n",
      "|2315448068|                NULL|       NULL|      NULL|              NULL|               NULL|        NULL|         NULL|          NULL|                NULL|          NULL|      NULL|\n",
      "|3565441934|                NULL|       NULL|      NULL|              NULL|               NULL|        NULL|         NULL|          NULL|                NULL|          NULL|      NULL|\n",
      "|4162659350|https://content.h...|        750|       750|                74|                 74|        1125|          899|      Breakout|Kill the last ene...| Buzzer Beater|        45|\n",
      "|1573153198|https://content.h...|          0|       300|                74|                 74|        1125|          899|      Breakout|Survive a one-on-...|    Vanquisher|        30|\n",
      "| 298813630|https://content.h...|          0|       825|                74|                 74|        1125|          899|         Style|Kill an enemy wit...|Spartan Charge|       135|\n",
      "+----------+--------------------+-----------+----------+------------------+-------------------+------------+-------------+--------------+--------------------+--------------+----------+\n",
      "only showing top 5 rows\n",
      "\n"
     ]
    }
   ],
   "source": [
    "df_medals.show(5)"
   ]
  },
  {
   "cell_type": "code",
   "execution_count": 5,
   "id": "33a8e85c-0d49-436d-894d-4cee6e1513c9",
   "metadata": {},
   "outputs": [
    {
     "name": "stdout",
     "output_type": "stream",
     "text": [
      "root\n",
      " |-- medal_id: long (nullable = true)\n",
      " |-- sprite_uri: string (nullable = true)\n",
      " |-- sprite_left: integer (nullable = true)\n",
      " |-- sprite_top: integer (nullable = true)\n",
      " |-- sprite_sheet_width: integer (nullable = true)\n",
      " |-- sprite_sheet_height: integer (nullable = true)\n",
      " |-- sprite_width: integer (nullable = true)\n",
      " |-- sprite_height: integer (nullable = true)\n",
      " |-- classification: string (nullable = true)\n",
      " |-- description: string (nullable = true)\n",
      " |-- name: string (nullable = true)\n",
      " |-- difficulty: integer (nullable = true)\n",
      "\n"
     ]
    }
   ],
   "source": [
    "df_medals.printSchema()"
   ]
  },
  {
   "cell_type": "code",
   "execution_count": 6,
   "id": "b9a474cd-661a-4258-bcf4-1f759d0b4daf",
   "metadata": {},
   "outputs": [
    {
     "data": {
      "text/plain": [
       "183"
      ]
     },
     "execution_count": 6,
     "metadata": {},
     "output_type": "execute_result"
    }
   ],
   "source": [
    "df_medals.count()"
   ]
  },
  {
   "cell_type": "code",
   "execution_count": 7,
   "id": "7253e85d-bb62-414f-ba70-d6b3202cb713",
   "metadata": {},
   "outputs": [
    {
     "name": "stdout",
     "output_type": "stream",
     "text": [
      "+--------------------+-------------------+--------------------+\n",
      "|               mapid|               name|         description|\n",
      "+--------------------+-------------------+--------------------+\n",
      "|c93d708f-f206-11e...|              Urban|Andesia was the c...|\n",
      "|cb251c51-f206-11e...|     Raid on Apex 7|This unbroken rin...|\n",
      "|c854e54f-f206-11e...|March on Stormbreak|                NULL|\n",
      "|c8d69870-f206-11e...| Escape from A.R.C.|Scientists flocke...|\n",
      "|73ed1fd0-45e5-4bb...|             Osiris|                NULL|\n",
      "+--------------------+-------------------+--------------------+\n",
      "only showing top 5 rows\n",
      "\n"
     ]
    }
   ],
   "source": [
    "df_maps.show(5)"
   ]
  },
  {
   "cell_type": "code",
   "execution_count": 8,
   "id": "8b60a0f9-54d1-4051-978b-7fb7ae18e5d4",
   "metadata": {},
   "outputs": [
    {
     "name": "stdout",
     "output_type": "stream",
     "text": [
      "root\n",
      " |-- mapid: string (nullable = true)\n",
      " |-- name: string (nullable = true)\n",
      " |-- description: string (nullable = true)\n",
      "\n"
     ]
    }
   ],
   "source": [
    "df_maps.printSchema()"
   ]
  },
  {
   "cell_type": "code",
   "execution_count": 9,
   "id": "b04e0c70-8159-46bd-8a93-dfe4bbc9ac21",
   "metadata": {},
   "outputs": [
    {
     "data": {
      "text/plain": [
       "40"
      ]
     },
     "execution_count": 9,
     "metadata": {},
     "output_type": "execute_result"
    }
   ],
   "source": [
    "df_maps.count()"
   ]
  },
  {
   "cell_type": "code",
   "execution_count": 10,
   "id": "c5029bab-f1da-4c49-ba2c-401418e8182a",
   "metadata": {},
   "outputs": [],
   "source": [
    "# df_maps.select(\"name\").distinct().show()\n",
    "# df_medals.select(\"name\").distinct().show()\n",
    "# common_names = df_maps.select(\"name\").distinct().intersect(df_medals.select(\"name\").distinct())\n",
    "# common_names.show()\n",
    "# common_descriptions = df_maps.select(\"description\").distinct().intersect(df_medals.select(\"description\").distinct())\n",
    "# common_descriptions.show()"
   ]
  },
  {
   "cell_type": "code",
   "execution_count": 11,
   "id": "0aa394bd-b2a9-41f7-8e78-b66cb89afe82",
   "metadata": {},
   "outputs": [
    {
     "name": "stderr",
     "output_type": "stream",
     "text": [
      "24/12/09 16:57:19 WARN HintErrorLogger: Hint (strategy=broadcast) is not supported in the query: build right for full outer join.\n",
      "24/12/09 16:57:19 WARN HintErrorLogger: Hint (strategy=broadcast) is not supported in the query: build right for full outer join.\n",
      "24/12/09 16:57:19 WARN HintErrorLogger: Hint (strategy=broadcast) is not supported in the query: build right for full outer join.\n"
     ]
    },
    {
     "name": "stdout",
     "output_type": "stream",
     "text": [
      "+----+----------+----------+-----------+----------+------------------+-------------------+------------+-------------+--------------+-----------+----------+--------------------+-----------+\n",
      "|name|  medal_id|sprite_uri|sprite_left|sprite_top|sprite_sheet_width|sprite_sheet_height|sprite_width|sprite_height|classification|description|difficulty|               mapid|description|\n",
      "+----+----------+----------+-----------+----------+------------------+-------------------+------------+-------------+--------------+-----------+----------+--------------------+-----------+\n",
      "|NULL|2315448068|      NULL|       NULL|      NULL|              NULL|               NULL|        NULL|         NULL|          NULL|       NULL|      NULL|                NULL|       NULL|\n",
      "|NULL|3565441934|      NULL|       NULL|      NULL|              NULL|               NULL|        NULL|         NULL|          NULL|       NULL|      NULL|                NULL|       NULL|\n",
      "|NULL|      NULL|      NULL|       NULL|      NULL|              NULL|               NULL|        NULL|         NULL|          NULL|       NULL|      NULL|cc74f4e1-f206-11e...|       NULL|\n",
      "|NULL|      NULL|      NULL|       NULL|      NULL|              NULL|               NULL|        NULL|         NULL|          NULL|       NULL|      NULL|ce89a40f-f206-11e...|       NULL|\n",
      "|NULL|      NULL|      NULL|       NULL|      NULL|              NULL|               NULL|        NULL|         NULL|          NULL|       NULL|      NULL|5e130537-2275-40b...|       NULL|\n",
      "+----+----------+----------+-----------+----------+------------------+-------------------+------------+-------------+--------------+-----------+----------+--------------------+-----------+\n",
      "only showing top 5 rows\n",
      "\n"
     ]
    }
   ],
   "source": [
    "df_1 = df_medals.join(broadcast(df_maps), on=\"name\", how=\"outer\")\n",
    "df_1.show(5)"
   ]
  },
  {
   "cell_type": "markdown",
   "id": "8bd09782-7a97-44e3-9e02-a05b8c9cc9d6",
   "metadata": {},
   "source": [
    "**Question 3:** Bucket join `match_details`, `matches`, and `medal_matches_players` on `match_id` with `16` buckets"
   ]
  },
  {
   "cell_type": "code",
   "execution_count": 3,
   "id": "5baeb68a-2f27-446a-8415-a0febeb6cf4a",
   "metadata": {},
   "outputs": [
    {
     "name": "stderr",
     "output_type": "stream",
     "text": [
      "                                                                                \r"
     ]
    }
   ],
   "source": [
    "match_details_df = spark.read.option(\"header\", \"true\").option(\"inferSchema\", \"true\").csv(\"/home/iceberg/data/match_details.csv\")\n",
    "matches_df = spark.read.option(\"header\", \"true\").option(\"inferSchema\", \"true\").csv(\"/home/iceberg/data/matches.csv\")\n",
    "medals_matches_players_df = spark.read.option(\"header\", \"true\").option(\"inferSchema\", \"true\").csv(\"/home/iceberg/data/medals_matches_players.csv\")"
   ]
  },
  {
   "cell_type": "code",
   "execution_count": 2,
   "id": "7a8fc954-0325-41dd-b8f3-b6ce6d089d4d",
   "metadata": {
    "scrolled": true
   },
   "outputs": [
    {
     "name": "stdout",
     "output_type": "stream",
     "text": [
      "root\n",
      " |-- match_id: string (nullable = true)\n",
      " |-- player_gamertag: string (nullable = true)\n",
      " |-- previous_spartan_rank: integer (nullable = true)\n",
      " |-- spartan_rank: integer (nullable = true)\n",
      " |-- previous_total_xp: integer (nullable = true)\n",
      " |-- total_xp: integer (nullable = true)\n",
      " |-- previous_csr_tier: integer (nullable = true)\n",
      " |-- previous_csr_designation: integer (nullable = true)\n",
      " |-- previous_csr: integer (nullable = true)\n",
      " |-- previous_csr_percent_to_next_tier: integer (nullable = true)\n",
      " |-- previous_csr_rank: integer (nullable = true)\n",
      " |-- current_csr_tier: integer (nullable = true)\n",
      " |-- current_csr_designation: integer (nullable = true)\n",
      " |-- current_csr: integer (nullable = true)\n",
      " |-- current_csr_percent_to_next_tier: integer (nullable = true)\n",
      " |-- current_csr_rank: integer (nullable = true)\n",
      " |-- player_rank_on_team: integer (nullable = true)\n",
      " |-- player_finished: boolean (nullable = true)\n",
      " |-- player_average_life: string (nullable = true)\n",
      " |-- player_total_kills: integer (nullable = true)\n",
      " |-- player_total_headshots: integer (nullable = true)\n",
      " |-- player_total_weapon_damage: double (nullable = true)\n",
      " |-- player_total_shots_landed: integer (nullable = true)\n",
      " |-- player_total_melee_kills: integer (nullable = true)\n",
      " |-- player_total_melee_damage: double (nullable = true)\n",
      " |-- player_total_assassinations: integer (nullable = true)\n",
      " |-- player_total_ground_pound_kills: integer (nullable = true)\n",
      " |-- player_total_shoulder_bash_kills: integer (nullable = true)\n",
      " |-- player_total_grenade_damage: double (nullable = true)\n",
      " |-- player_total_power_weapon_damage: double (nullable = true)\n",
      " |-- player_total_power_weapon_grabs: integer (nullable = true)\n",
      " |-- player_total_deaths: integer (nullable = true)\n",
      " |-- player_total_assists: integer (nullable = true)\n",
      " |-- player_total_grenade_kills: integer (nullable = true)\n",
      " |-- did_win: integer (nullable = true)\n",
      " |-- team_id: integer (nullable = true)\n",
      "\n"
     ]
    }
   ],
   "source": [
    "match_details_df.printSchema()"
   ]
  },
  {
   "cell_type": "code",
   "execution_count": 3,
   "id": "df75e122-8531-49b9-a331-19a49d051e8b",
   "metadata": {},
   "outputs": [
    {
     "name": "stdout",
     "output_type": "stream",
     "text": [
      "root\n",
      " |-- match_id: string (nullable = true)\n",
      " |-- mapid: string (nullable = true)\n",
      " |-- is_team_game: boolean (nullable = true)\n",
      " |-- playlist_id: string (nullable = true)\n",
      " |-- game_variant_id: string (nullable = true)\n",
      " |-- is_match_over: boolean (nullable = true)\n",
      " |-- completion_date: timestamp (nullable = true)\n",
      " |-- match_duration: string (nullable = true)\n",
      " |-- game_mode: string (nullable = true)\n",
      " |-- map_variant_id: string (nullable = true)\n",
      "\n"
     ]
    }
   ],
   "source": [
    "matches_df.printSchema()"
   ]
  },
  {
   "cell_type": "code",
   "execution_count": 4,
   "id": "98725e25-5735-4d37-851f-2fe13ceb740f",
   "metadata": {},
   "outputs": [
    {
     "name": "stdout",
     "output_type": "stream",
     "text": [
      "root\n",
      " |-- match_id: string (nullable = true)\n",
      " |-- player_gamertag: string (nullable = true)\n",
      " |-- medal_id: long (nullable = true)\n",
      " |-- count: integer (nullable = true)\n",
      "\n"
     ]
    }
   ],
   "source": [
    "medals_matches_players_df.printSchema()"
   ]
  },
  {
   "cell_type": "code",
   "execution_count": null,
   "id": "e734e379-1697-4b70-989d-f23e5014dbef",
   "metadata": {},
   "outputs": [],
   "source": []
  },
  {
   "cell_type": "code",
   "execution_count": 4,
   "id": "4a21a6bb-8df5-4664-b116-0d7cf91bd28c",
   "metadata": {},
   "outputs": [
    {
     "name": "stderr",
     "output_type": "stream",
     "text": [
      "                                                                                \r"
     ]
    }
   ],
   "source": [
    "spark.sql(\"\"\"DROP TABLE IF EXISTS bootcamp.hw3_matches\"\"\")\n",
    "matches_ddl = \"\"\"\n",
    "CREATE TABLE IF NOT EXISTS bootcamp.hw3_matches(\n",
    "    match_id STRING,\n",
    "    mapid STRING,\n",
    "    is_team_game BOOLEAN,\n",
    "    playlist_id STRING,\n",
    "    game_variant_id STRING,\n",
    "    is_match_over BOOLEAN,\n",
    "    completion_date TIMESTAMP,\n",
    "    match_duration STRING,\n",
    "    game_mode STRING,\n",
    "    map_variant_id STRING\n",
    ")\n",
    "USING iceberg\n",
    "CLUSTERED BY (match_id) INTO 16 BUCKETS\n",
    "\"\"\"\n",
    "spark.sql(matches_ddl)\n",
    "matches_df.select(\"*\") \\\n",
    "    .write \\\n",
    "    .format(\"iceberg\") \\\n",
    "    .mode(\"append\") \\\n",
    "    .bucketBy(16, \"match_id\") \\\n",
    "    .saveAsTable(\"bootcamp.hw3_matches\")"
   ]
  },
  {
   "cell_type": "code",
   "execution_count": 5,
   "id": "e2940444-6806-4290-9c2d-4049aa0b868e",
   "metadata": {},
   "outputs": [
    {
     "name": "stderr",
     "output_type": "stream",
     "text": [
      "                                                                                \r"
     ]
    }
   ],
   "source": [
    "spark.sql(\"\"\"DROP TABLE IF EXISTS bootcamp.hw3_medals_matches_players\"\"\")\n",
    "medals_matches_players_ddl = \"\"\"\n",
    "CREATE TABLE IF NOT EXISTS bootcamp.hw3_medals_matches_players(\n",
    "    match_id STRING,\n",
    "    player_gamertag STRING,\n",
    "    medal_id BIGINT,\n",
    "    count INTEGER\n",
    ")\n",
    "USING iceberg\n",
    "CLUSTERED BY (match_id) INTO 16 BUCKETS\n",
    "\"\"\"\n",
    "spark.sql(medals_matches_players_ddl)\n",
    "medals_matches_players_df.select(\"*\") \\\n",
    "    .write \\\n",
    "    .format(\"iceberg\") \\\n",
    "    .mode(\"append\") \\\n",
    "    .bucketBy(16, \"match_id\") \\\n",
    "    .saveAsTable(\"bootcamp.hw3_medals_matches_players\")"
   ]
  },
  {
   "cell_type": "code",
   "execution_count": 6,
   "id": "0d70a998-f585-48f7-b8d8-abde338d7111",
   "metadata": {},
   "outputs": [
    {
     "name": "stderr",
     "output_type": "stream",
     "text": [
      "                                                                                \r"
     ]
    }
   ],
   "source": [
    "spark.sql(\"\"\"DROP TABLE IF EXISTS bootcamp.hw3_match_details\"\"\")\n",
    "match_details_ddl = \"\"\"\n",
    "CREATE TABLE IF NOT EXISTS bootcamp.hw3_matche_details(\n",
    "    match_id STRING,\n",
    "    player_gamertag STRING,\n",
    "    spartan_rank INTEGER,\n",
    "    player_total_kills INTEGER\n",
    ")\n",
    "USING iceberg\n",
    "CLUSTERED BY (match_id) INTO 16 BUCKETS\n",
    "\"\"\"\n",
    "spark.sql(match_details_ddl)\n",
    "match_details_df.select(\"match_id\", \"player_gamertag\", \"spartan_rank\", \"player_total_kills\") \\\n",
    "    .write \\\n",
    "    .format(\"iceberg\") \\\n",
    "    .mode(\"append\") \\\n",
    "    .bucketBy(16, \"match_id\") \\\n",
    "    .saveAsTable(\"bootcamp.hw3_match_details\")"
   ]
  },
  {
   "cell_type": "code",
   "execution_count": 17,
   "id": "e906851d-f647-4ef7-b124-00de0137bfdb",
   "metadata": {},
   "outputs": [
    {
     "name": "stdout",
     "output_type": "stream",
     "text": [
      "+--------------------+---------------+----------+-----+\n",
      "|            match_id|player_gamertag|  medal_id|count|\n",
      "+--------------------+---------------+----------+-----+\n",
      "|27d7c16b-b780-4f8...|       EcZachly| 824733727|    1|\n",
      "|27d7c16b-b780-4f8...|       EcZachly|3261908037|    5|\n",
      "|27d7c16b-b780-4f8...|       EcZachly|2078758684|    1|\n",
      "|27d7c16b-b780-4f8...|       EcZachly|1573153198|    1|\n",
      "|27d7c16b-b780-4f8...|       EcZachly|2782465081|    1|\n",
      "|27d7c16b-b780-4f8...|       EcZachly|2287626681|    1|\n",
      "|e39c1eac-a39b-4e0...|       EcZachly| 250435527|    1|\n",
      "|e39c1eac-a39b-4e0...|       EcZachly|3261908037|    2|\n",
      "|e39c1eac-a39b-4e0...|       EcZachly|3400287617|    1|\n",
      "|6128f58a-e42e-472...|       EcZachly|3261908037|    8|\n",
      "+--------------------+---------------+----------+-----+\n",
      "only showing top 10 rows\n",
      "\n"
     ]
    }
   ],
   "source": [
    "spark.sql(\"SELECT * FROM bootcamp.hw3_medals_matches_players\").show(10)"
   ]
  },
  {
   "cell_type": "code",
   "execution_count": 20,
   "id": "60377b2a-18a1-40c2-8709-7941f973aaaa",
   "metadata": {},
   "outputs": [
    {
     "name": "stdout",
     "output_type": "stream",
     "text": [
      "+--------------------+--------------------+------------+--------------------+--------------------+-------------+-------------------+--------------+---------+--------------------+\n",
      "|            match_id|               mapid|is_team_game|         playlist_id|     game_variant_id|is_match_over|    completion_date|match_duration|game_mode|      map_variant_id|\n",
      "+--------------------+--------------------+------------+--------------------+--------------------+-------------+-------------------+--------------+---------+--------------------+\n",
      "|f44c9997-eb6f-4d6...|ce1dc2de-f206-11e...|        true|0504ca3c-de41-48f...|b0df8938-0fb6-42e...|         true|2016-02-28 00:00:00|          NULL|     NULL|d5a6277a-96d5-499...|\n",
      "|f0f2daf2-52f3-4ff...|cbcea2c0-f206-11e...|        NULL|2323b76a-db98-4e0...|257a305e-4dd3-41f...|         NULL|2016-02-04 00:00:00|          NULL|     NULL|7108c409-6d1e-41d...|\n",
      "|8aec419e-2bfa-4fc...|c7edbf0f-f206-11e...|        true|f72e0ef0-7c4a-430...|1e473914-46e4-408...|         true|2016-01-07 00:00:00|          NULL|     NULL|ec3eef73-13e3-4d4...|\n",
      "|c6f24b65-bb73-489...|cebd854f-f206-11e...|        NULL|c98949ae-60a8-43d...|1e473914-46e4-408...|         NULL|2016-01-26 00:00:00|          NULL|     NULL|7859337f-286d-4ee...|\n",
      "|a868eb4e-8b58-4e6...|c7805740-f206-11e...|        true|f72e0ef0-7c4a-430...|1e473914-46e4-408...|         true|2016-02-02 00:00:00|          NULL|     NULL|                NULL|\n",
      "+--------------------+--------------------+------------+--------------------+--------------------+-------------+-------------------+--------------+---------+--------------------+\n",
      "only showing top 5 rows\n",
      "\n"
     ]
    }
   ],
   "source": [
    "spark.sql(\"SELECT * FROM bootcamp.hw3_matches\").show(5)"
   ]
  },
  {
   "cell_type": "code",
   "execution_count": 21,
   "id": "c961d29c-b6bf-4fa6-9011-8d0d7ca556bb",
   "metadata": {},
   "outputs": [
    {
     "name": "stdout",
     "output_type": "stream",
     "text": [
      "+--------------------+---------------+------------+------------------+\n",
      "|            match_id|player_gamertag|spartan_rank|player_total_kills|\n",
      "+--------------------+---------------+------------+------------------+\n",
      "|f8852913-2ccf-46f...|    OneWingKing|         122|                 7|\n",
      "|155cfd23-4f97-4f1...|   BigChubSmith|           8|                15|\n",
      "|155cfd23-4f97-4f1...|  JakeWilson801|          18|                18|\n",
      "|155cfd23-4f97-4f1...|      taterbase|           5|                 1|\n",
      "|155cfd23-4f97-4f1...| BeyondHumanx39|          24|                13|\n",
      "+--------------------+---------------+------------+------------------+\n",
      "only showing top 5 rows\n",
      "\n"
     ]
    }
   ],
   "source": [
    "spark.sql(\"SELECT * FROM bootcamp.hw3_match_details\").show(5)"
   ]
  },
  {
   "cell_type": "code",
   "execution_count": 7,
   "id": "aa3d6f86-1682-4982-903c-005617d43ba7",
   "metadata": {},
   "outputs": [
    {
     "name": "stderr",
     "output_type": "stream",
     "text": [
      "                                                                                \r"
     ]
    },
    {
     "data": {
      "text/plain": [
       "19050"
      ]
     },
     "execution_count": 7,
     "metadata": {},
     "output_type": "execute_result"
    }
   ],
   "source": [
    "match_details_df.select(\"match_id\").distinct().count()"
   ]
  },
  {
   "cell_type": "code",
   "execution_count": 8,
   "id": "c79090b3-f0ee-4705-9da4-f65bd421736b",
   "metadata": {},
   "outputs": [
    {
     "data": {
      "text/plain": [
       "24025"
      ]
     },
     "execution_count": 8,
     "metadata": {},
     "output_type": "execute_result"
    }
   ],
   "source": [
    "matches_df.select(\"match_id\").distinct().count()"
   ]
  },
  {
   "cell_type": "code",
   "execution_count": 9,
   "id": "18411c67-1793-4ea0-a1e9-9ad7819a72e6",
   "metadata": {},
   "outputs": [
    {
     "name": "stderr",
     "output_type": "stream",
     "text": [
      "                                                                                \r"
     ]
    },
    {
     "data": {
      "text/plain": [
       "18942"
      ]
     },
     "execution_count": 9,
     "metadata": {},
     "output_type": "execute_result"
    }
   ],
   "source": [
    "medals_matches_players_df.select(\"match_id\").distinct().count()"
   ]
  },
  {
   "cell_type": "code",
   "execution_count": 11,
   "id": "376c3499-2a86-48eb-b0b2-bea5a8805ac6",
   "metadata": {},
   "outputs": [
    {
     "name": "stderr",
     "output_type": "stream",
     "text": [
      "[Stage 36:==============>                                           (1 + 3) / 4]\r"
     ]
    },
    {
     "name": "stdout",
     "output_type": "stream",
     "text": [
      "+------------------------+\n",
      "|count(DISTINCT match_id)|\n",
      "+------------------------+\n",
      "|                   18942|\n",
      "+------------------------+\n",
      "\n"
     ]
    },
    {
     "name": "stderr",
     "output_type": "stream",
     "text": [
      "                                                                                \r"
     ]
    }
   ],
   "source": [
    "spark.sql(\"SELECT count( distinct match_id) FROM bootcamp.hw3_medals_matches_players\").show()"
   ]
  },
  {
   "cell_type": "code",
   "execution_count": 4,
   "id": "8a406a33-40b9-4c14-8ee9-ec8ed0bd1491",
   "metadata": {},
   "outputs": [],
   "source": [
    "def get_columns_without_match_id(table_name, alias):\n",
    "    all_columns = spark.table(table_name).columns\n",
    "    return [f\"{alias}.{col}\" for col in all_columns if col != \"match_id\"]\n",
    "matches_columns = get_columns_without_match_id(\"bootcamp.hw3_matches\", \"m\")\n",
    "match_details_columns = get_columns_without_match_id(\"bootcamp.hw3_match_details\", \"md\")\n",
    "medals_columns = get_columns_without_match_id(\"bootcamp.hw3_medals_matches_players\", \"mp\")    "
   ]
  },
  {
   "cell_type": "code",
   "execution_count": 5,
   "id": "1b7ee3f3-86fd-4bd1-a65b-e4777d5a7323",
   "metadata": {
    "scrolled": true
   },
   "outputs": [],
   "source": [
    "joining_query = f\"\"\"\n",
    "SELECT\n",
    "    COALESCE(m.match_id, md.match_id) AS match_id,\n",
    "    {', '.join(matches_columns)}, \n",
    "    {', '.join(match_details_columns)}, \n",
    "    mp.player_gamertag AS medal_player_gamertag,\n",
    "    mp.medal_id,\n",
    "    mp.count\n",
    "FROM bootcamp.hw3_matches AS m\n",
    "FULL OUTER JOIN bootcamp.hw3_match_details AS md\n",
    "    ON m.match_id = md.match_id\n",
    "FULL OUTER JOIN bootcamp.hw3_medals_matches_players AS mp\n",
    "    ON COALESCE(m.match_id, md.match_id) = mp.match_id\n",
    "\"\"\"\n",
    "joined_table_df = spark.sql(joining_query)"
   ]
  },
  {
   "cell_type": "code",
   "execution_count": 27,
   "id": "46230276-9b90-4c8e-9170-4e3ac5cc788c",
   "metadata": {},
   "outputs": [
    {
     "name": "stderr",
     "output_type": "stream",
     "text": [
      "                                                                                \r"
     ]
    },
    {
     "name": "stdout",
     "output_type": "stream",
     "text": [
      "                                match_id  \\\n",
      "0   0012f42d-dfbc-44e8-ab2b-49b854a015d1   \n",
      "1   00169217-cca6-4b47-8df0-559ee424143f   \n",
      "2   00169217-cca6-4b47-8df0-559ee424143f   \n",
      "3   00169217-cca6-4b47-8df0-559ee424143f   \n",
      "4   00169217-cca6-4b47-8df0-559ee424143f   \n",
      "..                                   ...   \n",
      "95  00169217-cca6-4b47-8df0-559ee424143f   \n",
      "96  00169217-cca6-4b47-8df0-559ee424143f   \n",
      "97  00169217-cca6-4b47-8df0-559ee424143f   \n",
      "98  00169217-cca6-4b47-8df0-559ee424143f   \n",
      "99  00169217-cca6-4b47-8df0-559ee424143f   \n",
      "\n",
      "                                   mapid  is_team_game  \\\n",
      "0   cebd854f-f206-11e4-b46e-24be05e24f7e          True   \n",
      "1   cc040aa1-f206-11e4-a3e0-24be05e24f7e          True   \n",
      "2   cc040aa1-f206-11e4-a3e0-24be05e24f7e          True   \n",
      "3   cc040aa1-f206-11e4-a3e0-24be05e24f7e          True   \n",
      "4   cc040aa1-f206-11e4-a3e0-24be05e24f7e          True   \n",
      "..                                   ...           ...   \n",
      "95  cc040aa1-f206-11e4-a3e0-24be05e24f7e          True   \n",
      "96  cc040aa1-f206-11e4-a3e0-24be05e24f7e          True   \n",
      "97  cc040aa1-f206-11e4-a3e0-24be05e24f7e          True   \n",
      "98  cc040aa1-f206-11e4-a3e0-24be05e24f7e          True   \n",
      "99  cc040aa1-f206-11e4-a3e0-24be05e24f7e          True   \n",
      "\n",
      "                             playlist_id  \\\n",
      "0   892189e9-d712-4bdb-afa7-1ccab43fbed4   \n",
      "1   2323b76a-db98-4e03-aa37-e171cfbdd1a4   \n",
      "2   2323b76a-db98-4e03-aa37-e171cfbdd1a4   \n",
      "3   2323b76a-db98-4e03-aa37-e171cfbdd1a4   \n",
      "4   2323b76a-db98-4e03-aa37-e171cfbdd1a4   \n",
      "..                                   ...   \n",
      "95  2323b76a-db98-4e03-aa37-e171cfbdd1a4   \n",
      "96  2323b76a-db98-4e03-aa37-e171cfbdd1a4   \n",
      "97  2323b76a-db98-4e03-aa37-e171cfbdd1a4   \n",
      "98  2323b76a-db98-4e03-aa37-e171cfbdd1a4   \n",
      "99  2323b76a-db98-4e03-aa37-e171cfbdd1a4   \n",
      "\n",
      "                         game_variant_id  is_match_over completion_date  \\\n",
      "0   257a305e-4dd3-41f1-9824-dfe7e8bd59e1           True      2016-01-26   \n",
      "1   257a305e-4dd3-41f1-9824-dfe7e8bd59e1           True      2016-03-13   \n",
      "2   257a305e-4dd3-41f1-9824-dfe7e8bd59e1           True      2016-03-13   \n",
      "3   257a305e-4dd3-41f1-9824-dfe7e8bd59e1           True      2016-03-13   \n",
      "4   257a305e-4dd3-41f1-9824-dfe7e8bd59e1           True      2016-03-13   \n",
      "..                                   ...            ...             ...   \n",
      "95  257a305e-4dd3-41f1-9824-dfe7e8bd59e1           True      2016-03-13   \n",
      "96  257a305e-4dd3-41f1-9824-dfe7e8bd59e1           True      2016-03-13   \n",
      "97  257a305e-4dd3-41f1-9824-dfe7e8bd59e1           True      2016-03-13   \n",
      "98  257a305e-4dd3-41f1-9824-dfe7e8bd59e1           True      2016-03-13   \n",
      "99  257a305e-4dd3-41f1-9824-dfe7e8bd59e1           True      2016-03-13   \n",
      "\n",
      "   match_duration game_mode                        map_variant_id  \\\n",
      "0            None      None  0f8526a7-4a95-4e8d-bec1-9eefe238cc22   \n",
      "1            None      None                                  None   \n",
      "2            None      None                                  None   \n",
      "3            None      None                                  None   \n",
      "4            None      None                                  None   \n",
      "..            ...       ...                                   ...   \n",
      "95           None      None                                  None   \n",
      "96           None      None                                  None   \n",
      "97           None      None                                  None   \n",
      "98           None      None                                  None   \n",
      "99           None      None                                  None   \n",
      "\n",
      "   player_gamertag  spartan_rank  player_total_kills medal_player_gamertag  \\\n",
      "0             None           NaN                 NaN                  None   \n",
      "1    King Terror V          68.0                14.0         King Terror V   \n",
      "2    King Terror V          68.0                14.0         King Terror V   \n",
      "3    King Terror V          68.0                14.0         King Terror V   \n",
      "4    King Terror V          68.0                14.0         King Terror V   \n",
      "..             ...           ...                 ...                   ...   \n",
      "95     EXTREMENOVA         127.0                 8.0         King Terror V   \n",
      "96     EXTREMENOVA         127.0                 8.0         King Terror V   \n",
      "97     EXTREMENOVA         127.0                 8.0         King Terror V   \n",
      "98     EXTREMENOVA         127.0                 8.0         King Terror V   \n",
      "99     EXTREMENOVA         127.0                 8.0         King Terror V   \n",
      "\n",
      "        medal_id  count  \n",
      "0            NaN    NaN  \n",
      "1   3.261908e+09   11.0  \n",
      "2   3.001183e+09    1.0  \n",
      "3   8.247337e+08    3.0  \n",
      "4   2.078759e+09    3.0  \n",
      "..           ...    ...  \n",
      "95  3.001183e+09    1.0  \n",
      "96  8.247337e+08    3.0  \n",
      "97  2.078759e+09    3.0  \n",
      "98  2.430243e+09    1.0  \n",
      "99  4.660594e+08    1.0  \n",
      "\n",
      "[100 rows x 16 columns]\n"
     ]
    }
   ],
   "source": [
    "subset_df = joined_table_df.limit(100) \n",
    "subset_pdf = subset_df.toPandas()\n",
    "print(subset_pdf)"
   ]
  },
  {
   "cell_type": "markdown",
   "id": "c12229fc-23ef-40a5-9b9a-9b0473c9fbf4",
   "metadata": {},
   "source": [
    "**Question4** Aggregate the joined data frame. </br>\n",
    "**Q4.1** Which player averages the most kills per game?"
   ]
  },
  {
   "cell_type": "code",
   "execution_count": 6,
   "id": "032ec425-00d0-4db1-800a-8529c6dd0ca2",
   "metadata": {},
   "outputs": [],
   "source": [
    "joined_table_df.createOrReplaceTempView(\"joined_table\")"
   ]
  },
  {
   "cell_type": "code",
   "execution_count": 29,
   "id": "49c8e91e-cfc0-4292-96be-8730bf186363",
   "metadata": {},
   "outputs": [
    {
     "name": "stderr",
     "output_type": "stream",
     "text": [
      "[Stage 109:=======>                                                 (1 + 7) / 8]\r"
     ]
    },
    {
     "name": "stdout",
     "output_type": "stream",
     "text": [
      "+---------------+-------------------+\n",
      "|player_gamertag|avg_kills_per_match|\n",
      "+---------------+-------------------+\n",
      "|   gimpinator14|              109.0|\n",
      "+---------------+-------------------+\n",
      "\n"
     ]
    },
    {
     "name": "stderr",
     "output_type": "stream",
     "text": [
      "                                                                                \r"
     ]
    }
   ],
   "source": [
    "q1 = \"\"\" \n",
    "WITH deduplicated_table AS (\n",
    "    SELECT DISTINCT \n",
    "        match_id, \n",
    "        player_gamertag, \n",
    "        player_total_kills\n",
    "    FROM \n",
    "        joined_table\n",
    "),\n",
    "player_match_kills AS (\n",
    "    SELECT \n",
    "        player_gamertag,\n",
    "        match_id,\n",
    "        SUM(player_total_kills) AS total_kills_per_match\n",
    "    FROM \n",
    "        deduplicated_table\n",
    "    GROUP BY \n",
    "        player_gamertag, match_id\n",
    "),\n",
    "player_avg_kills AS (\n",
    "    SELECT \n",
    "        player_gamertag,\n",
    "        AVG(total_kills_per_match) AS avg_kills_per_match\n",
    "    FROM \n",
    "        player_match_kills\n",
    "    GROUP BY \n",
    "        player_gamertag\n",
    ")\n",
    "SELECT \n",
    "    player_gamertag,\n",
    "    avg_kills_per_match\n",
    "FROM \n",
    "    player_avg_kills\n",
    "ORDER BY \n",
    "    avg_kills_per_match DESC\n",
    "LIMIT 1;\n",
    "\"\"\"\n",
    "spark.sql(q1).show()"
   ]
  },
  {
   "cell_type": "code",
   "execution_count": 35,
   "id": "d35297a5-5715-4bc4-bab6-c18fbe0f7adb",
   "metadata": {},
   "outputs": [],
   "source": [
    "# spark.sql(\"\"\"select match_id, player_total_kills, medal_player_gamertag, medal_id,count from joined_table where player_gamertag == 'gimpinator14' \"\"\").show(truncate=False)"
   ]
  },
  {
   "cell_type": "markdown",
   "id": "7f662f21-eac1-49b9-b672-57566b845386",
   "metadata": {},
   "source": [
    "**Q4.2** Which playlist gets played the most?"
   ]
  },
  {
   "cell_type": "code",
   "execution_count": 48,
   "id": "82468f5e-0ca3-49b7-81d6-9293c69018a9",
   "metadata": {},
   "outputs": [
    {
     "name": "stderr",
     "output_type": "stream",
     "text": [
      "[Stage 292:============================>                            (1 + 1) / 2]\r"
     ]
    },
    {
     "name": "stdout",
     "output_type": "stream",
     "text": [
      "+------------------------------------+------------+\n",
      "|playlist_id                         |times_played|\n",
      "+------------------------------------+------------+\n",
      "|f72e0ef0-7c4a-4307-af78-8e38dac3fdba|9350        |\n",
      "+------------------------------------+------------+\n",
      "\n"
     ]
    },
    {
     "name": "stderr",
     "output_type": "stream",
     "text": [
      "                                                                                \r"
     ]
    }
   ],
   "source": [
    "q2 = \"\"\"\n",
    "WITH deduplicated_table AS (\n",
    "    SELECT DISTINCT \n",
    "        match_id, \n",
    "        playlist_id\n",
    "    FROM \n",
    "        joined_table\n",
    ")\n",
    "SELECT \n",
    "    playlist_id,\n",
    "    COUNT(*) AS times_played\n",
    "FROM \n",
    "    deduplicated_table\n",
    "GROUP BY \n",
    "    playlist_id\n",
    "ORDER BY \n",
    "    times_played DESC\n",
    "LIMIT 1;\n",
    "\"\"\"\n",
    "spark.sql(q2).show(truncate=False)"
   ]
  },
  {
   "cell_type": "markdown",
   "id": "7b0f8d07-e391-44e4-bf2b-14b97afd8aa9",
   "metadata": {},
   "source": [
    "**Q4.3** Which map gets played the most?"
   ]
  },
  {
   "cell_type": "code",
   "execution_count": 49,
   "id": "92fb3b0b-0acf-4730-95cf-9b3197bc5315",
   "metadata": {},
   "outputs": [
    {
     "name": "stderr",
     "output_type": "stream",
     "text": [
      "[Stage 316:============================>                            (1 + 1) / 2]\r"
     ]
    },
    {
     "name": "stdout",
     "output_type": "stream",
     "text": [
      "+------------------------------------+------------+\n",
      "|mapid                               |times_played|\n",
      "+------------------------------------+------------+\n",
      "|c7edbf0f-f206-11e4-aa52-24be05e24f7e|8587        |\n",
      "+------------------------------------+------------+\n",
      "\n"
     ]
    },
    {
     "name": "stderr",
     "output_type": "stream",
     "text": [
      "                                                                                \r"
     ]
    }
   ],
   "source": [
    "q3 = \"\"\"\n",
    "WITH deduplicated_table AS (\n",
    "    SELECT DISTINCT \n",
    "        match_id, \n",
    "        mapid\n",
    "    FROM \n",
    "        joined_table\n",
    ")\n",
    "SELECT \n",
    "    mapid,\n",
    "    COUNT(*) AS times_played\n",
    "FROM \n",
    "    deduplicated_table\n",
    "GROUP BY \n",
    "    mapid\n",
    "ORDER BY \n",
    "    times_played DESC\n",
    "LIMIT 1;\n",
    "\"\"\"\n",
    "spark.sql(q3).show(truncate=False)"
   ]
  },
  {
   "cell_type": "markdown",
   "id": "b4a7db98-2fee-4b50-b69f-f634c83bcafb",
   "metadata": {},
   "source": [
    "**Q4.4**Which map do players get the most Killing Spree medals on?"
   ]
  },
  {
   "cell_type": "code",
   "execution_count": 46,
   "id": "c2bae5a0-a2fb-4adb-8248-19e564d85f19",
   "metadata": {},
   "outputs": [],
   "source": [
    "df_medals.createOrReplaceTempView(\"medals\")"
   ]
  },
  {
   "cell_type": "code",
   "execution_count": 47,
   "id": "e46e3d48-5a15-4e66-a1df-2833aba9adc6",
   "metadata": {},
   "outputs": [
    {
     "name": "stderr",
     "output_type": "stream",
     "text": [
      "24/12/10 16:57:28 WARN RowBasedKeyValueBatch: Calling spill() on RowBasedKeyValueBatch. Will not spill but return 0.\n",
      "24/12/10 16:57:28 WARN RowBasedKeyValueBatch: Calling spill() on RowBasedKeyValueBatch. Will not spill but return 0.\n",
      "24/12/10 16:57:28 WARN RowBasedKeyValueBatch: Calling spill() on RowBasedKeyValueBatch. Will not spill but return 0.\n",
      "24/12/10 16:57:28 WARN RowBasedKeyValueBatch: Calling spill() on RowBasedKeyValueBatch. Will not spill but return 0.\n",
      "24/12/10 16:57:28 WARN RowBasedKeyValueBatch: Calling spill() on RowBasedKeyValueBatch. Will not spill but return 0.\n",
      "24/12/10 16:57:28 WARN RowBasedKeyValueBatch: Calling spill() on RowBasedKeyValueBatch. Will not spill but return 0.\n",
      "24/12/10 16:57:28 WARN RowBasedKeyValueBatch: Calling spill() on RowBasedKeyValueBatch. Will not spill but return 0.\n",
      "24/12/10 16:57:28 WARN RowBasedKeyValueBatch: Calling spill() on RowBasedKeyValueBatch. Will not spill but return 0.\n",
      "24/12/10 16:57:28 WARN RowBasedKeyValueBatch: Calling spill() on RowBasedKeyValueBatch. Will not spill but return 0.\n",
      "24/12/10 16:57:28 WARN RowBasedKeyValueBatch: Calling spill() on RowBasedKeyValueBatch. Will not spill but return 0.\n",
      "24/12/10 16:57:28 WARN RowBasedKeyValueBatch: Calling spill() on RowBasedKeyValueBatch. Will not spill but return 0.\n",
      "24/12/10 16:57:28 WARN RowBasedKeyValueBatch: Calling spill() on RowBasedKeyValueBatch. Will not spill but return 0.\n",
      "24/12/10 16:57:28 WARN RowBasedKeyValueBatch: Calling spill() on RowBasedKeyValueBatch. Will not spill but return 0.\n",
      "24/12/10 16:57:28 WARN RowBasedKeyValueBatch: Calling spill() on RowBasedKeyValueBatch. Will not spill but return 0.\n",
      "24/12/10 16:57:28 WARN RowBasedKeyValueBatch: Calling spill() on RowBasedKeyValueBatch. Will not spill but return 0.\n",
      "24/12/10 16:57:28 WARN RowBasedKeyValueBatch: Calling spill() on RowBasedKeyValueBatch. Will not spill but return 0.\n",
      "24/12/10 16:57:28 WARN RowBasedKeyValueBatch: Calling spill() on RowBasedKeyValueBatch. Will not spill but return 0.\n",
      "24/12/10 16:57:28 WARN RowBasedKeyValueBatch: Calling spill() on RowBasedKeyValueBatch. Will not spill but return 0.\n",
      "24/12/10 16:57:28 WARN RowBasedKeyValueBatch: Calling spill() on RowBasedKeyValueBatch. Will not spill but return 0.\n",
      "24/12/10 16:57:28 WARN RowBasedKeyValueBatch: Calling spill() on RowBasedKeyValueBatch. Will not spill but return 0.\n",
      "24/12/10 16:57:28 WARN RowBasedKeyValueBatch: Calling spill() on RowBasedKeyValueBatch. Will not spill but return 0.\n",
      "24/12/10 16:57:28 WARN RowBasedKeyValueBatch: Calling spill() on RowBasedKeyValueBatch. Will not spill but return 0.\n",
      "24/12/10 16:57:28 WARN RowBasedKeyValueBatch: Calling spill() on RowBasedKeyValueBatch. Will not spill but return 0.\n",
      "24/12/10 16:57:28 WARN RowBasedKeyValueBatch: Calling spill() on RowBasedKeyValueBatch. Will not spill but return 0.\n",
      "24/12/10 16:57:28 WARN RowBasedKeyValueBatch: Calling spill() on RowBasedKeyValueBatch. Will not spill but return 0.\n",
      "24/12/10 16:57:28 WARN RowBasedKeyValueBatch: Calling spill() on RowBasedKeyValueBatch. Will not spill but return 0.\n",
      "24/12/10 16:57:28 WARN RowBasedKeyValueBatch: Calling spill() on RowBasedKeyValueBatch. Will not spill but return 0.\n",
      "24/12/10 16:57:28 WARN RowBasedKeyValueBatch: Calling spill() on RowBasedKeyValueBatch. Will not spill but return 0.\n",
      "24/12/10 16:57:28 WARN RowBasedKeyValueBatch: Calling spill() on RowBasedKeyValueBatch. Will not spill but return 0.\n",
      "24/12/10 16:57:28 WARN RowBasedKeyValueBatch: Calling spill() on RowBasedKeyValueBatch. Will not spill but return 0.\n",
      "24/12/10 16:57:29 WARN RowBasedKeyValueBatch: Calling spill() on RowBasedKeyValueBatch. Will not spill but return 0.\n",
      "24/12/10 16:57:29 WARN RowBasedKeyValueBatch: Calling spill() on RowBasedKeyValueBatch. Will not spill but return 0.\n",
      "24/12/10 16:57:29 WARN RowBasedKeyValueBatch: Calling spill() on RowBasedKeyValueBatch. Will not spill but return 0.\n",
      "24/12/10 16:57:29 WARN RowBasedKeyValueBatch: Calling spill() on RowBasedKeyValueBatch. Will not spill but return 0.\n",
      "24/12/10 16:57:29 WARN RowBasedKeyValueBatch: Calling spill() on RowBasedKeyValueBatch. Will not spill but return 0.\n",
      "24/12/10 16:57:29 WARN RowBasedKeyValueBatch: Calling spill() on RowBasedKeyValueBatch. Will not spill but return 0.\n",
      "24/12/10 16:57:29 WARN RowBasedKeyValueBatch: Calling spill() on RowBasedKeyValueBatch. Will not spill but return 0.\n",
      "24/12/10 16:57:29 WARN RowBasedKeyValueBatch: Calling spill() on RowBasedKeyValueBatch. Will not spill but return 0.\n",
      "24/12/10 16:57:29 WARN RowBasedKeyValueBatch: Calling spill() on RowBasedKeyValueBatch. Will not spill but return 0.\n",
      "24/12/10 16:57:29 WARN RowBasedKeyValueBatch: Calling spill() on RowBasedKeyValueBatch. Will not spill but return 0.\n",
      "24/12/10 16:57:29 WARN RowBasedKeyValueBatch: Calling spill() on RowBasedKeyValueBatch. Will not spill but return 0.\n",
      "24/12/10 16:57:29 WARN RowBasedKeyValueBatch: Calling spill() on RowBasedKeyValueBatch. Will not spill but return 0.\n",
      "24/12/10 16:57:29 WARN RowBasedKeyValueBatch: Calling spill() on RowBasedKeyValueBatch. Will not spill but return 0.\n",
      "24/12/10 16:57:29 WARN RowBasedKeyValueBatch: Calling spill() on RowBasedKeyValueBatch. Will not spill but return 0.\n",
      "24/12/10 16:57:29 WARN RowBasedKeyValueBatch: Calling spill() on RowBasedKeyValueBatch. Will not spill but return 0.\n",
      "24/12/10 16:57:29 WARN RowBasedKeyValueBatch: Calling spill() on RowBasedKeyValueBatch. Will not spill but return 0.\n",
      "24/12/10 16:57:29 WARN RowBasedKeyValueBatch: Calling spill() on RowBasedKeyValueBatch. Will not spill but return 0.\n",
      "24/12/10 16:57:29 WARN RowBasedKeyValueBatch: Calling spill() on RowBasedKeyValueBatch. Will not spill but return 0.\n",
      "24/12/10 16:57:29 WARN RowBasedKeyValueBatch: Calling spill() on RowBasedKeyValueBatch. Will not spill but return 0.\n",
      "24/12/10 16:57:29 WARN RowBasedKeyValueBatch: Calling spill() on RowBasedKeyValueBatch. Will not spill but return 0.\n",
      "24/12/10 16:57:29 WARN RowBasedKeyValueBatch: Calling spill() on RowBasedKeyValueBatch. Will not spill but return 0.\n",
      "24/12/10 16:57:29 WARN RowBasedKeyValueBatch: Calling spill() on RowBasedKeyValueBatch. Will not spill but return 0.\n",
      "24/12/10 16:57:29 WARN RowBasedKeyValueBatch: Calling spill() on RowBasedKeyValueBatch. Will not spill but return 0.\n",
      "24/12/10 16:57:29 WARN RowBasedKeyValueBatch: Calling spill() on RowBasedKeyValueBatch. Will not spill but return 0.\n",
      "24/12/10 16:57:29 WARN RowBasedKeyValueBatch: Calling spill() on RowBasedKeyValueBatch. Will not spill but return 0.\n",
      "24/12/10 16:57:29 WARN RowBasedKeyValueBatch: Calling spill() on RowBasedKeyValueBatch. Will not spill but return 0.\n",
      "24/12/10 16:57:29 WARN RowBasedKeyValueBatch: Calling spill() on RowBasedKeyValueBatch. Will not spill but return 0.\n",
      "24/12/10 16:57:29 WARN RowBasedKeyValueBatch: Calling spill() on RowBasedKeyValueBatch. Will not spill but return 0.\n",
      "24/12/10 16:57:29 WARN RowBasedKeyValueBatch: Calling spill() on RowBasedKeyValueBatch. Will not spill but return 0.\n",
      "24/12/10 16:57:29 WARN RowBasedKeyValueBatch: Calling spill() on RowBasedKeyValueBatch. Will not spill but return 0.\n",
      "24/12/10 16:57:29 WARN RowBasedKeyValueBatch: Calling spill() on RowBasedKeyValueBatch. Will not spill but return 0.\n",
      "24/12/10 16:57:29 WARN RowBasedKeyValueBatch: Calling spill() on RowBasedKeyValueBatch. Will not spill but return 0.\n",
      "24/12/10 16:57:29 WARN RowBasedKeyValueBatch: Calling spill() on RowBasedKeyValueBatch. Will not spill but return 0.\n",
      "[Stage 273:==================================================>    (10 + 1) / 11]\r"
     ]
    },
    {
     "name": "stdout",
     "output_type": "stream",
     "text": [
      "+------------------------------------+------------+\n",
      "|mapid                               |total_medals|\n",
      "+------------------------------------+------------+\n",
      "|c7edbf0f-f206-11e4-aa52-24be05e24f7e|6925        |\n",
      "+------------------------------------+------------+\n",
      "\n"
     ]
    },
    {
     "name": "stderr",
     "output_type": "stream",
     "text": [
      "                                                                                \r"
     ]
    }
   ],
   "source": [
    "q4=\"\"\"\n",
    "    WITH deduplicated_table AS (\n",
    "        SELECT DISTINCT \n",
    "            jt.match_id, \n",
    "            jt.mapid,\n",
    "            jt.medal_player_gamertag,\n",
    "            jt.medal_id,\n",
    "            jt.count\n",
    "        FROM \n",
    "            joined_table jt\n",
    "        JOIN\n",
    "            medals m\n",
    "        ON \n",
    "            jt.medal_id = m.medal_id\n",
    "        WHERE \n",
    "            m.classification = 'KillingSpree'\n",
    "    )\n",
    "        SELECT \n",
    "        mapid, \n",
    "        SUM(count) AS total_medals\n",
    "    FROM \n",
    "        deduplicated_table\n",
    "    GROUP BY \n",
    "        mapid\n",
    "    ORDER BY \n",
    "        total_medals DESC\n",
    "    LIMIT 1\n",
    "\"\"\"\n",
    "spark.sql(q4).show(truncate=False)"
   ]
  },
  {
   "cell_type": "markdown",
   "id": "a84187ef-bb64-45e5-94c0-d7e85111b402",
   "metadata": {},
   "source": [
    "**Q5** Try different `.sortWithinPartitions`"
   ]
  },
  {
   "cell_type": "code",
   "execution_count": 7,
   "id": "0ad96f2f-b72f-4e24-acbc-1d17ef5cb39a",
   "metadata": {},
   "outputs": [
    {
     "data": {
      "text/plain": [
       "DataFrame[]"
      ]
     },
     "execution_count": 7,
     "metadata": {},
     "output_type": "execute_result"
    }
   ],
   "source": [
    "spark.sql(\n",
    "\"\"\"CREATE TABLE IF NOT EXISTS bootcamp.hw3_joined_table (\n",
    "    match_id STRING,\n",
    "    mapid STRING,\n",
    "    is_team_game BOOLEAN,\n",
    "    playlist_id STRING,\n",
    "    game_variant_id STRING,\n",
    "    is_match_over BOOLEAN,\n",
    "    completion_date TIMESTAMP,\n",
    "    match_duration STRING,\n",
    "    game_mode STRING,\n",
    "    map_variant_id STRING,\n",
    "    player_gamertag STRING,\n",
    "    spartan_rank INTEGER,\n",
    "    player_total_kills INTEGER,\n",
    "    medal_player_gamertag STRING,\n",
    "    medal_id BIGINT,\n",
    "    count INTEGER\n",
    ")\n",
    "USING iceberg\n",
    "    PARTITIONED BY (match_id);\n",
    "    \"\"\"\n",
    ")"
   ]
  },
  {
   "cell_type": "code",
   "execution_count": 8,
   "id": "9c7d45fe-9888-45e8-aa9c-3aec27d512cb",
   "metadata": {},
   "outputs": [
    {
     "data": {
      "text/plain": [
       "DataFrame[]"
      ]
     },
     "execution_count": 8,
     "metadata": {},
     "output_type": "execute_result"
    }
   ],
   "source": [
    "spark.sql(\n",
    "\"\"\"CREATE TABLE IF NOT EXISTS bootcamp.hw3_sorted_1 (\n",
    "    match_id STRING,\n",
    "    mapid STRING,\n",
    "    is_team_game BOOLEAN,\n",
    "    playlist_id STRING,\n",
    "    game_variant_id STRING,\n",
    "    is_match_over BOOLEAN,\n",
    "    completion_date TIMESTAMP,\n",
    "    match_duration STRING,\n",
    "    game_mode STRING,\n",
    "    map_variant_id STRING,\n",
    "    player_gamertag STRING,\n",
    "    spartan_rank INTEGER,\n",
    "    player_total_kills INTEGER,\n",
    "    medal_player_gamertag STRING,\n",
    "    medal_id BIGINT,\n",
    "    count INTEGER\n",
    ")\n",
    "USING iceberg\n",
    "    PARTITIONED BY (match_id);\n",
    "    \"\"\"\n",
    ")"
   ]
  },
  {
   "cell_type": "code",
   "execution_count": 53,
   "id": "1be67f2c-930f-4e7f-99fa-afb97b9c47f1",
   "metadata": {},
   "outputs": [
    {
     "name": "stderr",
     "output_type": "stream",
     "text": [
      "                                                                                \r"
     ]
    }
   ],
   "source": [
    "start_df = joined_table_df.repartition(4, col(\"match_id\"))\n",
    "sorted_df_1 = start_df.sortWithinPartitions(col(\"match_id\"), col(\"player_gamertag\"), col(\"mapid\")) \n",
    "\n",
    "start_df.write.mode(\"overwrite\").saveAsTable(\"bootcamp.hw3_joined_table\")\n",
    "sorted_df_1.write.mode(\"overwrite\").saveAsTable(\"bootcamp.hw3_sorted_1\")"
   ]
  },
  {
   "cell_type": "code",
   "execution_count": 55,
   "id": "6f932d34-d310-4686-b27c-7891cf0ec963",
   "metadata": {
    "scrolled": true
   },
   "outputs": [
    {
     "name": "stderr",
     "output_type": "stream",
     "text": [
      "24/12/10 18:08:10 WARN SparkSession: Using an existing Spark session; only runtime SQL configurations will take effect.\n"
     ]
    },
    {
     "data": {
      "text/html": [
       "<table>\n",
       "    <thead>\n",
       "        <tr>\n",
       "            <th>content</th>\n",
       "            <th>file_path</th>\n",
       "            <th>file_format</th>\n",
       "            <th>spec_id</th>\n",
       "            <th>partition</th>\n",
       "            <th>record_count</th>\n",
       "            <th>file_size_in_bytes</th>\n",
       "            <th>column_sizes</th>\n",
       "            <th>value_counts</th>\n",
       "            <th>null_value_counts</th>\n",
       "            <th>nan_value_counts</th>\n",
       "            <th>lower_bounds</th>\n",
       "            <th>upper_bounds</th>\n",
       "            <th>key_metadata</th>\n",
       "            <th>split_offsets</th>\n",
       "            <th>equality_ids</th>\n",
       "            <th>sort_order_id</th>\n",
       "            <th>readable_metrics</th>\n",
       "        </tr>\n",
       "    </thead>\n",
       "    <tbody>\n",
       "        <tr>\n",
       "            <td>0</td>\n",
       "            <td>s3://warehouse/bootcamp/hw3_joined_table/data/00000-445-32a73932-45f8-45e2-92be-b573265aac4a-0-00001.parquet</td>\n",
       "            <td>PARQUET</td>\n",
       "            <td>1</td>\n",
       "            <td>Row(match_id=None)</td>\n",
       "            <td>1690168</td>\n",
       "            <td>2147520</td>\n",
       "            <td>{1: 153280, 2: 20332, 3: 8172, 4: 19550, 5: 15729, 6: 6488, 7: 24376, 8: 3570, 9: 3570, 10: 30346, 11: 315229, 12: 80511, 13: 67884, 14: 745234, 15: 244357, 16: 342208}</td>\n",
       "            <td>{1: 1690168, 2: 1690168, 3: 1690168, 4: 1690168, 5: 1690168, 6: 1690168, 7: 1690168, 8: 1690168, 9: 1690168, 10: 1690168, 11: 1690168, 12: 1690168, 13: 1690168, 14: 1690168, 15: 1690168, 16: 1690168}</td>\n",
       "            <td>{1: 0, 2: 0, 3: 113155, 4: 0, 5: 0, 6: 113155, 7: 0, 8: 1690168, 9: 1690168, 10: 886154, 11: 1204, 12: 1204, 13: 1204, 14: 1477, 15: 1477, 16: 1477}</td>\n",
       "            <td>{}</td>\n",
       "            <td>{1: bytearray(b&#x27;0000e3cf-727c-49&#x27;), 2: bytearray(b&#x27;5e130537-2275-40&#x27;), 3: bytearray(b&#x27;\\x00&#x27;), 4: bytearray(b&#x27;0504ca3c-de41-48&#x27;), 5: bytearray(b&#x27;1571fdac-e0b4-4e&#x27;), 6: bytearray(b&#x27;\\x01&#x27;), 7: bytearray(b&#x27;\\x00\\xa0L\\xc2\\n#\\x05\\x00&#x27;), 10: bytearray(b&#x27;00e24014-e0c7-44&#x27;), 11: bytearray(b&#x27;A 29 Delivery&#x27;), 12: bytearray(b&#x27;\\x01\\x00\\x00\\x00&#x27;), 13: bytearray(b&#x27;\\x00\\x00\\x00\\x00&#x27;), 14: bytearray(b&#x27;A 29 Delivery&#x27;), 15: bytearray(b&#x27;Uc\\x1e\\x02\\x00\\x00\\x00\\x00&#x27;), 16: bytearray(b&#x27;\\x01\\x00\\x00\\x00&#x27;)}</td>\n",
       "            <td>{1: bytearray(b&#x27;fff72374-8977-49&#x27;), 2: bytearray(b&#x27;cebd854f-f206-12&#x27;), 3: bytearray(b&#x27;\\x01&#x27;), 4: bytearray(b&#x27;fe2ad4e1-3def-47&#x27;), 5: bytearray(b&#x27;f6de5351-3797-42&#x27;), 6: bytearray(b&#x27;\\x01&#x27;), 7: bytearray(b&#x27;\\x00\\xa0\\xfa\\xecq=\\x05\\x00&#x27;), 10: bytearray(b&#x27;fffc437b-2fd9-47&#x27;), 11: bytearray(b&#x27;zztonii&#x27;), 12: bytearray(b&#x27;\\x97\\x00\\x00\\x00&#x27;), 13: bytearray(b&#x27;m\\x00\\x00\\x00&#x27;), 14: bytearray(b&#x27;zztonii&#x27;), 15: bytearray(b&#x27;*Sx\\xfd\\x00\\x00\\x00\\x00&#x27;), 16: bytearray(b&quot;\\&#x27;\\x00\\x00\\x00&quot;)}</td>\n",
       "            <td>None</td>\n",
       "            <td>[4]</td>\n",
       "            <td>None</td>\n",
       "            <td>0</td>\n",
       "            <td>Row(completion_date=Row(column_size=24376, value_count=1690168, null_value_count=0, nan_value_count=None, lower_bound=datetime.datetime(2015, 10, 27, 0, 0), upper_bound=datetime.datetime(2016, 9, 27, 0, 0)), count=Row(column_size=342208, value_count=1690168, null_value_count=1477, nan_value_count=None, lower_bound=1, upper_bound=39), game_mode=Row(column_size=3570, value_count=1690168, null_value_count=1690168, nan_value_count=None, lower_bound=None, upper_bound=None), game_variant_id=Row(column_size=15729, value_count=1690168, null_value_count=0, nan_value_count=None, lower_bound=&#x27;1571fdac-e0b4-4e&#x27;, upper_bound=&#x27;f6de5351-3797-42&#x27;), is_match_over=Row(column_size=6488, value_count=1690168, null_value_count=113155, nan_value_count=None, lower_bound=True, upper_bound=True), is_team_game=Row(column_size=8172, value_count=1690168, null_value_count=113155, nan_value_count=None, lower_bound=False, upper_bound=True), map_variant_id=Row(column_size=30346, value_count=1690168, null_value_count=886154, nan_value_count=None, lower_bound=&#x27;00e24014-e0c7-44&#x27;, upper_bound=&#x27;fffc437b-2fd9-47&#x27;), mapid=Row(column_size=20332, value_count=1690168, null_value_count=0, nan_value_count=None, lower_bound=&#x27;5e130537-2275-40&#x27;, upper_bound=&#x27;cebd854f-f206-12&#x27;), match_duration=Row(column_size=3570, value_count=1690168, null_value_count=1690168, nan_value_count=None, lower_bound=None, upper_bound=None), match_id=Row(column_size=153280, value_count=1690168, null_value_count=0, nan_value_count=None, lower_bound=&#x27;0000e3cf-727c-49&#x27;, upper_bound=&#x27;fff72374-8977-49&#x27;), medal_id=Row(column_size=244357, value_count=1690168, null_value_count=1477, nan_value_count=None, lower_bound=35545941, upper_bound=4252521258), medal_player_gamertag=Row(column_size=745234, value_count=1690168, null_value_count=1477, nan_value_count=None, lower_bound=&#x27;A 29 Delivery&#x27;, upper_bound=&#x27;zztonii&#x27;), player_gamertag=Row(column_size=315229, value_count=1690168, null_value_count=1204, nan_value_count=None, lower_bound=&#x27;A 29 Delivery&#x27;, upper_bound=&#x27;zztonii&#x27;), player_total_kills=Row(column_size=67884, value_count=1690168, null_value_count=1204, nan_value_count=None, lower_bound=0, upper_bound=109), playlist_id=Row(column_size=19550, value_count=1690168, null_value_count=0, nan_value_count=None, lower_bound=&#x27;0504ca3c-de41-48&#x27;, upper_bound=&#x27;fe2ad4e1-3def-47&#x27;), spartan_rank=Row(column_size=80511, value_count=1690168, null_value_count=1204, nan_value_count=None, lower_bound=1, upper_bound=151))</td>\n",
       "        </tr>\n",
       "        <tr>\n",
       "            <td>0</td>\n",
       "            <td>s3://warehouse/bootcamp/hw3_joined_table/data/00001-446-32a73932-45f8-45e2-92be-b573265aac4a-0-00001.parquet</td>\n",
       "            <td>PARQUET</td>\n",
       "            <td>1</td>\n",
       "            <td>Row(match_id=None)</td>\n",
       "            <td>1738116</td>\n",
       "            <td>2163731</td>\n",
       "            <td>{1: 156735, 2: 20094, 3: 8403, 4: 19429, 5: 16002, 6: 6710, 7: 25383, 8: 3654, 9: 3654, 10: 31007, 11: 321218, 12: 82069, 13: 69397, 14: 757804, 15: 255876, 16: 318294}</td>\n",
       "            <td>{1: 1738116, 2: 1738116, 3: 1738116, 4: 1738116, 5: 1738116, 6: 1738116, 7: 1738116, 8: 1738116, 9: 1738116, 10: 1738116, 11: 1738116, 12: 1738116, 13: 1738116, 14: 1738116, 15: 1738116, 16: 1738116}</td>\n",
       "            <td>{1: 0, 2: 0, 3: 111426, 4: 0, 5: 0, 6: 111426, 7: 0, 8: 1738116, 9: 1738116, 10: 932732, 11: 1236, 12: 1236, 13: 1236, 14: 1566, 15: 1566, 16: 1566}</td>\n",
       "            <td>{}</td>\n",
       "            <td>{1: bytearray(b&#x27;000e3254-27b0-4c&#x27;), 2: bytearray(b&#x27;5e130537-2275-40&#x27;), 3: bytearray(b&#x27;\\x00&#x27;), 4: bytearray(b&#x27;0504ca3c-de41-48&#x27;), 5: bytearray(b&#x27;1571fdac-e0b4-4e&#x27;), 6: bytearray(b&#x27;\\x01&#x27;), 7: bytearray(b&#x27;\\x00\\xa0L\\xc2\\n#\\x05\\x00&#x27;), 10: bytearray(b&#x27;011eaa34-3f05-48&#x27;), 11: bytearray(b&#x27;A 2 tailed fox&#x27;), 12: bytearray(b&#x27;\\x01\\x00\\x00\\x00&#x27;), 13: bytearray(b&#x27;\\x00\\x00\\x00\\x00&#x27;), 14: bytearray(b&#x27;A 2 tailed fox&#x27;), 15: bytearray(b&#x27;Uc\\x1e\\x02\\x00\\x00\\x00\\x00&#x27;), 16: bytearray(b&#x27;\\x01\\x00\\x00\\x00&#x27;)}</td>\n",
       "            <td>{1: bytearray(b&#x27;fff59f47-2a37-4c&#x27;), 2: bytearray(b&#x27;cebd854f-f206-12&#x27;), 3: bytearray(b&#x27;\\x01&#x27;), 4: bytearray(b&#x27;f72e0ef0-7c4a-44&#x27;), 5: bytearray(b&#x27;f6de5351-3797-42&#x27;), 6: bytearray(b&#x27;\\x01&#x27;), 7: bytearray(b&#x27;\\x00\\x00\\xd2\\n\\x86=\\x05\\x00&#x27;), 10: bytearray(b&#x27;fffc437b-2fd9-47&#x27;), 11: bytearray(b&#x27;zzSOzz&#x27;), 12: bytearray(b&#x27;\\x97\\x00\\x00\\x00&#x27;), 13: bytearray(b&#x27;S\\x00\\x00\\x00&#x27;), 14: bytearray(b&#x27;zzSOzz&#x27;), 15: bytearray(b&#x27;*Sx\\xfd\\x00\\x00\\x00\\x00&#x27;), 16: bytearray(b&#x27;:\\x00\\x00\\x00&#x27;)}</td>\n",
       "            <td>None</td>\n",
       "            <td>[4]</td>\n",
       "            <td>None</td>\n",
       "            <td>0</td>\n",
       "            <td>Row(completion_date=Row(column_size=25383, value_count=1738116, null_value_count=0, nan_value_count=None, lower_bound=datetime.datetime(2015, 10, 27, 0, 0), upper_bound=datetime.datetime(2016, 9, 28, 0, 0)), count=Row(column_size=318294, value_count=1738116, null_value_count=1566, nan_value_count=None, lower_bound=1, upper_bound=58), game_mode=Row(column_size=3654, value_count=1738116, null_value_count=1738116, nan_value_count=None, lower_bound=None, upper_bound=None), game_variant_id=Row(column_size=16002, value_count=1738116, null_value_count=0, nan_value_count=None, lower_bound=&#x27;1571fdac-e0b4-4e&#x27;, upper_bound=&#x27;f6de5351-3797-42&#x27;), is_match_over=Row(column_size=6710, value_count=1738116, null_value_count=111426, nan_value_count=None, lower_bound=True, upper_bound=True), is_team_game=Row(column_size=8403, value_count=1738116, null_value_count=111426, nan_value_count=None, lower_bound=False, upper_bound=True), map_variant_id=Row(column_size=31007, value_count=1738116, null_value_count=932732, nan_value_count=None, lower_bound=&#x27;011eaa34-3f05-48&#x27;, upper_bound=&#x27;fffc437b-2fd9-47&#x27;), mapid=Row(column_size=20094, value_count=1738116, null_value_count=0, nan_value_count=None, lower_bound=&#x27;5e130537-2275-40&#x27;, upper_bound=&#x27;cebd854f-f206-12&#x27;), match_duration=Row(column_size=3654, value_count=1738116, null_value_count=1738116, nan_value_count=None, lower_bound=None, upper_bound=None), match_id=Row(column_size=156735, value_count=1738116, null_value_count=0, nan_value_count=None, lower_bound=&#x27;000e3254-27b0-4c&#x27;, upper_bound=&#x27;fff59f47-2a37-4c&#x27;), medal_id=Row(column_size=255876, value_count=1738116, null_value_count=1566, nan_value_count=None, lower_bound=35545941, upper_bound=4252521258), medal_player_gamertag=Row(column_size=757804, value_count=1738116, null_value_count=1566, nan_value_count=None, lower_bound=&#x27;A 2 tailed fox&#x27;, upper_bound=&#x27;zzSOzz&#x27;), player_gamertag=Row(column_size=321218, value_count=1738116, null_value_count=1236, nan_value_count=None, lower_bound=&#x27;A 2 tailed fox&#x27;, upper_bound=&#x27;zzSOzz&#x27;), player_total_kills=Row(column_size=69397, value_count=1738116, null_value_count=1236, nan_value_count=None, lower_bound=0, upper_bound=83), playlist_id=Row(column_size=19429, value_count=1738116, null_value_count=0, nan_value_count=None, lower_bound=&#x27;0504ca3c-de41-48&#x27;, upper_bound=&#x27;f72e0ef0-7c4a-44&#x27;), spartan_rank=Row(column_size=82069, value_count=1738116, null_value_count=1236, nan_value_count=None, lower_bound=1, upper_bound=151))</td>\n",
       "        </tr>\n",
       "        <tr>\n",
       "            <td>0</td>\n",
       "            <td>s3://warehouse/bootcamp/hw3_joined_table/data/00002-447-32a73932-45f8-45e2-92be-b573265aac4a-0-00001.parquet</td>\n",
       "            <td>PARQUET</td>\n",
       "            <td>1</td>\n",
       "            <td>Row(match_id=None)</td>\n",
       "            <td>1724725</td>\n",
       "            <td>2184579</td>\n",
       "            <td>{1: 155790, 2: 20750, 3: 8180, 4: 19687, 5: 15953, 6: 6716, 7: 26075, 8: 3652, 9: 3652, 10: 30882, 11: 317920, 12: 81985, 13: 68427, 14: 760188, 15: 235625, 16: 361001}</td>\n",
       "            <td>{1: 1724725, 2: 1724725, 3: 1724725, 4: 1724725, 5: 1724725, 6: 1724725, 7: 1724725, 8: 1724725, 9: 1724725, 10: 1724725, 11: 1724725, 12: 1724725, 13: 1724725, 14: 1724725, 15: 1724725, 16: 1724725}</td>\n",
       "            <td>{1: 0, 2: 0, 3: 136428, 4: 0, 5: 0, 6: 136428, 7: 0, 8: 1724725, 9: 1724725, 10: 896680, 11: 1265, 12: 1265, 13: 1265, 14: 1455, 15: 1455, 16: 1455}</td>\n",
       "            <td>{}</td>\n",
       "            <td>{1: bytearray(b&#x27;0001a1c4-83dc-4f&#x27;), 2: bytearray(b&#x27;5e130537-2275-40&#x27;), 3: bytearray(b&#x27;\\x00&#x27;), 4: bytearray(b&#x27;0504ca3c-de41-48&#x27;), 5: bytearray(b&#x27;1571fdac-e0b4-4e&#x27;), 6: bytearray(b&#x27;\\x01&#x27;), 7: bytearray(b&#x27;\\x00\\xa0L\\xc2\\n#\\x05\\x00&#x27;), 10: bytearray(b&#x27;011eaa34-3f05-48&#x27;), 11: bytearray(b&#x27;A 0 N Eclipse&#x27;), 12: bytearray(b&#x27;\\x01\\x00\\x00\\x00&#x27;), 13: bytearray(b&#x27;\\x00\\x00\\x00\\x00&#x27;), 14: bytearray(b&#x27;A 0 N Eclipse&#x27;), 15: bytearray(b&#x27;Uc\\x1e\\x02\\x00\\x00\\x00\\x00&#x27;), 16: bytearray(b&#x27;\\x01\\x00\\x00\\x00&#x27;)}</td>\n",
       "            <td>{1: bytearray(b&#x27;fffc65f4-bc88-41&#x27;), 2: bytearray(b&#x27;cebd854f-f206-12&#x27;), 3: bytearray(b&#x27;\\x01&#x27;), 4: bytearray(b&#x27;fe2ad4e1-3def-47&#x27;), 5: bytearray(b&#x27;f6de5351-3797-42&#x27;), 6: bytearray(b&#x27;\\x01&#x27;), 7: bytearray(b&#x27;\\x00\\x00\\xd2\\n\\x86=\\x05\\x00&#x27;), 10: bytearray(b&#x27;fffc437b-2fd9-47&#x27;), 11: bytearray(b&#x27;zzzgameszzz&#x27;), 12: bytearray(b&#x27;\\x96\\x00\\x00\\x00&#x27;), 13: bytearray(b&#x27;L\\x00\\x00\\x00&#x27;), 14: bytearray(b&#x27;zzzgameszzz&#x27;), 15: bytearray(b&#x27;*Sx\\xfd\\x00\\x00\\x00\\x00&#x27;), 16: bytearray(b&#x27;\\x1f\\x00\\x00\\x00&#x27;)}</td>\n",
       "            <td>None</td>\n",
       "            <td>[4]</td>\n",
       "            <td>None</td>\n",
       "            <td>0</td>\n",
       "            <td>Row(completion_date=Row(column_size=26075, value_count=1724725, null_value_count=0, nan_value_count=None, lower_bound=datetime.datetime(2015, 10, 27, 0, 0), upper_bound=datetime.datetime(2016, 9, 28, 0, 0)), count=Row(column_size=361001, value_count=1724725, null_value_count=1455, nan_value_count=None, lower_bound=1, upper_bound=31), game_mode=Row(column_size=3652, value_count=1724725, null_value_count=1724725, nan_value_count=None, lower_bound=None, upper_bound=None), game_variant_id=Row(column_size=15953, value_count=1724725, null_value_count=0, nan_value_count=None, lower_bound=&#x27;1571fdac-e0b4-4e&#x27;, upper_bound=&#x27;f6de5351-3797-42&#x27;), is_match_over=Row(column_size=6716, value_count=1724725, null_value_count=136428, nan_value_count=None, lower_bound=True, upper_bound=True), is_team_game=Row(column_size=8180, value_count=1724725, null_value_count=136428, nan_value_count=None, lower_bound=False, upper_bound=True), map_variant_id=Row(column_size=30882, value_count=1724725, null_value_count=896680, nan_value_count=None, lower_bound=&#x27;011eaa34-3f05-48&#x27;, upper_bound=&#x27;fffc437b-2fd9-47&#x27;), mapid=Row(column_size=20750, value_count=1724725, null_value_count=0, nan_value_count=None, lower_bound=&#x27;5e130537-2275-40&#x27;, upper_bound=&#x27;cebd854f-f206-12&#x27;), match_duration=Row(column_size=3652, value_count=1724725, null_value_count=1724725, nan_value_count=None, lower_bound=None, upper_bound=None), match_id=Row(column_size=155790, value_count=1724725, null_value_count=0, nan_value_count=None, lower_bound=&#x27;0001a1c4-83dc-4f&#x27;, upper_bound=&#x27;fffc65f4-bc88-41&#x27;), medal_id=Row(column_size=235625, value_count=1724725, null_value_count=1455, nan_value_count=None, lower_bound=35545941, upper_bound=4252521258), medal_player_gamertag=Row(column_size=760188, value_count=1724725, null_value_count=1455, nan_value_count=None, lower_bound=&#x27;A 0 N Eclipse&#x27;, upper_bound=&#x27;zzzgameszzz&#x27;), player_gamertag=Row(column_size=317920, value_count=1724725, null_value_count=1265, nan_value_count=None, lower_bound=&#x27;A 0 N Eclipse&#x27;, upper_bound=&#x27;zzzgameszzz&#x27;), player_total_kills=Row(column_size=68427, value_count=1724725, null_value_count=1265, nan_value_count=None, lower_bound=0, upper_bound=76), playlist_id=Row(column_size=19687, value_count=1724725, null_value_count=0, nan_value_count=None, lower_bound=&#x27;0504ca3c-de41-48&#x27;, upper_bound=&#x27;fe2ad4e1-3def-47&#x27;), spartan_rank=Row(column_size=81985, value_count=1724725, null_value_count=1265, nan_value_count=None, lower_bound=1, upper_bound=150))</td>\n",
       "        </tr>\n",
       "        <tr>\n",
       "            <td>0</td>\n",
       "            <td>s3://warehouse/bootcamp/hw3_joined_table/data/00003-448-32a73932-45f8-45e2-92be-b573265aac4a-0-00001.parquet</td>\n",
       "            <td>PARQUET</td>\n",
       "            <td>1</td>\n",
       "            <td>Row(match_id=None)</td>\n",
       "            <td>1738952</td>\n",
       "            <td>2200768</td>\n",
       "            <td>{1: 156593, 2: 20507, 3: 8221, 4: 19717, 5: 16131, 6: 6663, 7: 24925, 8: 3654, 9: 3654, 10: 31160, 11: 321279, 12: 81921, 13: 69116, 14: 764244, 15: 258054, 16: 346814}</td>\n",
       "            <td>{1: 1738952, 2: 1738952, 3: 1738952, 4: 1738952, 5: 1738952, 6: 1738952, 7: 1738952, 8: 1738952, 9: 1738952, 10: 1738952, 11: 1738952, 12: 1738952, 13: 1738952, 14: 1738952, 15: 1738952, 16: 1738952}</td>\n",
       "            <td>{1: 0, 2: 0, 3: 115372, 4: 0, 5: 0, 6: 115372, 7: 0, 8: 1738952, 9: 1738952, 10: 925597, 11: 1270, 12: 1270, 13: 1270, 14: 1605, 15: 1605, 16: 1605}</td>\n",
       "            <td>{}</td>\n",
       "            <td>{1: bytearray(b&#x27;0000e589-e3a9-40&#x27;), 2: bytearray(b&#x27;5e130537-2275-40&#x27;), 3: bytearray(b&#x27;\\x00&#x27;), 4: bytearray(b&#x27;0504ca3c-de41-48&#x27;), 5: bytearray(b&#x27;1571fdac-e0b4-4e&#x27;), 6: bytearray(b&#x27;\\x01&#x27;), 7: bytearray(b&#x27;\\x00\\xa0L\\xc2\\n#\\x05\\x00&#x27;), 10: bytearray(b&#x27;011eaa34-3f05-48&#x27;), 11: bytearray(b&#x27;A 0 N Eclipse&#x27;), 12: bytearray(b&#x27;\\x01\\x00\\x00\\x00&#x27;), 13: bytearray(b&#x27;\\x00\\x00\\x00\\x00&#x27;), 14: bytearray(b&#x27;A 0 N Eclipse&#x27;), 15: bytearray(b&#x27;Uc\\x1e\\x02\\x00\\x00\\x00\\x00&#x27;), 16: bytearray(b&#x27;\\x01\\x00\\x00\\x00&#x27;)}</td>\n",
       "            <td>{1: bytearray(b&#x27;fffa2980-342d-46&#x27;), 2: bytearray(b&#x27;cebd854f-f206-12&#x27;), 3: bytearray(b&#x27;\\x01&#x27;), 4: bytearray(b&#x27;fe2ad4e1-3def-47&#x27;), 5: bytearray(b&#x27;f6de5351-3797-42&#x27;), 6: bytearray(b&#x27;\\x01&#x27;), 7: bytearray(b&#x27;\\x00\\x00\\xd2\\n\\x86=\\x05\\x00&#x27;), 10: bytearray(b&#x27;fffc437b-2fd9-47&#x27;), 11: bytearray(b&#x27;zzzKusohakokids&#x27;), 12: bytearray(b&#x27;\\x97\\x00\\x00\\x00&#x27;), 13: bytearray(b&#x27;Z\\x00\\x00\\x00&#x27;), 14: bytearray(b&#x27;zzzKusohakokids&#x27;), 15: bytearray(b&#x27;*Sx\\xfd\\x00\\x00\\x00\\x00&#x27;), 16: bytearray(b&#x27;$\\x00\\x00\\x00&#x27;)}</td>\n",
       "            <td>None</td>\n",
       "            <td>[4]</td>\n",
       "            <td>None</td>\n",
       "            <td>0</td>\n",
       "            <td>Row(completion_date=Row(column_size=24925, value_count=1738952, null_value_count=0, nan_value_count=None, lower_bound=datetime.datetime(2015, 10, 27, 0, 0), upper_bound=datetime.datetime(2016, 9, 28, 0, 0)), count=Row(column_size=346814, value_count=1738952, null_value_count=1605, nan_value_count=None, lower_bound=1, upper_bound=36), game_mode=Row(column_size=3654, value_count=1738952, null_value_count=1738952, nan_value_count=None, lower_bound=None, upper_bound=None), game_variant_id=Row(column_size=16131, value_count=1738952, null_value_count=0, nan_value_count=None, lower_bound=&#x27;1571fdac-e0b4-4e&#x27;, upper_bound=&#x27;f6de5351-3797-42&#x27;), is_match_over=Row(column_size=6663, value_count=1738952, null_value_count=115372, nan_value_count=None, lower_bound=True, upper_bound=True), is_team_game=Row(column_size=8221, value_count=1738952, null_value_count=115372, nan_value_count=None, lower_bound=False, upper_bound=True), map_variant_id=Row(column_size=31160, value_count=1738952, null_value_count=925597, nan_value_count=None, lower_bound=&#x27;011eaa34-3f05-48&#x27;, upper_bound=&#x27;fffc437b-2fd9-47&#x27;), mapid=Row(column_size=20507, value_count=1738952, null_value_count=0, nan_value_count=None, lower_bound=&#x27;5e130537-2275-40&#x27;, upper_bound=&#x27;cebd854f-f206-12&#x27;), match_duration=Row(column_size=3654, value_count=1738952, null_value_count=1738952, nan_value_count=None, lower_bound=None, upper_bound=None), match_id=Row(column_size=156593, value_count=1738952, null_value_count=0, nan_value_count=None, lower_bound=&#x27;0000e589-e3a9-40&#x27;, upper_bound=&#x27;fffa2980-342d-46&#x27;), medal_id=Row(column_size=258054, value_count=1738952, null_value_count=1605, nan_value_count=None, lower_bound=35545941, upper_bound=4252521258), medal_player_gamertag=Row(column_size=764244, value_count=1738952, null_value_count=1605, nan_value_count=None, lower_bound=&#x27;A 0 N Eclipse&#x27;, upper_bound=&#x27;zzzKusohakokids&#x27;), player_gamertag=Row(column_size=321279, value_count=1738952, null_value_count=1270, nan_value_count=None, lower_bound=&#x27;A 0 N Eclipse&#x27;, upper_bound=&#x27;zzzKusohakokids&#x27;), player_total_kills=Row(column_size=69116, value_count=1738952, null_value_count=1270, nan_value_count=None, lower_bound=0, upper_bound=90), playlist_id=Row(column_size=19717, value_count=1738952, null_value_count=0, nan_value_count=None, lower_bound=&#x27;0504ca3c-de41-48&#x27;, upper_bound=&#x27;fe2ad4e1-3def-47&#x27;), spartan_rank=Row(column_size=81921, value_count=1738952, null_value_count=1270, nan_value_count=None, lower_bound=1, upper_bound=151))</td>\n",
       "        </tr>\n",
       "    </tbody>\n",
       "</table>"
      ],
      "text/plain": [
       "+---------+--------------------------------------------------------------------------------------------------------------+-------------+---------+--------------------+--------------+--------------------+--------------------------------------------------------------------------------------------------------------------------------------------------------------------------+---------------------------------------------------------------------------------------------------------------------------------------------------------------------------------------------------------+------------------------------------------------------------------------------------------------------------------------------------------------------+------------------+---------------------------------------------------------------------------------------------------------------------------------------------------------------------------------------------------------------------------------------------------------------------------------------------------------------------------------------------------------------------------------------------------------------------------------------------------------------------------------------------------------+-----------------------------------------------------------------------------------------------------------------------------------------------------------------------------------------------------------------------------------------------------------------------------------------------------------------------------------------------------------------------------------------------------------------------------------------------------------------------------------------------------+--------------+---------------+--------------+---------------+--------------------------------------------------------------------------------------------------------------------------------------------------------------------------------------------------------------------------------------------------------------------------------------------------------------------------------------------------------------------------------------------------------------------------------------------------------------------------------------------------------------------------------------------------------------------------------------------------------------------------------------------------------------------------------------------------------------------------------------------------------------------------------------------------------------------------------------------------------------------------------------------------------------------------------------------------------------------------------------------------------------------------------------------------------------------------------------------------------------------------------------------------------------------------------------------------------------------------------------------------------------------------------------------------------------------------------------------------------------------------------------------------------------------------------------------------------------------------------------------------------------------------------------------------------------------------------------------------------------------------------------------------------------------------------------------------------------------------------------------------------------------------------------------------------------------------------------------------------------------------------------------------------------------------------------------------------------------------------------------------------------------------------------------------------------------------------------------------------------------------------------------------------------------------------------------------------------------------------------------------------------------------------------------------------------------------------------------------------------------------------------------------------------------------------------------------------------------------------------------------------------------------------------------------------------------------------+\n",
       "| content |                                                                                                    file_path | file_format | spec_id |          partition | record_count | file_size_in_bytes |                                                                                                                                                             column_sizes |                                                                                                                                                                                            value_counts |                                                                                                                                    null_value_counts | nan_value_counts |                                                                                                                                                                                                                                                                                                                                                                                                                                                                                            lower_bounds |                                                                                                                                                                                                                                                                                                                                                                                                                                                                                        upper_bounds | key_metadata | split_offsets | equality_ids | sort_order_id |                                                                                                                                                                                                                                                                                                                                                                                                                                                                                                                                                                                                                                                                                                                                                                                                                                                                                                                                                                                                                                                                                                                                                                                                                                                                                                                                                                                                                                                                                                                                                                                                                                                                                                                                                                                                                                                                                                                                                                                                                                                                                                                                                                                                                                                                                                                                                                                                                                                                                                                                                               readable_metrics |\n",
       "+---------+--------------------------------------------------------------------------------------------------------------+-------------+---------+--------------------+--------------+--------------------+--------------------------------------------------------------------------------------------------------------------------------------------------------------------------+---------------------------------------------------------------------------------------------------------------------------------------------------------------------------------------------------------+------------------------------------------------------------------------------------------------------------------------------------------------------+------------------+---------------------------------------------------------------------------------------------------------------------------------------------------------------------------------------------------------------------------------------------------------------------------------------------------------------------------------------------------------------------------------------------------------------------------------------------------------------------------------------------------------+-----------------------------------------------------------------------------------------------------------------------------------------------------------------------------------------------------------------------------------------------------------------------------------------------------------------------------------------------------------------------------------------------------------------------------------------------------------------------------------------------------+--------------+---------------+--------------+---------------+--------------------------------------------------------------------------------------------------------------------------------------------------------------------------------------------------------------------------------------------------------------------------------------------------------------------------------------------------------------------------------------------------------------------------------------------------------------------------------------------------------------------------------------------------------------------------------------------------------------------------------------------------------------------------------------------------------------------------------------------------------------------------------------------------------------------------------------------------------------------------------------------------------------------------------------------------------------------------------------------------------------------------------------------------------------------------------------------------------------------------------------------------------------------------------------------------------------------------------------------------------------------------------------------------------------------------------------------------------------------------------------------------------------------------------------------------------------------------------------------------------------------------------------------------------------------------------------------------------------------------------------------------------------------------------------------------------------------------------------------------------------------------------------------------------------------------------------------------------------------------------------------------------------------------------------------------------------------------------------------------------------------------------------------------------------------------------------------------------------------------------------------------------------------------------------------------------------------------------------------------------------------------------------------------------------------------------------------------------------------------------------------------------------------------------------------------------------------------------------------------------------------------------------------------------------------------------+\n",
       "|       0 | s3://warehouse/bootcamp/hw3_joined_table/data/00000-445-32a73932-45f8-45e2-92be-b573265aac4a-0-00001.parquet |     PARQUET |       1 | Row(match_id=None) |      1690168 |            2147520 | {1: 153280, 2: 20332, 3: 8172, 4: 19550, 5: 15729, 6: 6488, 7: 24376, 8: 3570, 9: 3570, 10: 30346, 11: 315229, 12: 80511, 13: 67884, 14: 745234, 15: 244357, 16: 342208} | {1: 1690168, 2: 1690168, 3: 1690168, 4: 1690168, 5: 1690168, 6: 1690168, 7: 1690168, 8: 1690168, 9: 1690168, 10: 1690168, 11: 1690168, 12: 1690168, 13: 1690168, 14: 1690168, 15: 1690168, 16: 1690168} | {1: 0, 2: 0, 3: 113155, 4: 0, 5: 0, 6: 113155, 7: 0, 8: 1690168, 9: 1690168, 10: 886154, 11: 1204, 12: 1204, 13: 1204, 14: 1477, 15: 1477, 16: 1477} |               {} |   {1: bytearray(b'0000e3cf-727c-49'), 2: bytearray(b'5e130537-2275-40'), 3: bytearray(b'\\x00'), 4: bytearray(b'0504ca3c-de41-48'), 5: bytearray(b'1571fdac-e0b4-4e'), 6: bytearray(b'\\x01'), 7: bytearray(b'\\x00\\xa0L\\xc2\\n#\\x05\\x00'), 10: bytearray(b'00e24014-e0c7-44'), 11: bytearray(b'A 29 Delivery'), 12: bytearray(b'\\x01\\x00\\x00\\x00'), 13: bytearray(b'\\x00\\x00\\x00\\x00'), 14: bytearray(b'A 29 Delivery'), 15: bytearray(b'Uc\\x1e\\x02\\x00\\x00\\x00\\x00'), 16: bytearray(b'\\x01\\x00\\x00\\x00')} |                 {1: bytearray(b'fff72374-8977-49'), 2: bytearray(b'cebd854f-f206-12'), 3: bytearray(b'\\x01'), 4: bytearray(b'fe2ad4e1-3def-47'), 5: bytearray(b'f6de5351-3797-42'), 6: bytearray(b'\\x01'), 7: bytearray(b'\\x00\\xa0\\xfa\\xecq=\\x05\\x00'), 10: bytearray(b'fffc437b-2fd9-47'), 11: bytearray(b'zztonii'), 12: bytearray(b'\\x97\\x00\\x00\\x00'), 13: bytearray(b'm\\x00\\x00\\x00'), 14: bytearray(b'zztonii'), 15: bytearray(b'*Sx\\xfd\\x00\\x00\\x00\\x00'), 16: bytearray(b\"\\'\\x00\\x00\\x00\")} |         None |           [4] |         None |             0 |                Row(completion_date=Row(column_size=24376, value_count=1690168, null_value_count=0, nan_value_count=None, lower_bound=datetime.datetime(2015, 10, 27, 0, 0), upper_bound=datetime.datetime(2016, 9, 27, 0, 0)), count=Row(column_size=342208, value_count=1690168, null_value_count=1477, nan_value_count=None, lower_bound=1, upper_bound=39), game_mode=Row(column_size=3570, value_count=1690168, null_value_count=1690168, nan_value_count=None, lower_bound=None, upper_bound=None), game_variant_id=Row(column_size=15729, value_count=1690168, null_value_count=0, nan_value_count=None, lower_bound='1571fdac-e0b4-4e', upper_bound='f6de5351-3797-42'), is_match_over=Row(column_size=6488, value_count=1690168, null_value_count=113155, nan_value_count=None, lower_bound=True, upper_bound=True), is_team_game=Row(column_size=8172, value_count=1690168, null_value_count=113155, nan_value_count=None, lower_bound=False, upper_bound=True), map_variant_id=Row(column_size=30346, value_count=1690168, null_value_count=886154, nan_value_count=None, lower_bound='00e24014-e0c7-44', upper_bound='fffc437b-2fd9-47'), mapid=Row(column_size=20332, value_count=1690168, null_value_count=0, nan_value_count=None, lower_bound='5e130537-2275-40', upper_bound='cebd854f-f206-12'), match_duration=Row(column_size=3570, value_count=1690168, null_value_count=1690168, nan_value_count=None, lower_bound=None, upper_bound=None), match_id=Row(column_size=153280, value_count=1690168, null_value_count=0, nan_value_count=None, lower_bound='0000e3cf-727c-49', upper_bound='fff72374-8977-49'), medal_id=Row(column_size=244357, value_count=1690168, null_value_count=1477, nan_value_count=None, lower_bound=35545941, upper_bound=4252521258), medal_player_gamertag=Row(column_size=745234, value_count=1690168, null_value_count=1477, nan_value_count=None, lower_bound='A 29 Delivery', upper_bound='zztonii'), player_gamertag=Row(column_size=315229, value_count=1690168, null_value_count=1204, nan_value_count=None, lower_bound='A 29 Delivery', upper_bound='zztonii'), player_total_kills=Row(column_size=67884, value_count=1690168, null_value_count=1204, nan_value_count=None, lower_bound=0, upper_bound=109), playlist_id=Row(column_size=19550, value_count=1690168, null_value_count=0, nan_value_count=None, lower_bound='0504ca3c-de41-48', upper_bound='fe2ad4e1-3def-47'), spartan_rank=Row(column_size=80511, value_count=1690168, null_value_count=1204, nan_value_count=None, lower_bound=1, upper_bound=151)) |\n",
       "|       0 | s3://warehouse/bootcamp/hw3_joined_table/data/00001-446-32a73932-45f8-45e2-92be-b573265aac4a-0-00001.parquet |     PARQUET |       1 | Row(match_id=None) |      1738116 |            2163731 | {1: 156735, 2: 20094, 3: 8403, 4: 19429, 5: 16002, 6: 6710, 7: 25383, 8: 3654, 9: 3654, 10: 31007, 11: 321218, 12: 82069, 13: 69397, 14: 757804, 15: 255876, 16: 318294} | {1: 1738116, 2: 1738116, 3: 1738116, 4: 1738116, 5: 1738116, 6: 1738116, 7: 1738116, 8: 1738116, 9: 1738116, 10: 1738116, 11: 1738116, 12: 1738116, 13: 1738116, 14: 1738116, 15: 1738116, 16: 1738116} | {1: 0, 2: 0, 3: 111426, 4: 0, 5: 0, 6: 111426, 7: 0, 8: 1738116, 9: 1738116, 10: 932732, 11: 1236, 12: 1236, 13: 1236, 14: 1566, 15: 1566, 16: 1566} |               {} | {1: bytearray(b'000e3254-27b0-4c'), 2: bytearray(b'5e130537-2275-40'), 3: bytearray(b'\\x00'), 4: bytearray(b'0504ca3c-de41-48'), 5: bytearray(b'1571fdac-e0b4-4e'), 6: bytearray(b'\\x01'), 7: bytearray(b'\\x00\\xa0L\\xc2\\n#\\x05\\x00'), 10: bytearray(b'011eaa34-3f05-48'), 11: bytearray(b'A 2 tailed fox'), 12: bytearray(b'\\x01\\x00\\x00\\x00'), 13: bytearray(b'\\x00\\x00\\x00\\x00'), 14: bytearray(b'A 2 tailed fox'), 15: bytearray(b'Uc\\x1e\\x02\\x00\\x00\\x00\\x00'), 16: bytearray(b'\\x01\\x00\\x00\\x00')} |                   {1: bytearray(b'fff59f47-2a37-4c'), 2: bytearray(b'cebd854f-f206-12'), 3: bytearray(b'\\x01'), 4: bytearray(b'f72e0ef0-7c4a-44'), 5: bytearray(b'f6de5351-3797-42'), 6: bytearray(b'\\x01'), 7: bytearray(b'\\x00\\x00\\xd2\\n\\x86=\\x05\\x00'), 10: bytearray(b'fffc437b-2fd9-47'), 11: bytearray(b'zzSOzz'), 12: bytearray(b'\\x97\\x00\\x00\\x00'), 13: bytearray(b'S\\x00\\x00\\x00'), 14: bytearray(b'zzSOzz'), 15: bytearray(b'*Sx\\xfd\\x00\\x00\\x00\\x00'), 16: bytearray(b':\\x00\\x00\\x00')} |         None |           [4] |         None |             0 |                 Row(completion_date=Row(column_size=25383, value_count=1738116, null_value_count=0, nan_value_count=None, lower_bound=datetime.datetime(2015, 10, 27, 0, 0), upper_bound=datetime.datetime(2016, 9, 28, 0, 0)), count=Row(column_size=318294, value_count=1738116, null_value_count=1566, nan_value_count=None, lower_bound=1, upper_bound=58), game_mode=Row(column_size=3654, value_count=1738116, null_value_count=1738116, nan_value_count=None, lower_bound=None, upper_bound=None), game_variant_id=Row(column_size=16002, value_count=1738116, null_value_count=0, nan_value_count=None, lower_bound='1571fdac-e0b4-4e', upper_bound='f6de5351-3797-42'), is_match_over=Row(column_size=6710, value_count=1738116, null_value_count=111426, nan_value_count=None, lower_bound=True, upper_bound=True), is_team_game=Row(column_size=8403, value_count=1738116, null_value_count=111426, nan_value_count=None, lower_bound=False, upper_bound=True), map_variant_id=Row(column_size=31007, value_count=1738116, null_value_count=932732, nan_value_count=None, lower_bound='011eaa34-3f05-48', upper_bound='fffc437b-2fd9-47'), mapid=Row(column_size=20094, value_count=1738116, null_value_count=0, nan_value_count=None, lower_bound='5e130537-2275-40', upper_bound='cebd854f-f206-12'), match_duration=Row(column_size=3654, value_count=1738116, null_value_count=1738116, nan_value_count=None, lower_bound=None, upper_bound=None), match_id=Row(column_size=156735, value_count=1738116, null_value_count=0, nan_value_count=None, lower_bound='000e3254-27b0-4c', upper_bound='fff59f47-2a37-4c'), medal_id=Row(column_size=255876, value_count=1738116, null_value_count=1566, nan_value_count=None, lower_bound=35545941, upper_bound=4252521258), medal_player_gamertag=Row(column_size=757804, value_count=1738116, null_value_count=1566, nan_value_count=None, lower_bound='A 2 tailed fox', upper_bound='zzSOzz'), player_gamertag=Row(column_size=321218, value_count=1738116, null_value_count=1236, nan_value_count=None, lower_bound='A 2 tailed fox', upper_bound='zzSOzz'), player_total_kills=Row(column_size=69397, value_count=1738116, null_value_count=1236, nan_value_count=None, lower_bound=0, upper_bound=83), playlist_id=Row(column_size=19429, value_count=1738116, null_value_count=0, nan_value_count=None, lower_bound='0504ca3c-de41-48', upper_bound='f72e0ef0-7c4a-44'), spartan_rank=Row(column_size=82069, value_count=1738116, null_value_count=1236, nan_value_count=None, lower_bound=1, upper_bound=151)) |\n",
       "|       0 | s3://warehouse/bootcamp/hw3_joined_table/data/00002-447-32a73932-45f8-45e2-92be-b573265aac4a-0-00001.parquet |     PARQUET |       1 | Row(match_id=None) |      1724725 |            2184579 | {1: 155790, 2: 20750, 3: 8180, 4: 19687, 5: 15953, 6: 6716, 7: 26075, 8: 3652, 9: 3652, 10: 30882, 11: 317920, 12: 81985, 13: 68427, 14: 760188, 15: 235625, 16: 361001} | {1: 1724725, 2: 1724725, 3: 1724725, 4: 1724725, 5: 1724725, 6: 1724725, 7: 1724725, 8: 1724725, 9: 1724725, 10: 1724725, 11: 1724725, 12: 1724725, 13: 1724725, 14: 1724725, 15: 1724725, 16: 1724725} | {1: 0, 2: 0, 3: 136428, 4: 0, 5: 0, 6: 136428, 7: 0, 8: 1724725, 9: 1724725, 10: 896680, 11: 1265, 12: 1265, 13: 1265, 14: 1455, 15: 1455, 16: 1455} |               {} |   {1: bytearray(b'0001a1c4-83dc-4f'), 2: bytearray(b'5e130537-2275-40'), 3: bytearray(b'\\x00'), 4: bytearray(b'0504ca3c-de41-48'), 5: bytearray(b'1571fdac-e0b4-4e'), 6: bytearray(b'\\x01'), 7: bytearray(b'\\x00\\xa0L\\xc2\\n#\\x05\\x00'), 10: bytearray(b'011eaa34-3f05-48'), 11: bytearray(b'A 0 N Eclipse'), 12: bytearray(b'\\x01\\x00\\x00\\x00'), 13: bytearray(b'\\x00\\x00\\x00\\x00'), 14: bytearray(b'A 0 N Eclipse'), 15: bytearray(b'Uc\\x1e\\x02\\x00\\x00\\x00\\x00'), 16: bytearray(b'\\x01\\x00\\x00\\x00')} |      {1: bytearray(b'fffc65f4-bc88-41'), 2: bytearray(b'cebd854f-f206-12'), 3: bytearray(b'\\x01'), 4: bytearray(b'fe2ad4e1-3def-47'), 5: bytearray(b'f6de5351-3797-42'), 6: bytearray(b'\\x01'), 7: bytearray(b'\\x00\\x00\\xd2\\n\\x86=\\x05\\x00'), 10: bytearray(b'fffc437b-2fd9-47'), 11: bytearray(b'zzzgameszzz'), 12: bytearray(b'\\x96\\x00\\x00\\x00'), 13: bytearray(b'L\\x00\\x00\\x00'), 14: bytearray(b'zzzgameszzz'), 15: bytearray(b'*Sx\\xfd\\x00\\x00\\x00\\x00'), 16: bytearray(b'\\x1f\\x00\\x00\\x00')} |         None |           [4] |         None |             0 |         Row(completion_date=Row(column_size=26075, value_count=1724725, null_value_count=0, nan_value_count=None, lower_bound=datetime.datetime(2015, 10, 27, 0, 0), upper_bound=datetime.datetime(2016, 9, 28, 0, 0)), count=Row(column_size=361001, value_count=1724725, null_value_count=1455, nan_value_count=None, lower_bound=1, upper_bound=31), game_mode=Row(column_size=3652, value_count=1724725, null_value_count=1724725, nan_value_count=None, lower_bound=None, upper_bound=None), game_variant_id=Row(column_size=15953, value_count=1724725, null_value_count=0, nan_value_count=None, lower_bound='1571fdac-e0b4-4e', upper_bound='f6de5351-3797-42'), is_match_over=Row(column_size=6716, value_count=1724725, null_value_count=136428, nan_value_count=None, lower_bound=True, upper_bound=True), is_team_game=Row(column_size=8180, value_count=1724725, null_value_count=136428, nan_value_count=None, lower_bound=False, upper_bound=True), map_variant_id=Row(column_size=30882, value_count=1724725, null_value_count=896680, nan_value_count=None, lower_bound='011eaa34-3f05-48', upper_bound='fffc437b-2fd9-47'), mapid=Row(column_size=20750, value_count=1724725, null_value_count=0, nan_value_count=None, lower_bound='5e130537-2275-40', upper_bound='cebd854f-f206-12'), match_duration=Row(column_size=3652, value_count=1724725, null_value_count=1724725, nan_value_count=None, lower_bound=None, upper_bound=None), match_id=Row(column_size=155790, value_count=1724725, null_value_count=0, nan_value_count=None, lower_bound='0001a1c4-83dc-4f', upper_bound='fffc65f4-bc88-41'), medal_id=Row(column_size=235625, value_count=1724725, null_value_count=1455, nan_value_count=None, lower_bound=35545941, upper_bound=4252521258), medal_player_gamertag=Row(column_size=760188, value_count=1724725, null_value_count=1455, nan_value_count=None, lower_bound='A 0 N Eclipse', upper_bound='zzzgameszzz'), player_gamertag=Row(column_size=317920, value_count=1724725, null_value_count=1265, nan_value_count=None, lower_bound='A 0 N Eclipse', upper_bound='zzzgameszzz'), player_total_kills=Row(column_size=68427, value_count=1724725, null_value_count=1265, nan_value_count=None, lower_bound=0, upper_bound=76), playlist_id=Row(column_size=19687, value_count=1724725, null_value_count=0, nan_value_count=None, lower_bound='0504ca3c-de41-48', upper_bound='fe2ad4e1-3def-47'), spartan_rank=Row(column_size=81985, value_count=1724725, null_value_count=1265, nan_value_count=None, lower_bound=1, upper_bound=150)) |\n",
       "|       0 | s3://warehouse/bootcamp/hw3_joined_table/data/00003-448-32a73932-45f8-45e2-92be-b573265aac4a-0-00001.parquet |     PARQUET |       1 | Row(match_id=None) |      1738952 |            2200768 | {1: 156593, 2: 20507, 3: 8221, 4: 19717, 5: 16131, 6: 6663, 7: 24925, 8: 3654, 9: 3654, 10: 31160, 11: 321279, 12: 81921, 13: 69116, 14: 764244, 15: 258054, 16: 346814} | {1: 1738952, 2: 1738952, 3: 1738952, 4: 1738952, 5: 1738952, 6: 1738952, 7: 1738952, 8: 1738952, 9: 1738952, 10: 1738952, 11: 1738952, 12: 1738952, 13: 1738952, 14: 1738952, 15: 1738952, 16: 1738952} | {1: 0, 2: 0, 3: 115372, 4: 0, 5: 0, 6: 115372, 7: 0, 8: 1738952, 9: 1738952, 10: 925597, 11: 1270, 12: 1270, 13: 1270, 14: 1605, 15: 1605, 16: 1605} |               {} |   {1: bytearray(b'0000e589-e3a9-40'), 2: bytearray(b'5e130537-2275-40'), 3: bytearray(b'\\x00'), 4: bytearray(b'0504ca3c-de41-48'), 5: bytearray(b'1571fdac-e0b4-4e'), 6: bytearray(b'\\x01'), 7: bytearray(b'\\x00\\xa0L\\xc2\\n#\\x05\\x00'), 10: bytearray(b'011eaa34-3f05-48'), 11: bytearray(b'A 0 N Eclipse'), 12: bytearray(b'\\x01\\x00\\x00\\x00'), 13: bytearray(b'\\x00\\x00\\x00\\x00'), 14: bytearray(b'A 0 N Eclipse'), 15: bytearray(b'Uc\\x1e\\x02\\x00\\x00\\x00\\x00'), 16: bytearray(b'\\x01\\x00\\x00\\x00')} | {1: bytearray(b'fffa2980-342d-46'), 2: bytearray(b'cebd854f-f206-12'), 3: bytearray(b'\\x01'), 4: bytearray(b'fe2ad4e1-3def-47'), 5: bytearray(b'f6de5351-3797-42'), 6: bytearray(b'\\x01'), 7: bytearray(b'\\x00\\x00\\xd2\\n\\x86=\\x05\\x00'), 10: bytearray(b'fffc437b-2fd9-47'), 11: bytearray(b'zzzKusohakokids'), 12: bytearray(b'\\x97\\x00\\x00\\x00'), 13: bytearray(b'Z\\x00\\x00\\x00'), 14: bytearray(b'zzzKusohakokids'), 15: bytearray(b'*Sx\\xfd\\x00\\x00\\x00\\x00'), 16: bytearray(b'$\\x00\\x00\\x00')} |         None |           [4] |         None |             0 | Row(completion_date=Row(column_size=24925, value_count=1738952, null_value_count=0, nan_value_count=None, lower_bound=datetime.datetime(2015, 10, 27, 0, 0), upper_bound=datetime.datetime(2016, 9, 28, 0, 0)), count=Row(column_size=346814, value_count=1738952, null_value_count=1605, nan_value_count=None, lower_bound=1, upper_bound=36), game_mode=Row(column_size=3654, value_count=1738952, null_value_count=1738952, nan_value_count=None, lower_bound=None, upper_bound=None), game_variant_id=Row(column_size=16131, value_count=1738952, null_value_count=0, nan_value_count=None, lower_bound='1571fdac-e0b4-4e', upper_bound='f6de5351-3797-42'), is_match_over=Row(column_size=6663, value_count=1738952, null_value_count=115372, nan_value_count=None, lower_bound=True, upper_bound=True), is_team_game=Row(column_size=8221, value_count=1738952, null_value_count=115372, nan_value_count=None, lower_bound=False, upper_bound=True), map_variant_id=Row(column_size=31160, value_count=1738952, null_value_count=925597, nan_value_count=None, lower_bound='011eaa34-3f05-48', upper_bound='fffc437b-2fd9-47'), mapid=Row(column_size=20507, value_count=1738952, null_value_count=0, nan_value_count=None, lower_bound='5e130537-2275-40', upper_bound='cebd854f-f206-12'), match_duration=Row(column_size=3654, value_count=1738952, null_value_count=1738952, nan_value_count=None, lower_bound=None, upper_bound=None), match_id=Row(column_size=156593, value_count=1738952, null_value_count=0, nan_value_count=None, lower_bound='0000e589-e3a9-40', upper_bound='fffa2980-342d-46'), medal_id=Row(column_size=258054, value_count=1738952, null_value_count=1605, nan_value_count=None, lower_bound=35545941, upper_bound=4252521258), medal_player_gamertag=Row(column_size=764244, value_count=1738952, null_value_count=1605, nan_value_count=None, lower_bound='A 0 N Eclipse', upper_bound='zzzKusohakokids'), player_gamertag=Row(column_size=321279, value_count=1738952, null_value_count=1270, nan_value_count=None, lower_bound='A 0 N Eclipse', upper_bound='zzzKusohakokids'), player_total_kills=Row(column_size=69116, value_count=1738952, null_value_count=1270, nan_value_count=None, lower_bound=0, upper_bound=90), playlist_id=Row(column_size=19717, value_count=1738952, null_value_count=0, nan_value_count=None, lower_bound='0504ca3c-de41-48', upper_bound='fe2ad4e1-3def-47'), spartan_rank=Row(column_size=81921, value_count=1738952, null_value_count=1270, nan_value_count=None, lower_bound=1, upper_bound=151)) |\n",
       "+---------+--------------------------------------------------------------------------------------------------------------+-------------+---------+--------------------+--------------+--------------------+--------------------------------------------------------------------------------------------------------------------------------------------------------------------------+---------------------------------------------------------------------------------------------------------------------------------------------------------------------------------------------------------+------------------------------------------------------------------------------------------------------------------------------------------------------+------------------+---------------------------------------------------------------------------------------------------------------------------------------------------------------------------------------------------------------------------------------------------------------------------------------------------------------------------------------------------------------------------------------------------------------------------------------------------------------------------------------------------------+-----------------------------------------------------------------------------------------------------------------------------------------------------------------------------------------------------------------------------------------------------------------------------------------------------------------------------------------------------------------------------------------------------------------------------------------------------------------------------------------------------+--------------+---------------+--------------+---------------+--------------------------------------------------------------------------------------------------------------------------------------------------------------------------------------------------------------------------------------------------------------------------------------------------------------------------------------------------------------------------------------------------------------------------------------------------------------------------------------------------------------------------------------------------------------------------------------------------------------------------------------------------------------------------------------------------------------------------------------------------------------------------------------------------------------------------------------------------------------------------------------------------------------------------------------------------------------------------------------------------------------------------------------------------------------------------------------------------------------------------------------------------------------------------------------------------------------------------------------------------------------------------------------------------------------------------------------------------------------------------------------------------------------------------------------------------------------------------------------------------------------------------------------------------------------------------------------------------------------------------------------------------------------------------------------------------------------------------------------------------------------------------------------------------------------------------------------------------------------------------------------------------------------------------------------------------------------------------------------------------------------------------------------------------------------------------------------------------------------------------------------------------------------------------------------------------------------------------------------------------------------------------------------------------------------------------------------------------------------------------------------------------------------------------------------------------------------------------------------------------------------------------------------------------------------------------------+"
      ]
     },
     "execution_count": 55,
     "metadata": {},
     "output_type": "execute_result"
    }
   ],
   "source": [
    "%%sql\n",
    "select * from bootcamp.hw3_joined_table.files"
   ]
  },
  {
   "cell_type": "code",
   "execution_count": 11,
   "id": "47b665ba-07ad-427c-9061-abcb157c35b3",
   "metadata": {},
   "outputs": [
    {
     "name": "stderr",
     "output_type": "stream",
     "text": [
      "                                                                                \r"
     ]
    }
   ],
   "source": [
    "sorted_df_2 = start_df.sortWithinPartitions(col(\"match_id\"), col(\"playlist_id\"), col(\"mapid\")) \n",
    "sorted_df_3 = start_df.sortWithinPartitions(col(\"match_id\"), col(\"mapid\"), col(\"medal_id\")) \n",
    "sorted_df_2.write.mode(\"overwrite\").saveAsTable(\"bootcamp.hw3_sorted_2\")\n",
    "sorted_df_3.write.mode(\"overwrite\").saveAsTable(\"bootcamp.hw3_sorted_3\")"
   ]
  },
  {
   "cell_type": "code",
   "execution_count": 12,
   "id": "7d50131c-38e0-46a3-b42f-8ed9e296cc7f",
   "metadata": {},
   "outputs": [
    {
     "name": "stderr",
     "output_type": "stream",
     "text": [
      "24/12/11 12:49:43 WARN SparkSession: Using an existing Spark session; only runtime SQL configurations will take effect.\n"
     ]
    },
    {
     "data": {
      "text/html": [
       "<table>\n",
       "    <thead>\n",
       "        <tr>\n",
       "            <th>size</th>\n",
       "            <th>num_files</th>\n",
       "            <th>unsorted</th>\n",
       "        </tr>\n",
       "    </thead>\n",
       "    <tbody>\n",
       "        <tr>\n",
       "            <td>8696598</td>\n",
       "            <td>4</td>\n",
       "            <td>unsorted</td>\n",
       "        </tr>\n",
       "        <tr>\n",
       "            <td>8706875</td>\n",
       "            <td>4</td>\n",
       "            <td>sorted_1</td>\n",
       "        </tr>\n",
       "        <tr>\n",
       "            <td>8711281</td>\n",
       "            <td>4</td>\n",
       "            <td>sorted_2</td>\n",
       "        </tr>\n",
       "        <tr>\n",
       "            <td>16967862</td>\n",
       "            <td>4</td>\n",
       "            <td>sorted_3</td>\n",
       "        </tr>\n",
       "    </tbody>\n",
       "</table>"
      ],
      "text/plain": [
       "+----------+-----------+----------+\n",
       "|     size | num_files | unsorted |\n",
       "+----------+-----------+----------+\n",
       "|  8696598 |         4 | unsorted |\n",
       "|  8706875 |         4 | sorted_1 |\n",
       "|  8711281 |         4 | sorted_2 |\n",
       "| 16967862 |         4 | sorted_3 |\n",
       "+----------+-----------+----------+"
      ]
     },
     "execution_count": 12,
     "metadata": {},
     "output_type": "execute_result"
    }
   ],
   "source": [
    "%%sql\n",
    "\n",
    "SELECT SUM(file_size_in_bytes) as size, COUNT(1) as num_files, 'unsorted'  \n",
    "FROM bootcamp.hw3_joined_table.files\n",
    "\n",
    "UNION ALL\n",
    "SELECT SUM(file_size_in_bytes) as size, COUNT(1) as num_files, 'sorted_1'\n",
    "FROM bootcamp.hw3_sorted_1.files\n",
    "UNION ALL\n",
    "SELECT SUM(file_size_in_bytes) as size, COUNT(1) as num_files, 'sorted_2'\n",
    "FROM bootcamp.hw3_sorted_2.files\n",
    "UNION ALL\n",
    "SELECT SUM(file_size_in_bytes) as size, COUNT(1) as num_files, 'sorted_3'\n",
    "FROM bootcamp.hw3_sorted_3.files"
   ]
  },
  {
   "cell_type": "code",
   "execution_count": null,
   "id": "c6bba48e-2a3b-4ff7-ab9d-7df9b60826f0",
   "metadata": {},
   "outputs": [],
   "source": []
  }
 ],
 "metadata": {
  "kernelspec": {
   "display_name": "Python 3 (ipykernel)",
   "language": "python",
   "name": "python3"
  },
  "language_info": {
   "codemirror_mode": {
    "name": "ipython",
    "version": 3
   },
   "file_extension": ".py",
   "mimetype": "text/x-python",
   "name": "python",
   "nbconvert_exporter": "python",
   "pygments_lexer": "ipython3",
   "version": "3.9.18"
  }
 },
 "nbformat": 4,
 "nbformat_minor": 5
}
